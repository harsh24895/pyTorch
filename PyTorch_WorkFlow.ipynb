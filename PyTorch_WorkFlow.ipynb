{
  "cells": [
    {
      "cell_type": "markdown",
      "metadata": {
        "id": "LW03GWvCw5Dc"
      },
      "source": [
        "#pyTorch WorkFlow"
      ]
    },
    {
      "cell_type": "code",
      "execution_count": 2,
      "metadata": {
        "id": "0j3uuoZaxWQi"
      },
      "outputs": [],
      "source": [
        "import torch\n",
        "from torch import nn ## nn contains all of Pytorch building block for neural networks\n",
        "import matplotlib.pyplot as plt"
      ]
    },
    {
      "cell_type": "code",
      "execution_count": 3,
      "metadata": {
        "colab": {
          "base_uri": "https://localhost:8080/",
          "height": 36
        },
        "id": "yoWwveNSyogo",
        "outputId": "da74fd98-6f4d-4ba1-a867-1c36e59e4070"
      },
      "outputs": [
        {
          "output_type": "execute_result",
          "data": {
            "text/plain": [
              "'2.3.1+cu121'"
            ],
            "application/vnd.google.colaboratory.intrinsic+json": {
              "type": "string"
            }
          },
          "metadata": {},
          "execution_count": 3
        }
      ],
      "source": [
        "torch.__version__"
      ]
    },
    {
      "cell_type": "markdown",
      "metadata": {
        "id": "f1_qHaYMy49r"
      },
      "source": [
        "#1.Data( Preparing and loading )"
      ]
    },
    {
      "cell_type": "code",
      "execution_count": 4,
      "metadata": {
        "colab": {
          "base_uri": "https://localhost:8080/"
        },
        "id": "ZqYVwvPey9wS",
        "outputId": "bf41539a-15ca-4523-f272-a0068788ccfe"
      },
      "outputs": [
        {
          "output_type": "execute_result",
          "data": {
            "text/plain": [
              "(tensor([[0.0000],\n",
              "         [0.0200],\n",
              "         [0.0400],\n",
              "         [0.0600],\n",
              "         [0.0800],\n",
              "         [0.1000],\n",
              "         [0.1200],\n",
              "         [0.1400],\n",
              "         [0.1600],\n",
              "         [0.1800]]),\n",
              " tensor([[0.3000],\n",
              "         [0.3120],\n",
              "         [0.3240],\n",
              "         [0.3360],\n",
              "         [0.3480],\n",
              "         [0.3600],\n",
              "         [0.3720],\n",
              "         [0.3840],\n",
              "         [0.3960],\n",
              "         [0.4080]]))"
            ]
          },
          "metadata": {},
          "execution_count": 4
        }
      ],
      "source": [
        "#Machine learning has two parts:\n",
        "#1.to get into the numberical representation as a Number\n",
        "#2.Build to model to learn patterns in that numberical reperesentation\n",
        "\n",
        "\n",
        "#create a known parameters for linear regression that would be the (Y = a + bX)\n",
        "weight = 0.6 #this is the b as per formula above line\n",
        "bias = 0.3 #and this would be a for now for formula above line\n",
        "\n",
        "start = 0\n",
        "end = 1\n",
        "step = 0.02 #this step is between the start and end\n",
        "X =  torch.arange(start,end,step).unsqueeze(dim=1) #here is X is capital represent the Matrix or Tensor is it's smaller then it represent vector4\n",
        "#also here we have mention the start,end, step so in the output you would not it would step after each 0.02 value  and unsqueeze means it will add the dimension with the brackets\n",
        "y = weight * X + bias\n",
        "\n",
        "X[:10],y[:10]"
      ]
    },
    {
      "cell_type": "code",
      "execution_count": 5,
      "metadata": {
        "colab": {
          "base_uri": "https://localhost:8080/"
        },
        "id": "NdKkSaMe3wgA",
        "outputId": "85ac5188-ac6b-4447-f3ce-c3d3fc4713da"
      },
      "outputs": [
        {
          "output_type": "execute_result",
          "data": {
            "text/plain": [
              "(50, 50)"
            ]
          },
          "metadata": {},
          "execution_count": 5
        }
      ],
      "source": [
        "len(X),len(y)"
      ]
    },
    {
      "cell_type": "markdown",
      "source": [
        "#Splitting data into training and test set(important concept in the machine learning"
      ],
      "metadata": {
        "id": "8pg0kPoQ-b0Y"
      }
    },
    {
      "cell_type": "code",
      "source": [
        "#create a train/test split\n",
        "# here we are setting 35 samples in test from 0.7 and rest would be the model will train/Predict and it would be 15 out of 50\n",
        "train_sp = int(0.7 * len(X))\n",
        "X_train, y_train = X[:train_sp],y[:train_sp]\n",
        "X_test, y_test = X[train_sp:],y[train_sp:]\n",
        "\n",
        "len(X_train), len(y_train), len(X_test), len(y_test)\n"
      ],
      "metadata": {
        "colab": {
          "base_uri": "https://localhost:8080/"
        },
        "id": "BLnQbxAH-Ugo",
        "outputId": "12bb25ad-37d1-42aa-db80-20b75f68e246"
      },
      "execution_count": 6,
      "outputs": [
        {
          "output_type": "execute_result",
          "data": {
            "text/plain": [
              "(35, 35, 15, 15)"
            ]
          },
          "metadata": {},
          "execution_count": 6
        }
      ]
    },
    {
      "cell_type": "code",
      "source": [
        "X_train, y_train"
      ],
      "metadata": {
        "colab": {
          "base_uri": "https://localhost:8080/"
        },
        "id": "bBqRCAJQDodm",
        "outputId": "c65eba1f-60df-493e-f64c-8b1bb0e1f36f"
      },
      "execution_count": 7,
      "outputs": [
        {
          "output_type": "execute_result",
          "data": {
            "text/plain": [
              "(tensor([[0.0000],\n",
              "         [0.0200],\n",
              "         [0.0400],\n",
              "         [0.0600],\n",
              "         [0.0800],\n",
              "         [0.1000],\n",
              "         [0.1200],\n",
              "         [0.1400],\n",
              "         [0.1600],\n",
              "         [0.1800],\n",
              "         [0.2000],\n",
              "         [0.2200],\n",
              "         [0.2400],\n",
              "         [0.2600],\n",
              "         [0.2800],\n",
              "         [0.3000],\n",
              "         [0.3200],\n",
              "         [0.3400],\n",
              "         [0.3600],\n",
              "         [0.3800],\n",
              "         [0.4000],\n",
              "         [0.4200],\n",
              "         [0.4400],\n",
              "         [0.4600],\n",
              "         [0.4800],\n",
              "         [0.5000],\n",
              "         [0.5200],\n",
              "         [0.5400],\n",
              "         [0.5600],\n",
              "         [0.5800],\n",
              "         [0.6000],\n",
              "         [0.6200],\n",
              "         [0.6400],\n",
              "         [0.6600],\n",
              "         [0.6800]]),\n",
              " tensor([[0.3000],\n",
              "         [0.3120],\n",
              "         [0.3240],\n",
              "         [0.3360],\n",
              "         [0.3480],\n",
              "         [0.3600],\n",
              "         [0.3720],\n",
              "         [0.3840],\n",
              "         [0.3960],\n",
              "         [0.4080],\n",
              "         [0.4200],\n",
              "         [0.4320],\n",
              "         [0.4440],\n",
              "         [0.4560],\n",
              "         [0.4680],\n",
              "         [0.4800],\n",
              "         [0.4920],\n",
              "         [0.5040],\n",
              "         [0.5160],\n",
              "         [0.5280],\n",
              "         [0.5400],\n",
              "         [0.5520],\n",
              "         [0.5640],\n",
              "         [0.5760],\n",
              "         [0.5880],\n",
              "         [0.6000],\n",
              "         [0.6120],\n",
              "         [0.6240],\n",
              "         [0.6360],\n",
              "         [0.6480],\n",
              "         [0.6600],\n",
              "         [0.6720],\n",
              "         [0.6840],\n",
              "         [0.6960],\n",
              "         [0.7080]]))"
            ]
          },
          "metadata": {},
          "execution_count": 7
        }
      ]
    },
    {
      "cell_type": "code",
      "source": [
        "#we need to visual the data in a proper way\n",
        "def plot_predict(train_data = X_train,\n",
        "                 train_labels = y_train,\n",
        "                 test_data = X_test,\n",
        "                 test_labels = y_test,\n",
        "                 predictions=None):\n",
        "\n",
        "  \"\"\"\n",
        "  Plot training data, test data and compares prediction\n",
        "  \"\"\"\n",
        "  plt.figure(figsize=(10,8))\n",
        "\n",
        "  #Plot training data in blue\n",
        "  # also here c stands for colour and b is blue and s stands for the size and later would be the label for the graph.\n",
        "  plt.scatter(train_data, train_labels, c = \"b\", s=4, label=\"Traing data\" )\n",
        "\n",
        "  #Plot the testing data in Green\n",
        "  plt.scatter(test_data,test_labels, c=\"g\", s=4, label=\"Testing data\")\n",
        "\n",
        "\n",
        "  #now we are looking for predictions?\n",
        "  if predictions is not None:\n",
        "    #plot the predictions if they exist\n",
        "    plt.scatter(test_data,predictions, c=\"r\", s=4, label=\"predictions\")\n",
        "\n",
        "  #show the legend it would show the lables on matpotlib\n",
        "  #here prop stands for properties\n",
        "  plt.legend(prop={\"size\":14})\n"
      ],
      "metadata": {
        "id": "xxJQqr43EKsn"
      },
      "execution_count": 8,
      "outputs": []
    },
    {
      "cell_type": "code",
      "source": [
        "#run the code\n",
        "plot_predict();\n",
        "\n",
        "# and here we build a traing and testing model"
      ],
      "metadata": {
        "colab": {
          "base_uri": "https://localhost:8080/",
          "height": 676
        },
        "id": "aHlzENTcIilB",
        "outputId": "d0dba19a-d62e-4161-da90-71b3b79c67a1"
      },
      "execution_count": 9,
      "outputs": [
        {
          "output_type": "display_data",
          "data": {
            "text/plain": [
              "<Figure size 1000x800 with 1 Axes>"
            ],
            "image/png": "[encoded data removed]"
          },
          "metadata": {}
        }
      ]
    },
    {
      "cell_type": "markdown",
      "source": [
        "#Building first Pytorch model\n",
        "\n"
      ],
      "metadata": {
        "id": "PKRBwDbQKduz"
      }
    },
    {
      "cell_type": "code",
      "source": [
        "#Create a linear regression model class\n",
        "class LinearRegrationModel(nn.Module): # it will inherit from nn module and it's a parent class of pytorch\n",
        "  def __init__(self):\n",
        "    super().__init__()\n",
        "    self.weights = nn.Parameter(torch.randn(1, #this will start with random weight and try to adjust it to ideal weight\n",
        "                                            requires_grad=True,#this parameter updated via gradient descent?\n",
        "                                            dtype=torch.float)) #it will always use default datatype float32\n",
        "\n",
        "    self.bias = nn.Parameter(torch.randn(1,requires_grad=True, dtype=torch.float))\n",
        "\n",
        "  #this method will define the computation model\n",
        "  # it will take parameter input x as train data\n",
        "  def forward(self, x: torch.Tensor) -> torch.Tensor:\n",
        "    return self.weights * x + self.bias #this is linear regression formula\n",
        "\n",
        "\n",
        "# This model will look at training data and adjust the random values to better represent or get closer result of weight and bias.\n",
        "# To workout this we need to use the algorithms : Gradient descent and Backpropagation\n",
        "#also to keep in mind pytorch has already added this two algrorithm in the backend\n",
        "#need to make sure that any time we uses nn.module it required the def forward method to fetch *************************Important********************************"
      ],
      "metadata": {
        "id": "65IfsjtpKnjY"
      },
      "execution_count": 10,
      "outputs": []
    },
    {
      "cell_type": "code",
      "source": [
        "## Pytorch model building essentails\n",
        "#torch.nn - contains all of the building of computational graph\n",
        "#torch.nn.Parameter-\n",
        "#torch.nn.module-\n",
        "#torch.optim-\n",
        "#def forward()- this is only method that will do the computation in the model"
      ],
      "metadata": {
        "id": "NCSw729a7176"
      },
      "execution_count": 11,
      "outputs": []
    },
    {
      "cell_type": "code",
      "source": [
        "torch.randn(1)"
      ],
      "metadata": {
        "colab": {
          "base_uri": "https://localhost:8080/"
        },
        "id": "ZdONb9yjCy8B",
        "outputId": "2100cd18-8fb9-4d3e-9b7d-dddbba2fb670"
      },
      "execution_count": 12,
      "outputs": [
        {
          "output_type": "execute_result",
          "data": {
            "text/plain": [
              "tensor([-2.2345])"
            ]
          },
          "metadata": {},
          "execution_count": 12
        }
      ]
    },
    {
      "cell_type": "markdown",
      "source": [
        "#checking the content of Pytorch model"
      ],
      "metadata": {
        "id": "H5E0Opf57g9a"
      }
    },
    {
      "cell_type": "code",
      "source": [
        "\n",
        "#we can check the model what inside the parameter is .parameters().\n",
        "torch.manual_seed(42)\n",
        "\n",
        "#create a instance of the model\n",
        "model1 = LinearRegrationModel()\n",
        "\n",
        "#check the parameters\n",
        "list(model1.parameters())\n",
        "\n",
        "#the below output parameter would change if we set randn instead of manual seed"
      ],
      "metadata": {
        "colab": {
          "base_uri": "https://localhost:8080/"
        },
        "id": "4qeHjXz5-p6y",
        "outputId": "5c2d0da6-bc7b-4dd8-dca0-692cb4329d07"
      },
      "execution_count": 13,
      "outputs": [
        {
          "output_type": "execute_result",
          "data": {
            "text/plain": [
              "[Parameter containing:\n",
              " tensor([0.3367], requires_grad=True),\n",
              " Parameter containing:\n",
              " tensor([0.1288], requires_grad=True)]"
            ]
          },
          "metadata": {},
          "execution_count": 13
        }
      ]
    },
    {
      "cell_type": "code",
      "source": [
        "#list the named parameters\n",
        "model1.state_dict()"
      ],
      "metadata": {
        "colab": {
          "base_uri": "https://localhost:8080/"
        },
        "id": "7xZvYx_z_APv",
        "outputId": "d5286d9b-5aa2-4723-ca04-d0c663af217d"
      },
      "execution_count": 14,
      "outputs": [
        {
          "output_type": "execute_result",
          "data": {
            "text/plain": [
              "OrderedDict([('weights', tensor([0.3367])), ('bias', tensor([0.1288]))])"
            ]
          },
          "metadata": {},
          "execution_count": 14
        }
      ]
    },
    {
      "cell_type": "code",
      "source": [
        "#Now we need to get the predicted number around the define value which we have metion for Weight and Bias above and see below\n",
        "weight,bias"
      ],
      "metadata": {
        "colab": {
          "base_uri": "https://localhost:8080/"
        },
        "id": "tvlsSUAy_huV",
        "outputId": "6500aac6-091b-483f-b84b-7053773d69b1"
      },
      "execution_count": 15,
      "outputs": [
        {
          "output_type": "execute_result",
          "data": {
            "text/plain": [
              "(0.6, 0.3)"
            ]
          },
          "metadata": {},
          "execution_count": 15
        }
      ]
    },
    {
      "cell_type": "code",
      "source": [
        "#also we are going to use the X_test and y_test below\n",
        "# so here we are getting the values from and above look for both variable\n",
        "X_test, y_test"
      ],
      "metadata": {
        "colab": {
          "base_uri": "https://localhost:8080/"
        },
        "id": "lsvFdVjbF35r",
        "outputId": "bd025e4b-6719-4cd5-87a2-3c02df205bea"
      },
      "execution_count": 16,
      "outputs": [
        {
          "output_type": "execute_result",
          "data": {
            "text/plain": [
              "(tensor([[0.7000],\n",
              "         [0.7200],\n",
              "         [0.7400],\n",
              "         [0.7600],\n",
              "         [0.7800],\n",
              "         [0.8000],\n",
              "         [0.8200],\n",
              "         [0.8400],\n",
              "         [0.8600],\n",
              "         [0.8800],\n",
              "         [0.9000],\n",
              "         [0.9200],\n",
              "         [0.9400],\n",
              "         [0.9600],\n",
              "         [0.9800]]),\n",
              " tensor([[0.7200],\n",
              "         [0.7320],\n",
              "         [0.7440],\n",
              "         [0.7560],\n",
              "         [0.7680],\n",
              "         [0.7800],\n",
              "         [0.7920],\n",
              "         [0.8040],\n",
              "         [0.8160],\n",
              "         [0.8280],\n",
              "         [0.8400],\n",
              "         [0.8520],\n",
              "         [0.8640],\n",
              "         [0.8760],\n",
              "         [0.8880]]))"
            ]
          },
          "metadata": {},
          "execution_count": 16
        }
      ]
    },
    {
      "cell_type": "code",
      "source": [
        " # To make prediction we are using 'torch.inference_mode()'\n",
        " # so here it will take input and then it will predict: so as input it will X_test to predit y_test\n",
        " # we need to use the forward() method\n",
        "#**********************Important too if the def method is not align in line above code for forward() need to align it with shift+tab\n",
        "with torch.inference_mode(): #the only thing with inference_mode is that we don't need to keep track of the gradiant(required_grad=True) and also there is another method too torch.no_grad() but inteference is better than no_grad\n",
        "    y_predit =model1(X_test)\n",
        "y_predit  # so below are the predictions\n",
        "\n",
        "#another way\n",
        "with torch.no_grad():\n",
        "   y_predit =model1(X_test)\n",
        "y_predit"
      ],
      "metadata": {
        "colab": {
          "base_uri": "https://localhost:8080/"
        },
        "id": "xHQJQ9XoELLb",
        "outputId": "72dc3144-cba6-4e8d-f356-f031680a5218"
      },
      "execution_count": 17,
      "outputs": [
        {
          "output_type": "execute_result",
          "data": {
            "text/plain": [
              "tensor([[0.3645],\n",
              "        [0.3712],\n",
              "        [0.3780],\n",
              "        [0.3847],\n",
              "        [0.3914],\n",
              "        [0.3982],\n",
              "        [0.4049],\n",
              "        [0.4116],\n",
              "        [0.4184],\n",
              "        [0.4251],\n",
              "        [0.4318],\n",
              "        [0.4386],\n",
              "        [0.4453],\n",
              "        [0.4520],\n",
              "        [0.4588]])"
            ]
          },
          "metadata": {},
          "execution_count": 17
        }
      ]
    },
    {
      "cell_type": "code",
      "source": [
        "y_test #here notice the y_test and y_predit output prediction little similar prediction"
      ],
      "metadata": {
        "colab": {
          "base_uri": "https://localhost:8080/"
        },
        "id": "qwRb0huIIJTm",
        "outputId": "fe70f5eb-6718-43c0-d1a6-c3295db2a5b7"
      },
      "execution_count": 18,
      "outputs": [
        {
          "output_type": "execute_result",
          "data": {
            "text/plain": [
              "tensor([[0.7200],\n",
              "        [0.7320],\n",
              "        [0.7440],\n",
              "        [0.7560],\n",
              "        [0.7680],\n",
              "        [0.7800],\n",
              "        [0.7920],\n",
              "        [0.8040],\n",
              "        [0.8160],\n",
              "        [0.8280],\n",
              "        [0.8400],\n",
              "        [0.8520],\n",
              "        [0.8640],\n",
              "        [0.8760],\n",
              "        [0.8880]])"
            ]
          },
          "metadata": {},
          "execution_count": 18
        }
      ]
    },
    {
      "cell_type": "code",
      "source": [
        "plot_predict(predictions=y_predit) #and here is the predictions below that the model has comeup with"
      ],
      "metadata": {
        "colab": {
          "base_uri": "https://localhost:8080/",
          "height": 676
        },
        "id": "lImpX1JuIYEI",
        "outputId": "57417b33-9cf9-4263-bd9f-a48299e0df89"
      },
      "execution_count": 19,
      "outputs": [
        {
          "output_type": "display_data",
          "data": {
            "text/plain": [
              "<Figure size 1000x800 with 1 Axes>"
            ],
            "image/png": "[encoded data removed]"
          },
          "metadata": {}
        }
      ]
    },
    {
      "cell_type": "markdown",
      "source": [
        "#Train the model\n"
      ],
      "metadata": {
        "id": "Us7bGBuEI3dp"
      }
    },
    {
      "cell_type": "code",
      "source": [
        "# The main aspect here is that we need to move from unknown parameters model(these may be random) to known paratmers\n",
        "# to poor representation of data to better representation of data\n",
        "\n",
        "#to measure the poor and wrong predicion model we are using the loss function\n",
        "\n",
        "#*****Lost function is also called cost function or criterion in different area.********************\n",
        "\n",
        "# we need 1.Lost function\n",
        "#2.Optimizer: take account into the  loss model and adjust the parameters(weight and bias) to improve the loss function\n",
        "#2.1 inside the optimizer we need to set two parameter\n",
        "    #-params: the model parameters like to optimize params=model1.parameters()\n",
        "    #-lr(leraning rate): this the Hyperparameter this value is set the by us Machine learning Engineers see below for explation (if a small lr results in small changes in step, a large lr results in large changes in step)\n",
        "#3. Also we need Traing and Testing loop\n"
      ],
      "metadata": {
        "id": "eiMIYMM2MMJ_"
      },
      "execution_count": 20,
      "outputs": []
    },
    {
      "cell_type": "code",
      "source": [
        "list(model1.parameters())"
      ],
      "metadata": {
        "colab": {
          "base_uri": "https://localhost:8080/"
        },
        "id": "5Sfh0WxDU0BQ",
        "outputId": "57cb9881-7d1b-493d-cb9d-497a2ffaa0c4"
      },
      "execution_count": 21,
      "outputs": [
        {
          "output_type": "execute_result",
          "data": {
            "text/plain": [
              "[Parameter containing:\n",
              " tensor([0.3367], requires_grad=True),\n",
              " Parameter containing:\n",
              " tensor([0.1288], requires_grad=True)]"
            ]
          },
          "metadata": {},
          "execution_count": 21
        }
      ]
    },
    {
      "cell_type": "code",
      "source": [
        "#this will check out the model parameters and this will set the value itself\n",
        "model1.state_dict()"
      ],
      "metadata": {
        "colab": {
          "base_uri": "https://localhost:8080/"
        },
        "id": "ZV1SnfbfU5oB",
        "outputId": "00707665-0d1f-473e-ed5a-91cbee95e5b9"
      },
      "execution_count": 22,
      "outputs": [
        {
          "output_type": "execute_result",
          "data": {
            "text/plain": [
              "OrderedDict([('weights', tensor([0.3367])), ('bias', tensor([0.1288]))])"
            ]
          },
          "metadata": {},
          "execution_count": 22
        }
      ]
    },
    {
      "cell_type": "code",
      "source": [
        "#setup the loss function is Lost funcation there is another function called  L1loss that means absolute error (MAE) between i/p X to o/p y.\n",
        "\n",
        "loss_fn = nn.L1Loss()\n",
        "\n",
        "#setup the optimizer and it have other algorithms too torch.optim.SGD and all others look documentation\n",
        "optimizer = torch.optim.SGD(params=model1.parameters(), #optim SGD will adjust the value to close enough to reduce the loss function\n",
        "                            lr=0.01) #lr = learning rate so higher the lr it adjust higher to the parameters in this value tensor([0.3367]) if it lr =0.001 it will adjust 6, if lr=0.0001 it will adjust 7\n"
      ],
      "metadata": {
        "id": "MVPl-XRjR1Wu"
      },
      "execution_count": 23,
      "outputs": []
    },
    {
      "cell_type": "markdown",
      "source": [
        "#3.Building the training and testing loop"
      ],
      "metadata": {
        "id": "01ZOYolkX1gU"
      }
    },
    {
      "cell_type": "code",
      "source": [
        "#couple of thing for traing loop(and testing loop)\n",
        "#1.loop trough the data\n",
        "#2. Forward pass - this involves data moving through our model using the forward() method ******This is also called Forward propagation********\n",
        "#3.Calcultate the loss(compare forward pass prediction to ground level)\n",
        "#4.optimizer zero grad\n",
        "#5. loss backward - move backward through the network to calculate the gradient pf each parameter this is ***(back prapogation)**\n",
        "#6. Optimizer step - use the optimizer to adjust our model parameter to improve the loss this is ***(Gradient descent)**"
      ],
      "metadata": {
        "id": "eEvvIU1eYMdB"
      },
      "execution_count": 24,
      "outputs": []
    },
    {
      "cell_type": "code",
      "source": [
        "#an epoch is one loop through the data (this is the hyperparameter becasue we set ourselves)\n",
        "epochs = 180\n",
        "\n",
        "#Track different values\n",
        "epoch_count = []\n",
        "loss_values = []\n",
        "test_loss_values = []\n",
        "\n",
        "\n",
        "#Traing the model\n",
        "#1.loop through the data\n",
        "for epoch in range(epochs):\n",
        "  #set the model to traing mode\n",
        "  model1.train() #train mode in pytorch set all the parameters that require gradients to require gradience\n",
        "\n",
        "  #1.forward pass\n",
        "  y_pred = model1(X_train)\n",
        "\n",
        "  #2.Calulate the loss - y_pred- input is first then y_train is the output\n",
        "  loss = loss_fn(y_pred, y_train)\n",
        "  print(f\"Loss:{loss}\") #we are printing the loss\n",
        "\n",
        "  #3.optimizer zero grad\n",
        "  optimizer.zero_grad() # For each epoch we need to get the loop to zero so we need optimizer to set the zero\n",
        "\n",
        "  #4.Perform back prapogation on the loss with respect to the parameters of model\n",
        "  # also Back prapogation is calculating the derivative curve or each parameters in the model\n",
        "  loss.backward()\n",
        "\n",
        "  #5.Optimizer step(Perform the gradient descent)\n",
        "  optimizer.step() #default how the optimizer change will acculumate through the loop and need to zero them above in step 3\n",
        "\n",
        "  ###Testing mode************************************\n",
        "  model1.eval()# this will turn off different settings if not needed for evaluation/Testing\n",
        "  with torch.inference_mode(): #turn off gradient tracking and couple of mroe things in behind the scenes as we are testing the model and we are not traning the model now so\n",
        "  # 1.do the forward pass\n",
        "    test_p = model1(X_test)\n",
        "  #2. Calculate the loss *****Important so here we are working with test data instead of the training so we need to use the y_test\n",
        "    test_loss = loss_fn(test_p,y_test)\n",
        "\n",
        "  if epoch % 10 == 0:\n",
        "    epoch_count.append(epoch) # we have append with the empty List all of them\n",
        "    loss_values.append(loss)\n",
        "    test_loss_values.append(test_loss)\n",
        "\n",
        "    print(f\"Epoc:{epoch}| Test:{loss} | Testloss:{test_loss}\")\n",
        "\n",
        "\n",
        "  #Print out the model state_dict()\n",
        "    print(model1.state_dict())"
      ],
      "metadata": {
        "colab": {
          "base_uri": "https://localhost:8080/"
        },
        "id": "5RBNG5oLbE5F",
        "outputId": "6a259c19-302c-4861-8e5f-374575020ac0",
        "collapsed": true
      },
      "execution_count": 25,
      "outputs": [
        {
          "output_type": "stream",
          "name": "stdout",
          "text": [
            "Loss:0.26071590185165405\n",
            "Epoc:0| Test:0.26071590185165405 | Testloss:0.3795147240161896\n",
            "OrderedDict([('weights', tensor([0.3401])), ('bias', tensor([0.1388]))])\n",
            "Loss:0.2495598942041397\n",
            "Loss:0.23840388655662537\n",
            "Loss:0.22724786400794983\n",
            "Loss:0.21609187126159668\n",
            "Loss:0.20493586361408234\n",
            "Loss:0.1937798708677292\n",
            "Loss:0.18262386322021484\n",
            "Loss:0.1714678555727005\n",
            "Loss:0.16031183302402496\n",
            "Loss:0.14915584027767181\n",
            "Epoc:10| Test:0.14915584027767181 | Testloss:0.25095465779304504\n",
            "OrderedDict([('weights', tensor([0.3741])), ('bias', tensor([0.2388]))])\n",
            "Loss:0.13799981772899628\n",
            "Loss:0.12684383988380432\n",
            "Loss:0.11568783223628998\n",
            "Loss:0.10453183203935623\n",
            "Loss:0.09337584674358368\n",
            "Loss:0.08221986144781113\n",
            "Loss:0.07106387615203857\n",
            "Loss:0.06072511523962021\n",
            "Loss:0.053090792149305344\n",
            "Loss:0.047222018241882324\n",
            "Epoc:20| Test:0.047222018241882324 | Testloss:0.13129255175590515\n",
            "OrderedDict([('weights', tensor([0.4077])), ('bias', tensor([0.3302]))])\n",
            "Loss:0.042812950909137726\n",
            "Loss:0.039317306131124496\n",
            "Loss:0.036801304668188095\n",
            "Loss:0.03484123945236206\n",
            "Loss:0.03334720432758331\n",
            "Loss:0.032227836549282074\n",
            "Loss:0.031390175223350525\n",
            "Loss:0.030739545822143555\n",
            "Loss:0.03025456890463829\n",
            "Loss:0.029780499637126923\n",
            "Epoc:30| Test:0.029780499637126923 | Testloss:0.08626343309879303\n",
            "OrderedDict([('weights', tensor([0.4321])), ('bias', tensor([0.3548]))])\n",
            "Loss:0.029431676492094994\n",
            "Loss:0.02908284403383732\n",
            "Loss:0.028734005987644196\n",
            "Loss:0.02841079607605934\n",
            "Loss:0.028129905462265015\n",
            "Loss:0.027849027886986732\n",
            "Loss:0.027568142861127853\n",
            "Loss:0.027287254109978676\n",
            "Loss:0.027006367221474648\n",
            "Loss:0.02672547847032547\n",
            "Epoc:40| Test:0.02672547847032547 | Testloss:0.07304466515779495\n",
            "OrderedDict([('weights', tensor([0.4492])), ('bias', tensor([0.3537]))])\n",
            "Loss:0.02644459530711174\n",
            "Loss:0.026163706555962563\n",
            "Loss:0.025882823392748833\n",
            "Loss:0.025618404150009155\n",
            "Loss:0.02533869631588459\n",
            "Loss:0.02507268451154232\n",
            "Loss:0.024794569239020348\n",
            "Loss:0.024526968598365784\n",
            "Loss:0.02425045147538185\n",
            "Loss:0.0239812470972538\n",
            "Epoc:50| Test:0.0239812470972538 | Testloss:0.06500670313835144\n",
            "OrderedDict([('weights', tensor([0.4648])), ('bias', tensor([0.3485]))])\n",
            "Loss:0.023706328123807907\n",
            "Loss:0.023435527458786964\n",
            "Loss:0.023162199184298515\n",
            "Loss:0.022889813408255577\n",
            "Loss:0.022618072107434273\n",
            "Loss:0.02234409563243389\n",
            "Loss:0.022073950618505478\n",
            "Loss:0.021798374131321907\n",
            "Loss:0.021529821678996086\n",
            "Loss:0.02125266008079052\n",
            "Epoc:60| Test:0.02125266008079052 | Testloss:0.05771297961473465\n",
            "OrderedDict([('weights', tensor([0.4803])), ('bias', tensor([0.3428]))])\n",
            "Loss:0.020985698327422142\n",
            "Loss:0.020706938579678535\n",
            "Loss:0.02044157311320305\n",
            "Loss:0.02016121707856655\n",
            "Loss:0.019897451624274254\n",
            "Loss:0.019616564735770226\n",
            "Loss:0.01935225911438465\n",
            "Loss:0.019072450697422028\n",
            "Loss:0.018806543201208115\n",
            "Loss:0.01852831430733204\n",
            "Epoc:70| Test:0.01852831430733204 | Testloss:0.049675021320581436\n",
            "OrderedDict([('weights', tensor([0.4960])), ('bias', tensor([0.3377]))])\n",
            "Loss:0.01826081983745098\n",
            "Loss:0.017984189093112946\n",
            "Loss:0.017715109512209892\n",
            "Loss:0.017440062016248703\n",
            "Loss:0.01716938614845276\n",
            "Loss:0.01689593680202961\n",
            "Loss:0.01662367768585682\n",
            "Loss:0.016351820901036263\n",
            "Loss:0.016077959910035133\n",
            "Loss:0.015807703137397766\n",
            "Epoc:80| Test:0.015807703137397766 | Testloss:0.04238136485219002\n",
            "OrderedDict([('weights', tensor([0.5115])), ('bias', tensor([0.3320]))])\n",
            "Loss:0.015532244928181171\n",
            "Loss:0.015263577923178673\n",
            "Loss:0.014986533671617508\n",
            "Loss:0.014719459228217602\n",
            "Loss:0.014440824277698994\n",
            "Loss:0.014175339601933956\n",
            "Loss:0.013895101845264435\n",
            "Loss:0.01363121997565031\n",
            "Loss:0.013350339606404305\n",
            "Loss:0.013086154125630856\n",
            "Epoc:90| Test:0.013086154125630856 | Testloss:0.03508777543902397\n",
            "OrderedDict([('weights', tensor([0.5270])), ('bias', tensor([0.3262]))])\n",
            "Loss:0.012806219980120659\n",
            "Loss:0.012540441006422043\n",
            "Loss:0.012262100353837013\n",
            "Loss:0.011994726955890656\n",
            "Loss:0.011717970483005047\n",
            "Loss:0.011449011974036694\n",
            "Loss:0.011173860169947147\n",
            "Loss:0.010903295129537582\n",
            "Loss:0.010629742406308651\n",
            "Loss:0.010357583872973919\n",
            "Epoc:100| Test:0.010357583872973919 | Testloss:0.027794186025857925\n",
            "OrderedDict([('weights', tensor([0.5425])), ('bias', tensor([0.3205]))])\n",
            "Loss:0.010085620917379856\n",
            "Loss:0.00981187354773283\n",
            "Loss:0.009541496634483337\n",
            "Loss:0.009266157634556293\n",
            "Loss:0.008997381664812565\n",
            "Loss:0.008720441721379757\n",
            "Loss:0.00845326203852892\n",
            "Loss:0.008174730464816093\n",
            "Loss:0.007909140549600124\n",
            "Loss:0.0076290154829621315\n",
            "Epoc:110| Test:0.0076290154829621315 | Testloss:0.02050059288740158\n",
            "OrderedDict([('weights', tensor([0.5580])), ('bias', tensor([0.3148]))])\n",
            "Loss:0.007365018129348755\n",
            "Loss:0.007084141485393047\n",
            "Loss:0.006820073351264\n",
            "Loss:0.006540018133819103\n",
            "Loss:0.0062743499875068665\n",
            "Loss:0.0059959013015031815\n",
            "Loss:0.0057286364026367664\n",
            "Loss:0.0054517812095582485\n",
            "Loss:0.005182922817766666\n",
            "Loss:0.004907658323645592\n",
            "Epoc:120| Test:0.004907658323645592 | Testloss:0.01246278639882803\n",
            "OrderedDict([('weights', tensor([0.5737])), ('bias', tensor([0.3097]))])\n",
            "Loss:0.004637213423848152\n",
            "Loss:0.004363532643765211\n",
            "Loss:0.004091495182365179\n",
            "Loss:0.003819417906925082\n",
            "Loss:0.0035457781050354242\n",
            "Loss:0.0032752989791333675\n",
            "Loss:0.00300006614997983\n",
            "Loss:0.0027311784215271473\n",
            "Loss:0.0024543532636016607\n",
            "Loss:0.002187945181503892\n",
            "Epoc:130| Test:0.002187945181503892 | Testloss:0.004434533882886171\n",
            "OrderedDict([('weights', tensor([0.5893])), ('bias', tensor([0.3045]))])\n",
            "Loss:0.0019737277179956436\n",
            "Loss:0.0020214864052832127\n",
            "Loss:0.003851562738418579\n",
            "Loss:0.00730444211512804\n",
            "Loss:0.003851562738418579\n",
            "Loss:0.00730444211512804\n",
            "Loss:0.003851562738418579\n",
            "Loss:0.00730444211512804\n",
            "Loss:0.003851562738418579\n",
            "Loss:0.00730444211512804\n",
            "Epoc:140| Test:0.00730444211512804 | Testloss:0.0005819678190164268\n",
            "OrderedDict([('weights', tensor([0.5930])), ('bias', tensor([0.3062]))])\n",
            "Loss:0.003851562738418579\n",
            "Loss:0.00730444211512804\n",
            "Loss:0.003851562738418579\n",
            "Loss:0.00730444211512804\n",
            "Loss:0.003851562738418579\n",
            "Loss:0.00730444211512804\n",
            "Loss:0.003851562738418579\n",
            "Loss:0.00730444211512804\n",
            "Loss:0.003851562738418579\n",
            "Loss:0.00730444211512804\n",
            "Epoc:150| Test:0.00730444211512804 | Testloss:0.0005819678190164268\n",
            "OrderedDict([('weights', tensor([0.5930])), ('bias', tensor([0.3062]))])\n",
            "Loss:0.003851562738418579\n",
            "Loss:0.00730444211512804\n",
            "Loss:0.003851562738418579\n",
            "Loss:0.00730444211512804\n",
            "Loss:0.003851562738418579\n",
            "Loss:0.00730444211512804\n",
            "Loss:0.003851562738418579\n",
            "Loss:0.00730444211512804\n",
            "Loss:0.003851562738418579\n",
            "Loss:0.00730444211512804\n",
            "Epoc:160| Test:0.00730444211512804 | Testloss:0.0005819678190164268\n",
            "OrderedDict([('weights', tensor([0.5930])), ('bias', tensor([0.3062]))])\n",
            "Loss:0.003851562738418579\n",
            "Loss:0.00730444211512804\n",
            "Loss:0.003851562738418579\n",
            "Loss:0.00730444211512804\n",
            "Loss:0.003851562738418579\n",
            "Loss:0.00730444211512804\n",
            "Loss:0.003851562738418579\n",
            "Loss:0.00730444211512804\n",
            "Loss:0.003851562738418579\n",
            "Loss:0.00730444211512804\n",
            "Epoc:170| Test:0.00730444211512804 | Testloss:0.0005819678190164268\n",
            "OrderedDict([('weights', tensor([0.5930])), ('bias', tensor([0.3062]))])\n",
            "Loss:0.003851562738418579\n",
            "Loss:0.00730444211512804\n",
            "Loss:0.003851562738418579\n",
            "Loss:0.00730444211512804\n",
            "Loss:0.003851562738418579\n",
            "Loss:0.00730444211512804\n",
            "Loss:0.003851562738418579\n",
            "Loss:0.00730444211512804\n",
            "Loss:0.003851562738418579\n"
          ]
        }
      ]
    },
    {
      "cell_type": "code",
      "source": [
        "import numpy as np\n",
        "#plot the curves\n",
        "#here we need to define np.array(torch.tensor(loss_values).numpy()) in numpy as matpotlib works only with numpy not with tensor so we need to convert to numpy the loss_values\n",
        "plt.plot(epoch_count, np.array(torch.tensor(loss_values).numpy()), label=\"Train loss\")\n",
        "plt.plot(epoch_count,test_loss_values,label=\"Test loss\")\n",
        "plt.title(\"Training and test loss curve\")\n",
        "plt.ylabel(\"Loss\")\n",
        "plt.xlabel(\"Epochs\")\n",
        "plt.legend();"
      ],
      "metadata": {
        "colab": {
          "base_uri": "https://localhost:8080/",
          "height": 472
        },
        "id": "qJC4Go-USoZe",
        "outputId": "2c90870c-389c-45b0-c702-3a48baba8626"
      },
      "execution_count": 26,
      "outputs": [
        {
          "output_type": "display_data",
          "data": {
            "text/plain": [
              "<Figure size 640x480 with 1 Axes>"
            ],
            "image/png": "[encoded data removed]"
          },
          "metadata": {}
        }
      ]
    },
    {
      "cell_type": "code",
      "source": [
        "model1.state_dict()\n"
      ],
      "metadata": {
        "colab": {
          "base_uri": "https://localhost:8080/"
        },
        "id": "dtR2hov4sBbT",
        "outputId": "23bdf816-12bc-4b4f-e2d3-e1dd2db85f0b"
      },
      "execution_count": 27,
      "outputs": [
        {
          "output_type": "execute_result",
          "data": {
            "text/plain": [
              "OrderedDict([('weights', tensor([0.5896])), ('bias', tensor([0.2962]))])"
            ]
          },
          "metadata": {},
          "execution_count": 27
        }
      ]
    },
    {
      "cell_type": "code",
      "source": [
        "weight,bias #we need to get the parameter closer to the model1 values above\n"
      ],
      "metadata": {
        "colab": {
          "base_uri": "https://localhost:8080/"
        },
        "id": "5G70Miw5rj5H",
        "outputId": "66664e45-0793-4eee-e8f8-2bb8e26337dd"
      },
      "execution_count": 28,
      "outputs": [
        {
          "output_type": "execute_result",
          "data": {
            "text/plain": [
              "(0.6, 0.3)"
            ]
          },
          "metadata": {},
          "execution_count": 28
        }
      ]
    },
    {
      "cell_type": "code",
      "source": [
        "with torch.inference_mode(): # we are setting new inference to see the new graph\n",
        "  y_predit_newdata = model1(X_test)\n",
        "y_predit_newdata"
      ],
      "metadata": {
        "id": "hw8XA2uevnDQ",
        "colab": {
          "base_uri": "https://localhost:8080/"
        },
        "outputId": "4c25e614-f54c-449c-d5a1-82d131c4c209"
      },
      "execution_count": 29,
      "outputs": [
        {
          "output_type": "execute_result",
          "data": {
            "text/plain": [
              "tensor([[0.7089],\n",
              "        [0.7207],\n",
              "        [0.7325],\n",
              "        [0.7443],\n",
              "        [0.7561],\n",
              "        [0.7679],\n",
              "        [0.7797],\n",
              "        [0.7915],\n",
              "        [0.8033],\n",
              "        [0.8151],\n",
              "        [0.8269],\n",
              "        [0.8387],\n",
              "        [0.8504],\n",
              "        [0.8622],\n",
              "        [0.8740]])"
            ]
          },
          "metadata": {},
          "execution_count": 29
        }
      ]
    },
    {
      "cell_type": "code",
      "source": [
        "plot_predict(predictions=y_predit)#this is the old data and predictions"
      ],
      "metadata": {
        "colab": {
          "base_uri": "https://localhost:8080/",
          "height": 676
        },
        "id": "_JB2p8oMv-AX",
        "outputId": "d16090cb-e652-4b63-c848-af90287a8adf"
      },
      "execution_count": 30,
      "outputs": [
        {
          "output_type": "display_data",
          "data": {
            "text/plain": [
              "<Figure size 1000x800 with 1 Axes>"
            ],
            "image/png": "[encoded data removed]"
          },
          "metadata": {}
        }
      ]
    },
    {
      "cell_type": "code",
      "source": [
        "plot_predict(predictions=y_predit_newdata) #here is a new data with new training set and predictions"
      ],
      "metadata": {
        "colab": {
          "base_uri": "https://localhost:8080/",
          "height": 676
        },
        "id": "qPEnxFd7wIwm",
        "outputId": "67ea3c29-8a8f-4376-c0a3-88cd0e58b0c3"
      },
      "execution_count": 31,
      "outputs": [
        {
          "output_type": "display_data",
          "data": {
            "text/plain": [
              "<Figure size 1000x800 with 1 Axes>"
            ],
            "image/png": "[encoded data removed]"
          },
          "metadata": {}
        }
      ]
    },
    {
      "cell_type": "markdown",
      "source": [
        "#Saving model in Pytorch"
      ],
      "metadata": {
        "id": "tzXAO6yJy-bg"
      }
    },
    {
      "cell_type": "code",
      "source": [
        "#There are three main methods you could save and load model\n",
        "#1.torch.save: this allow to save in pyTorch object in Python pickle format\n",
        "#2.toech.load: allow you to load the save Pytorch object\n",
        "#3. torch.nn.Module.load_state_dict(): this will allow to load a model saved state dictionary\n"
      ],
      "metadata": {
        "id": "7sMZX7ZksT-4"
      },
      "execution_count": 32,
      "outputs": []
    },
    {
      "cell_type": "code",
      "source": [
        "#Saving pytorch model\n",
        "from pathlib import Path #pathlib is python library that use to fetch the file path\n",
        "\n",
        "# first need to Create a model directory\n",
        "model_path =  Path(\"models\")\n",
        "model_path.mkdir(parents=True, exist_ok=True) # if we set exist_ok = true so it's exist it won't throws the error it will create a parent one\n",
        "\n",
        "#create model save path\n",
        "model_name = \"01_pytorch_workflow_model.pth\" # we can save file in both extension .pt ot pth\n",
        "model_save_path = model_path / model_name\n",
        "\n",
        "model_save_path\n",
        "\n",
        "#3.save the model state dict\n",
        "print(f\"Saving mode:{model_save_path}\")\n",
        "torch.save(obj=model1.state_dict(),\n",
        "           f=model_save_path)  #this will save the model inside the path which we have created\n"
      ],
      "metadata": {
        "colab": {
          "base_uri": "https://localhost:8080/"
        },
        "id": "k1ZZ67wwxwm_",
        "outputId": "9ae6261a-5c7f-459d-85b8-986b8a525f8a"
      },
      "execution_count": 33,
      "outputs": [
        {
          "output_type": "stream",
          "name": "stdout",
          "text": [
            "Saving mode:models/01_pytorch_workflow_model.pth\n"
          ]
        }
      ]
    },
    {
      "cell_type": "code",
      "source": [
        "!ls -l models"
      ],
      "metadata": {
        "colab": {
          "base_uri": "https://localhost:8080/"
        },
        "id": "Qc1QRsxa_3Fu",
        "outputId": "bd3eb349-ff08-4235-c110-a189f5d488b7"
      },
      "execution_count": 34,
      "outputs": [
        {
          "output_type": "stream",
          "name": "stdout",
          "text": [
            "total 4\n",
            "-rw-r--r-- 1 root root 1668 Aug 21 00:00 01_pytorch_workflow_model.pth\n"
          ]
        }
      ]
    },
    {
      "cell_type": "code",
      "source": [
        "#Loading a pytorch model***************\n",
        "#Since we have saved our model 'state dict()' rahter the entire model, we will create new instance of model class and load saved state_dict()\n",
        "# so far we have saved\n",
        "model1.state_dict()"
      ],
      "metadata": {
        "colab": {
          "base_uri": "https://localhost:8080/"
        },
        "id": "VR9q5wHyANS5",
        "outputId": "0bfc31be-1a83-4488-f898-c0c3b90e60ef"
      },
      "execution_count": 35,
      "outputs": [
        {
          "output_type": "execute_result",
          "data": {
            "text/plain": [
              "OrderedDict([('weights', tensor([0.5896])), ('bias', tensor([0.2962]))])"
            ]
          },
          "metadata": {},
          "execution_count": 35
        }
      ]
    },
    {
      "cell_type": "code",
      "source": [
        "#To load in a saved state_dict we need to initiate the new instance of our model class\n",
        "loaded_model = LinearRegrationModel()\n",
        "\n",
        "\n",
        "#load the saved state_dict of model(this will update the new instance with updated parameters)\n",
        "loaded_model.load_state_dict(torch.load(f=model_save_path))"
      ],
      "metadata": {
        "colab": {
          "base_uri": "https://localhost:8080/"
        },
        "id": "o8PS-mAGEbCk",
        "outputId": "20cda43b-f914-4eb2-a6ce-8bad0f1cb15c"
      },
      "execution_count": 36,
      "outputs": [
        {
          "output_type": "execute_result",
          "data": {
            "text/plain": [
              "<All keys matched successfully>"
            ]
          },
          "metadata": {},
          "execution_count": 36
        }
      ]
    },
    {
      "cell_type": "code",
      "source": [
        "loaded_model.state_dict() #here we are calling the saved loaded model with the exact values"
      ],
      "metadata": {
        "colab": {
          "base_uri": "https://localhost:8080/"
        },
        "id": "AwBsxaRcJCa-",
        "outputId": "a72fe880-cdab-4849-d1ee-a5584a96b0ed"
      },
      "execution_count": 37,
      "outputs": [
        {
          "output_type": "execute_result",
          "data": {
            "text/plain": [
              "OrderedDict([('weights', tensor([0.5896])), ('bias', tensor([0.2962]))])"
            ]
          },
          "metadata": {},
          "execution_count": 37
        }
      ]
    },
    {
      "cell_type": "code",
      "source": [
        "#make some predictions in our model\n",
        "loaded_model.eval()\n",
        "with torch.inference_mode():\n",
        "  loaded_model_pred = loaded_model(X_test)\n",
        "loaded_model_pred"
      ],
      "metadata": {
        "colab": {
          "base_uri": "https://localhost:8080/"
        },
        "id": "u3rY9hjYJSa8",
        "outputId": "d5d02931-3a8b-4e24-8187-11ff8806dfc9"
      },
      "execution_count": 38,
      "outputs": [
        {
          "output_type": "execute_result",
          "data": {
            "text/plain": [
              "tensor([[0.7089],\n",
              "        [0.7207],\n",
              "        [0.7325],\n",
              "        [0.7443],\n",
              "        [0.7561],\n",
              "        [0.7679],\n",
              "        [0.7797],\n",
              "        [0.7915],\n",
              "        [0.8033],\n",
              "        [0.8151],\n",
              "        [0.8269],\n",
              "        [0.8387],\n",
              "        [0.8504],\n",
              "        [0.8622],\n",
              "        [0.8740]])"
            ]
          },
          "metadata": {},
          "execution_count": 38
        }
      ]
    },
    {
      "cell_type": "code",
      "source": [
        "#here we compare the loaded model with y_predit_newdata and it should show TRUE\n",
        "y_predit_newdata == loaded_model_pred"
      ],
      "metadata": {
        "colab": {
          "base_uri": "https://localhost:8080/"
        },
        "id": "sIBzSg_6Od4Q",
        "outputId": "94dd6a94-a833-40c4-fc1c-883aed566fcb"
      },
      "execution_count": 39,
      "outputs": [
        {
          "output_type": "execute_result",
          "data": {
            "text/plain": [
              "tensor([[True],\n",
              "        [True],\n",
              "        [True],\n",
              "        [True],\n",
              "        [True],\n",
              "        [True],\n",
              "        [True],\n",
              "        [True],\n",
              "        [True],\n",
              "        [True],\n",
              "        [True],\n",
              "        [True],\n",
              "        [True],\n",
              "        [True],\n",
              "        [True]])"
            ]
          },
          "metadata": {},
          "execution_count": 39
        }
      ]
    },
    {
      "cell_type": "code",
      "source": [
        "#Putting it all together -Practic\n",
        "\n",
        "#import Pytorch and Matpotlib\n",
        "import torch\n",
        "from torch import nn\n",
        "import matplotlib as plt\n",
        "\n",
        "\n",
        "#check the version\n",
        "torch.__version__\n"
      ],
      "metadata": {
        "colab": {
          "base_uri": "https://localhost:8080/",
          "height": 36
        },
        "id": "xqraB5K_Od66",
        "outputId": "1fdf0c90-6b10-42d1-899a-e4c3347ab0bf"
      },
      "execution_count": 40,
      "outputs": [
        {
          "output_type": "execute_result",
          "data": {
            "text/plain": [
              "'2.3.1+cu121'"
            ],
            "application/vnd.google.colaboratory.intrinsic+json": {
              "type": "string"
            }
          },
          "metadata": {},
          "execution_count": 40
        }
      ]
    },
    {
      "cell_type": "code",
      "source": [
        "#Create device-agnostic code\n",
        "#this means if there GPU access, it will automatically access GPU\n",
        "#if no GPU available, the code will default to using CPU\n",
        "\n"
      ],
      "metadata": {
        "id": "kgvXlaGxJcXV"
      },
      "execution_count": 41,
      "outputs": []
    },
    {
      "cell_type": "code",
      "source": [
        " #setup device agnostic code\n",
        "#cuda is programming framework from Nvidia\n",
        "\n",
        "device = \"cuda\" if torch.cuda.is_available() else \"cpu\"\n",
        "print (f\"Using device:{device}\")\n"
      ],
      "metadata": {
        "colab": {
          "base_uri": "https://localhost:8080/"
        },
        "id": "4vuvlj55NFzx",
        "outputId": "f64d5f34-23c9-4cb6-8e38-dffa07782dfd"
      },
      "execution_count": 42,
      "outputs": [
        {
          "output_type": "stream",
          "name": "stdout",
          "text": [
            "Using device:cpu\n"
          ]
        }
      ]
    },
    {
      "cell_type": "markdown",
      "source": [
        "#Data"
      ],
      "metadata": {
        "id": "6fB2WaStQhRr"
      }
    },
    {
      "cell_type": "code",
      "source": [
        "#Create data using linear regression formula Y = weight * X + bias"
      ],
      "metadata": {
        "id": "n4ETsN3SQjsn"
      },
      "execution_count": null,
      "outputs": []
    },
    {
      "cell_type": "code",
      "source": [],
      "metadata": {
        "id": "7rdNGLhcQ0Dm"
      },
      "execution_count": null,
      "outputs": []
    }
  ],
  "metadata": {
    "colab": {
      "provenance": [],
      "authorship_tag": "ABX9TyPrEgW6yDoXDrRBfN54Dqj1"
    },
    "kernelspec": {
      "display_name": "Python 3",
      "name": "python3"
    },
    "language_info": {
      "name": "python"
    }
  },
  "nbformat": 4,
  "nbformat_minor": 0
}