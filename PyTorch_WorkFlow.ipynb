{
  "cells": [
    {
      "cell_type": "markdown",
      "metadata": {
        "id": "view-in-github",
        "colab_type": "text"
      },
      "source": [
        "<a href=\"https://colab.research.google.com/github/harsh24895/pyTorch/blob/main/PyTorch_WorkFlow.ipynb\" target=\"_parent\"><img src=\"https://colab.research.google.com/assets/colab-badge.svg\" alt=\"Open In Colab\"/></a>"
      ]
    },
    {
      "cell_type": "markdown",
      "metadata": {
        "id": "LW03GWvCw5Dc"
      },
      "source": [
        "#pyTorch WorkFlow"
      ]
    },
    {
      "cell_type": "code",
      "execution_count": 2,
      "metadata": {
        "id": "0j3uuoZaxWQi"
      },
      "outputs": [],
      "source": [
        "import torch\n",
        "from torch import nn ## nn contains all of Pytorch building block for neural networks\n",
        "import matplotlib.pyplot as plt"
      ]
    },
    {
      "cell_type": "code",
      "execution_count": 3,
      "metadata": {
        "colab": {
          "base_uri": "https://localhost:8080/",
          "height": 36
        },
        "id": "yoWwveNSyogo",
        "outputId": "0f7d5fa5-5317-4437-95f8-74a77bf23129"
      },
      "outputs": [
        {
          "output_type": "execute_result",
          "data": {
            "text/plain": [
              "'2.3.1+cu121'"
            ],
            "application/vnd.google.colaboratory.intrinsic+json": {
              "type": "string"
            }
          },
          "metadata": {},
          "execution_count": 3
        }
      ],
      "source": [
        "torch.__version__"
      ]
    },
    {
      "cell_type": "markdown",
      "metadata": {
        "id": "f1_qHaYMy49r"
      },
      "source": [
        "#1.Data( Preparing and loading )"
      ]
    },
    {
      "cell_type": "code",
      "execution_count": 4,
      "metadata": {
        "colab": {
          "base_uri": "https://localhost:8080/"
        },
        "id": "ZqYVwvPey9wS",
        "outputId": "866da221-0fb0-499e-cafa-32aad6642c23"
      },
      "outputs": [
        {
          "output_type": "execute_result",
          "data": {
            "text/plain": [
              "(tensor([[0.0000],\n",
              "         [0.0200],\n",
              "         [0.0400],\n",
              "         [0.0600],\n",
              "         [0.0800],\n",
              "         [0.1000],\n",
              "         [0.1200],\n",
              "         [0.1400],\n",
              "         [0.1600],\n",
              "         [0.1800]]),\n",
              " tensor([[0.3000],\n",
              "         [0.3120],\n",
              "         [0.3240],\n",
              "         [0.3360],\n",
              "         [0.3480],\n",
              "         [0.3600],\n",
              "         [0.3720],\n",
              "         [0.3840],\n",
              "         [0.3960],\n",
              "         [0.4080]]))"
            ]
          },
          "metadata": {},
          "execution_count": 4
        }
      ],
      "source": [
        "#Machine learning has two parts:\n",
        "#1.to get into the numberical representation as a Number\n",
        "#2.Build to model to learn patterns in that numberical reperesentation\n",
        "\n",
        "\n",
        "#create a known parameters for linear regression that would be the (Y = a + bX)\n",
        "weight = 0.6 #this is the b as per formula above line\n",
        "bias = 0.3 #and this would be a for now for formula above line\n",
        "\n",
        "start = 0\n",
        "end = 1\n",
        "step = 0.02 #this step is between the start and end\n",
        "X =  torch.arange(start,end,step).unsqueeze(dim=1) #here is X is capital represent the Matrix or Tensor is it's smaller then it represent vector4\n",
        "#also here we have mention the start,end, step so in the output you would not it would step after each 0.02 value  and unsqueeze means it will add the dimension with the brackets\n",
        "y = weight * X + bias\n",
        "\n",
        "X[:10],y[:10]"
      ]
    },
    {
      "cell_type": "code",
      "execution_count": 5,
      "metadata": {
        "colab": {
          "base_uri": "https://localhost:8080/"
        },
        "id": "NdKkSaMe3wgA",
        "outputId": "1b934bda-64f3-42d9-ae18-18fef2eda00b"
      },
      "outputs": [
        {
          "output_type": "execute_result",
          "data": {
            "text/plain": [
              "(50, 50)"
            ]
          },
          "metadata": {},
          "execution_count": 5
        }
      ],
      "source": [
        "len(X),len(y)"
      ]
    },
    {
      "cell_type": "markdown",
      "source": [
        "#Splitting data into training and test set(important concept in the machine learning"
      ],
      "metadata": {
        "id": "8pg0kPoQ-b0Y"
      }
    },
    {
      "cell_type": "code",
      "source": [
        "#create a train/test split\n",
        "# here we are setting 35 samples in test from 0.7 and rest would be the model will train/Predict and it would be 15 out of 50\n",
        "train_sp = int(0.7 * len(X))\n",
        "X_train, y_train = X[:train_sp],y[:train_sp]\n",
        "X_test, y_test = X[train_sp:],y[train_sp:]\n",
        "\n",
        "len(X_train), len(y_train), len(X_test), len(y_test)\n"
      ],
      "metadata": {
        "colab": {
          "base_uri": "https://localhost:8080/"
        },
        "id": "BLnQbxAH-Ugo",
        "outputId": "f3a40077-c103-44d2-a521-fba63332bfde"
      },
      "execution_count": 6,
      "outputs": [
        {
          "output_type": "execute_result",
          "data": {
            "text/plain": [
              "(35, 35, 15, 15)"
            ]
          },
          "metadata": {},
          "execution_count": 6
        }
      ]
    },
    {
      "cell_type": "code",
      "source": [
        "X_train, y_train"
      ],
      "metadata": {
        "colab": {
          "base_uri": "https://localhost:8080/"
        },
        "id": "bBqRCAJQDodm",
        "outputId": "1df5b918-6cf4-4c23-ec85-d63592187297"
      },
      "execution_count": 7,
      "outputs": [
        {
          "output_type": "execute_result",
          "data": {
            "text/plain": [
              "(tensor([[0.0000],\n",
              "         [0.0200],\n",
              "         [0.0400],\n",
              "         [0.0600],\n",
              "         [0.0800],\n",
              "         [0.1000],\n",
              "         [0.1200],\n",
              "         [0.1400],\n",
              "         [0.1600],\n",
              "         [0.1800],\n",
              "         [0.2000],\n",
              "         [0.2200],\n",
              "         [0.2400],\n",
              "         [0.2600],\n",
              "         [0.2800],\n",
              "         [0.3000],\n",
              "         [0.3200],\n",
              "         [0.3400],\n",
              "         [0.3600],\n",
              "         [0.3800],\n",
              "         [0.4000],\n",
              "         [0.4200],\n",
              "         [0.4400],\n",
              "         [0.4600],\n",
              "         [0.4800],\n",
              "         [0.5000],\n",
              "         [0.5200],\n",
              "         [0.5400],\n",
              "         [0.5600],\n",
              "         [0.5800],\n",
              "         [0.6000],\n",
              "         [0.6200],\n",
              "         [0.6400],\n",
              "         [0.6600],\n",
              "         [0.6800]]),\n",
              " tensor([[0.3000],\n",
              "         [0.3120],\n",
              "         [0.3240],\n",
              "         [0.3360],\n",
              "         [0.3480],\n",
              "         [0.3600],\n",
              "         [0.3720],\n",
              "         [0.3840],\n",
              "         [0.3960],\n",
              "         [0.4080],\n",
              "         [0.4200],\n",
              "         [0.4320],\n",
              "         [0.4440],\n",
              "         [0.4560],\n",
              "         [0.4680],\n",
              "         [0.4800],\n",
              "         [0.4920],\n",
              "         [0.5040],\n",
              "         [0.5160],\n",
              "         [0.5280],\n",
              "         [0.5400],\n",
              "         [0.5520],\n",
              "         [0.5640],\n",
              "         [0.5760],\n",
              "         [0.5880],\n",
              "         [0.6000],\n",
              "         [0.6120],\n",
              "         [0.6240],\n",
              "         [0.6360],\n",
              "         [0.6480],\n",
              "         [0.6600],\n",
              "         [0.6720],\n",
              "         [0.6840],\n",
              "         [0.6960],\n",
              "         [0.7080]]))"
            ]
          },
          "metadata": {},
          "execution_count": 7
        }
      ]
    },
    {
      "cell_type": "code",
      "source": [
        "#we need to visual the data in a proper way\n",
        "def plot_predict(train_data = X_train,\n",
        "                 train_labels = y_train,\n",
        "                 test_data = X_test,\n",
        "                 test_labels = y_test,\n",
        "                 predictions=None):\n",
        "\n",
        "  \"\"\"\n",
        "  Plot training data, test data and compares prediction\n",
        "  \"\"\"\n",
        "  plt.figure(figsize=(10,8))\n",
        "\n",
        "  #Plot training data in blue\n",
        "  # also here c stands for colour and b is blue and s stands for the size and later would be the label for the graph.\n",
        "  plt.scatter(train_data, train_labels, c = \"b\", s=4, label=\"Traing data\" )\n",
        "\n",
        "  #Plot the testing data in Green\n",
        "  plt.scatter(test_data,test_labels, c=\"g\", s=4, label=\"Testing data\")\n",
        "\n",
        "\n",
        "  #now we are looking for predictions?\n",
        "  if predictions is not None:\n",
        "    #plot the predictions if they exist\n",
        "    plt.scatter(test_data,predictions, c=\"r\", s=4, label=\"predictions\")\n",
        "\n",
        "  #show the legend it would show the lables on matpotlib\n",
        "  #here prop stands for properties\n",
        "  plt.legend(prop={\"size\":14})\n"
      ],
      "metadata": {
        "id": "xxJQqr43EKsn"
      },
      "execution_count": 8,
      "outputs": []
    },
    {
      "cell_type": "code",
      "source": [
        "#run the code\n",
        "plot_predict();\n",
        "\n",
        "# and here we build a traing and testing model"
      ],
      "metadata": {
        "colab": {
          "base_uri": "https://localhost:8080/",
          "height": 676
        },
        "id": "aHlzENTcIilB",
        "outputId": "e4442927-7908-4c35-9d96-9e60bfe2ad10"
      },
      "execution_count": 31,
      "outputs": [
        {
          "output_type": "display_data",
          "data": {
            "text/plain": [
              "<Figure size 1000x800 with 1 Axes>"
            ],
            "image/png": "[encoded data removed]"
          },
          "metadata": {}
        }
      ]
    },
    {
      "cell_type": "markdown",
      "source": [
        "#Building first Pytorch model\n",
        "\n"
      ],
      "metadata": {
        "id": "PKRBwDbQKduz"
      }
    },
    {
      "cell_type": "code",
      "source": [
        "#Create a linear regression model class\n",
        "class LinearRegrationModel(nn.Module): # it will inherit from nn module and it's a parent class of pytorch\n",
        "  def __int__(self):\n",
        "    super().__init__()\n",
        "    self.weights = nn.Parameter(torch.randn(1, #this will start with random weight and try to adjust it to ideal weight\n",
        "                                            requires_grad=True,#this parameter updated via gradient descent?\n",
        "                                            dtype=torch.float)) #it will always use default datatype float32\n",
        "\n",
        "    self.bias = nn.Parameter(torch.randn(1,requires_grad=True, dtype=torch.float))\n",
        "\n",
        "    #this method will define the computation model\n",
        "    # it will take parameter input x as train data\n",
        "    def forward(self, x: torch.Tensor) -> torch.Tensor:\n",
        "      return self.weights * x + self.bias #this is linear regression formula\n",
        "\n",
        "\n",
        "# This model will look at training data and adjust the random values to better represent or get closer result of weight and bias.\n",
        "# To workout this we need to use the algorithms : Gradient descent and Backpropagation\n",
        "#also to keep in mind pytorch has already added this two algrorithm in the backend\n",
        "#need to make sure that any time we uses nn.module it required the def forward method to fetch *************************Important********************************"
      ],
      "metadata": {
        "id": "65IfsjtpKnjY"
      },
      "execution_count": 38,
      "outputs": []
    },
    {
      "cell_type": "code",
      "source": [
        "## Pytorch model building essentails\n",
        "#torch.nn - contains all of the building of computational graph\n",
        "#torch.nn.Parameter-\n",
        "#torch.nn.module-\n",
        "#torch.optim-\n",
        "#def forward()- this is only method that will do the computation in the model"
      ],
      "metadata": {
        "id": "NCSw729a7176"
      },
      "execution_count": 11,
      "outputs": []
    },
    {
      "cell_type": "code",
      "source": [
        "torch.randn(1)"
      ],
      "metadata": {
        "colab": {
          "base_uri": "https://localhost:8080/"
        },
        "id": "ZdONb9yjCy8B",
        "outputId": "707a328f-c528-45f1-dd6a-546288bfaca3"
      },
      "execution_count": 24,
      "outputs": [
        {
          "output_type": "execute_result",
          "data": {
            "text/plain": [
              "tensor([1.1918])"
            ]
          },
          "metadata": {},
          "execution_count": 24
        }
      ]
    },
    {
      "cell_type": "markdown",
      "source": [
        "#checking the content of Pytorch model"
      ],
      "metadata": {
        "id": "H5E0Opf57g9a"
      }
    },
    {
      "cell_type": "code",
      "source": [
        "\n",
        "#we can check the model what inside the parameter is .parameters().\n",
        "torch.manual_seed(42)\n",
        "\n",
        "#create a instance of the model\n",
        "model1 = LinearRegrationModel()\n",
        "\n",
        "#check the parameters\n",
        "list(model1.parameters())\n"
      ],
      "metadata": {
        "colab": {
          "base_uri": "https://localhost:8080/"
        },
        "id": "4qeHjXz5-p6y",
        "outputId": "bff8b92d-7f56-4a60-e402-4a027ee95f51"
      },
      "execution_count": 44,
      "outputs": [
        {
          "output_type": "execute_result",
          "data": {
            "text/plain": [
              "[]"
            ]
          },
          "metadata": {},
          "execution_count": 44
        }
      ]
    }
  ],
  "metadata": {
    "colab": {
      "provenance": [],
      "authorship_tag": "ABX9TyNzQlc+X1BVEeglQKhM4m6U",
      "include_colab_link": true
    },
    "kernelspec": {
      "display_name": "Python 3",
      "name": "python3"
    },
    "language_info": {
      "name": "python"
    }
  },
  "nbformat": 4,
  "nbformat_minor": 0
}