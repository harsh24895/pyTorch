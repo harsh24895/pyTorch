{
  "cells": [
    {
      "cell_type": "markdown",
      "metadata": {
        "id": "view-in-github",
        "colab_type": "text"
      },
      "source": [
        "<a href=\"https://colab.research.google.com/github/harsh24895/pyTorch/blob/main/PyTorch_WorkFlow.ipynb\" target=\"_parent\"><img src=\"https://colab.research.google.com/assets/colab-badge.svg\" alt=\"Open In Colab\"/></a>"
      ]
    },
    {
      "cell_type": "markdown",
      "metadata": {
        "id": "LW03GWvCw5Dc"
      },
      "source": [
        "#pyTorch WorkFlow"
      ]
    },
    {
      "cell_type": "code",
      "execution_count": 1,
      "metadata": {
        "id": "0j3uuoZaxWQi"
      },
      "outputs": [],
      "source": [
        "import torch\n",
        "from torch import nn ## nn contains all of Pytorch building block for neural networks\n",
        "import matplotlib.pyplot as plt"
      ]
    },
    {
      "cell_type": "code",
      "execution_count": 2,
      "metadata": {
        "colab": {
          "base_uri": "https://localhost:8080/",
          "height": 36
        },
        "id": "yoWwveNSyogo",
        "outputId": "468302d9-869b-450e-881a-8f8edeb13c78"
      },
      "outputs": [
        {
          "output_type": "execute_result",
          "data": {
            "text/plain": [
              "'2.3.1+cu121'"
            ],
            "application/vnd.google.colaboratory.intrinsic+json": {
              "type": "string"
            }
          },
          "metadata": {},
          "execution_count": 2
        }
      ],
      "source": [
        "torch.__version__"
      ]
    },
    {
      "cell_type": "markdown",
      "metadata": {
        "id": "f1_qHaYMy49r"
      },
      "source": [
        "#1.Data( Preparing and loading )"
      ]
    },
    {
      "cell_type": "code",
      "execution_count": 3,
      "metadata": {
        "colab": {
          "base_uri": "https://localhost:8080/"
        },
        "id": "ZqYVwvPey9wS",
        "outputId": "e9ad47d9-d7c2-4623-d6ec-9a64709e274d"
      },
      "outputs": [
        {
          "output_type": "execute_result",
          "data": {
            "text/plain": [
              "(tensor([[0.0000],\n",
              "         [0.0200],\n",
              "         [0.0400],\n",
              "         [0.0600],\n",
              "         [0.0800],\n",
              "         [0.1000],\n",
              "         [0.1200],\n",
              "         [0.1400],\n",
              "         [0.1600],\n",
              "         [0.1800]]),\n",
              " tensor([[0.3000],\n",
              "         [0.3120],\n",
              "         [0.3240],\n",
              "         [0.3360],\n",
              "         [0.3480],\n",
              "         [0.3600],\n",
              "         [0.3720],\n",
              "         [0.3840],\n",
              "         [0.3960],\n",
              "         [0.4080]]))"
            ]
          },
          "metadata": {},
          "execution_count": 3
        }
      ],
      "source": [
        "#Machine learning has two parts:\n",
        "#1.to get into the numberical representation as a Number\n",
        "#2.Build to model to learn patterns in that numberical reperesentation\n",
        "\n",
        "\n",
        "#create a known parameters for linear regression that would be the (Y = a + bX)\n",
        "weight = 0.6 #this is the b as per formula above line\n",
        "bias = 0.3 #and this would be a for now for formula above line\n",
        "\n",
        "start = 0\n",
        "end = 1\n",
        "step = 0.02 #this step is between the start and end\n",
        "X =  torch.arange(start,end,step).unsqueeze(dim=1) #here is X is capital represent the Matrix or Tensor is it's smaller then it represent vector4\n",
        "#also here we have mention the start,end, step so in the output you would not it would step after each 0.02 value  and unsqueeze means it will add the dimension with the brackets\n",
        "y = weight * X + bias\n",
        "\n",
        "X[:10],y[:10]"
      ]
    },
    {
      "cell_type": "code",
      "execution_count": 4,
      "metadata": {
        "colab": {
          "base_uri": "https://localhost:8080/"
        },
        "id": "NdKkSaMe3wgA",
        "outputId": "27bd6dff-c0a5-49b1-f07b-80745aa83696"
      },
      "outputs": [
        {
          "output_type": "execute_result",
          "data": {
            "text/plain": [
              "(50, 50)"
            ]
          },
          "metadata": {},
          "execution_count": 4
        }
      ],
      "source": [
        "len(X),len(y)"
      ]
    },
    {
      "cell_type": "markdown",
      "source": [
        "#Splitting data into training and test set(important concept in the machine learning"
      ],
      "metadata": {
        "id": "8pg0kPoQ-b0Y"
      }
    },
    {
      "cell_type": "code",
      "source": [
        "#create a train/test split\n",
        "# here we are setting 35 samples in test from 0.7 and rest would be the model will train/Predict and it would be 15 out of 50\n",
        "train_sp = int(0.7 * len(X))\n",
        "X_train, y_train = X[:train_sp],y[:train_sp]\n",
        "X_test, y_test = X[train_sp:],y[train_sp:]\n",
        "\n",
        "len(X_train), len(y_train), len(X_test), len(y_test)\n"
      ],
      "metadata": {
        "colab": {
          "base_uri": "https://localhost:8080/"
        },
        "id": "BLnQbxAH-Ugo",
        "outputId": "0354b6a0-09f9-4268-a72f-e21d3a7e27e9"
      },
      "execution_count": 5,
      "outputs": [
        {
          "output_type": "execute_result",
          "data": {
            "text/plain": [
              "(35, 35, 15, 15)"
            ]
          },
          "metadata": {},
          "execution_count": 5
        }
      ]
    },
    {
      "cell_type": "code",
      "source": [
        "X_train, y_train"
      ],
      "metadata": {
        "colab": {
          "base_uri": "https://localhost:8080/"
        },
        "id": "bBqRCAJQDodm",
        "outputId": "277e96e9-668c-4889-bbe9-cdb5d0099504"
      },
      "execution_count": 6,
      "outputs": [
        {
          "output_type": "execute_result",
          "data": {
            "text/plain": [
              "(tensor([[0.0000],\n",
              "         [0.0200],\n",
              "         [0.0400],\n",
              "         [0.0600],\n",
              "         [0.0800],\n",
              "         [0.1000],\n",
              "         [0.1200],\n",
              "         [0.1400],\n",
              "         [0.1600],\n",
              "         [0.1800],\n",
              "         [0.2000],\n",
              "         [0.2200],\n",
              "         [0.2400],\n",
              "         [0.2600],\n",
              "         [0.2800],\n",
              "         [0.3000],\n",
              "         [0.3200],\n",
              "         [0.3400],\n",
              "         [0.3600],\n",
              "         [0.3800],\n",
              "         [0.4000],\n",
              "         [0.4200],\n",
              "         [0.4400],\n",
              "         [0.4600],\n",
              "         [0.4800],\n",
              "         [0.5000],\n",
              "         [0.5200],\n",
              "         [0.5400],\n",
              "         [0.5600],\n",
              "         [0.5800],\n",
              "         [0.6000],\n",
              "         [0.6200],\n",
              "         [0.6400],\n",
              "         [0.6600],\n",
              "         [0.6800]]),\n",
              " tensor([[0.3000],\n",
              "         [0.3120],\n",
              "         [0.3240],\n",
              "         [0.3360],\n",
              "         [0.3480],\n",
              "         [0.3600],\n",
              "         [0.3720],\n",
              "         [0.3840],\n",
              "         [0.3960],\n",
              "         [0.4080],\n",
              "         [0.4200],\n",
              "         [0.4320],\n",
              "         [0.4440],\n",
              "         [0.4560],\n",
              "         [0.4680],\n",
              "         [0.4800],\n",
              "         [0.4920],\n",
              "         [0.5040],\n",
              "         [0.5160],\n",
              "         [0.5280],\n",
              "         [0.5400],\n",
              "         [0.5520],\n",
              "         [0.5640],\n",
              "         [0.5760],\n",
              "         [0.5880],\n",
              "         [0.6000],\n",
              "         [0.6120],\n",
              "         [0.6240],\n",
              "         [0.6360],\n",
              "         [0.6480],\n",
              "         [0.6600],\n",
              "         [0.6720],\n",
              "         [0.6840],\n",
              "         [0.6960],\n",
              "         [0.7080]]))"
            ]
          },
          "metadata": {},
          "execution_count": 6
        }
      ]
    },
    {
      "cell_type": "code",
      "source": [
        "#we need to visual the data in a proper way\n",
        "def plot_predict(train_data = X_train,\n",
        "                 train_labels = y_train,\n",
        "                 test_data = X_test,\n",
        "                 test_labels = y_test,\n",
        "                 predictions=None):\n",
        "\n",
        "  \"\"\"\n",
        "  Plot training data, test data and compares prediction\n",
        "  \"\"\"\n",
        "  plt.figure(figsize=(10,8))\n",
        "\n",
        "  #Plot training data in blue\n",
        "  # also here c stands for colour and b is blue and s stands for the size and later would be the label for the graph.\n",
        "  plt.scatter(train_data, train_labels, c = \"b\", s=4, label=\"Traing data\" )\n",
        "\n",
        "  #Plot the testing data in Green\n",
        "  plt.scatter(test_data,test_labels, c=\"g\", s=4, label=\"Testing data\")\n",
        "\n",
        "\n",
        "  #now we are looking for predictions?\n",
        "  if predictions is not None:\n",
        "    #plot the predictions if they exist\n",
        "    plt.scatter(test_data,predictions, c=\"r\", s=4, label=\"predictions\")\n",
        "\n",
        "  #show the legend it would show the lables on matpotlib\n",
        "  #here prop stands for properties\n",
        "  plt.legend(prop={\"size\":14})\n"
      ],
      "metadata": {
        "id": "xxJQqr43EKsn"
      },
      "execution_count": 7,
      "outputs": []
    },
    {
      "cell_type": "code",
      "source": [
        "#run the code\n",
        "plot_predict();\n",
        "\n",
        "# and here we build a traing and testing model"
      ],
      "metadata": {
        "colab": {
          "base_uri": "https://localhost:8080/",
          "height": 676
        },
        "id": "aHlzENTcIilB",
        "outputId": "ea5eac37-cc4c-4696-f910-cee1f4214d78"
      },
      "execution_count": 8,
      "outputs": [
        {
          "output_type": "display_data",
          "data": {
            "text/plain": [
              "<Figure size 1000x800 with 1 Axes>"
            ],
            "image/png": "[encoded data removed]"
          },
          "metadata": {}
        }
      ]
    },
    {
      "cell_type": "markdown",
      "source": [
        "#Building first Pytorch model\n",
        "\n"
      ],
      "metadata": {
        "id": "PKRBwDbQKduz"
      }
    },
    {
      "cell_type": "code",
      "source": [
        "#Create a linear regression model class\n",
        "class LinearRegrationModel(nn.Module): # it will inherit from nn module and it's a parent class of pytorch\n",
        "  def __init__(self):\n",
        "    super().__init__()\n",
        "    self.weights = nn.Parameter(torch.randn(1, #this will start with random weight and try to adjust it to ideal weight\n",
        "                                            requires_grad=True,#this parameter updated via gradient descent?\n",
        "                                            dtype=torch.float)) #it will always use default datatype float32\n",
        "\n",
        "    self.bias = nn.Parameter(torch.randn(1,requires_grad=True, dtype=torch.float))\n",
        "\n",
        "  #this method will define the computation model\n",
        "  # it will take parameter input x as train data\n",
        "  def forward(self, x: torch.Tensor) -> torch.Tensor:\n",
        "    return self.weights * x + self.bias #this is linear regression formula\n",
        "\n",
        "\n",
        "# This model will look at training data and adjust the random values to better represent or get closer result of weight and bias.\n",
        "# To workout this we need to use the algorithms : Gradient descent and Backpropagation\n",
        "#also to keep in mind pytorch has already added this two algrorithm in the backend\n",
        "#need to make sure that any time we uses nn.module it required the def forward method to fetch *************************Important********************************"
      ],
      "metadata": {
        "id": "65IfsjtpKnjY"
      },
      "execution_count": 9,
      "outputs": []
    },
    {
      "cell_type": "code",
      "source": [
        "## Pytorch model building essentails\n",
        "#torch.nn - contains all of the building of computational graph\n",
        "#torch.nn.Parameter-\n",
        "#torch.nn.module-\n",
        "#torch.optim-\n",
        "#def forward()- this is only method that will do the computation in the model"
      ],
      "metadata": {
        "id": "NCSw729a7176"
      },
      "execution_count": 10,
      "outputs": []
    },
    {
      "cell_type": "code",
      "source": [
        "torch.randn(1)"
      ],
      "metadata": {
        "colab": {
          "base_uri": "https://localhost:8080/"
        },
        "id": "ZdONb9yjCy8B",
        "outputId": "abff9f27-a0af-4786-d902-43d8dde0b1e4"
      },
      "execution_count": 11,
      "outputs": [
        {
          "output_type": "execute_result",
          "data": {
            "text/plain": [
              "tensor([1.0871])"
            ]
          },
          "metadata": {},
          "execution_count": 11
        }
      ]
    },
    {
      "cell_type": "markdown",
      "source": [
        "#checking the content of Pytorch model"
      ],
      "metadata": {
        "id": "H5E0Opf57g9a"
      }
    },
    {
      "cell_type": "code",
      "source": [
        "\n",
        "#we can check the model what inside the parameter is .parameters().\n",
        "torch.manual_seed(42)\n",
        "\n",
        "#create a instance of the model\n",
        "model1 = LinearRegrationModel()\n",
        "\n",
        "#check the parameters\n",
        "list(model1.parameters())\n",
        "\n",
        "#the below output parameter would change if we set randn instead of manual seed"
      ],
      "metadata": {
        "colab": {
          "base_uri": "https://localhost:8080/"
        },
        "id": "4qeHjXz5-p6y",
        "outputId": "70801da6-204f-4a54-e9c2-d93e90a41802"
      },
      "execution_count": 12,
      "outputs": [
        {
          "output_type": "execute_result",
          "data": {
            "text/plain": [
              "[Parameter containing:\n",
              " tensor([0.3367], requires_grad=True),\n",
              " Parameter containing:\n",
              " tensor([0.1288], requires_grad=True)]"
            ]
          },
          "metadata": {},
          "execution_count": 12
        }
      ]
    },
    {
      "cell_type": "code",
      "source": [
        "#list the named parameters\n",
        "model1.state_dict()"
      ],
      "metadata": {
        "colab": {
          "base_uri": "https://localhost:8080/"
        },
        "id": "7xZvYx_z_APv",
        "outputId": "acc68842-d958-4002-d384-335d68ad9cc9"
      },
      "execution_count": 13,
      "outputs": [
        {
          "output_type": "execute_result",
          "data": {
            "text/plain": [
              "OrderedDict([('weights', tensor([0.3367])), ('bias', tensor([0.1288]))])"
            ]
          },
          "metadata": {},
          "execution_count": 13
        }
      ]
    },
    {
      "cell_type": "code",
      "source": [
        "#Now we need to get the predicted number around the define value which we have metion for Weight and Bias above and see below\n",
        "weight,bias"
      ],
      "metadata": {
        "colab": {
          "base_uri": "https://localhost:8080/"
        },
        "id": "tvlsSUAy_huV",
        "outputId": "b537ec68-a684-4729-8519-8a4faf6b6aa1"
      },
      "execution_count": 14,
      "outputs": [
        {
          "output_type": "execute_result",
          "data": {
            "text/plain": [
              "(0.6, 0.3)"
            ]
          },
          "metadata": {},
          "execution_count": 14
        }
      ]
    },
    {
      "cell_type": "code",
      "source": [
        "#also we are going to use the X_test and y_test below\n",
        "# so here we are getting the values from and above look for both variable\n",
        "X_test, y_test"
      ],
      "metadata": {
        "colab": {
          "base_uri": "https://localhost:8080/"
        },
        "id": "lsvFdVjbF35r",
        "outputId": "0daae575-fb81-47e5-fe28-c6daa7755c16"
      },
      "execution_count": 15,
      "outputs": [
        {
          "output_type": "execute_result",
          "data": {
            "text/plain": [
              "(tensor([[0.7000],\n",
              "         [0.7200],\n",
              "         [0.7400],\n",
              "         [0.7600],\n",
              "         [0.7800],\n",
              "         [0.8000],\n",
              "         [0.8200],\n",
              "         [0.8400],\n",
              "         [0.8600],\n",
              "         [0.8800],\n",
              "         [0.9000],\n",
              "         [0.9200],\n",
              "         [0.9400],\n",
              "         [0.9600],\n",
              "         [0.9800]]),\n",
              " tensor([[0.7200],\n",
              "         [0.7320],\n",
              "         [0.7440],\n",
              "         [0.7560],\n",
              "         [0.7680],\n",
              "         [0.7800],\n",
              "         [0.7920],\n",
              "         [0.8040],\n",
              "         [0.8160],\n",
              "         [0.8280],\n",
              "         [0.8400],\n",
              "         [0.8520],\n",
              "         [0.8640],\n",
              "         [0.8760],\n",
              "         [0.8880]]))"
            ]
          },
          "metadata": {},
          "execution_count": 15
        }
      ]
    },
    {
      "cell_type": "code",
      "source": [
        " # To make prediction we are using 'torch.inference_mode()'\n",
        " # so here it will take input and then it will predict: so as input it will X_test to predit y_test\n",
        " # we need to use the forward() method\n",
        "#**********************Important too if the def method is not align in line above code for forward() need to align it with shift+tab\n",
        "with torch.inference_mode(): #the only thing with inference_mode is that we don't need to keep track of the gradiant(required_grad=True) and also there is another method too torch.no_grad() but inteference is better than no_grad\n",
        "    y_predit =model1(X_test)\n",
        "y_predit  # so below are the predictions\n",
        "\n",
        "#another way\n",
        "with torch.no_grad():\n",
        "   y_predit =model1(X_test)\n",
        "y_predit"
      ],
      "metadata": {
        "colab": {
          "base_uri": "https://localhost:8080/"
        },
        "id": "xHQJQ9XoELLb",
        "outputId": "96717345-f53c-49d5-e0fe-4780bf1bec92"
      },
      "execution_count": 16,
      "outputs": [
        {
          "output_type": "execute_result",
          "data": {
            "text/plain": [
              "tensor([[0.3645],\n",
              "        [0.3712],\n",
              "        [0.3780],\n",
              "        [0.3847],\n",
              "        [0.3914],\n",
              "        [0.3982],\n",
              "        [0.4049],\n",
              "        [0.4116],\n",
              "        [0.4184],\n",
              "        [0.4251],\n",
              "        [0.4318],\n",
              "        [0.4386],\n",
              "        [0.4453],\n",
              "        [0.4520],\n",
              "        [0.4588]])"
            ]
          },
          "metadata": {},
          "execution_count": 16
        }
      ]
    },
    {
      "cell_type": "code",
      "source": [
        "y_test #here notice the y_test and y_predit output prediction little similar prediction"
      ],
      "metadata": {
        "colab": {
          "base_uri": "https://localhost:8080/"
        },
        "id": "qwRb0huIIJTm",
        "outputId": "4af42054-4b29-4fc8-ebdb-e0d07ab61725"
      },
      "execution_count": 17,
      "outputs": [
        {
          "output_type": "execute_result",
          "data": {
            "text/plain": [
              "tensor([[0.7200],\n",
              "        [0.7320],\n",
              "        [0.7440],\n",
              "        [0.7560],\n",
              "        [0.7680],\n",
              "        [0.7800],\n",
              "        [0.7920],\n",
              "        [0.8040],\n",
              "        [0.8160],\n",
              "        [0.8280],\n",
              "        [0.8400],\n",
              "        [0.8520],\n",
              "        [0.8640],\n",
              "        [0.8760],\n",
              "        [0.8880]])"
            ]
          },
          "metadata": {},
          "execution_count": 17
        }
      ]
    },
    {
      "cell_type": "code",
      "source": [
        "plot_predict(predictions=y_predit) #and here is the predictions below that the model has comeup with"
      ],
      "metadata": {
        "colab": {
          "base_uri": "https://localhost:8080/",
          "height": 676
        },
        "id": "lImpX1JuIYEI",
        "outputId": "d1ccc8d0-4f09-4b17-98d1-87ee63f17faf"
      },
      "execution_count": 18,
      "outputs": [
        {
          "output_type": "display_data",
          "data": {
            "text/plain": [
              "<Figure size 1000x800 with 1 Axes>"
            ],
            "image/png": "[encoded data removed]"
          },
          "metadata": {}
        }
      ]
    },
    {
      "cell_type": "markdown",
      "source": [
        "#Train the model\n"
      ],
      "metadata": {
        "id": "Us7bGBuEI3dp"
      }
    },
    {
      "cell_type": "code",
      "source": [
        "# The main aspect here is that we need to move from unknown parameters model(these may be random) to known paratmers\n",
        "# to poor representation of data to better representation of data\n",
        "\n",
        "#to measure the poor and wrong predicion model we are using the loss function\n",
        "\n",
        "#*****Lost function is also called cost function or criterion in different area.********************\n",
        "\n",
        "# we need 1.Lost function\n",
        "#2.Optimizer: take account into the  loss model and adjust the parameters(weight and bias) to improve the loss function\n",
        "#2.1 inside the optimizer we need to set two parameter\n",
        "    #-params: the model parameters like to optimize params=model1.parameters()\n",
        "    #-lr(leraning rate): this the Hyperparameter this value is set the by us Machine learning Engineers see below for explation (if a small lr results in small changes in step, a large lr results in large changes in step)\n",
        "#3. Also we need Traing and Testing loop\n"
      ],
      "metadata": {
        "id": "eiMIYMM2MMJ_"
      },
      "execution_count": 19,
      "outputs": []
    },
    {
      "cell_type": "code",
      "source": [
        "list(model1.parameters())"
      ],
      "metadata": {
        "colab": {
          "base_uri": "https://localhost:8080/"
        },
        "id": "5Sfh0WxDU0BQ",
        "outputId": "d6276852-8316-4b97-facc-79e9329a7a9f"
      },
      "execution_count": 20,
      "outputs": [
        {
          "output_type": "execute_result",
          "data": {
            "text/plain": [
              "[Parameter containing:\n",
              " tensor([0.3367], requires_grad=True),\n",
              " Parameter containing:\n",
              " tensor([0.1288], requires_grad=True)]"
            ]
          },
          "metadata": {},
          "execution_count": 20
        }
      ]
    },
    {
      "cell_type": "code",
      "source": [
        "#this will check out the model parameters and this will set the value itself\n",
        "model1.state_dict()"
      ],
      "metadata": {
        "colab": {
          "base_uri": "https://localhost:8080/"
        },
        "id": "ZV1SnfbfU5oB",
        "outputId": "310916cb-f2b3-43e2-8a34-ded1aa9b6d93"
      },
      "execution_count": 21,
      "outputs": [
        {
          "output_type": "execute_result",
          "data": {
            "text/plain": [
              "OrderedDict([('weights', tensor([0.3367])), ('bias', tensor([0.1288]))])"
            ]
          },
          "metadata": {},
          "execution_count": 21
        }
      ]
    },
    {
      "cell_type": "code",
      "source": [
        "#setup the loss function is Lost funcation there is another function called  L1loss that means absolute error (MAE) between i/p X to o/p y.\n",
        "\n",
        "loss_fn = nn.L1Loss()\n",
        "\n",
        "#setup the optimizer and it have other algorithms too torch.optim.SGD and all others look documentation\n",
        "optimizer = torch.optim.SGD(params=model1.parameters(), #optim SGD will adjust the value to close enough to reduce the loss function\n",
        "                            lr=0.01) #lr = learning rate so higher the lr it adjust higher to the parameters in this value tensor([0.3367]) if it lr =0.001 it will adjust 6, if lr=0.0001 it will adjust 7\n"
      ],
      "metadata": {
        "id": "MVPl-XRjR1Wu"
      },
      "execution_count": 22,
      "outputs": []
    },
    {
      "cell_type": "markdown",
      "source": [
        "#3.Building the training and testing loop"
      ],
      "metadata": {
        "id": "01ZOYolkX1gU"
      }
    },
    {
      "cell_type": "code",
      "source": [
        "#couple of thing for traing loop(and testing loop)\n",
        "#1.loop trough the data\n",
        "#2. Forward pass - this involves data moving through our model using the forward() method ******This is also called Forward propagation********\n",
        "#3.Calcultate the loss(compare forward pass prediction to ground level)\n",
        "#4.optimizer zero grad\n",
        "#5. loss backward - move backward through the network to calculate the gradient pf each parameter this is ***(back prapogation)**\n",
        "#6. Optimizer step - use the optimizer to adjust our model parameter to improve the loss this is ***(Gradient descent)**"
      ],
      "metadata": {
        "id": "eEvvIU1eYMdB"
      },
      "execution_count": 23,
      "outputs": []
    },
    {
      "cell_type": "code",
      "source": [
        "#an epoch is one loop through the data (this is the hyperparameter becasue we set ourselves)\n",
        "epochs = 1\n",
        "#Traing the model\n",
        "#1.loop through the data\n",
        "for epoch in range(epochs):\n",
        "  #set the model to traing mode\n",
        "  model1.train() #train mode in pytorch set all the parameters that require gradients to require gradience\n",
        "\n",
        "  #1.forward pass\n",
        "  y_pred = model1(X_train)\n",
        "\n",
        "  #2.Calulate the loss - y_pred- input is first then y_train is the output\n",
        "  loss = loss_fn(y_pred, y_train)\n",
        "  print(f\"Loss:{loss}\") #we are printing the loss\n",
        "\n",
        "  #3.optimizer zero grad\n",
        "  optimizer.zero_grad() # For each epoch we need to get the loop to zero so we need optimizer to set the zero\n",
        "\n",
        "  #4.Perform back prapogation on the loss with respect to the parameters of model\n",
        "  # also Back prapogation is calculating the derivative curve or each parameters in the model\n",
        "  loss.backward()\n",
        "\n",
        "  #5.Optimizer step(Perform the gradient descent)\n",
        "  optimizer.step() #default how the optimizer change will acculumate through the loop and need to zero them above in step 3\n",
        "\n",
        "\n",
        "  model1.eval()# this will turn off gradient tracking\n",
        "\n",
        "  #Print out the model state_dict()\n",
        "  print(model1.state_dict())"
      ],
      "metadata": {
        "colab": {
          "base_uri": "https://localhost:8080/"
        },
        "id": "5RBNG5oLbE5F",
        "outputId": "2fd41cd1-1275-49dc-d383-d6eba09b3028"
      },
      "execution_count": 66,
      "outputs": [
        {
          "output_type": "stream",
          "name": "stdout",
          "text": [
            "Loss:0.053090792149305344\n",
            "OrderedDict([('weights', tensor([0.4045])), ('bias', tensor([0.3242]))])\n"
          ]
        }
      ]
    },
    {
      "cell_type": "code",
      "source": [
        "model1.state_dict()\n"
      ],
      "metadata": {
        "colab": {
          "base_uri": "https://localhost:8080/"
        },
        "id": "dtR2hov4sBbT",
        "outputId": "a3552910-5b1d-461c-fd42-8c01aadecf32"
      },
      "execution_count": 67,
      "outputs": [
        {
          "output_type": "execute_result",
          "data": {
            "text/plain": [
              "OrderedDict([('weights', tensor([0.4045])), ('bias', tensor([0.3242]))])"
            ]
          },
          "metadata": {},
          "execution_count": 67
        }
      ]
    },
    {
      "cell_type": "code",
      "source": [
        "weight,bias #we need to get the parameter closer to the model1 values above\n"
      ],
      "metadata": {
        "colab": {
          "base_uri": "https://localhost:8080/"
        },
        "id": "5G70Miw5rj5H",
        "outputId": "50043312-5ae6-493a-c493-656981292e83"
      },
      "execution_count": 26,
      "outputs": [
        {
          "output_type": "execute_result",
          "data": {
            "text/plain": [
              "(0.6, 0.3)"
            ]
          },
          "metadata": {},
          "execution_count": 26
        }
      ]
    },
    {
      "cell_type": "code",
      "source": [
        "with torch.inference_mode(): # we are setting new inference to see the new graph\n",
        "  y_predit_newdata = model1(X_test)\n"
      ],
      "metadata": {
        "id": "hw8XA2uevnDQ"
      },
      "execution_count": 69,
      "outputs": []
    },
    {
      "cell_type": "code",
      "source": [
        "plot_predict(predictions=y_predit)#this is the old data and predictions"
      ],
      "metadata": {
        "colab": {
          "base_uri": "https://localhost:8080/",
          "height": 676
        },
        "id": "_JB2p8oMv-AX",
        "outputId": "20482c76-b8d6-43cf-f1a6-28063cc70a38"
      },
      "execution_count": 68,
      "outputs": [
        {
          "output_type": "display_data",
          "data": {
            "text/plain": [
              "<Figure size 1000x800 with 1 Axes>"
            ],
            "image/png": "[encoded data removed]"
          },
          "metadata": {}
        }
      ]
    },
    {
      "cell_type": "code",
      "source": [
        "plot_predict(predictions=y_predit_newdata) #here is a new data with new training set and predictions"
      ],
      "metadata": {
        "colab": {
          "base_uri": "https://localhost:8080/",
          "height": 676
        },
        "id": "qPEnxFd7wIwm",
        "outputId": "1022e97b-09d5-438b-da60-6a600a89a0c0"
      },
      "execution_count": 70,
      "outputs": [
        {
          "output_type": "display_data",
          "data": {
            "text/plain": [
              "<Figure size 1000x800 with 1 Axes>"
            ],
            "image/png": "[encoded data removed]"
          },
          "metadata": {}
        }
      ]
    }
  ],
  "metadata": {
    "colab": {
      "provenance": [],
      "authorship_tag": "ABX9TyN4L8YaHr1tIrA+xIcWGIVo",
      "include_colab_link": true
    },
    "kernelspec": {
      "display_name": "Python 3",
      "name": "python3"
    },
    "language_info": {
      "name": "python"
    }
  },
  "nbformat": 4,
  "nbformat_minor": 0
}