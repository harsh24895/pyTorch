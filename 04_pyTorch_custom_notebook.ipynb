{
  "nbformat": 4,
  "nbformat_minor": 0,
  "metadata": {
    "colab": {
      "provenance": [],
      "authorship_tag": "ABX9TyMs3jaxezsqg2i+nyqCZUCe"
    },
    "kernelspec": {
      "name": "python3",
      "display_name": "Python 3"
    },
    "language_info": {
      "name": "python"
    }
  },
  "cells": [
    {
      "cell_type": "markdown",
      "source": [
        "#Creating the custom dataset and get my own data into pyTorch\n",
        "\n",
        "#0. Importing pytorch and setting up the device-agnostic code\n"
      ],
      "metadata": {
        "id": "VXifac8XmJ5E"
      }
    },
    {
      "cell_type": "code",
      "source": [
        "import torch\n",
        "from torch import nn\n",
        "\n",
        "#note: Pytorch 1.10+ is required for this step\n",
        "torch.__version__"
      ],
      "metadata": {
        "colab": {
          "base_uri": "https://localhost:8080/",
          "height": 36
        },
        "id": "RwPwKC5Mnb5i",
        "outputId": "d16d84e5-3c4d-4804-b932-1ddc30bd6d76"
      },
      "execution_count": 8,
      "outputs": [
        {
          "output_type": "execute_result",
          "data": {
            "text/plain": [
              "'2.5.1+cu124'"
            ],
            "application/vnd.google.colaboratory.intrinsic+json": {
              "type": "string"
            }
          },
          "metadata": {},
          "execution_count": 8
        }
      ]
    },
    {
      "cell_type": "code",
      "source": [
        "#setup device-agnostic code\n",
        "device = \"cuda\" if torch.cuda.is_available() else \"cpu\"\n",
        "device"
      ],
      "metadata": {
        "colab": {
          "base_uri": "https://localhost:8080/",
          "height": 36
        },
        "id": "bCU1PKUOoELF",
        "outputId": "5d6429d3-6334-45ef-cc19-e60ad9f6da5d"
      },
      "execution_count": 9,
      "outputs": [
        {
          "output_type": "execute_result",
          "data": {
            "text/plain": [
              "'cpu'"
            ],
            "application/vnd.google.colaboratory.intrinsic+json": {
              "type": "string"
            }
          },
          "metadata": {},
          "execution_count": 9
        }
      ]
    },
    {
      "cell_type": "markdown",
      "source": [
        "# Get data for FOOD VISION MINI for our model"
      ],
      "metadata": {
        "id": "46ozLQgSoRYD"
      }
    },
    {
      "cell_type": "code",
      "source": [
        "# important: Food 101 dataset search in google it has multiple data for food item and been train and tested\n",
        "# we are working on small dataset comapre to Food101, we are using just 3-4classes of food an only 10% of images(75training, and 25 testing)\n",
        "\n",
        "import requests\n",
        "import zipfile\n",
        "from pathlib import Path\n",
        "\n",
        "#set path to a data folder\n",
        "data_path = Path(\"data/\")\n",
        "image_path = data_path / \"pizza_steak_sushi\"\n",
        "\n",
        "#If the image folder doesn't exist, download it and prepare it...\n",
        "if image_path.is_dir():\n",
        "  print(f\"{image_path} directory already exist... skipping download\")\n",
        "else:\n",
        "  print(f\"{image_path} does not exist, creating one..\")\n",
        "  image_path.mkdir(parents=True, exist_ok=True)\n",
        "\n",
        "#Download pizza, steak and sushi data\n",
        "with open(data_path / \"pizza_steak_sushi.zip\", \"wb\") as f:\n",
        "\n",
        "  request = requests.get(\"https://github.com/mrdbourke/pytorch-deep-learning/raw/main/data/pizza_steak_sushi.zip\") #just make sure we have raw file instead of blob in the link\n",
        "  print(\"Downloading pizza, steak, sushi data\")\n",
        "  f.write(request.content)\n",
        "\n",
        "#unzip pizz, steak, sushi data\n",
        "with zipfile.ZipFile(data_path / \"pizza_steak_sushi.zip\", \"r\") as zip_ref:\n",
        "  print(\"Unzipping pizz, steak and sushi data...\")\n",
        "  zip_ref.extractall(image_path) # in here it is extracting all the image file in the zip\n",
        "\n"
      ],
      "metadata": {
        "colab": {
          "base_uri": "https://localhost:8080/"
        },
        "id": "wpQAFHvhomGR",
        "outputId": "e49393fe-8a1a-40b6-f230-c34b5dd4d2f5"
      },
      "execution_count": 10,
      "outputs": [
        {
          "output_type": "stream",
          "name": "stdout",
          "text": [
            "data/pizza_steak_sushi directory already exist... skipping download\n",
            "Downloading pizza, steak, sushi data\n",
            "Unzipping pizz, steak and sushi data...\n"
          ]
        }
      ]
    },
    {
      "cell_type": "code",
      "source": [
        "#2. Becoming one with the data (data preparation and data exploration)"
      ],
      "metadata": {
        "id": "WOLtG1i32ph1"
      },
      "execution_count": 11,
      "outputs": []
    },
    {
      "cell_type": "code",
      "source": [
        "import os\n",
        "def walk_through_dir(dir_path):\n",
        "  \"\"\"Walks through dir_path returning its contents.\"\"\"\n",
        "  for dirpath, dirnames, filenames in os.walk(dir_path):\n",
        "    print(f\" There are {len(dirnames)} directories and {len(filenames)} images in '{dirpath}'.\")"
      ],
      "metadata": {
        "id": "VyIj8bBHuV28"
      },
      "execution_count": 12,
      "outputs": []
    },
    {
      "cell_type": "code",
      "source": [
        "walk_through_dir(image_path)"
      ],
      "metadata": {
        "colab": {
          "base_uri": "https://localhost:8080/"
        },
        "id": "-heO59WDwiGT",
        "outputId": "bad6c3da-ce8b-4c22-c886-8f3acfe1447a"
      },
      "execution_count": 13,
      "outputs": [
        {
          "output_type": "stream",
          "name": "stdout",
          "text": [
            " There are 2 directories and 0 images in 'data/pizza_steak_sushi'.\n",
            " There are 3 directories and 0 images in 'data/pizza_steak_sushi/train'.\n",
            " There are 0 directories and 78 images in 'data/pizza_steak_sushi/train/pizza'.\n",
            " There are 0 directories and 75 images in 'data/pizza_steak_sushi/train/steak'.\n",
            " There are 0 directories and 72 images in 'data/pizza_steak_sushi/train/sushi'.\n",
            " There are 3 directories and 0 images in 'data/pizza_steak_sushi/test'.\n",
            " There are 0 directories and 25 images in 'data/pizza_steak_sushi/test/pizza'.\n",
            " There are 0 directories and 19 images in 'data/pizza_steak_sushi/test/steak'.\n",
            " There are 0 directories and 31 images in 'data/pizza_steak_sushi/test/sushi'.\n"
          ]
        }
      ]
    },
    {
      "cell_type": "code",
      "source": [
        "#Setup train and testing path\n",
        "train_dir = image_path / \"train\"\n",
        "test_dir = image_path / \"test\"\n",
        "\n",
        "train_dir, test_dir"
      ],
      "metadata": {
        "colab": {
          "base_uri": "https://localhost:8080/"
        },
        "id": "8eqbm4f_w-U9",
        "outputId": "b14c6d60-49b7-4ae1-9978-4828300f4b95"
      },
      "execution_count": 14,
      "outputs": [
        {
          "output_type": "execute_result",
          "data": {
            "text/plain": [
              "(PosixPath('data/pizza_steak_sushi/train'),\n",
              " PosixPath('data/pizza_steak_sushi/test'))"
            ]
          },
          "metadata": {},
          "execution_count": 14
        }
      ]
    },
    {
      "cell_type": "markdown",
      "source": [
        "# 2.1 visualizing and image\n"
      ],
      "metadata": {
        "id": "T372nae6y_6b"
      }
    },
    {
      "cell_type": "markdown",
      "source": [
        "1. get all of the image path\n",
        "2. pick a random image path using python's random.choice()\n",
        "3. Get the image class name using pathlib.path.parent.stem\n",
        "4. since we working with images, lets open the image with python PILLOW\n",
        "5. we then show the image and print metadata"
      ],
      "metadata": {
        "id": "7WofuGRKzbta"
      }
    },
    {
      "cell_type": "code",
      "source": [
        "image_path"
      ],
      "metadata": {
        "colab": {
          "base_uri": "https://localhost:8080/"
        },
        "id": "CbYbQBWnN6yI",
        "outputId": "5424fc83-97ff-47fb-fc8e-a74544a61ca4"
      },
      "execution_count": 15,
      "outputs": [
        {
          "output_type": "execute_result",
          "data": {
            "text/plain": [
              "PosixPath('data/pizza_steak_sushi')"
            ]
          },
          "metadata": {},
          "execution_count": 15
        }
      ]
    },
    {
      "cell_type": "code",
      "source": [
        "import random\n",
        "from PIL import Image\n",
        "\n",
        "#Set the seed\n",
        "random.seed(42)\n",
        "\n",
        "#1.get all the images path\n",
        "image_path_list = list(image_path.glob(\"*/*/*.jpg\"))\n",
        "\n",
        "\n",
        "image_path_list"
      ],
      "metadata": {
        "colab": {
          "base_uri": "https://localhost:8080/"
        },
        "id": "x_nud4yGMnI5",
        "outputId": "9b5443da-c94f-40da-9f29-7780508c9959"
      },
      "execution_count": 17,
      "outputs": [
        {
          "output_type": "execute_result",
          "data": {
            "text/plain": [
              "[PosixPath('data/pizza_steak_sushi/train/pizza/2190018.jpg'),\n",
              " PosixPath('data/pizza_steak_sushi/train/pizza/1089334.jpg'),\n",
              " PosixPath('data/pizza_steak_sushi/train/pizza/2291093.jpg'),\n",
              " PosixPath('data/pizza_steak_sushi/train/pizza/3281494.jpg'),\n",
              " PosixPath('data/pizza_steak_sushi/train/pizza/3699992.jpg'),\n",
              " PosixPath('data/pizza_steak_sushi/train/pizza/3530210.jpg'),\n",
              " PosixPath('data/pizza_steak_sushi/train/pizza/12301.jpg'),\n",
              " PosixPath('data/pizza_steak_sushi/train/pizza/2924941.jpg'),\n",
              " PosixPath('data/pizza_steak_sushi/train/pizza/667309.jpg'),\n",
              " PosixPath('data/pizza_steak_sushi/train/pizza/1285298.jpg'),\n",
              " PosixPath('data/pizza_steak_sushi/train/pizza/2687575.jpg'),\n",
              " PosixPath('data/pizza_steak_sushi/train/pizza/2800325.jpg'),\n",
              " PosixPath('data/pizza_steak_sushi/train/pizza/2821048.jpg'),\n",
              " PosixPath('data/pizza_steak_sushi/train/pizza/2330965.jpg'),\n",
              " PosixPath('data/pizza_steak_sushi/train/pizza/765799.jpg'),\n",
              " PosixPath('data/pizza_steak_sushi/train/pizza/1033251.jpg'),\n",
              " PosixPath('data/pizza_steak_sushi/train/pizza/300869.jpg'),\n",
              " PosixPath('data/pizza_steak_sushi/train/pizza/2026009.jpg'),\n",
              " PosixPath('data/pizza_steak_sushi/train/pizza/3589437.jpg'),\n",
              " PosixPath('data/pizza_steak_sushi/train/pizza/220190.jpg'),\n",
              " PosixPath('data/pizza_steak_sushi/train/pizza/393658.jpg'),\n",
              " PosixPath('data/pizza_steak_sushi/train/pizza/2154394.jpg'),\n",
              " PosixPath('data/pizza_steak_sushi/train/pizza/2121603.jpg'),\n",
              " PosixPath('data/pizza_steak_sushi/train/pizza/1660415.jpg'),\n",
              " PosixPath('data/pizza_steak_sushi/train/pizza/1105700.jpg'),\n",
              " PosixPath('data/pizza_steak_sushi/train/pizza/2428085.jpg'),\n",
              " PosixPath('data/pizza_steak_sushi/train/pizza/1654444.jpg'),\n",
              " PosixPath('data/pizza_steak_sushi/train/pizza/2451169.jpg'),\n",
              " PosixPath('data/pizza_steak_sushi/train/pizza/2785084.jpg'),\n",
              " PosixPath('data/pizza_steak_sushi/train/pizza/739735.jpg'),\n",
              " PosixPath('data/pizza_steak_sushi/train/pizza/2885050.jpg'),\n",
              " PosixPath('data/pizza_steak_sushi/train/pizza/5764.jpg'),\n",
              " PosixPath('data/pizza_steak_sushi/train/pizza/1968947.jpg'),\n",
              " PosixPath('data/pizza_steak_sushi/train/pizza/3196721.jpg'),\n",
              " PosixPath('data/pizza_steak_sushi/train/pizza/786995.jpg'),\n",
              " PosixPath('data/pizza_steak_sushi/train/pizza/741883.jpg'),\n",
              " PosixPath('data/pizza_steak_sushi/train/pizza/1524655.jpg'),\n",
              " PosixPath('data/pizza_steak_sushi/train/pizza/3269634.jpg'),\n",
              " PosixPath('data/pizza_steak_sushi/train/pizza/3821701.jpg'),\n",
              " PosixPath('data/pizza_steak_sushi/train/pizza/2576168.jpg'),\n",
              " PosixPath('data/pizza_steak_sushi/train/pizza/1947572.jpg'),\n",
              " PosixPath('data/pizza_steak_sushi/train/pizza/2493954.jpg'),\n",
              " PosixPath('data/pizza_steak_sushi/train/pizza/3505182.jpg'),\n",
              " PosixPath('data/pizza_steak_sushi/train/pizza/2811032.jpg'),\n",
              " PosixPath('data/pizza_steak_sushi/train/pizza/2382016.jpg'),\n",
              " PosixPath('data/pizza_steak_sushi/train/pizza/2760984.jpg'),\n",
              " PosixPath('data/pizza_steak_sushi/train/pizza/618348.jpg'),\n",
              " PosixPath('data/pizza_steak_sushi/train/pizza/3109486.jpg'),\n",
              " PosixPath('data/pizza_steak_sushi/train/pizza/3860002.jpg'),\n",
              " PosixPath('data/pizza_steak_sushi/train/pizza/3338774.jpg'),\n",
              " PosixPath('data/pizza_steak_sushi/train/pizza/2702825.jpg'),\n",
              " PosixPath('data/pizza_steak_sushi/train/pizza/2285942.jpg'),\n",
              " PosixPath('data/pizza_steak_sushi/train/pizza/29417.jpg'),\n",
              " PosixPath('data/pizza_steak_sushi/train/pizza/764429.jpg'),\n",
              " PosixPath('data/pizza_steak_sushi/train/pizza/2992084.jpg'),\n",
              " PosixPath('data/pizza_steak_sushi/train/pizza/2426686.jpg'),\n",
              " PosixPath('data/pizza_steak_sushi/train/pizza/928670.jpg'),\n",
              " PosixPath('data/pizza_steak_sushi/train/pizza/68684.jpg'),\n",
              " PosixPath('data/pizza_steak_sushi/train/pizza/1044789.jpg'),\n",
              " PosixPath('data/pizza_steak_sushi/train/pizza/1572608.jpg'),\n",
              " PosixPath('data/pizza_steak_sushi/train/pizza/244505.jpg'),\n",
              " PosixPath('data/pizza_steak_sushi/train/pizza/3018077.jpg'),\n",
              " PosixPath('data/pizza_steak_sushi/train/pizza/2885796.jpg'),\n",
              " PosixPath('data/pizza_steak_sushi/train/pizza/218711.jpg'),\n",
              " PosixPath('data/pizza_steak_sushi/train/pizza/320570.jpg'),\n",
              " PosixPath('data/pizza_steak_sushi/train/pizza/3441394.jpg'),\n",
              " PosixPath('data/pizza_steak_sushi/train/pizza/2228322.jpg'),\n",
              " PosixPath('data/pizza_steak_sushi/train/pizza/2569760.jpg'),\n",
              " PosixPath('data/pizza_steak_sushi/train/pizza/715169.jpg'),\n",
              " PosixPath('data/pizza_steak_sushi/train/pizza/702165.jpg'),\n",
              " PosixPath('data/pizza_steak_sushi/train/pizza/1633289.jpg'),\n",
              " PosixPath('data/pizza_steak_sushi/train/pizza/1899785.jpg'),\n",
              " PosixPath('data/pizza_steak_sushi/train/pizza/38349.jpg'),\n",
              " PosixPath('data/pizza_steak_sushi/train/pizza/1008844.jpg'),\n",
              " PosixPath('data/pizza_steak_sushi/train/pizza/138855.jpg'),\n",
              " PosixPath('data/pizza_steak_sushi/train/pizza/853441.jpg'),\n",
              " PosixPath('data/pizza_steak_sushi/train/pizza/1412034.jpg'),\n",
              " PosixPath('data/pizza_steak_sushi/train/pizza/1649276.jpg'),\n",
              " PosixPath('data/pizza_steak_sushi/train/steak/2979061.jpg'),\n",
              " PosixPath('data/pizza_steak_sushi/train/steak/2324994.jpg'),\n",
              " PosixPath('data/pizza_steak_sushi/train/steak/231296.jpg'),\n",
              " PosixPath('data/pizza_steak_sushi/train/steak/1736968.jpg'),\n",
              " PosixPath('data/pizza_steak_sushi/train/steak/482022.jpg'),\n",
              " PosixPath('data/pizza_steak_sushi/train/steak/937133.jpg'),\n",
              " PosixPath('data/pizza_steak_sushi/train/steak/2017387.jpg'),\n",
              " PosixPath('data/pizza_steak_sushi/train/steak/3245622.jpg'),\n",
              " PosixPath('data/pizza_steak_sushi/train/steak/2606444.jpg'),\n",
              " PosixPath('data/pizza_steak_sushi/train/steak/2254705.jpg'),\n",
              " PosixPath('data/pizza_steak_sushi/train/steak/1761285.jpg'),\n",
              " PosixPath('data/pizza_steak_sushi/train/steak/97656.jpg'),\n",
              " PosixPath('data/pizza_steak_sushi/train/steak/461689.jpg'),\n",
              " PosixPath('data/pizza_steak_sushi/train/steak/2561199.jpg'),\n",
              " PosixPath('data/pizza_steak_sushi/train/steak/1264154.jpg'),\n",
              " PosixPath('data/pizza_steak_sushi/train/steak/256592.jpg'),\n",
              " PosixPath('data/pizza_steak_sushi/train/steak/2603058.jpg'),\n",
              " PosixPath('data/pizza_steak_sushi/train/steak/1225762.jpg'),\n",
              " PosixPath('data/pizza_steak_sushi/train/steak/2129685.jpg'),\n",
              " PosixPath('data/pizza_steak_sushi/train/steak/1839481.jpg'),\n",
              " PosixPath('data/pizza_steak_sushi/train/steak/1615395.jpg'),\n",
              " PosixPath('data/pizza_steak_sushi/train/steak/2878151.jpg'),\n",
              " PosixPath('data/pizza_steak_sushi/train/steak/1787505.jpg'),\n",
              " PosixPath('data/pizza_steak_sushi/train/steak/1621763.jpg'),\n",
              " PosixPath('data/pizza_steak_sushi/train/steak/214320.jpg'),\n",
              " PosixPath('data/pizza_steak_sushi/train/steak/3857508.jpg'),\n",
              " PosixPath('data/pizza_steak_sushi/train/steak/1976160.jpg'),\n",
              " PosixPath('data/pizza_steak_sushi/train/steak/239025.jpg'),\n",
              " PosixPath('data/pizza_steak_sushi/train/steak/2614649.jpg'),\n",
              " PosixPath('data/pizza_steak_sushi/train/steak/3142045.jpg'),\n",
              " PosixPath('data/pizza_steak_sushi/train/steak/1413972.jpg'),\n",
              " PosixPath('data/pizza_steak_sushi/train/steak/167069.jpg'),\n",
              " PosixPath('data/pizza_steak_sushi/train/steak/560503.jpg'),\n",
              " PosixPath('data/pizza_steak_sushi/train/steak/75537.jpg'),\n",
              " PosixPath('data/pizza_steak_sushi/train/steak/1624747.jpg'),\n",
              " PosixPath('data/pizza_steak_sushi/train/steak/1257104.jpg'),\n",
              " PosixPath('data/pizza_steak_sushi/train/steak/355715.jpg'),\n",
              " PosixPath('data/pizza_steak_sushi/train/steak/2222018.jpg'),\n",
              " PosixPath('data/pizza_steak_sushi/train/steak/2614189.jpg'),\n",
              " PosixPath('data/pizza_steak_sushi/train/steak/3142674.jpg'),\n",
              " PosixPath('data/pizza_steak_sushi/train/steak/100135.jpg'),\n",
              " PosixPath('data/pizza_steak_sushi/train/steak/2880035.jpg'),\n",
              " PosixPath('data/pizza_steak_sushi/train/steak/3727491.jpg'),\n",
              " PosixPath('data/pizza_steak_sushi/train/steak/1937872.jpg'),\n",
              " PosixPath('data/pizza_steak_sushi/train/steak/443210.jpg'),\n",
              " PosixPath('data/pizza_steak_sushi/train/steak/1966300.jpg'),\n",
              " PosixPath('data/pizza_steak_sushi/train/steak/1647351.jpg'),\n",
              " PosixPath('data/pizza_steak_sushi/train/steak/1598345.jpg'),\n",
              " PosixPath('data/pizza_steak_sushi/train/steak/3518960.jpg'),\n",
              " PosixPath('data/pizza_steak_sushi/train/steak/3577618.jpg'),\n",
              " PosixPath('data/pizza_steak_sushi/train/steak/3727036.jpg'),\n",
              " PosixPath('data/pizza_steak_sushi/train/steak/735441.jpg'),\n",
              " PosixPath('data/pizza_steak_sushi/train/steak/914570.jpg'),\n",
              " PosixPath('data/pizza_steak_sushi/train/steak/2087958.jpg'),\n",
              " PosixPath('data/pizza_steak_sushi/train/steak/2707522.jpg'),\n",
              " PosixPath('data/pizza_steak_sushi/train/steak/2163079.jpg'),\n",
              " PosixPath('data/pizza_steak_sushi/train/steak/2013535.jpg'),\n",
              " PosixPath('data/pizza_steak_sushi/train/steak/339891.jpg'),\n",
              " PosixPath('data/pizza_steak_sushi/train/steak/165639.jpg'),\n",
              " PosixPath('data/pizza_steak_sushi/train/steak/2628106.jpg'),\n",
              " PosixPath('data/pizza_steak_sushi/train/steak/421476.jpg'),\n",
              " PosixPath('data/pizza_steak_sushi/train/steak/2287136.jpg'),\n",
              " PosixPath('data/pizza_steak_sushi/train/steak/2629750.jpg'),\n",
              " PosixPath('data/pizza_steak_sushi/train/steak/176508.jpg'),\n",
              " PosixPath('data/pizza_steak_sushi/train/steak/2825100.jpg'),\n",
              " PosixPath('data/pizza_steak_sushi/train/steak/1382427.jpg'),\n",
              " PosixPath('data/pizza_steak_sushi/train/steak/830007.jpg'),\n",
              " PosixPath('data/pizza_steak_sushi/train/steak/3074367.jpg'),\n",
              " PosixPath('data/pizza_steak_sushi/train/steak/225990.jpg'),\n",
              " PosixPath('data/pizza_steak_sushi/train/steak/2648423.jpg'),\n",
              " PosixPath('data/pizza_steak_sushi/train/steak/1849463.jpg'),\n",
              " PosixPath('data/pizza_steak_sushi/train/steak/922752.jpg'),\n",
              " PosixPath('data/pizza_steak_sushi/train/steak/1961025.jpg'),\n",
              " PosixPath('data/pizza_steak_sushi/train/steak/234626.jpg'),\n",
              " PosixPath('data/pizza_steak_sushi/train/steak/2881783.jpg'),\n",
              " PosixPath('data/pizza_steak_sushi/train/sushi/17704.jpg'),\n",
              " PosixPath('data/pizza_steak_sushi/train/sushi/1214108.jpg'),\n",
              " PosixPath('data/pizza_steak_sushi/train/sushi/2019344.jpg'),\n",
              " PosixPath('data/pizza_steak_sushi/train/sushi/3737197.jpg'),\n",
              " PosixPath('data/pizza_steak_sushi/train/sushi/148799.jpg'),\n",
              " PosixPath('data/pizza_steak_sushi/train/sushi/3107839.jpg'),\n",
              " PosixPath('data/pizza_steak_sushi/train/sushi/710379.jpg'),\n",
              " PosixPath('data/pizza_steak_sushi/train/sushi/497686.jpg'),\n",
              " PosixPath('data/pizza_steak_sushi/train/sushi/794647.jpg'),\n",
              " PosixPath('data/pizza_steak_sushi/train/sushi/1070104.jpg'),\n",
              " PosixPath('data/pizza_steak_sushi/train/sushi/821108.jpg'),\n",
              " PosixPath('data/pizza_steak_sushi/train/sushi/3004029.jpg'),\n",
              " PosixPath('data/pizza_steak_sushi/train/sushi/929471.jpg'),\n",
              " PosixPath('data/pizza_steak_sushi/train/sushi/14046.jpg'),\n",
              " PosixPath('data/pizza_steak_sushi/train/sushi/424994.jpg'),\n",
              " PosixPath('data/pizza_steak_sushi/train/sushi/2021685.jpg'),\n",
              " PosixPath('data/pizza_steak_sushi/train/sushi/840444.jpg'),\n",
              " PosixPath('data/pizza_steak_sushi/train/sushi/1138695.jpg'),\n",
              " PosixPath('data/pizza_steak_sushi/train/sushi/1575445.jpg'),\n",
              " PosixPath('data/pizza_steak_sushi/train/sushi/200025.jpg'),\n",
              " PosixPath('data/pizza_steak_sushi/train/sushi/1551817.jpg'),\n",
              " PosixPath('data/pizza_steak_sushi/train/sushi/3360232.jpg'),\n",
              " PosixPath('data/pizza_steak_sushi/train/sushi/93139.jpg'),\n",
              " PosixPath('data/pizza_steak_sushi/train/sushi/2720223.jpg'),\n",
              " PosixPath('data/pizza_steak_sushi/train/sushi/2004525.jpg'),\n",
              " PosixPath('data/pizza_steak_sushi/train/sushi/3251688.jpg'),\n",
              " PosixPath('data/pizza_steak_sushi/train/sushi/3081701.jpg'),\n",
              " PosixPath('data/pizza_steak_sushi/train/sushi/377047.jpg'),\n",
              " PosixPath('data/pizza_steak_sushi/train/sushi/1552504.jpg'),\n",
              " PosixPath('data/pizza_steak_sushi/train/sushi/2641778.jpg'),\n",
              " PosixPath('data/pizza_steak_sushi/train/sushi/1221830.jpg'),\n",
              " PosixPath('data/pizza_steak_sushi/train/sushi/3426958.jpg'),\n",
              " PosixPath('data/pizza_steak_sushi/train/sushi/390178.jpg'),\n",
              " PosixPath('data/pizza_steak_sushi/train/sushi/1571146.jpg'),\n",
              " PosixPath('data/pizza_steak_sushi/train/sushi/1129338.jpg'),\n",
              " PosixPath('data/pizza_steak_sushi/train/sushi/3579071.jpg'),\n",
              " PosixPath('data/pizza_steak_sushi/train/sushi/3360207.jpg'),\n",
              " PosixPath('data/pizza_steak_sushi/train/sushi/2017378.jpg'),\n",
              " PosixPath('data/pizza_steak_sushi/train/sushi/3353428.jpg'),\n",
              " PosixPath('data/pizza_steak_sushi/train/sushi/1615453.jpg'),\n",
              " PosixPath('data/pizza_steak_sushi/train/sushi/268990.jpg'),\n",
              " PosixPath('data/pizza_steak_sushi/train/sushi/773725.jpg'),\n",
              " PosixPath('data/pizza_steak_sushi/train/sushi/2120573.jpg'),\n",
              " PosixPath('data/pizza_steak_sushi/train/sushi/2323548.jpg'),\n",
              " PosixPath('data/pizza_steak_sushi/train/sushi/385154.jpg'),\n",
              " PosixPath('data/pizza_steak_sushi/train/sushi/1232045.jpg'),\n",
              " PosixPath('data/pizza_steak_sushi/train/sushi/843815.jpg'),\n",
              " PosixPath('data/pizza_steak_sushi/train/sushi/1280119.jpg'),\n",
              " PosixPath('data/pizza_steak_sushi/train/sushi/1957449.jpg'),\n",
              " PosixPath('data/pizza_steak_sushi/train/sushi/2674024.jpg'),\n",
              " PosixPath('data/pizza_steak_sushi/train/sushi/2267190.jpg'),\n",
              " PosixPath('data/pizza_steak_sushi/train/sushi/2813454.jpg'),\n",
              " PosixPath('data/pizza_steak_sushi/train/sushi/169392.jpg'),\n",
              " PosixPath('data/pizza_steak_sushi/train/sushi/700405.jpg'),\n",
              " PosixPath('data/pizza_steak_sushi/train/sushi/542188.jpg'),\n",
              " PosixPath('data/pizza_steak_sushi/train/sushi/2021381.jpg'),\n",
              " PosixPath('data/pizza_steak_sushi/train/sushi/2492146.jpg'),\n",
              " PosixPath('data/pizza_steak_sushi/train/sushi/2980779.jpg'),\n",
              " PosixPath('data/pizza_steak_sushi/train/sushi/2590819.jpg'),\n",
              " PosixPath('data/pizza_steak_sushi/train/sushi/2871052.jpg'),\n",
              " PosixPath('data/pizza_steak_sushi/train/sushi/2574453.jpg'),\n",
              " PosixPath('data/pizza_steak_sushi/train/sushi/1209865.jpg'),\n",
              " PosixPath('data/pizza_steak_sushi/train/sushi/748830.jpg'),\n",
              " PosixPath('data/pizza_steak_sushi/train/sushi/121940.jpg'),\n",
              " PosixPath('data/pizza_steak_sushi/train/sushi/2175561.jpg'),\n",
              " PosixPath('data/pizza_steak_sushi/train/sushi/170385.jpg'),\n",
              " PosixPath('data/pizza_steak_sushi/train/sushi/855721.jpg'),\n",
              " PosixPath('data/pizza_steak_sushi/train/sushi/307738.jpg'),\n",
              " PosixPath('data/pizza_steak_sushi/train/sushi/765684.jpg'),\n",
              " PosixPath('data/pizza_steak_sushi/train/sushi/2797464.jpg'),\n",
              " PosixPath('data/pizza_steak_sushi/train/sushi/686426.jpg'),\n",
              " PosixPath('data/pizza_steak_sushi/train/sushi/2873571.jpg'),\n",
              " PosixPath('data/pizza_steak_sushi/test/pizza/2871261.jpg'),\n",
              " PosixPath('data/pizza_steak_sushi/test/pizza/1152100.jpg'),\n",
              " PosixPath('data/pizza_steak_sushi/test/pizza/344397.jpg'),\n",
              " PosixPath('data/pizza_steak_sushi/test/pizza/2111981.jpg'),\n",
              " PosixPath('data/pizza_steak_sushi/test/pizza/3475871.jpg'),\n",
              " PosixPath('data/pizza_steak_sushi/test/pizza/971934.jpg'),\n",
              " PosixPath('data/pizza_steak_sushi/test/pizza/2019408.jpg'),\n",
              " PosixPath('data/pizza_steak_sushi/test/pizza/195160.jpg'),\n",
              " PosixPath('data/pizza_steak_sushi/test/pizza/714866.jpg'),\n",
              " PosixPath('data/pizza_steak_sushi/test/pizza/648055.jpg'),\n",
              " PosixPath('data/pizza_steak_sushi/test/pizza/416067.jpg'),\n",
              " PosixPath('data/pizza_steak_sushi/test/pizza/194643.jpg'),\n",
              " PosixPath('data/pizza_steak_sushi/test/pizza/3092704.jpg'),\n",
              " PosixPath('data/pizza_steak_sushi/test/pizza/1687143.jpg'),\n",
              " PosixPath('data/pizza_steak_sushi/test/pizza/2236338.jpg'),\n",
              " PosixPath('data/pizza_steak_sushi/test/pizza/2508636.jpg'),\n",
              " PosixPath('data/pizza_steak_sushi/test/pizza/309892.jpg'),\n",
              " PosixPath('data/pizza_steak_sushi/test/pizza/930553.jpg'),\n",
              " PosixPath('data/pizza_steak_sushi/test/pizza/398345.jpg'),\n",
              " PosixPath('data/pizza_steak_sushi/test/pizza/1925494.jpg'),\n",
              " PosixPath('data/pizza_steak_sushi/test/pizza/1503858.jpg'),\n",
              " PosixPath('data/pizza_steak_sushi/test/pizza/2124579.jpg'),\n",
              " PosixPath('data/pizza_steak_sushi/test/pizza/2218680.jpg'),\n",
              " PosixPath('data/pizza_steak_sushi/test/pizza/2003290.jpg'),\n",
              " PosixPath('data/pizza_steak_sushi/test/pizza/540882.jpg'),\n",
              " PosixPath('data/pizza_steak_sushi/test/steak/1627703.jpg'),\n",
              " PosixPath('data/pizza_steak_sushi/test/steak/1016217.jpg'),\n",
              " PosixPath('data/pizza_steak_sushi/test/steak/894825.jpg'),\n",
              " PosixPath('data/pizza_steak_sushi/test/steak/2144308.jpg'),\n",
              " PosixPath('data/pizza_steak_sushi/test/steak/3424937.jpg'),\n",
              " PosixPath('data/pizza_steak_sushi/test/steak/502076.jpg'),\n",
              " PosixPath('data/pizza_steak_sushi/test/steak/100274.jpg'),\n",
              " PosixPath('data/pizza_steak_sushi/test/steak/690177.jpg'),\n",
              " PosixPath('data/pizza_steak_sushi/test/steak/296375.jpg'),\n",
              " PosixPath('data/pizza_steak_sushi/test/steak/1882831.jpg'),\n",
              " PosixPath('data/pizza_steak_sushi/test/steak/1868005.jpg'),\n",
              " PosixPath('data/pizza_steak_sushi/test/steak/3873283.jpg'),\n",
              " PosixPath('data/pizza_steak_sushi/test/steak/966174.jpg'),\n",
              " PosixPath('data/pizza_steak_sushi/test/steak/1302563.jpg'),\n",
              " PosixPath('data/pizza_steak_sushi/test/steak/2117351.jpg'),\n",
              " PosixPath('data/pizza_steak_sushi/test/steak/1285886.jpg'),\n",
              " PosixPath('data/pizza_steak_sushi/test/steak/354513.jpg'),\n",
              " PosixPath('data/pizza_steak_sushi/test/steak/673127.jpg'),\n",
              " PosixPath('data/pizza_steak_sushi/test/steak/27415.jpg'),\n",
              " PosixPath('data/pizza_steak_sushi/test/sushi/684266.jpg'),\n",
              " PosixPath('data/pizza_steak_sushi/test/sushi/858157.jpg'),\n",
              " PosixPath('data/pizza_steak_sushi/test/sushi/2276986.jpg'),\n",
              " PosixPath('data/pizza_steak_sushi/test/sushi/988559.jpg'),\n",
              " PosixPath('data/pizza_steak_sushi/test/sushi/887831.jpg'),\n",
              " PosixPath('data/pizza_steak_sushi/test/sushi/1434806.jpg'),\n",
              " PosixPath('data/pizza_steak_sushi/test/sushi/2521706.jpg'),\n",
              " PosixPath('data/pizza_steak_sushi/test/sushi/719108.jpg'),\n",
              " PosixPath('data/pizza_steak_sushi/test/sushi/3806282.jpg'),\n",
              " PosixPath('data/pizza_steak_sushi/test/sushi/1600999.jpg'),\n",
              " PosixPath('data/pizza_steak_sushi/test/sushi/1245193.jpg'),\n",
              " PosixPath('data/pizza_steak_sushi/test/sushi/2715127.jpg'),\n",
              " PosixPath('data/pizza_steak_sushi/test/sushi/3196729.jpg'),\n",
              " PosixPath('data/pizza_steak_sushi/test/sushi/479711.jpg'),\n",
              " PosixPath('data/pizza_steak_sushi/test/sushi/46797.jpg'),\n",
              " PosixPath('data/pizza_steak_sushi/test/sushi/499605.jpg'),\n",
              " PosixPath('data/pizza_steak_sushi/test/sushi/1987407.jpg'),\n",
              " PosixPath('data/pizza_steak_sushi/test/sushi/1172255.jpg'),\n",
              " PosixPath('data/pizza_steak_sushi/test/sushi/207578.jpg'),\n",
              " PosixPath('data/pizza_steak_sushi/test/sushi/1742201.jpg'),\n",
              " PosixPath('data/pizza_steak_sushi/test/sushi/175783.jpg'),\n",
              " PosixPath('data/pizza_steak_sushi/test/sushi/343036.jpg'),\n",
              " PosixPath('data/pizza_steak_sushi/test/sushi/1230335.jpg'),\n",
              " PosixPath('data/pizza_steak_sushi/test/sushi/2190404.jpg'),\n",
              " PosixPath('data/pizza_steak_sushi/test/sushi/3837522.jpg'),\n",
              " PosixPath('data/pizza_steak_sushi/test/sushi/2540511.jpg'),\n",
              " PosixPath('data/pizza_steak_sushi/test/sushi/2394442.jpg'),\n",
              " PosixPath('data/pizza_steak_sushi/test/sushi/2741434.jpg'),\n",
              " PosixPath('data/pizza_steak_sushi/test/sushi/3177743.jpg'),\n",
              " PosixPath('data/pizza_steak_sushi/test/sushi/1680893.jpg'),\n",
              " PosixPath('data/pizza_steak_sushi/test/sushi/2385731.jpg')]"
            ]
          },
          "metadata": {},
          "execution_count": 17
        }
      ]
    },
    {
      "cell_type": "code",
      "source": [],
      "metadata": {
        "id": "x4YZpTx2Mnji"
      },
      "execution_count": null,
      "outputs": []
    },
    {
      "cell_type": "code",
      "source": [],
      "metadata": {
        "id": "A7zuhCegMngv"
      },
      "execution_count": null,
      "outputs": []
    },
    {
      "cell_type": "code",
      "source": [],
      "metadata": {
        "id": "t82a7It_MndB"
      },
      "execution_count": null,
      "outputs": []
    }
  ]
}