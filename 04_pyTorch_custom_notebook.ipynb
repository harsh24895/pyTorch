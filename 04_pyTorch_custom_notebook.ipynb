{
  "nbformat": 4,
  "nbformat_minor": 0,
  "metadata": {
    "colab": {
      "provenance": [],
      "authorship_tag": "ABX9TyMtWQ/DdcWSYRaqF/OAWLNE"
    },
    "kernelspec": {
      "name": "python3",
      "display_name": "Python 3"
    },
    "language_info": {
      "name": "python"
    }
  },
  "cells": [
    {
      "cell_type": "markdown",
      "source": [
        "#Creating the custom dataset and get my own data into pyTorch\n",
        "\n",
        "#0. Importing pytorch and setting up the device-agnostic code\n"
      ],
      "metadata": {
        "id": "VXifac8XmJ5E"
      }
    },
    {
      "cell_type": "code",
      "source": [
        "import torch\n",
        "from torch import nn\n",
        "\n",
        "#note: Pytorch 1.10+ is required for this step\n",
        "torch.__version__"
      ],
      "metadata": {
        "colab": {
          "base_uri": "https://localhost:8080/",
          "height": 36
        },
        "id": "RwPwKC5Mnb5i",
        "outputId": "884506be-ac35-4278-d099-bf3af24d0093"
      },
      "execution_count": 2,
      "outputs": [
        {
          "output_type": "execute_result",
          "data": {
            "text/plain": [
              "'2.5.1+cu124'"
            ],
            "application/vnd.google.colaboratory.intrinsic+json": {
              "type": "string"
            }
          },
          "metadata": {},
          "execution_count": 2
        }
      ]
    },
    {
      "cell_type": "code",
      "source": [
        "#setup device-agnostic code\n",
        "device = \"cuda\" if torch.cuda.is_available() else \"cpu\"\n",
        "device"
      ],
      "metadata": {
        "colab": {
          "base_uri": "https://localhost:8080/",
          "height": 36
        },
        "id": "bCU1PKUOoELF",
        "outputId": "54fb51cd-8756-4fb1-9e77-3015aacfccb4"
      },
      "execution_count": 4,
      "outputs": [
        {
          "output_type": "execute_result",
          "data": {
            "text/plain": [
              "'cpu'"
            ],
            "application/vnd.google.colaboratory.intrinsic+json": {
              "type": "string"
            }
          },
          "metadata": {},
          "execution_count": 4
        }
      ]
    },
    {
      "cell_type": "markdown",
      "source": [
        "# Get data for FOOD VISION MINI for our model"
      ],
      "metadata": {
        "id": "46ozLQgSoRYD"
      }
    },
    {
      "cell_type": "code",
      "source": [
        "# important: Food 101 dataset search in google it has multiple data for food item and been train and tested\n",
        "# we are working on small dataset comapre to Food101, we are using just 3-4classes of food an only 10% of images(75training, and 25 testing)\n",
        "\n",
        "import requests\n",
        "import zipfile\n",
        "from pathlib import Path\n",
        "\n"
      ],
      "metadata": {
        "id": "wpQAFHvhomGR"
      },
      "execution_count": null,
      "outputs": []
    },
    {
      "cell_type": "code",
      "source": [],
      "metadata": {
        "id": "zCTQ9F9PpVMy"
      },
      "execution_count": null,
      "outputs": []
    }
  ]
}