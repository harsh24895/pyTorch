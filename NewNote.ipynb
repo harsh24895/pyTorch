{
  "nbformat": 4,
  "nbformat_minor": 0,
  "metadata": {
    "colab": {
      "provenance": [],
      "authorship_tag": "ABX9TyOI9uT370NBcyopWHU75MUP",
      "include_colab_link": true
    },
    "kernelspec": {
      "name": "python3",
      "display_name": "Python 3"
    },
    "language_info": {
      "name": "python"
    }
  },
  "cells": [
    {
      "cell_type": "markdown",
      "metadata": {
        "id": "view-in-github",
        "colab_type": "text"
      },
      "source": [
        "<a href=\"https://colab.research.google.com/github/harsh24895/pyTorch/blob/main/NewNote.ipynb\" target=\"_parent\"><img src=\"https://colab.research.google.com/assets/colab-badge.svg\" alt=\"Open In Colab\"/></a>"
      ]
    },
    {
      "cell_type": "code",
      "execution_count": null,
      "metadata": {
        "colab": {
          "base_uri": "https://localhost:8080/"
        },
        "id": "5H9Qd1CbPmKW",
        "outputId": "23cd0fd7-640f-439b-ec99-1cddb7847faa"
      },
      "outputs": [
        {
          "output_type": "stream",
          "name": "stdout",
          "text": [
            "ejes\n"
          ]
        }
      ],
      "source": [
        "print(\"ejes\")\n",
        "\n"
      ]
    },
    {
      "cell_type": "code",
      "source": [
        "!nvidia-smi\n"
      ],
      "metadata": {
        "colab": {
          "base_uri": "https://localhost:8080/"
        },
        "id": "tMIldw1sQpcC",
        "outputId": "eb3e2636-9833-4ef1-a710-f24f2a1ef0b2"
      },
      "execution_count": null,
      "outputs": [
        {
          "output_type": "stream",
          "name": "stdout",
          "text": [
            "/bin/bash: line 1: nvidia-smi: command not found\n"
          ]
        }
      ]
    },
    {
      "cell_type": "markdown",
      "source": [
        "#introduction to tensors\n",
        "Creating Tensor"
      ],
      "metadata": {
        "id": "3Sxo96xa34Qj"
      }
    },
    {
      "cell_type": "code",
      "source": [
        "import torch\n",
        "import pandas as pd\n",
        "import numpy as py\n",
        "import matplotlib.pyplot as plt\n",
        "\n",
        "\n",
        "\n",
        "print(torch.__version__)\n",
        "\n",
        "#Scalar\n",
        "scalar = torch.tensor(7)\n",
        "scalar"
      ],
      "metadata": {
        "colab": {
          "base_uri": "https://localhost:8080/"
        },
        "id": "2nnqb7BhZYNk",
        "outputId": "836d5dc1-e64a-4260-8beb-ea720b270cf5"
      },
      "execution_count": null,
      "outputs": [
        {
          "output_type": "stream",
          "name": "stdout",
          "text": [
            "2.3.0+cu121\n"
          ]
        },
        {
          "output_type": "execute_result",
          "data": {
            "text/plain": [
              "tensor(7)"
            ]
          },
          "metadata": {},
          "execution_count": 6
        }
      ]
    },
    {
      "cell_type": "markdown",
      "source": [
        "Pytorch tensors are created using torch.Tensor()"
      ],
      "metadata": {
        "id": "irpADIJQImGE"
      }
    },
    {
      "cell_type": "code",
      "source": [
        "import torch\n",
        "#Scalar\n",
        "scalar = torch.tensor(7);\n",
        "scalar"
      ],
      "metadata": {
        "colab": {
          "base_uri": "https://localhost:8080/"
        },
        "id": "aUuSD-KbIxan",
        "outputId": "6d3892c7-2b4e-4b80-8dac-d4bcf4ca1fa0"
      },
      "execution_count": null,
      "outputs": [
        {
          "output_type": "execute_result",
          "data": {
            "text/plain": [
              "tensor(7)"
            ]
          },
          "metadata": {},
          "execution_count": 7
        }
      ]
    },
    {
      "cell_type": "code",
      "source": [
        "scalar.ndim"
      ],
      "metadata": {
        "colab": {
          "base_uri": "https://localhost:8080/"
        },
        "id": "llVOliiaJfv4",
        "outputId": "13481db3-0df5-424b-ecf7-707ee63fe591"
      },
      "execution_count": null,
      "outputs": [
        {
          "output_type": "execute_result",
          "data": {
            "text/plain": [
              "0"
            ]
          },
          "metadata": {},
          "execution_count": 8
        }
      ]
    },
    {
      "cell_type": "code",
      "source": [
        "#get the tensor as an int value\n",
        "scalar.item()"
      ],
      "metadata": {
        "colab": {
          "base_uri": "https://localhost:8080/"
        },
        "id": "qSgZT5KrKCP4",
        "outputId": "380d6c3d-c124-433b-9c7c-59c1bb7eb1cd"
      },
      "execution_count": null,
      "outputs": [
        {
          "output_type": "execute_result",
          "data": {
            "text/plain": [
              "7"
            ]
          },
          "metadata": {},
          "execution_count": 9
        }
      ]
    },
    {
      "cell_type": "code",
      "source": [
        "#vector\n",
        "import torch\n",
        "vector = torch.tensor([1, 1])\n",
        "vector"
      ],
      "metadata": {
        "colab": {
          "base_uri": "https://localhost:8080/"
        },
        "id": "oWInctW9KaK1",
        "outputId": "fa5af466-6c08-4caa-a433-4a1b02018b72"
      },
      "execution_count": null,
      "outputs": [
        {
          "output_type": "execute_result",
          "data": {
            "text/plain": [
              "tensor([1, 1])"
            ]
          },
          "metadata": {},
          "execution_count": 10
        }
      ]
    },
    {
      "cell_type": "code",
      "source": [
        "#vector dimension\n",
        "vector.ndim"
      ],
      "metadata": {
        "colab": {
          "base_uri": "https://localhost:8080/"
        },
        "id": "gf3fvqSD4R9d",
        "outputId": "596121d1-2262-47cf-e740-193ab0ed386e"
      },
      "execution_count": null,
      "outputs": [
        {
          "output_type": "execute_result",
          "data": {
            "text/plain": [
              "1"
            ]
          },
          "metadata": {},
          "execution_count": 11
        }
      ]
    },
    {
      "cell_type": "code",
      "source": [
        "#vector for shape\n",
        "vector.shape"
      ],
      "metadata": {
        "colab": {
          "base_uri": "https://localhost:8080/"
        },
        "id": "xYVGyijM6-L2",
        "outputId": "7eb70b7c-ce7b-4f2f-bee7-289a7ea262c9"
      },
      "execution_count": null,
      "outputs": [
        {
          "output_type": "execute_result",
          "data": {
            "text/plain": [
              "torch.Size([2])"
            ]
          },
          "metadata": {},
          "execution_count": 12
        }
      ]
    },
    {
      "cell_type": "code",
      "source": [
        "#MATRIX all the things are call with the torch.tensor even vector, scalar and Matrix\n",
        "\n",
        "MATRIX  = torch.tensor([[1,3],\n",
        "                        [9,4]])\n",
        "MATRIX"
      ],
      "metadata": {
        "colab": {
          "base_uri": "https://localhost:8080/"
        },
        "id": "dS-9Ty8F7ZvA",
        "outputId": "51b5fcc7-201b-477f-cbd2-503284dcfb0c"
      },
      "execution_count": null,
      "outputs": [
        {
          "output_type": "execute_result",
          "data": {
            "text/plain": [
              "tensor([[1, 3],\n",
              "        [9, 4]])"
            ]
          },
          "metadata": {},
          "execution_count": 13
        }
      ]
    },
    {
      "cell_type": "code",
      "source": [
        "#shape of matrix\n",
        "MATRIX.shape\n"
      ],
      "metadata": {
        "colab": {
          "base_uri": "https://localhost:8080/"
        },
        "id": "vjO5KlWX8LvW",
        "outputId": "c115afe4-93fe-4c59-8399-69355e3004e1"
      },
      "execution_count": null,
      "outputs": [
        {
          "output_type": "execute_result",
          "data": {
            "text/plain": [
              "torch.Size([2, 2])"
            ]
          },
          "metadata": {},
          "execution_count": 14
        }
      ]
    },
    {
      "cell_type": "code",
      "source": [
        "#matrix dimension\n",
        "MATRIX.ndim"
      ],
      "metadata": {
        "colab": {
          "base_uri": "https://localhost:8080/"
        },
        "id": "2uxDqxSG9fDx",
        "outputId": "f99aec3a-5361-494e-8e72-5874eab0d10b"
      },
      "execution_count": null,
      "outputs": [
        {
          "output_type": "execute_result",
          "data": {
            "text/plain": [
              "2"
            ]
          },
          "metadata": {},
          "execution_count": 15
        }
      ]
    },
    {
      "cell_type": "code",
      "source": [
        "MATRIX[0]"
      ],
      "metadata": {
        "colab": {
          "base_uri": "https://localhost:8080/"
        },
        "id": "jhKT44e--DPQ",
        "outputId": "7e755e5d-5fda-4d76-ee9f-87bc90c17641"
      },
      "execution_count": null,
      "outputs": [
        {
          "output_type": "execute_result",
          "data": {
            "text/plain": [
              "tensor([1, 3])"
            ]
          },
          "metadata": {},
          "execution_count": 16
        }
      ]
    },
    {
      "cell_type": "code",
      "source": [
        "# TENSOR\n",
        "\n",
        "TENSOR = torch.tensor([[[1,2,3],[2,3,4],[3,4,5]]])\n",
        "TENSOR\n"
      ],
      "metadata": {
        "id": "9_Edc8_U-Lqg",
        "colab": {
          "base_uri": "https://localhost:8080/"
        },
        "outputId": "c9ff4521-0119-4596-fa5d-8eba58e1d469"
      },
      "execution_count": null,
      "outputs": [
        {
          "output_type": "execute_result",
          "data": {
            "text/plain": [
              "tensor([[[1, 2, 3],\n",
              "         [2, 3, 4],\n",
              "         [3, 4, 5]]])"
            ]
          },
          "metadata": {},
          "execution_count": 17
        }
      ]
    },
    {
      "cell_type": "code",
      "source": [
        "TENSOR.shape\n",
        "#here the 1 is from the whole index []\n",
        "# second 3 is from the three index\n",
        "#third 3 is from the 3 input in the index[]"
      ],
      "metadata": {
        "colab": {
          "base_uri": "https://localhost:8080/"
        },
        "id": "3P1n8pQE_wjW",
        "outputId": "1e293502-ef19-4480-d662-cb1a5e7eac9c"
      },
      "execution_count": null,
      "outputs": [
        {
          "output_type": "execute_result",
          "data": {
            "text/plain": [
              "torch.Size([1, 3, 3])"
            ]
          },
          "metadata": {},
          "execution_count": 18
        }
      ]
    },
    {
      "cell_type": "code",
      "source": [
        "TENSOR.ndim\n"
      ],
      "metadata": {
        "colab": {
          "base_uri": "https://localhost:8080/"
        },
        "id": "H05bLAUz_1D3",
        "outputId": "9fee7d50-5ff1-49d4-d7bf-ea7fe7bdc810"
      },
      "execution_count": null,
      "outputs": [
        {
          "output_type": "execute_result",
          "data": {
            "text/plain": [
              "3"
            ]
          },
          "metadata": {},
          "execution_count": 19
        }
      ]
    },
    {
      "cell_type": "code",
      "source": [
        "TENSOR = torch.tensor([[[[1,2,3],[2,3,4],[3,4,5]]]])\n",
        "TENSOR.shape"
      ],
      "metadata": {
        "colab": {
          "base_uri": "https://localhost:8080/"
        },
        "id": "QTPZrLeXBhya",
        "outputId": "f16f303c-c2a5-4d16-8e08-bf5a9b7a3636"
      },
      "execution_count": null,
      "outputs": [
        {
          "output_type": "execute_result",
          "data": {
            "text/plain": [
              "torch.Size([1, 1, 3, 3])"
            ]
          },
          "metadata": {},
          "execution_count": 20
        }
      ]
    },
    {
      "cell_type": "markdown",
      "source": [
        "#Random Tensors"
      ],
      "metadata": {
        "id": "yyD3DS9LCBqC"
      }
    },
    {
      "cell_type": "code",
      "source": [
        "#Create a random tensor of size (2,4)\n",
        "random_Tensor = torch.rand(2,4)\n",
        "random_Tensor"
      ],
      "metadata": {
        "id": "UDtx7ySGC5Gy",
        "colab": {
          "base_uri": "https://localhost:8080/"
        },
        "outputId": "b5ed044e-ab2c-42cc-905f-d262e4612008"
      },
      "execution_count": null,
      "outputs": [
        {
          "output_type": "execute_result",
          "data": {
            "text/plain": [
              "tensor([[0.3969, 0.6133, 0.9391, 0.5247],\n",
              "        [0.8259, 0.7090, 0.6835, 0.3538]])"
            ]
          },
          "metadata": {},
          "execution_count": 21
        }
      ]
    },
    {
      "cell_type": "code",
      "source": [
        "random_Tensor.ndim"
      ],
      "metadata": {
        "colab": {
          "base_uri": "https://localhost:8080/"
        },
        "id": "c68h9OVAENlv",
        "outputId": "929d99ea-635e-4ac5-95c7-5fac24a0e07e"
      },
      "execution_count": null,
      "outputs": [
        {
          "output_type": "execute_result",
          "data": {
            "text/plain": [
              "2"
            ]
          },
          "metadata": {},
          "execution_count": 22
        }
      ]
    },
    {
      "cell_type": "code",
      "source": [
        "random_Tensor.shape"
      ],
      "metadata": {
        "colab": {
          "base_uri": "https://localhost:8080/"
        },
        "id": "djzGy4wBEKrh",
        "outputId": "e8159c14-ce72-43c5-ba33-85c7b53e8268"
      },
      "execution_count": null,
      "outputs": [
        {
          "output_type": "execute_result",
          "data": {
            "text/plain": [
              "torch.Size([2, 4])"
            ]
          },
          "metadata": {},
          "execution_count": 23
        }
      ]
    },
    {
      "cell_type": "markdown",
      "source": [
        "Create a random tensor with similar shape to an image  tensor"
      ],
      "metadata": {
        "id": "l1V5vNWGE7oC"
      }
    },
    {
      "cell_type": "code",
      "source": [
        "random_image_size = torch.rand(size=(244,244,5)) #height, width, colour channels(R,G,B)\n",
        "#also colour channels will switch first or last in the index().\n",
        "\n",
        "\n",
        "random_image_size.shape , random_image_size.ndim"
      ],
      "metadata": {
        "id": "SpM6FhfyFIL7",
        "colab": {
          "base_uri": "https://localhost:8080/"
        },
        "outputId": "ed4bf64c-c526-49c5-9532-47814e227ef9"
      },
      "execution_count": null,
      "outputs": [
        {
          "output_type": "execute_result",
          "data": {
            "text/plain": [
              "(torch.Size([244, 244, 5]), 3)"
            ]
          },
          "metadata": {},
          "execution_count": 24
        }
      ]
    },
    {
      "cell_type": "markdown",
      "source": [
        "#Zero and ones"
      ],
      "metadata": {
        "id": "bmsWeKh_HnLm"
      }
    },
    {
      "cell_type": "code",
      "source": [
        "import torch\n",
        "#Create a tensor of all zeros\n",
        "zero = torch.zeros(size=(2,4))\n",
        "zero"
      ],
      "metadata": {
        "colab": {
          "base_uri": "https://localhost:8080/"
        },
        "id": "NjnRCfoJHsPL",
        "outputId": "96470323-c031-435d-849e-85d00a19ddfd"
      },
      "execution_count": null,
      "outputs": [
        {
          "output_type": "execute_result",
          "data": {
            "text/plain": [
              "tensor([[0., 0., 0., 0.],\n",
              "        [0., 0., 0., 0.]])"
            ]
          },
          "metadata": {},
          "execution_count": 25
        }
      ]
    },
    {
      "cell_type": "code",
      "source": [
        "# tensor of ones\n",
        "ones = torch.ones(size=(2,4))\n",
        "ones"
      ],
      "metadata": {
        "colab": {
          "base_uri": "https://localhost:8080/"
        },
        "id": "OH-xJx-2IaOI",
        "outputId": "72670314-48a5-4efb-aed0-401c39cbecc4"
      },
      "execution_count": null,
      "outputs": [
        {
          "output_type": "execute_result",
          "data": {
            "text/plain": [
              "tensor([[1., 1., 1., 1.],\n",
              "        [1., 1., 1., 1.]])"
            ]
          },
          "metadata": {},
          "execution_count": 26
        }
      ]
    },
    {
      "cell_type": "code",
      "source": [
        "ones.dtype # this the default data type"
      ],
      "metadata": {
        "colab": {
          "base_uri": "https://localhost:8080/"
        },
        "id": "ACeHKl6fKvaq",
        "outputId": "301f93de-e707-4148-a299-77dbbb82a039"
      },
      "execution_count": null,
      "outputs": [
        {
          "output_type": "execute_result",
          "data": {
            "text/plain": [
              "torch.float32"
            ]
          },
          "metadata": {},
          "execution_count": 27
        }
      ]
    },
    {
      "cell_type": "code",
      "source": [
        "zero.dtype #expizitlity define the dataType"
      ],
      "metadata": {
        "colab": {
          "base_uri": "https://localhost:8080/"
        },
        "id": "grsir-mbPebm",
        "outputId": "c9640013-2e03-4ada-c542-f80e14020537"
      },
      "execution_count": null,
      "outputs": [
        {
          "output_type": "execute_result",
          "data": {
            "text/plain": [
              "torch.float32"
            ]
          },
          "metadata": {},
          "execution_count": 28
        }
      ]
    },
    {
      "cell_type": "markdown",
      "source": [
        "#Creating a range of Tensors and Tensors-like"
      ],
      "metadata": {
        "id": "7PYURUhOPeLE"
      }
    },
    {
      "cell_type": "code",
      "source": [
        "import torch\n",
        "#use torch.range()\n",
        "tt = torch.arange(0,5) #use the arange() instead of range() as the range is been in consistant in the python\n",
        "tt"
      ],
      "metadata": {
        "colab": {
          "base_uri": "https://localhost:8080/"
        },
        "id": "c5c7JF6yJ7LO",
        "outputId": "dd446478-cfd8-4419-ec69-7f414a586648"
      },
      "execution_count": null,
      "outputs": [
        {
          "output_type": "execute_result",
          "data": {
            "text/plain": [
              "tensor([0, 1, 2, 3, 4])"
            ]
          },
          "metadata": {},
          "execution_count": 29
        }
      ]
    },
    {
      "cell_type": "code",
      "source": [
        "#Creating tensors zeros like\n",
        "tenZeros = torch.zeros_like(tt)\n",
        "tenZeros"
      ],
      "metadata": {
        "colab": {
          "base_uri": "https://localhost:8080/"
        },
        "id": "Z9wYDr_q7Hd0",
        "outputId": "49908528-ab0b-4c77-85e4-9a11c4a0039d"
      },
      "execution_count": null,
      "outputs": [
        {
          "output_type": "execute_result",
          "data": {
            "text/plain": [
              "tensor([0, 0, 0, 0, 0])"
            ]
          },
          "metadata": {},
          "execution_count": 30
        }
      ]
    },
    {
      "cell_type": "markdown",
      "source": [
        "#TensoDataType\n",
        "\n",
        "Note: We gonna get more error in datatypes with pytorch and deep learning\n",
        "1. tensor not right datatype\n",
        "2. tensor not right shape\n",
        "3. tensor not right device"
      ],
      "metadata": {
        "id": "pPHJl3Df8QQ2"
      }
    },
    {
      "cell_type": "code",
      "source": [
        "#Float Datatype\n",
        "float_t = torch.tensor([5.0,6.0,8.0],\n",
        "                       dtype=None,# datatype that you can set in the tensor(ex: float32 or float16 or float64)\n",
        "                       device=None, #  the default CPU and we can change to GPU(cuda)\n",
        "                       requires_grad=False)# whether or not to track gradients with this tensors operations\n",
        "\n",
        "float_t\n"
      ],
      "metadata": {
        "colab": {
          "base_uri": "https://localhost:8080/"
        },
        "id": "Xkg4zSft9afI",
        "outputId": "1639bdd9-5083-4fd1-ba76-64f1090386bb"
      },
      "execution_count": null,
      "outputs": [
        {
          "output_type": "execute_result",
          "data": {
            "text/plain": [
              "tensor([5., 6., 8.])"
            ]
          },
          "metadata": {},
          "execution_count": 31
        }
      ]
    },
    {
      "cell_type": "code",
      "source": [
        "float_t.dtype"
      ],
      "metadata": {
        "colab": {
          "base_uri": "https://localhost:8080/"
        },
        "id": "Qn1ekoud-HAJ",
        "outputId": "31d96cc1-8a96-449f-d29d-745b88fa83e2"
      },
      "execution_count": null,
      "outputs": [
        {
          "output_type": "execute_result",
          "data": {
            "text/plain": [
              "torch.float32"
            ]
          },
          "metadata": {},
          "execution_count": 32
        }
      ]
    },
    {
      "cell_type": "code",
      "source": [
        "#Convert the datatype to float32 default to float 16\n",
        "float_16 = float_t.type(torch.float16)\n",
        "float_16"
      ],
      "metadata": {
        "colab": {
          "base_uri": "https://localhost:8080/"
        },
        "id": "ewkAbx0JA1Qo",
        "outputId": "be299a7c-6c8c-4a53-d007-ea794d5bccae"
      },
      "execution_count": null,
      "outputs": [
        {
          "output_type": "execute_result",
          "data": {
            "text/plain": [
              "tensor([5., 6., 8.], dtype=torch.float16)"
            ]
          },
          "metadata": {},
          "execution_count": 33
        }
      ]
    },
    {
      "cell_type": "code",
      "source": [
        "#even we can multiply the tensor\n",
        "float_16*float_t"
      ],
      "metadata": {
        "colab": {
          "base_uri": "https://localhost:8080/"
        },
        "id": "-R0jy0YKA3UJ",
        "outputId": "c1c413e3-ca14-4c3d-e820-1b2c5f91c6db"
      },
      "execution_count": null,
      "outputs": [
        {
          "output_type": "execute_result",
          "data": {
            "text/plain": [
              "tensor([25., 36., 64.])"
            ]
          },
          "metadata": {},
          "execution_count": 34
        }
      ]
    },
    {
      "cell_type": "code",
      "source": [
        "#int32 to float multiply\n",
        "int_32_tensor = torch.tensor([6,9,8], dtype=torch.int32)\n",
        "int_32_tensor"
      ],
      "metadata": {
        "colab": {
          "base_uri": "https://localhost:8080/"
        },
        "id": "8Qs77LuCG8tE",
        "outputId": "e65a7e2a-d903-4867-c280-8e31b44cdb0a"
      },
      "execution_count": null,
      "outputs": [
        {
          "output_type": "execute_result",
          "data": {
            "text/plain": [
              "tensor([6, 9, 8], dtype=torch.int32)"
            ]
          },
          "metadata": {},
          "execution_count": 35
        }
      ]
    },
    {
      "cell_type": "code",
      "source": [
        "int_32_tensor*float_16"
      ],
      "metadata": {
        "colab": {
          "base_uri": "https://localhost:8080/"
        },
        "id": "d2IxsSMJHWar",
        "outputId": "858b2c49-684e-4098-ef3b-9f0efd5844a1"
      },
      "execution_count": null,
      "outputs": [
        {
          "output_type": "execute_result",
          "data": {
            "text/plain": [
              "tensor([30., 54., 64.], dtype=torch.float16)"
            ]
          },
          "metadata": {},
          "execution_count": 36
        }
      ]
    },
    {
      "cell_type": "markdown",
      "source": [
        "#Getting information from the tensor\n",
        "1.tensor not right datatype #to get the tensor information use tensor.dtype\n",
        "2.tensor not right shape #to get the tensor information use tensor.shape\n",
        "3.tensor not right device #to get the tensor information use tensor.device"
      ],
      "metadata": {
        "id": "ilCdMhQJKcng"
      }
    },
    {
      "cell_type": "code",
      "source": [
        "some = torch.rand(3,5)\n",
        "some"
      ],
      "metadata": {
        "colab": {
          "base_uri": "https://localhost:8080/"
        },
        "id": "FlJAhqlILNss",
        "outputId": "f5856872-cd4a-4cec-9970-61bfcc7ebcec"
      },
      "execution_count": null,
      "outputs": [
        {
          "output_type": "execute_result",
          "data": {
            "text/plain": [
              "tensor([[0.0545, 0.9172, 0.5782, 0.1034, 0.9940],\n",
              "        [0.3027, 0.9690, 0.8397, 0.3867, 0.0462],\n",
              "        [0.4561, 0.8887, 0.8916, 0.8038, 0.4516]])"
            ]
          },
          "metadata": {},
          "execution_count": 37
        }
      ]
    },
    {
      "cell_type": "code",
      "source": [
        "some.size(),  #this need to be in () if we need to call the size() menthod\n",
        "some.shape #this doesn't required the () as this has a attribute"
      ],
      "metadata": {
        "colab": {
          "base_uri": "https://localhost:8080/"
        },
        "id": "eaq2ZZhVMhCA",
        "outputId": "181242cb-a8f1-4074-a6b8-41e15b9bde74"
      },
      "execution_count": null,
      "outputs": [
        {
          "output_type": "execute_result",
          "data": {
            "text/plain": [
              "torch.Size([3, 5])"
            ]
          },
          "metadata": {},
          "execution_count": 38
        }
      ]
    },
    {
      "cell_type": "code",
      "source": [
        "#find the details of some tensor\n",
        "print(some)\n",
        "print(f\"Datatype of tensor:{some.dtype}\")\n",
        "print(f\"Shape of the tensor:{some.shape}\")\n",
        "print(f\"Device od the tensor:{some.device}\")"
      ],
      "metadata": {
        "colab": {
          "base_uri": "https://localhost:8080/"
        },
        "id": "IqM9JCt7NUUf",
        "outputId": "593b316a-9e4c-49c2-af54-ed768b3968c8"
      },
      "execution_count": null,
      "outputs": [
        {
          "output_type": "stream",
          "name": "stdout",
          "text": [
            "tensor([[0.0545, 0.9172, 0.5782, 0.1034, 0.9940],\n",
            "        [0.3027, 0.9690, 0.8397, 0.3867, 0.0462],\n",
            "        [0.4561, 0.8887, 0.8916, 0.8038, 0.4516]])\n",
            "Datatype of tensor:torch.float32\n",
            "Shape of the tensor:torch.Size([3, 5])\n",
            "Device od the tensor:cpu\n"
          ]
        }
      ]
    },
    {
      "cell_type": "code",
      "source": [
        "#manipulating the tensors add, sub, multi, division\n",
        "import torch\n",
        "tensor = torch.tensor([4,5,6])\n",
        "tensor +5"
      ],
      "metadata": {
        "colab": {
          "base_uri": "https://localhost:8080/"
        },
        "id": "76SDppmcNyEp",
        "outputId": "d0df4b59-d7aa-4068-e71f-fbdafcbedb20"
      },
      "execution_count": null,
      "outputs": [
        {
          "output_type": "execute_result",
          "data": {
            "text/plain": [
              "tensor([ 9, 10, 11])"
            ]
          },
          "metadata": {},
          "execution_count": 40
        }
      ]
    },
    {
      "cell_type": "code",
      "source": [
        "tensor -10"
      ],
      "metadata": {
        "colab": {
          "base_uri": "https://localhost:8080/"
        },
        "id": "9ON9u3g8RWE-",
        "outputId": "76fe9941-07a1-4a5b-f88d-f91becc11083"
      },
      "execution_count": null,
      "outputs": [
        {
          "output_type": "execute_result",
          "data": {
            "text/plain": [
              "tensor([-6, -5, -4])"
            ]
          },
          "metadata": {},
          "execution_count": 41
        }
      ]
    },
    {
      "cell_type": "code",
      "source": [
        "#Using the inbuilt function in the tensor\n",
        "\n",
        "torch.add(tensor,10)"
      ],
      "metadata": {
        "colab": {
          "base_uri": "https://localhost:8080/"
        },
        "id": "w59fS1cfRYzj",
        "outputId": "71e33307-e7f9-484f-b354-937a1a74854f"
      },
      "execution_count": null,
      "outputs": [
        {
          "output_type": "execute_result",
          "data": {
            "text/plain": [
              "tensor([14, 15, 16])"
            ]
          },
          "metadata": {},
          "execution_count": 42
        }
      ]
    },
    {
      "cell_type": "code",
      "source": [
        "#sub using inbuilt function\n",
        "torch.sub(tensor,5)"
      ],
      "metadata": {
        "colab": {
          "base_uri": "https://localhost:8080/"
        },
        "id": "SswtkLv5VUvy",
        "outputId": "931434d7-c4f1-4fa0-90e6-4f13c5fe1dc8"
      },
      "execution_count": null,
      "outputs": [
        {
          "output_type": "execute_result",
          "data": {
            "text/plain": [
              "tensor([-1,  0,  1])"
            ]
          },
          "metadata": {},
          "execution_count": 43
        }
      ]
    },
    {
      "cell_type": "markdown",
      "source": [
        "#Matrix multiplication\n",
        "\n",
        "Note: we can use the @ or matmul for the multiplication\n",
        "\n",
        "#Make sure the two rules 1. inner dimmensions should match\n",
        "ex: 1. (4,2) @(4,2) this will throw the error as the inner dimension is not mathcing\n",
        "2. (4,2)@(2,4) this will work as their inner dimension matches\n",
        "3.(2,4)@(4,2)this will work too\n",
        "\n",
        "#2. the matrix has  the shape of outer dimension\n",
        "1.(2,3)@(3,2) it will work and shows (2,2)\n",
        "\n",
        "2.(4,5)@(5,4) - >(4,4)"
      ],
      "metadata": {
        "id": "Vm7F0s2pZdos"
      }
    },
    {
      "cell_type": "code",
      "source": [
        "#Element wise multiplication\n",
        "print(tensor, \"*\" ,tensor)\n",
        "print(f\"Equals:{tensor * tensor}\")"
      ],
      "metadata": {
        "colab": {
          "base_uri": "https://localhost:8080/"
        },
        "id": "-BlbV9rHZhSp",
        "outputId": "353585bf-3759-4afb-cc72-abe26ce8ebb7"
      },
      "execution_count": null,
      "outputs": [
        {
          "output_type": "stream",
          "name": "stdout",
          "text": [
            "tensor([4, 5, 6]) * tensor([4, 5, 6])\n",
            "Equals:tensor([16, 25, 36])\n"
          ]
        }
      ]
    },
    {
      "cell_type": "code",
      "source": [
        "#matix multiplication\n",
        "\n",
        "torch.matmul(tensor, tensor) #vector version instead of for loop"
      ],
      "metadata": {
        "colab": {
          "base_uri": "https://localhost:8080/"
        },
        "id": "_CWnkTVxauig",
        "outputId": "5fa68dc0-1707-42e8-e324-ff633758893c"
      },
      "execution_count": null,
      "outputs": [
        {
          "output_type": "execute_result",
          "data": {
            "text/plain": [
              "tensor(77)"
            ]
          },
          "metadata": {},
          "execution_count": 45
        }
      ]
    },
    {
      "cell_type": "code",
      "source": [
        "#how it works with multiplication\n",
        "4*4+5*5+6*6\n"
      ],
      "metadata": {
        "colab": {
          "base_uri": "https://localhost:8080/"
        },
        "id": "5PBwQJjObaOC",
        "outputId": "ffc6d369-3961-44cc-fddc-9f3ed38961ba"
      },
      "execution_count": null,
      "outputs": [
        {
          "output_type": "execute_result",
          "data": {
            "text/plain": [
              "77"
            ]
          },
          "metadata": {},
          "execution_count": 46
        }
      ]
    },
    {
      "cell_type": "code",
      "source": [
        "%%time\n",
        "value = 0\n",
        "for i in range(len(tensor)):\n",
        "  value += tensor[i]*tensor[i]\n",
        "print(value)\n",
        "\n"
      ],
      "metadata": {
        "id": "dle2ZciIbosL",
        "colab": {
          "base_uri": "https://localhost:8080/"
        },
        "outputId": "d493c100-e073-47b9-bcb4-7cdd02b85466"
      },
      "execution_count": null,
      "outputs": [
        {
          "output_type": "stream",
          "name": "stdout",
          "text": [
            "tensor(77)\n",
            "CPU times: user 2.18 ms, sys: 0 ns, total: 2.18 ms\n",
            "Wall time: 2.75 ms\n"
          ]
        }
      ]
    },
    {
      "cell_type": "code",
      "source": [
        "#another way to multipy the tensor\n",
        "tensor @ tensor\n"
      ],
      "metadata": {
        "id": "tXC7rkseWrzN",
        "colab": {
          "base_uri": "https://localhost:8080/"
        },
        "outputId": "6ebf0063-827a-4348-8237-e316223bd7b4"
      },
      "execution_count": null,
      "outputs": [
        {
          "output_type": "execute_result",
          "data": {
            "text/plain": [
              "tensor(77)"
            ]
          },
          "metadata": {},
          "execution_count": 48
        }
      ]
    },
    {
      "cell_type": "code",
      "source": [
        "#shapes of matrix multiplication\n",
        "\n",
        "tensor1 = torch.tensor([[2,5],\n",
        "                       [3,6],\n",
        "                       [5,4]])\n",
        "\n",
        "tensor2 = torch.tensor([[5,4],\n",
        "                       [7,2],\n",
        "                       [8,9]])\n",
        "\n",
        "torch.mm(tensor1,tensor2)#.mm stands for matmul mm is a short form of matmul\n",
        "\n"
      ],
      "metadata": {
        "colab": {
          "base_uri": "https://localhost:8080/",
          "height": 193
        },
        "id": "DP0tQjQKXMaU",
        "outputId": "f47d3809-744a-46ec-c5c8-0b5871685a79"
      },
      "execution_count": null,
      "outputs": [
        {
          "output_type": "error",
          "ename": "RuntimeError",
          "evalue": "mat1 and mat2 shapes cannot be multiplied (3x2 and 3x2)",
          "traceback": [
            "\u001b[0;31m---------------------------------------------------------------------------\u001b[0m",
            "\u001b[0;31mRuntimeError\u001b[0m                              Traceback (most recent call last)",
            "\u001b[0;32m<ipython-input-50-d6d5c0d73274>\u001b[0m in \u001b[0;36m<cell line: 11>\u001b[0;34m()\u001b[0m\n\u001b[1;32m      9\u001b[0m                        [8,9]])\n\u001b[1;32m     10\u001b[0m \u001b[0;34m\u001b[0m\u001b[0m\n\u001b[0;32m---> 11\u001b[0;31m \u001b[0mtorch\u001b[0m\u001b[0;34m.\u001b[0m\u001b[0mmm\u001b[0m\u001b[0;34m(\u001b[0m\u001b[0mtensor1\u001b[0m\u001b[0;34m,\u001b[0m\u001b[0mtensor2\u001b[0m\u001b[0;34m)\u001b[0m\u001b[0;31m#.mm stands for matmul mm is a short form of matmul\u001b[0m\u001b[0;34m\u001b[0m\u001b[0;34m\u001b[0m\u001b[0m\n\u001b[0m\u001b[1;32m     12\u001b[0m \u001b[0;34m\u001b[0m\u001b[0m\n",
            "\u001b[0;31mRuntimeError\u001b[0m: mat1 and mat2 shapes cannot be multiplied (3x2 and 3x2)"
          ]
        }
      ]
    },
    {
      "cell_type": "markdown",
      "source": [
        "# to fix the tensor we will use transpose using the T.\n"
      ],
      "metadata": {
        "id": "vTgRzBmThkWG"
      }
    },
    {
      "cell_type": "code",
      "source": [
        "tensor2.shape"
      ],
      "metadata": {
        "colab": {
          "base_uri": "https://localhost:8080/"
        },
        "id": "ng2oG9w3j39u",
        "outputId": "522de32d-d97f-4250-b616-876f6bc3a1a4"
      },
      "execution_count": null,
      "outputs": [
        {
          "output_type": "execute_result",
          "data": {
            "text/plain": [
              "torch.Size([3, 2])"
            ]
          },
          "metadata": {},
          "execution_count": 51
        }
      ]
    },
    {
      "cell_type": "code",
      "source": [
        "#here is the ex using the T\n",
        "tensor2.T, tensor2.T.shape"
      ],
      "metadata": {
        "colab": {
          "base_uri": "https://localhost:8080/"
        },
        "id": "QdzGc-_jjjA4",
        "outputId": "14b3fa12-839d-4fc9-927c-ab7b4ccf1799"
      },
      "execution_count": null,
      "outputs": [
        {
          "output_type": "execute_result",
          "data": {
            "text/plain": [
              "(tensor([[5, 7, 8],\n",
              "         [4, 2, 9]]),\n",
              " torch.Size([2, 3]))"
            ]
          },
          "metadata": {},
          "execution_count": 52
        }
      ]
    },
    {
      "cell_type": "code",
      "source": [
        "# now using tensor2.T we will multipy the matrix\n",
        "# as we transform tensor2.T not the tensor1. This is eligible with the rule 1\n",
        "# rule 1 is inner dimension should match so for our examples\n",
        "# the tensor 1 has dimension of (3,2) and we transpose the tensor2 to (2,3) so this will work without any issue\n",
        "\n",
        "torch.mm(tensor1,tensor2.T)#.mm stands for matmul mm is a short form of matmul\n",
        "\n"
      ],
      "metadata": {
        "colab": {
          "base_uri": "https://localhost:8080/"
        },
        "id": "i3KPn61ckdkn",
        "outputId": "5487d0f7-95e7-43a1-af84-2b2f9dc2e9b1"
      },
      "execution_count": null,
      "outputs": [
        {
          "output_type": "execute_result",
          "data": {
            "text/plain": [
              "tensor([[30, 24, 61],\n",
              "        [39, 33, 78],\n",
              "        [41, 43, 76]])"
            ]
          },
          "metadata": {},
          "execution_count": 53
        }
      ]
    },
    {
      "cell_type": "code",
      "source": [
        "# here we are doing the outer dimmension example\n",
        "# we will set the (4,3)matrix to match with rule 2\n",
        "tensor3 = torch.tensor([[5,6,5],\n",
        "                       [4,5,7],\n",
        "                       [0,0,8],\n",
        "                        [2,5,8]])\n",
        "tensor4 = torch.tensor([[3,6,2],\n",
        "                       [1,1,1],\n",
        "                       [3,8,4],\n",
        "                        [4,7,8]])"
      ],
      "metadata": {
        "id": "EEMP1vDNmsrI"
      },
      "execution_count": null,
      "outputs": []
    },
    {
      "cell_type": "code",
      "source": [
        "torch.mm(tensor3, tensor4)"
      ],
      "metadata": {
        "colab": {
          "base_uri": "https://localhost:8080/",
          "height": 141
        },
        "id": "8qkGzxSSnCD6",
        "outputId": "18e41507-d736-4cb1-80fd-dd38f6f24b05"
      },
      "execution_count": null,
      "outputs": [
        {
          "output_type": "error",
          "ename": "RuntimeError",
          "evalue": "mat1 and mat2 shapes cannot be multiplied (4x3 and 4x3)",
          "traceback": [
            "\u001b[0;31m---------------------------------------------------------------------------\u001b[0m",
            "\u001b[0;31mRuntimeError\u001b[0m                              Traceback (most recent call last)",
            "\u001b[0;32m<ipython-input-56-6c37b38e43f5>\u001b[0m in \u001b[0;36m<cell line: 1>\u001b[0;34m()\u001b[0m\n\u001b[0;32m----> 1\u001b[0;31m \u001b[0mtorch\u001b[0m\u001b[0;34m.\u001b[0m\u001b[0mmm\u001b[0m\u001b[0;34m(\u001b[0m\u001b[0mtensor3\u001b[0m\u001b[0;34m,\u001b[0m \u001b[0mtensor4\u001b[0m\u001b[0;34m)\u001b[0m\u001b[0;34m\u001b[0m\u001b[0;34m\u001b[0m\u001b[0m\n\u001b[0m",
            "\u001b[0;31mRuntimeError\u001b[0m: mat1 and mat2 shapes cannot be multiplied (4x3 and 4x3)"
          ]
        }
      ]
    },
    {
      "cell_type": "code",
      "source": [
        "tensor3.T"
      ],
      "metadata": {
        "colab": {
          "base_uri": "https://localhost:8080/"
        },
        "id": "NK9IDkR3n-92",
        "outputId": "bd787095-4dbe-4282-d557-ed1faca27b22"
      },
      "execution_count": null,
      "outputs": [
        {
          "output_type": "execute_result",
          "data": {
            "text/plain": [
              "tensor([[5, 4, 0, 2],\n",
              "        [6, 5, 0, 5],\n",
              "        [5, 7, 8, 8]])"
            ]
          },
          "metadata": {},
          "execution_count": 57
        }
      ]
    },
    {
      "cell_type": "code",
      "source": [
        "tensor3.T.shape"
      ],
      "metadata": {
        "colab": {
          "base_uri": "https://localhost:8080/"
        },
        "id": "JavQQZ1MormM",
        "outputId": "5f7d50c2-e7b6-4fc6-9592-ef561a695085"
      },
      "execution_count": null,
      "outputs": [
        {
          "output_type": "execute_result",
          "data": {
            "text/plain": [
              "torch.Size([3, 4])"
            ]
          },
          "metadata": {},
          "execution_count": 58
        }
      ]
    },
    {
      "cell_type": "code",
      "source": [
        "torch.mm(tensor3.T, tensor4)"
      ],
      "metadata": {
        "colab": {
          "base_uri": "https://localhost:8080/"
        },
        "id": "b4uaBPr6ow0Z",
        "outputId": "13498181-7b96-4df9-b4c5-56aed554b7c4"
      },
      "execution_count": null,
      "outputs": [
        {
          "output_type": "execute_result",
          "data": {
            "text/plain": [
              "tensor([[ 27,  48,  30],\n",
              "        [ 43,  76,  57],\n",
              "        [ 78, 157, 113]])"
            ]
          },
          "metadata": {},
          "execution_count": 59
        }
      ]
    },
    {
      "cell_type": "markdown",
      "source": [
        "#Finding the min,max,sum(tesnor aggregation)"
      ],
      "metadata": {
        "id": "cYY2sM6hqIId"
      }
    },
    {
      "cell_type": "code",
      "source": [
        "#Create a tensor\n",
        "a = torch.arange(1,50,10)\n",
        "a"
      ],
      "metadata": {
        "colab": {
          "base_uri": "https://localhost:8080/"
        },
        "id": "h6tg6deeq3oY",
        "outputId": "cd67215e-5578-434f-f46b-409d18724e8a"
      },
      "execution_count": null,
      "outputs": [
        {
          "output_type": "execute_result",
          "data": {
            "text/plain": [
              "tensor([ 1, 11, 21, 31, 41])"
            ]
          },
          "metadata": {},
          "execution_count": 60
        }
      ]
    },
    {
      "cell_type": "code",
      "source": [
        "torch.min(a), a.min()#another way to call"
      ],
      "metadata": {
        "colab": {
          "base_uri": "https://localhost:8080/"
        },
        "id": "CTKD8Owqw9wi",
        "outputId": "5fe73e47-a83e-417a-cc07-8be22184393e"
      },
      "execution_count": null,
      "outputs": [
        {
          "output_type": "execute_result",
          "data": {
            "text/plain": [
              "(tensor(1), tensor(1))"
            ]
          },
          "metadata": {},
          "execution_count": 61
        }
      ]
    },
    {
      "cell_type": "code",
      "source": [
        "torch.max(a), a.max()"
      ],
      "metadata": {
        "colab": {
          "base_uri": "https://localhost:8080/"
        },
        "id": "aAkkYN95xUft",
        "outputId": "12b845c6-2b4b-47a1-c18f-5cd5c5874fc0"
      },
      "execution_count": null,
      "outputs": [
        {
          "output_type": "execute_result",
          "data": {
            "text/plain": [
              "(tensor(41), tensor(41))"
            ]
          },
          "metadata": {},
          "execution_count": 62
        }
      ]
    },
    {
      "cell_type": "code",
      "source": [
        "torch.mean(a)"
      ],
      "metadata": {
        "colab": {
          "base_uri": "https://localhost:8080/",
          "height": 141
        },
        "id": "QY7xJc-uxXHk",
        "outputId": "494d058d-ef17-48d8-e5b8-d67470cdb30c"
      },
      "execution_count": null,
      "outputs": [
        {
          "output_type": "error",
          "ename": "RuntimeError",
          "evalue": "mean(): could not infer output dtype. Input dtype must be either a floating point or complex dtype. Got: Long",
          "traceback": [
            "\u001b[0;31m---------------------------------------------------------------------------\u001b[0m",
            "\u001b[0;31mRuntimeError\u001b[0m                              Traceback (most recent call last)",
            "\u001b[0;32m<ipython-input-64-8ac49bb4b0bb>\u001b[0m in \u001b[0;36m<cell line: 1>\u001b[0;34m()\u001b[0m\n\u001b[0;32m----> 1\u001b[0;31m \u001b[0mtorch\u001b[0m\u001b[0;34m.\u001b[0m\u001b[0mmean\u001b[0m\u001b[0;34m(\u001b[0m\u001b[0ma\u001b[0m\u001b[0;34m)\u001b[0m\u001b[0;34m\u001b[0m\u001b[0;34m\u001b[0m\u001b[0m\n\u001b[0m",
            "\u001b[0;31mRuntimeError\u001b[0m: mean(): could not infer output dtype. Input dtype must be either a floating point or complex dtype. Got: Long"
          ]
        }
      ]
    },
    {
      "cell_type": "code",
      "source": [
        "#change the datatype as it throws error\n",
        "torch.mean(a.type(torch.float32))"
      ],
      "metadata": {
        "colab": {
          "base_uri": "https://localhost:8080/"
        },
        "id": "AxjmJ_V-yAQO",
        "outputId": "fd4a0310-28ad-4783-aad7-e7ed3e8f98ed"
      },
      "execution_count": null,
      "outputs": [
        {
          "output_type": "execute_result",
          "data": {
            "text/plain": [
              "tensor(21.)"
            ]
          },
          "metadata": {},
          "execution_count": 65
        }
      ]
    },
    {
      "cell_type": "code",
      "source": [
        "#Find the sum\n",
        "torch.sum(a),a.sum()"
      ],
      "metadata": {
        "colab": {
          "base_uri": "https://localhost:8080/"
        },
        "id": "ddWhVx9Wz_Qv",
        "outputId": "d3a4a12b-2cf3-4a36-cb20-5bedb2e777be"
      },
      "execution_count": null,
      "outputs": [
        {
          "output_type": "execute_result",
          "data": {
            "text/plain": [
              "(tensor(105), tensor(105))"
            ]
          },
          "metadata": {},
          "execution_count": 66
        }
      ]
    },
    {
      "cell_type": "markdown",
      "source": [
        "#finding the positional of Min and Max"
      ],
      "metadata": {
        "id": "XFh01-qn0jAX"
      }
    },
    {
      "cell_type": "code",
      "source": [
        "a\n"
      ],
      "metadata": {
        "colab": {
          "base_uri": "https://localhost:8080/"
        },
        "id": "Zxyvjtbo0qVf",
        "outputId": "eeab1e3b-2898-4fd9-d409-ad8de15bb490"
      },
      "execution_count": null,
      "outputs": [
        {
          "output_type": "execute_result",
          "data": {
            "text/plain": [
              "tensor([ 1, 11, 21, 31, 41])"
            ]
          },
          "metadata": {},
          "execution_count": 67
        }
      ]
    },
    {
      "cell_type": "code",
      "source": [
        "a.argmin()#here armin means argrument min value"
      ],
      "metadata": {
        "colab": {
          "base_uri": "https://localhost:8080/"
        },
        "id": "f6qT2JuT00xn",
        "outputId": "a0cc1817-3815-44c9-c6c0-a296d0a038b5"
      },
      "execution_count": null,
      "outputs": [
        {
          "output_type": "execute_result",
          "data": {
            "text/plain": [
              "tensor(0)"
            ]
          },
          "metadata": {},
          "execution_count": 68
        }
      ]
    },
    {
      "cell_type": "code",
      "source": [
        "a.argmax()"
      ],
      "metadata": {
        "colab": {
          "base_uri": "https://localhost:8080/"
        },
        "id": "3EqW1YYF03nA",
        "outputId": "073280e6-d80d-4115-ac39-42f7414e5350"
      },
      "execution_count": null,
      "outputs": [
        {
          "output_type": "execute_result",
          "data": {
            "text/plain": [
              "tensor(4)"
            ]
          },
          "metadata": {},
          "execution_count": 69
        }
      ]
    },
    {
      "cell_type": "code",
      "source": [
        "a[0]"
      ],
      "metadata": {
        "colab": {
          "base_uri": "https://localhost:8080/"
        },
        "id": "-5pUV_Y71Pl3",
        "outputId": "e1f0214f-d09c-4519-dc44-3be7b59dab52"
      },
      "execution_count": null,
      "outputs": [
        {
          "output_type": "execute_result",
          "data": {
            "text/plain": [
              "tensor(1)"
            ]
          },
          "metadata": {},
          "execution_count": 70
        }
      ]
    },
    {
      "cell_type": "markdown",
      "source": [
        "#Reshapping, stacking, squeezing and unsquezing tensors\n",
        "Reshaping - rehsapes the input to define shape\n",
        "\n",
        "staching - combine multiple tensors on tip each other(vstak) and (hstack) for side by side\n",
        "\n",
        "view- to view of an uninput tensorsof certain shape but to keep the same memory as original tensor\n",
        "\n",
        "squeeze: to remove the 1 dimensions from tensor\n",
        "unsqueeze: to add the 1 dimension in the tensor\n",
        "permute: return a view of the input with dimension permuted(swapped)in a certain way\n"
      ],
      "metadata": {
        "id": "mLUdudMv1bAF"
      }
    },
    {
      "cell_type": "code",
      "source": [
        "import torch\n",
        "b = torch.arange(1, 9)\n",
        "b, b.shape"
      ],
      "metadata": {
        "colab": {
          "base_uri": "https://localhost:8080/"
        },
        "id": "DuLmKQMg2beZ",
        "outputId": "36133929-411d-49c0-f463-9e28ffce03b8"
      },
      "execution_count": null,
      "outputs": [
        {
          "output_type": "execute_result",
          "data": {
            "text/plain": [
              "(tensor([1, 2, 3, 4, 5, 6, 7, 8]), torch.Size([8]))"
            ]
          },
          "metadata": {},
          "execution_count": 71
        }
      ]
    },
    {
      "cell_type": "code",
      "source": [
        "# Reshapping\n",
        "\n",
        "b_resh = b.reshape(1,8) # this will add the tensor to inside the single dimension which is \"1\" and you will see [] inside it\n",
        "b_resh, b_resh.shape\n"
      ],
      "metadata": {
        "colab": {
          "base_uri": "https://localhost:8080/"
        },
        "id": "QTTMNlt24l6e",
        "outputId": "701a6fec-fd2c-4e70-ed26-08ca4fda49a7"
      },
      "execution_count": null,
      "outputs": [
        {
          "output_type": "execute_result",
          "data": {
            "text/plain": [
              "(tensor([[1, 2, 3, 4, 5, 6, 7, 8]]), torch.Size([1, 8]))"
            ]
          },
          "metadata": {},
          "execution_count": 72
        }
      ]
    },
    {
      "cell_type": "code",
      "source": [
        "# Reshapping\n",
        "\n",
        "b_resh = b.reshape(4,2) # this will add the tensor to inside the single dimension which is \"2\" and you will see [] inside it\n",
        "b_resh, b_resh.shape"
      ],
      "metadata": {
        "colab": {
          "base_uri": "https://localhost:8080/"
        },
        "id": "lTHhxZS-7imO",
        "outputId": "072d8e55-f8e2-4947-986f-43037b97121c"
      },
      "execution_count": null,
      "outputs": [
        {
          "output_type": "execute_result",
          "data": {
            "text/plain": [
              "(tensor([[1, 2],\n",
              "         [3, 4],\n",
              "         [5, 6],\n",
              "         [7, 8]]),\n",
              " torch.Size([4, 2]))"
            ]
          },
          "metadata": {},
          "execution_count": 73
        }
      ]
    },
    {
      "cell_type": "code",
      "source": [
        "#change the view\n",
        "y = b.view(1,8) #here we are calling the b tensor which will share the original value with y\n",
        "y,\n"
      ],
      "metadata": {
        "colab": {
          "base_uri": "https://localhost:8080/"
        },
        "id": "-KVjBDKh-TRQ",
        "outputId": "810b54f5-8814-42b1-e8ae-99dc9cd36cfb"
      },
      "execution_count": null,
      "outputs": [
        {
          "output_type": "execute_result",
          "data": {
            "text/plain": [
              "(tensor([[1, 2, 3, 4, 5, 6, 7, 8]]),)"
            ]
          },
          "metadata": {},
          "execution_count": 74
        }
      ]
    },
    {
      "cell_type": "code",
      "source": [
        "#changing the y will change the b vlaues in the tensor as it share the original values\n",
        "y[:,0]=8\n",
        "y, b"
      ],
      "metadata": {
        "colab": {
          "base_uri": "https://localhost:8080/"
        },
        "id": "ZIh9Yg3bqYhN",
        "outputId": "eb20b7ef-4a94-4881-abcd-c85dfa496a82"
      },
      "execution_count": null,
      "outputs": [
        {
          "output_type": "execute_result",
          "data": {
            "text/plain": [
              "(tensor([[8, 2, 3, 4, 5, 6, 7, 8]]), tensor([8, 2, 3, 4, 5, 6, 7, 8]))"
            ]
          },
          "metadata": {},
          "execution_count": 75
        }
      ]
    },
    {
      "cell_type": "code",
      "source": [
        "# Start stacking tensor on top of each other\n",
        "x_stack = torch.stack([y,y,y,y],dim=0) #try chaning the dimension to dim=0/dim=1\n",
        "x_stack"
      ],
      "metadata": {
        "colab": {
          "base_uri": "https://localhost:8080/"
        },
        "id": "JE6Hgfda02SA",
        "outputId": "1a683349-374d-4f02-cb92-f7fd571784ef"
      },
      "execution_count": null,
      "outputs": [
        {
          "output_type": "execute_result",
          "data": {
            "text/plain": [
              "tensor([[[8, 2, 3, 4, 5, 6, 7, 8]],\n",
              "\n",
              "        [[8, 2, 3, 4, 5, 6, 7, 8]],\n",
              "\n",
              "        [[8, 2, 3, 4, 5, 6, 7, 8]],\n",
              "\n",
              "        [[8, 2, 3, 4, 5, 6, 7, 8]]])"
            ]
          },
          "metadata": {},
          "execution_count": 76
        }
      ]
    },
    {
      "cell_type": "code",
      "source": [
        "\n",
        "abc = torch.arange(1,12)\n",
        "abc"
      ],
      "metadata": {
        "colab": {
          "base_uri": "https://localhost:8080/"
        },
        "id": "z2X7pmeZ2BRI",
        "outputId": "c397f8cc-0405-44d6-a933-9927b148907d"
      },
      "execution_count": null,
      "outputs": [
        {
          "output_type": "execute_result",
          "data": {
            "text/plain": [
              "tensor([ 1,  2,  3,  4,  5,  6,  7,  8,  9, 10, 11])"
            ]
          },
          "metadata": {},
          "execution_count": 77
        }
      ]
    },
    {
      "cell_type": "code",
      "source": [
        "abc.shape"
      ],
      "metadata": {
        "colab": {
          "base_uri": "https://localhost:8080/"
        },
        "id": "GySUeSVs3o1u",
        "outputId": "83e4c014-0e7d-49a5-8242-a010124c7874"
      },
      "execution_count": null,
      "outputs": [
        {
          "output_type": "execute_result",
          "data": {
            "text/plain": [
              "torch.Size([11])"
            ]
          },
          "metadata": {},
          "execution_count": 78
        }
      ]
    },
    {
      "cell_type": "code",
      "source": [
        "#torch reshape again\n",
        "ab = abc.reshape(1,11)\n",
        "ab, ab.shape"
      ],
      "metadata": {
        "colab": {
          "base_uri": "https://localhost:8080/"
        },
        "id": "qP193c2J4stH",
        "outputId": "8eb9aa5c-1f4a-4a4d-ec5b-c020606181e3"
      },
      "execution_count": null,
      "outputs": [
        {
          "output_type": "execute_result",
          "data": {
            "text/plain": [
              "(tensor([[ 1,  2,  3,  4,  5,  6,  7,  8,  9, 10, 11]]), torch.Size([1, 11]))"
            ]
          },
          "metadata": {},
          "execution_count": 79
        }
      ]
    },
    {
      "cell_type": "code",
      "source": [
        "#torch squeeze\n",
        "\n",
        "ab.squeeze() # this will squeeze and remove the one dimension"
      ],
      "metadata": {
        "id": "RrHsCqiG471N",
        "colab": {
          "base_uri": "https://localhost:8080/"
        },
        "outputId": "db792a4e-3203-473f-f240-5b78d3e49476"
      },
      "execution_count": null,
      "outputs": [
        {
          "output_type": "execute_result",
          "data": {
            "text/plain": [
              "tensor([ 1,  2,  3,  4,  5,  6,  7,  8,  9, 10, 11])"
            ]
          },
          "metadata": {},
          "execution_count": 80
        }
      ]
    },
    {
      "cell_type": "code",
      "source": [
        "ab.squeeze().shape #here we can see the single dimesnion is removed"
      ],
      "metadata": {
        "colab": {
          "base_uri": "https://localhost:8080/"
        },
        "id": "W7FGNTC9Qod-",
        "outputId": "97fd4b42-8004-4fd7-bfa4-21dc1fa96928"
      },
      "execution_count": null,
      "outputs": [
        {
          "output_type": "execute_result",
          "data": {
            "text/plain": [
              "torch.Size([11])"
            ]
          },
          "metadata": {},
          "execution_count": 81
        }
      ]
    },
    {
      "cell_type": "code",
      "source": [
        "# torch unsqueeze()- it will add the single dimension to the tensor\n",
        "print(f\"previous target:{ab}\")\n",
        "print(f\"previous shape:{ab.shape}\")\n",
        "\n",
        "\n",
        "#add an extra dimension with unsqueeze\n",
        "unsqueezed = ab.unsqueeze(dim=0)\n",
        "print(f\"new tensor:{unsqueezed}\")\n",
        "print(f\"new shape:{unsqueezed.shape}\")\n"
      ],
      "metadata": {
        "colab": {
          "base_uri": "https://localhost:8080/"
        },
        "id": "VVqYPli0SOyB",
        "outputId": "b0cd99c3-66fa-4772-b7df-24d2c23bac78"
      },
      "execution_count": null,
      "outputs": [
        {
          "output_type": "stream",
          "name": "stdout",
          "text": [
            "previous target:tensor([[ 1,  2,  3,  4,  5,  6,  7,  8,  9, 10, 11]])\n",
            "previous shape:torch.Size([1, 11])\n",
            "new tensor:tensor([[[ 1,  2,  3,  4,  5,  6,  7,  8,  9, 10, 11]]])\n",
            "new shape:torch.Size([1, 1, 11])\n"
          ]
        }
      ]
    },
    {
      "cell_type": "code",
      "source": [
        "#torch.permute - rearranges the dimension of a traget tensor\n",
        "x_original = torch.rand(size=(245,245,3))#[height,width, color channels]\n",
        "x_original\n",
        "\n",
        " #permute the original tensor to rearrange the axis (or dim)\n",
        "x_permuted = x_original.permute(2,0,1) #this will shift the axis 2->1, 0->1, 1->2\n",
        "\n",
        "print(f\"previous shape:{x_original.shape}\")\n",
        "print(f\"New shape:{x_permuted.shape}\")"
      ],
      "metadata": {
        "id": "kVWxWtXGXySP",
        "colab": {
          "base_uri": "https://localhost:8080/"
        },
        "outputId": "7252da7f-04d7-48cb-f27a-519b9b0d7072"
      },
      "execution_count": null,
      "outputs": [
        {
          "output_type": "stream",
          "name": "stdout",
          "text": [
            "previous shape:torch.Size([245, 245, 3])\n",
            "New shape:torch.Size([3, 245, 245])\n"
          ]
        }
      ]
    },
    {
      "cell_type": "code",
      "source": [
        "x_original[0,0,:] #this will print the original values from 0,0 that what explains to me"
      ],
      "metadata": {
        "id": "TXZLCinjlQxV",
        "colab": {
          "base_uri": "https://localhost:8080/"
        },
        "outputId": "fe29da66-a81a-4aab-867a-904b1ae6de6f"
      },
      "execution_count": null,
      "outputs": [
        {
          "output_type": "execute_result",
          "data": {
            "text/plain": [
              "tensor([0.3894, 0.1784, 0.8952])"
            ]
          },
          "metadata": {},
          "execution_count": 90
        }
      ]
    },
    {
      "cell_type": "code",
      "source": [
        "x_original[1,0,0]= 1234 #here we are chaning the values inside the original value index and it will change for permuted value too\n",
        "x_original[1,0,0],x_permuted[1,0,0]"
      ],
      "metadata": {
        "id": "8pqFTJ2pqnai"
      },
      "execution_count": null,
      "outputs": []
    },
    {
      "cell_type": "markdown",
      "source": [
        "#Indexing(selecting data from the tensors)\n",
        "Indexing with Pytorch is similar to indexing with Numpy\n"
      ],
      "metadata": {
        "id": "acPsvFoys-rs"
      }
    },
    {
      "cell_type": "code",
      "source": [
        "# create a tensor\n",
        "import torch\n",
        "x = torch.arange(1,17).reshape(1,4,4)#for reshape it looks like 1*4*4=16 and for arage it will 1 to 8 values\n",
        "x, x.shape"
      ],
      "metadata": {
        "id": "XeoQW_kZtTko"
      },
      "execution_count": null,
      "outputs": []
    },
    {
      "cell_type": "code",
      "source": [
        "#let the index on new tensor\n",
        "x[0]"
      ],
      "metadata": {
        "colab": {
          "base_uri": "https://localhost:8080/"
        },
        "id": "FiN64FPEzUQX",
        "outputId": "a95cf9da-58c2-4193-cb84-a485e5bc91b7"
      },
      "execution_count": 105,
      "outputs": [
        {
          "output_type": "execute_result",
          "data": {
            "text/plain": [
              "tensor([[ 1,  2,  3,  4],\n",
              "        [ 5,  6,  7,  8],\n",
              "        [ 9, 10, 11, 12],\n",
              "        [13, 14, 15, 16]])"
            ]
          },
          "metadata": {},
          "execution_count": 105
        }
      ]
    },
    {
      "cell_type": "code",
      "source": [
        "# now will index on middle bracket\n",
        "x[0][0]"
      ],
      "metadata": {
        "colab": {
          "base_uri": "https://localhost:8080/"
        },
        "id": "3ZxzTctxzd-G",
        "outputId": "22fbc3a2-db82-43da-e2b4-50d039f524b6"
      },
      "execution_count": 107,
      "outputs": [
        {
          "output_type": "execute_result",
          "data": {
            "text/plain": [
              "tensor([1, 2, 3, 4])"
            ]
          },
          "metadata": {},
          "execution_count": 107
        }
      ]
    },
    {
      "cell_type": "code",
      "source": [
        "# let's index with last bracket which is last dimension\n",
        "\n",
        "x[0][3]"
      ],
      "metadata": {
        "colab": {
          "base_uri": "https://localhost:8080/"
        },
        "id": "M5GoVjHL1r5_",
        "outputId": "eedcf7e7-23c2-4a28-d2c5-62684c427dc9"
      },
      "execution_count": 108,
      "outputs": [
        {
          "output_type": "execute_result",
          "data": {
            "text/plain": [
              "tensor([13, 14, 15, 16])"
            ]
          },
          "metadata": {},
          "execution_count": 108
        }
      ]
    },
    {
      "cell_type": "code",
      "source": [
        "# let's index with first dimenion\n",
        "\n",
        "x[0][0][0]"
      ],
      "metadata": {
        "colab": {
          "base_uri": "https://localhost:8080/"
        },
        "id": "AQhAxuDT257F",
        "outputId": "e7d029a1-023e-4074-b405-4e3a62eaeba4"
      },
      "execution_count": 109,
      "outputs": [
        {
          "output_type": "execute_result",
          "data": {
            "text/plain": [
              "tensor(1)"
            ]
          },
          "metadata": {},
          "execution_count": 109
        }
      ]
    },
    {
      "cell_type": "code",
      "source": [
        "# you can also use\":\" to select all the target dimension\n",
        "x[:,0]"
      ],
      "metadata": {
        "colab": {
          "base_uri": "https://localhost:8080/"
        },
        "id": "BnAiXAgM3lXr",
        "outputId": "8c9a3534-9e55-4ac7-8bae-d4abdc4732f8"
      },
      "execution_count": 111,
      "outputs": [
        {
          "output_type": "execute_result",
          "data": {
            "text/plain": [
              "tensor([[1, 2, 3, 4]])"
            ]
          },
          "metadata": {},
          "execution_count": 111
        }
      ]
    },
    {
      "cell_type": "code",
      "source": [
        "#get all the values of 0th and 1st dimenstion but only index 1 of 2nd dimension\n",
        "x[:,:,2]"
      ],
      "metadata": {
        "colab": {
          "base_uri": "https://localhost:8080/"
        },
        "id": "I0rJ3nyw4n7B",
        "outputId": "9d54ed96-c26a-407a-eaa0-fa94a8c27140"
      },
      "execution_count": 112,
      "outputs": [
        {
          "output_type": "execute_result",
          "data": {
            "text/plain": [
              "tensor([[ 3,  7, 11, 15]])"
            ]
          },
          "metadata": {},
          "execution_count": 112
        }
      ]
    },
    {
      "cell_type": "code",
      "source": [
        "#get all values of the 0 dimension means whole tensor but only the 1 index which is\"[]\" valu itself  of 1st and 2nd Dimension\n",
        "x[:,1,1]"
      ],
      "metadata": {
        "colab": {
          "base_uri": "https://localhost:8080/"
        },
        "id": "PTMW601t5RVP",
        "outputId": "ddee9456-e95e-42c2-cd40-c2af8263aaa6"
      },
      "execution_count": 113,
      "outputs": [
        {
          "output_type": "execute_result",
          "data": {
            "text/plain": [
              "tensor([6])"
            ]
          },
          "metadata": {},
          "execution_count": 113
        }
      ]
    },
    {
      "cell_type": "code",
      "source": [
        "x[0,0,:]"
      ],
      "metadata": {
        "colab": {
          "base_uri": "https://localhost:8080/"
        },
        "id": "VS9Z7eAc6Bl1",
        "outputId": "4c09dc16-dd24-438e-b73c-d4d8f1190637"
      },
      "execution_count": 115,
      "outputs": [
        {
          "output_type": "execute_result",
          "data": {
            "text/plain": [
              "tensor([1, 2, 3, 4])"
            ]
          },
          "metadata": {},
          "execution_count": 115
        }
      ]
    },
    {
      "cell_type": "code",
      "source": [
        "#practic\n",
        "x[:,3,3]"
      ],
      "metadata": {
        "colab": {
          "base_uri": "https://localhost:8080/"
        },
        "id": "Y4sYkLwL6nee",
        "outputId": "3774ca6d-17e5-47f4-d952-efe4ca5ddf38"
      },
      "execution_count": 117,
      "outputs": [
        {
          "output_type": "execute_result",
          "data": {
            "text/plain": [
              "tensor([16])"
            ]
          },
          "metadata": {},
          "execution_count": 117
        }
      ]
    },
    {
      "cell_type": "code",
      "source": [
        "x[0,2,:] # this will print whole line"
      ],
      "metadata": {
        "colab": {
          "base_uri": "https://localhost:8080/"
        },
        "id": "9WXOqO-U7Jsl",
        "outputId": "91fc3546-8a3b-4f1d-b09c-4905b5b5f7a1"
      },
      "execution_count": 121,
      "outputs": [
        {
          "output_type": "execute_result",
          "data": {
            "text/plain": [
              "tensor([ 9, 10, 11, 12])"
            ]
          },
          "metadata": {},
          "execution_count": 121
        }
      ]
    }
  ]
}