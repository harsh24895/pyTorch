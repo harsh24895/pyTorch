{
  "nbformat": 4,
  "nbformat_minor": 0,
  "metadata": {
    "colab": {
      "provenance": [],
      "authorship_tag": "ABX9TyN91p5SQ12MuxovopYv8AtD",
      "include_colab_link": true
    },
    "kernelspec": {
      "name": "python3",
      "display_name": "Python 3"
    },
    "language_info": {
      "name": "python"
    }
  },
  "cells": [
    {
      "cell_type": "markdown",
      "metadata": {
        "id": "view-in-github",
        "colab_type": "text"
      },
      "source": [
        "<a href=\"https://colab.research.google.com/github/harsh24895/pyTorch/blob/main/NewNote.ipynb\" target=\"_parent\"><img src=\"https://colab.research.google.com/assets/colab-badge.svg\" alt=\"Open In Colab\"/></a>"
      ]
    },
    {
      "cell_type": "code",
      "execution_count": null,
      "metadata": {
        "colab": {
          "base_uri": "https://localhost:8080/"
        },
        "id": "5H9Qd1CbPmKW",
        "outputId": "ac947e7f-ef3f-460f-ec06-31725e8e6e0d"
      },
      "outputs": [
        {
          "output_type": "stream",
          "name": "stdout",
          "text": [
            "ejes\n"
          ]
        }
      ],
      "source": [
        "print(\"ejes\")\n",
        "\n"
      ]
    },
    {
      "cell_type": "code",
      "source": [
        "!nvidia-smi\n"
      ],
      "metadata": {
        "colab": {
          "base_uri": "https://localhost:8080/"
        },
        "id": "tMIldw1sQpcC",
        "outputId": "ea84c9aa-a14e-4211-beb2-417f2fdbc3ef"
      },
      "execution_count": null,
      "outputs": [
        {
          "output_type": "stream",
          "name": "stdout",
          "text": [
            "/bin/bash: line 1: nvidia-smi: command not found\n"
          ]
        }
      ]
    },
    {
      "cell_type": "markdown",
      "source": [
        "#introduction to tensors\n",
        "Creating Tensor"
      ],
      "metadata": {
        "id": "3Sxo96xa34Qj"
      }
    },
    {
      "cell_type": "code",
      "source": [
        "import torch\n",
        "import pandas as pd\n",
        "import numpy as py\n",
        "import matplotlib.pyplot as plt\n",
        "\n",
        "\n",
        "\n",
        "print(torch.__version__)\n",
        "\n",
        "#Scalar\n",
        "scalar = torch.tensor(7)\n",
        "scalar"
      ],
      "metadata": {
        "colab": {
          "base_uri": "https://localhost:8080/"
        },
        "id": "2nnqb7BhZYNk",
        "outputId": "1eab8365-212e-4fae-9cb2-48cfba80253d"
      },
      "execution_count": null,
      "outputs": [
        {
          "output_type": "stream",
          "name": "stdout",
          "text": [
            "2.3.0+cu121\n"
          ]
        },
        {
          "output_type": "execute_result",
          "data": {
            "text/plain": [
              "tensor(7)"
            ]
          },
          "metadata": {},
          "execution_count": 4
        }
      ]
    },
    {
      "cell_type": "markdown",
      "source": [
        "Pytorch tensors are created using torch.Tensor()"
      ],
      "metadata": {
        "id": "irpADIJQImGE"
      }
    },
    {
      "cell_type": "code",
      "source": [
        "import torch\n",
        "#Scalar\n",
        "scalar = torch.tensor(7);\n",
        "scalar"
      ],
      "metadata": {
        "colab": {
          "base_uri": "https://localhost:8080/"
        },
        "id": "aUuSD-KbIxan",
        "outputId": "b0f10991-a844-4aec-89de-568bd464b2f4"
      },
      "execution_count": null,
      "outputs": [
        {
          "output_type": "execute_result",
          "data": {
            "text/plain": [
              "tensor(7)"
            ]
          },
          "metadata": {},
          "execution_count": 5
        }
      ]
    },
    {
      "cell_type": "code",
      "source": [
        "scalar.ndim"
      ],
      "metadata": {
        "colab": {
          "base_uri": "https://localhost:8080/"
        },
        "id": "llVOliiaJfv4",
        "outputId": "cfc96ed5-3338-47a1-f46a-52fd517a1ca0"
      },
      "execution_count": null,
      "outputs": [
        {
          "output_type": "execute_result",
          "data": {
            "text/plain": [
              "0"
            ]
          },
          "metadata": {},
          "execution_count": 6
        }
      ]
    },
    {
      "cell_type": "code",
      "source": [
        "#get the tensor as an int value\n",
        "scalar.item()"
      ],
      "metadata": {
        "colab": {
          "base_uri": "https://localhost:8080/"
        },
        "id": "qSgZT5KrKCP4",
        "outputId": "717d1906-e4ba-4a01-9608-86f638fbc985"
      },
      "execution_count": null,
      "outputs": [
        {
          "output_type": "execute_result",
          "data": {
            "text/plain": [
              "7"
            ]
          },
          "metadata": {},
          "execution_count": 7
        }
      ]
    },
    {
      "cell_type": "code",
      "source": [
        "#vector\n",
        "import torch\n",
        "vector = torch.tensor([1, 1])\n",
        "vector"
      ],
      "metadata": {
        "colab": {
          "base_uri": "https://localhost:8080/"
        },
        "id": "oWInctW9KaK1",
        "outputId": "63d90e00-c1c6-4adc-ebb0-c4852b839f03"
      },
      "execution_count": null,
      "outputs": [
        {
          "output_type": "execute_result",
          "data": {
            "text/plain": [
              "tensor([1, 1])"
            ]
          },
          "metadata": {},
          "execution_count": 8
        }
      ]
    },
    {
      "cell_type": "code",
      "source": [
        "#vector dimension\n",
        "vector.ndim"
      ],
      "metadata": {
        "colab": {
          "base_uri": "https://localhost:8080/"
        },
        "id": "gf3fvqSD4R9d",
        "outputId": "0fc3d938-83b9-45e5-d72f-79fb08fb8d52"
      },
      "execution_count": null,
      "outputs": [
        {
          "output_type": "execute_result",
          "data": {
            "text/plain": [
              "1"
            ]
          },
          "metadata": {},
          "execution_count": 9
        }
      ]
    },
    {
      "cell_type": "code",
      "source": [
        "#vector for shape\n",
        "vector.shape"
      ],
      "metadata": {
        "colab": {
          "base_uri": "https://localhost:8080/"
        },
        "id": "xYVGyijM6-L2",
        "outputId": "a3912444-cb3d-4367-d2c1-61c8b4ac597c"
      },
      "execution_count": null,
      "outputs": [
        {
          "output_type": "execute_result",
          "data": {
            "text/plain": [
              "torch.Size([2])"
            ]
          },
          "metadata": {},
          "execution_count": 10
        }
      ]
    },
    {
      "cell_type": "code",
      "source": [
        "#MATRIX all the things are call with the torch.tensor even vector, scalar and Matrix\n",
        "\n",
        "MATRIX  = torch.tensor([[1,3],\n",
        "                        [9,4]])\n",
        "MATRIX"
      ],
      "metadata": {
        "colab": {
          "base_uri": "https://localhost:8080/"
        },
        "id": "dS-9Ty8F7ZvA",
        "outputId": "c9206654-9756-4228-e04f-754f01bb936c"
      },
      "execution_count": null,
      "outputs": [
        {
          "output_type": "execute_result",
          "data": {
            "text/plain": [
              "tensor([[1, 3],\n",
              "        [9, 4]])"
            ]
          },
          "metadata": {},
          "execution_count": 11
        }
      ]
    },
    {
      "cell_type": "code",
      "source": [
        "#shape of matrix\n",
        "MATRIX.shape\n"
      ],
      "metadata": {
        "colab": {
          "base_uri": "https://localhost:8080/"
        },
        "id": "vjO5KlWX8LvW",
        "outputId": "649839ac-a1be-402a-afc1-3b250c3e9141"
      },
      "execution_count": null,
      "outputs": [
        {
          "output_type": "execute_result",
          "data": {
            "text/plain": [
              "torch.Size([2, 2])"
            ]
          },
          "metadata": {},
          "execution_count": 12
        }
      ]
    },
    {
      "cell_type": "code",
      "source": [
        "#matrix dimension\n",
        "MATRIX.ndim"
      ],
      "metadata": {
        "colab": {
          "base_uri": "https://localhost:8080/"
        },
        "id": "2uxDqxSG9fDx",
        "outputId": "cd6a476e-f064-419f-b3ac-03c341a93d20"
      },
      "execution_count": null,
      "outputs": [
        {
          "output_type": "execute_result",
          "data": {
            "text/plain": [
              "2"
            ]
          },
          "metadata": {},
          "execution_count": 13
        }
      ]
    },
    {
      "cell_type": "code",
      "source": [
        "MATRIX[0]"
      ],
      "metadata": {
        "colab": {
          "base_uri": "https://localhost:8080/"
        },
        "id": "jhKT44e--DPQ",
        "outputId": "7079cfac-39b6-49f6-b902-86e4a24a97dd"
      },
      "execution_count": null,
      "outputs": [
        {
          "output_type": "execute_result",
          "data": {
            "text/plain": [
              "tensor([1, 3])"
            ]
          },
          "metadata": {},
          "execution_count": 14
        }
      ]
    },
    {
      "cell_type": "code",
      "source": [
        "# TENSOR\n",
        "\n",
        "TENSOR = torch.tensor([[[1,2,3],[2,3,4],[3,4,5]]])\n",
        "TENSOR\n"
      ],
      "metadata": {
        "id": "9_Edc8_U-Lqg",
        "colab": {
          "base_uri": "https://localhost:8080/"
        },
        "outputId": "90756104-53b6-4fed-e4aa-1bb208f431bf"
      },
      "execution_count": null,
      "outputs": [
        {
          "output_type": "execute_result",
          "data": {
            "text/plain": [
              "tensor([[[1, 2, 3],\n",
              "         [2, 3, 4],\n",
              "         [3, 4, 5]]])"
            ]
          },
          "metadata": {},
          "execution_count": 15
        }
      ]
    },
    {
      "cell_type": "code",
      "source": [
        "TENSOR.shape\n",
        "#here the 1 is from the whole index []\n",
        "# second 3 is from the three index\n",
        "#third 3 is from the 3 input in the index[]"
      ],
      "metadata": {
        "colab": {
          "base_uri": "https://localhost:8080/"
        },
        "id": "3P1n8pQE_wjW",
        "outputId": "90f7d093-ff1e-4d30-90f5-5a07e1cef962"
      },
      "execution_count": null,
      "outputs": [
        {
          "output_type": "execute_result",
          "data": {
            "text/plain": [
              "torch.Size([1, 3, 3])"
            ]
          },
          "metadata": {},
          "execution_count": 16
        }
      ]
    },
    {
      "cell_type": "code",
      "source": [
        "TENSOR.ndim\n"
      ],
      "metadata": {
        "colab": {
          "base_uri": "https://localhost:8080/"
        },
        "id": "H05bLAUz_1D3",
        "outputId": "e94feddf-20a5-4010-e414-068f1ee129c0"
      },
      "execution_count": null,
      "outputs": [
        {
          "output_type": "execute_result",
          "data": {
            "text/plain": [
              "3"
            ]
          },
          "metadata": {},
          "execution_count": 17
        }
      ]
    },
    {
      "cell_type": "code",
      "source": [
        "TENSOR = torch.tensor([[[[1,2,3],[2,3,4],[3,4,5]]]])\n",
        "TENSOR.shape"
      ],
      "metadata": {
        "colab": {
          "base_uri": "https://localhost:8080/"
        },
        "id": "QTPZrLeXBhya",
        "outputId": "e3d32fe3-dd6e-4399-ccf0-fee9e593910e"
      },
      "execution_count": null,
      "outputs": [
        {
          "output_type": "execute_result",
          "data": {
            "text/plain": [
              "torch.Size([1, 1, 3, 3])"
            ]
          },
          "metadata": {},
          "execution_count": 18
        }
      ]
    },
    {
      "cell_type": "markdown",
      "source": [
        "#Random Tensors"
      ],
      "metadata": {
        "id": "yyD3DS9LCBqC"
      }
    },
    {
      "cell_type": "code",
      "source": [
        "#Create a random tensor of size (2,4)\n",
        "random_Tensor = torch.rand(2,4)\n",
        "random_Tensor"
      ],
      "metadata": {
        "id": "UDtx7ySGC5Gy",
        "colab": {
          "base_uri": "https://localhost:8080/"
        },
        "outputId": "627f8f69-d453-4ecd-dd31-ed81438dca31"
      },
      "execution_count": null,
      "outputs": [
        {
          "output_type": "execute_result",
          "data": {
            "text/plain": [
              "tensor([[0.5119, 0.8268, 0.5360, 0.4931],\n",
              "        [0.2515, 0.9545, 0.5909, 0.9945]])"
            ]
          },
          "metadata": {},
          "execution_count": 19
        }
      ]
    },
    {
      "cell_type": "code",
      "source": [
        "random_Tensor.ndim"
      ],
      "metadata": {
        "colab": {
          "base_uri": "https://localhost:8080/"
        },
        "id": "c68h9OVAENlv",
        "outputId": "4c6e62de-88c0-4e49-8732-1cc90d33bce2"
      },
      "execution_count": null,
      "outputs": [
        {
          "output_type": "execute_result",
          "data": {
            "text/plain": [
              "2"
            ]
          },
          "metadata": {},
          "execution_count": 20
        }
      ]
    },
    {
      "cell_type": "code",
      "source": [
        "random_Tensor.shape"
      ],
      "metadata": {
        "colab": {
          "base_uri": "https://localhost:8080/"
        },
        "id": "djzGy4wBEKrh",
        "outputId": "487c68a2-75e4-4d4f-cb8e-8e4f45084d85"
      },
      "execution_count": null,
      "outputs": [
        {
          "output_type": "execute_result",
          "data": {
            "text/plain": [
              "torch.Size([2, 4])"
            ]
          },
          "metadata": {},
          "execution_count": 21
        }
      ]
    },
    {
      "cell_type": "markdown",
      "source": [
        "Create a random tensor with similar shape to an image  tensor"
      ],
      "metadata": {
        "id": "l1V5vNWGE7oC"
      }
    },
    {
      "cell_type": "code",
      "source": [
        "random_image_size = torch.rand(size=(244,244,5)) #height, width, colour channels(R,G,B)\n",
        "#also colour channels will switch first or last in the index().\n",
        "\n",
        "\n",
        "random_image_size.shape , random_image_size.ndim"
      ],
      "metadata": {
        "id": "SpM6FhfyFIL7",
        "colab": {
          "base_uri": "https://localhost:8080/"
        },
        "outputId": "892570a2-f538-4f59-a73f-924ad651d9ae"
      },
      "execution_count": null,
      "outputs": [
        {
          "output_type": "execute_result",
          "data": {
            "text/plain": [
              "(torch.Size([244, 244, 5]), 3)"
            ]
          },
          "metadata": {},
          "execution_count": 22
        }
      ]
    },
    {
      "cell_type": "markdown",
      "source": [
        "#Zero and ones"
      ],
      "metadata": {
        "id": "bmsWeKh_HnLm"
      }
    },
    {
      "cell_type": "code",
      "source": [
        "import torch\n",
        "#Create a tensor of all zeros\n",
        "zero = torch.zeros(size=(2,4))\n",
        "zero"
      ],
      "metadata": {
        "colab": {
          "base_uri": "https://localhost:8080/"
        },
        "id": "NjnRCfoJHsPL",
        "outputId": "33adfb4e-c1d5-4c46-9640-864a788a3bb9"
      },
      "execution_count": null,
      "outputs": [
        {
          "output_type": "execute_result",
          "data": {
            "text/plain": [
              "tensor([[0., 0., 0., 0.],\n",
              "        [0., 0., 0., 0.]])"
            ]
          },
          "metadata": {},
          "execution_count": 23
        }
      ]
    },
    {
      "cell_type": "code",
      "source": [
        "# tensor of ones\n",
        "ones = torch.ones(size=(2,4))\n",
        "ones"
      ],
      "metadata": {
        "colab": {
          "base_uri": "https://localhost:8080/"
        },
        "id": "OH-xJx-2IaOI",
        "outputId": "f95545f4-baee-4bd9-938e-a15d88bf8e97"
      },
      "execution_count": null,
      "outputs": [
        {
          "output_type": "execute_result",
          "data": {
            "text/plain": [
              "tensor([[1., 1., 1., 1.],\n",
              "        [1., 1., 1., 1.]])"
            ]
          },
          "metadata": {},
          "execution_count": 24
        }
      ]
    },
    {
      "cell_type": "code",
      "source": [
        "ones.dtype # this the default data type"
      ],
      "metadata": {
        "colab": {
          "base_uri": "https://localhost:8080/"
        },
        "id": "ACeHKl6fKvaq",
        "outputId": "ddc6dbad-94fb-410a-c6ca-d6d99299cacf"
      },
      "execution_count": null,
      "outputs": [
        {
          "output_type": "execute_result",
          "data": {
            "text/plain": [
              "torch.float32"
            ]
          },
          "metadata": {},
          "execution_count": 25
        }
      ]
    },
    {
      "cell_type": "code",
      "source": [
        "zero.dtype #expizitlity define the dataType"
      ],
      "metadata": {
        "colab": {
          "base_uri": "https://localhost:8080/"
        },
        "id": "grsir-mbPebm",
        "outputId": "2a7c913a-3a4b-4bcc-a775-fa6135c2a449"
      },
      "execution_count": null,
      "outputs": [
        {
          "output_type": "execute_result",
          "data": {
            "text/plain": [
              "torch.float32"
            ]
          },
          "metadata": {},
          "execution_count": 26
        }
      ]
    },
    {
      "cell_type": "markdown",
      "source": [
        "#Creating a range of Tensors and Tensors-like"
      ],
      "metadata": {
        "id": "7PYURUhOPeLE"
      }
    },
    {
      "cell_type": "code",
      "source": [
        "import torch\n",
        "#use torch.range()\n",
        "tt = torch.arange(0,5) #use the arange() instead of range() as the range is been in consistant in the python\n",
        "tt"
      ],
      "metadata": {
        "colab": {
          "base_uri": "https://localhost:8080/"
        },
        "id": "c5c7JF6yJ7LO",
        "outputId": "467e17d5-a434-4c3c-ff43-27ac7435efae"
      },
      "execution_count": null,
      "outputs": [
        {
          "output_type": "execute_result",
          "data": {
            "text/plain": [
              "tensor([0, 1, 2, 3, 4])"
            ]
          },
          "metadata": {},
          "execution_count": 27
        }
      ]
    },
    {
      "cell_type": "code",
      "source": [
        "#Creating tensors zeros like\n",
        "tenZeros = torch.zeros_like(tt)\n",
        "tenZeros"
      ],
      "metadata": {
        "colab": {
          "base_uri": "https://localhost:8080/"
        },
        "id": "Z9wYDr_q7Hd0",
        "outputId": "cd38ae6a-82a5-4e11-b604-086e43523453"
      },
      "execution_count": null,
      "outputs": [
        {
          "output_type": "execute_result",
          "data": {
            "text/plain": [
              "tensor([0, 0, 0, 0, 0])"
            ]
          },
          "metadata": {},
          "execution_count": 28
        }
      ]
    },
    {
      "cell_type": "markdown",
      "source": [
        "#TensoDataType\n",
        "\n",
        "Note: We gonna get more error in datatypes with pytorch and deep learning\n",
        "1. tensor not right datatype\n",
        "2. tensor not right shape\n",
        "3. tensor not right device"
      ],
      "metadata": {
        "id": "pPHJl3Df8QQ2"
      }
    },
    {
      "cell_type": "code",
      "source": [
        "#Float Datatype\n",
        "float_t = torch.tensor([5.0,6.0,8.0],\n",
        "                       dtype=None,# datatype that you can set in the tensor(ex: float32 or float16 or float64)\n",
        "                       device=None, #  the default CPU and we can change to GPU(cuda)\n",
        "                       requires_grad=False)# whether or not to track gradients with this tensors operations\n",
        "\n",
        "float_t\n"
      ],
      "metadata": {
        "colab": {
          "base_uri": "https://localhost:8080/"
        },
        "id": "Xkg4zSft9afI",
        "outputId": "25d14a73-76aa-4967-fca7-be4ac7cfcad4"
      },
      "execution_count": null,
      "outputs": [
        {
          "output_type": "execute_result",
          "data": {
            "text/plain": [
              "tensor([5., 6., 8.])"
            ]
          },
          "metadata": {},
          "execution_count": 29
        }
      ]
    },
    {
      "cell_type": "code",
      "source": [
        "float_t.dtype"
      ],
      "metadata": {
        "colab": {
          "base_uri": "https://localhost:8080/"
        },
        "id": "Qn1ekoud-HAJ",
        "outputId": "2a9cdfba-ed16-4ce3-927e-1c23e6dcfd4b"
      },
      "execution_count": null,
      "outputs": [
        {
          "output_type": "execute_result",
          "data": {
            "text/plain": [
              "torch.float32"
            ]
          },
          "metadata": {},
          "execution_count": 30
        }
      ]
    },
    {
      "cell_type": "code",
      "source": [
        "#Convert the datatype to float32 default to float 16\n",
        "float_16 = float_t.type(torch.float16)\n",
        "float_16"
      ],
      "metadata": {
        "colab": {
          "base_uri": "https://localhost:8080/"
        },
        "id": "ewkAbx0JA1Qo",
        "outputId": "a639590e-c625-4448-c66e-afd2d92d52c1"
      },
      "execution_count": null,
      "outputs": [
        {
          "output_type": "execute_result",
          "data": {
            "text/plain": [
              "tensor([5., 6., 8.], dtype=torch.float16)"
            ]
          },
          "metadata": {},
          "execution_count": 31
        }
      ]
    },
    {
      "cell_type": "code",
      "source": [
        "#even we can multiply the tensor\n",
        "float_16*float_t"
      ],
      "metadata": {
        "colab": {
          "base_uri": "https://localhost:8080/"
        },
        "id": "-R0jy0YKA3UJ",
        "outputId": "bd1407d4-f980-47b7-eaf9-a7939a5484dc"
      },
      "execution_count": null,
      "outputs": [
        {
          "output_type": "execute_result",
          "data": {
            "text/plain": [
              "tensor([25., 36., 64.])"
            ]
          },
          "metadata": {},
          "execution_count": 32
        }
      ]
    },
    {
      "cell_type": "code",
      "source": [
        "#int32 to float multiply\n",
        "int_32_tensor = torch.tensor([6,9,8], dtype=torch.int32)\n",
        "int_32_tensor"
      ],
      "metadata": {
        "colab": {
          "base_uri": "https://localhost:8080/"
        },
        "id": "8Qs77LuCG8tE",
        "outputId": "ae1170d6-4e78-4e7e-d5a5-5f0683e3e5ba"
      },
      "execution_count": null,
      "outputs": [
        {
          "output_type": "execute_result",
          "data": {
            "text/plain": [
              "tensor([6, 9, 8], dtype=torch.int32)"
            ]
          },
          "metadata": {},
          "execution_count": 33
        }
      ]
    },
    {
      "cell_type": "code",
      "source": [
        "int_32_tensor*float_16"
      ],
      "metadata": {
        "colab": {
          "base_uri": "https://localhost:8080/"
        },
        "id": "d2IxsSMJHWar",
        "outputId": "aecc6ef4-e754-48b9-a0f7-546ad28c315f"
      },
      "execution_count": null,
      "outputs": [
        {
          "output_type": "execute_result",
          "data": {
            "text/plain": [
              "tensor([30., 54., 64.], dtype=torch.float16)"
            ]
          },
          "metadata": {},
          "execution_count": 34
        }
      ]
    },
    {
      "cell_type": "markdown",
      "source": [
        "#Getting information from the tensor\n",
        "1.tensor not right datatype #to get the tensor information use tensor.dtype\n",
        "2.tensor not right shape #to get the tensor information use tensor.shape\n",
        "3.tensor not right device #to get the tensor information use tensor.device"
      ],
      "metadata": {
        "id": "ilCdMhQJKcng"
      }
    },
    {
      "cell_type": "code",
      "source": [
        "some = torch.rand(3,5)\n",
        "some"
      ],
      "metadata": {
        "colab": {
          "base_uri": "https://localhost:8080/"
        },
        "id": "FlJAhqlILNss",
        "outputId": "6d6f6cb3-4725-4c40-c810-518e763716b2"
      },
      "execution_count": null,
      "outputs": [
        {
          "output_type": "execute_result",
          "data": {
            "text/plain": [
              "tensor([[0.4684, 0.8698, 0.0595, 0.3105, 0.7077],\n",
              "        [0.2095, 0.1834, 0.0539, 0.2052, 0.4716],\n",
              "        [0.7746, 0.1597, 0.7539, 0.3472, 0.2999]])"
            ]
          },
          "metadata": {},
          "execution_count": 35
        }
      ]
    },
    {
      "cell_type": "code",
      "source": [
        "some.size(),  #this need to be in () if we need to call the size() menthod\n",
        "some.shape #this doesn't required the () as this has a attribute"
      ],
      "metadata": {
        "colab": {
          "base_uri": "https://localhost:8080/"
        },
        "id": "eaq2ZZhVMhCA",
        "outputId": "4d3c4e05-b2b1-4cc6-dded-a41a36e2f430"
      },
      "execution_count": null,
      "outputs": [
        {
          "output_type": "execute_result",
          "data": {
            "text/plain": [
              "torch.Size([3, 5])"
            ]
          },
          "metadata": {},
          "execution_count": 36
        }
      ]
    },
    {
      "cell_type": "code",
      "source": [
        "#find the details of some tensor\n",
        "print(some)\n",
        "print(f\"Datatype of tensor:{some.dtype}\")\n",
        "print(f\"Shape of the tensor:{some.shape}\")\n",
        "print(f\"Device od the tensor:{some.device}\")"
      ],
      "metadata": {
        "colab": {
          "base_uri": "https://localhost:8080/"
        },
        "id": "IqM9JCt7NUUf",
        "outputId": "d036584a-bc1f-44d9-c3d2-75dd29d86ad0"
      },
      "execution_count": null,
      "outputs": [
        {
          "output_type": "stream",
          "name": "stdout",
          "text": [
            "tensor([[0.4684, 0.8698, 0.0595, 0.3105, 0.7077],\n",
            "        [0.2095, 0.1834, 0.0539, 0.2052, 0.4716],\n",
            "        [0.7746, 0.1597, 0.7539, 0.3472, 0.2999]])\n",
            "Datatype of tensor:torch.float32\n",
            "Shape of the tensor:torch.Size([3, 5])\n",
            "Device od the tensor:cpu\n"
          ]
        }
      ]
    },
    {
      "cell_type": "code",
      "source": [
        "#manipulating the tensors add, sub, multi, division\n",
        "import torch\n",
        "tensor = torch.tensor([4,5,6])\n",
        "tensor +5"
      ],
      "metadata": {
        "colab": {
          "base_uri": "https://localhost:8080/"
        },
        "id": "76SDppmcNyEp",
        "outputId": "e340e5f0-6d86-41ac-d89a-be963426c94e"
      },
      "execution_count": null,
      "outputs": [
        {
          "output_type": "execute_result",
          "data": {
            "text/plain": [
              "tensor([ 9, 10, 11])"
            ]
          },
          "metadata": {},
          "execution_count": 38
        }
      ]
    },
    {
      "cell_type": "code",
      "source": [
        "tensor -10"
      ],
      "metadata": {
        "colab": {
          "base_uri": "https://localhost:8080/"
        },
        "id": "9ON9u3g8RWE-",
        "outputId": "36d7b7e2-89f2-49ea-a3b1-ff7708be9e91"
      },
      "execution_count": null,
      "outputs": [
        {
          "output_type": "execute_result",
          "data": {
            "text/plain": [
              "tensor([-6, -5, -4])"
            ]
          },
          "metadata": {},
          "execution_count": 39
        }
      ]
    },
    {
      "cell_type": "code",
      "source": [
        "#Using the inbuilt function in the tensor\n",
        "\n",
        "torch.add(tensor,10)"
      ],
      "metadata": {
        "colab": {
          "base_uri": "https://localhost:8080/"
        },
        "id": "w59fS1cfRYzj",
        "outputId": "d5de3e6d-9d05-4ea3-8859-d7af2c9aa90e"
      },
      "execution_count": null,
      "outputs": [
        {
          "output_type": "execute_result",
          "data": {
            "text/plain": [
              "tensor([14, 15, 16])"
            ]
          },
          "metadata": {},
          "execution_count": 40
        }
      ]
    },
    {
      "cell_type": "code",
      "source": [
        "#sub using inbuilt function\n",
        "torch.sub(tensor,5)"
      ],
      "metadata": {
        "colab": {
          "base_uri": "https://localhost:8080/"
        },
        "id": "SswtkLv5VUvy",
        "outputId": "658fcf22-6a9e-47ad-f89b-3a752ac1f500"
      },
      "execution_count": null,
      "outputs": [
        {
          "output_type": "execute_result",
          "data": {
            "text/plain": [
              "tensor([-1,  0,  1])"
            ]
          },
          "metadata": {},
          "execution_count": 41
        }
      ]
    },
    {
      "cell_type": "markdown",
      "source": [
        "#Matrix multiplication\n",
        "\n",
        "Note: we can use the @ or matmul for the multiplication\n",
        "\n",
        "#Make sure the two rules 1. inner dimmensions should match\n",
        "ex: 1. (4,2) @(4,2) this will throw the error as the inner dimension is not mathcing\n",
        "2. (4,2)@(2,4) this will work as their inner dimension matches\n",
        "3.(2,4)@(4,2)this will work too\n",
        "\n",
        "#2. the matrix has  the shape of outer dimension\n",
        "1.(2,3)@(3,2) it will work and shows (2,2)\n",
        "\n",
        "2.(4,5)@(5,4) - >(4,4)"
      ],
      "metadata": {
        "id": "Vm7F0s2pZdos"
      }
    },
    {
      "cell_type": "code",
      "source": [
        "#Element wise multiplication\n",
        "print(tensor, \"*\" ,tensor)\n",
        "print(f\"Equals:{tensor * tensor}\")"
      ],
      "metadata": {
        "colab": {
          "base_uri": "https://localhost:8080/"
        },
        "id": "-BlbV9rHZhSp",
        "outputId": "bb50f67b-0c4b-4150-d8f7-79ccf3039dab"
      },
      "execution_count": null,
      "outputs": [
        {
          "output_type": "stream",
          "name": "stdout",
          "text": [
            "tensor([4, 5, 6]) * tensor([4, 5, 6])\n",
            "Equals:tensor([16, 25, 36])\n"
          ]
        }
      ]
    },
    {
      "cell_type": "code",
      "source": [
        "#matix multiplication\n",
        "\n",
        "torch.matmul(tensor, tensor) #vector version instead of for loop"
      ],
      "metadata": {
        "colab": {
          "base_uri": "https://localhost:8080/"
        },
        "id": "_CWnkTVxauig",
        "outputId": "8af9659b-c752-4b49-a9b3-317a6cb2b978"
      },
      "execution_count": null,
      "outputs": [
        {
          "output_type": "execute_result",
          "data": {
            "text/plain": [
              "tensor(77)"
            ]
          },
          "metadata": {},
          "execution_count": 43
        }
      ]
    },
    {
      "cell_type": "code",
      "source": [
        "#how it works with multiplication\n",
        "4*4+5*5+6*6\n"
      ],
      "metadata": {
        "colab": {
          "base_uri": "https://localhost:8080/"
        },
        "id": "5PBwQJjObaOC",
        "outputId": "e32ac1d6-451c-4202-853d-c008857dddda"
      },
      "execution_count": null,
      "outputs": [
        {
          "output_type": "execute_result",
          "data": {
            "text/plain": [
              "77"
            ]
          },
          "metadata": {},
          "execution_count": 44
        }
      ]
    },
    {
      "cell_type": "code",
      "source": [
        "%%time\n",
        "value = 0\n",
        "for i in range(len(tensor)):\n",
        "  value += tensor[i]*tensor[i]\n",
        "print(value)\n",
        "\n"
      ],
      "metadata": {
        "id": "dle2ZciIbosL",
        "colab": {
          "base_uri": "https://localhost:8080/"
        },
        "outputId": "b9647ffc-ed62-486b-ee4c-2a6a9f4e79f4"
      },
      "execution_count": null,
      "outputs": [
        {
          "output_type": "stream",
          "name": "stdout",
          "text": [
            "tensor(77)\n",
            "CPU times: user 334 µs, sys: 1.09 ms, total: 1.42 ms\n",
            "Wall time: 1.95 ms\n"
          ]
        }
      ]
    },
    {
      "cell_type": "code",
      "source": [
        "#another way to multipy the tensor\n",
        "tensor @ tensor\n"
      ],
      "metadata": {
        "id": "tXC7rkseWrzN",
        "colab": {
          "base_uri": "https://localhost:8080/"
        },
        "outputId": "8b5e8971-567f-4161-f990-cbeea7d13c94"
      },
      "execution_count": null,
      "outputs": [
        {
          "output_type": "execute_result",
          "data": {
            "text/plain": [
              "tensor(77)"
            ]
          },
          "metadata": {},
          "execution_count": 46
        }
      ]
    },
    {
      "cell_type": "code",
      "source": [
        "#shapes of matrix multiplication\n",
        "\n",
        "tensor1 = torch.tensor([[2,5],\n",
        "                       [3,6],\n",
        "                       [5,4]])\n",
        "\n",
        "tensor2 = torch.tensor([[5,4],\n",
        "                       [7,2],\n",
        "                       [8,9]])\n",
        "\n",
        "torch.mm(tensor1,tensor2)#.mm stands for matmul mm is a short form of matmul\n",
        "\n"
      ],
      "metadata": {
        "colab": {
          "base_uri": "https://localhost:8080/",
          "height": 193
        },
        "id": "DP0tQjQKXMaU",
        "outputId": "449df549-e721-4f0c-b437-542a51a41d16"
      },
      "execution_count": null,
      "outputs": [
        {
          "output_type": "error",
          "ename": "RuntimeError",
          "evalue": "mat1 and mat2 shapes cannot be multiplied (3x2 and 3x2)",
          "traceback": [
            "\u001b[0;31m---------------------------------------------------------------------------\u001b[0m",
            "\u001b[0;31mRuntimeError\u001b[0m                              Traceback (most recent call last)",
            "\u001b[0;32m<ipython-input-47-d6d5c0d73274>\u001b[0m in \u001b[0;36m<cell line: 11>\u001b[0;34m()\u001b[0m\n\u001b[1;32m      9\u001b[0m                        [8,9]])\n\u001b[1;32m     10\u001b[0m \u001b[0;34m\u001b[0m\u001b[0m\n\u001b[0;32m---> 11\u001b[0;31m \u001b[0mtorch\u001b[0m\u001b[0;34m.\u001b[0m\u001b[0mmm\u001b[0m\u001b[0;34m(\u001b[0m\u001b[0mtensor1\u001b[0m\u001b[0;34m,\u001b[0m\u001b[0mtensor2\u001b[0m\u001b[0;34m)\u001b[0m\u001b[0;31m#.mm stands for matmul mm is a short form of matmul\u001b[0m\u001b[0;34m\u001b[0m\u001b[0;34m\u001b[0m\u001b[0m\n\u001b[0m\u001b[1;32m     12\u001b[0m \u001b[0;34m\u001b[0m\u001b[0m\n",
            "\u001b[0;31mRuntimeError\u001b[0m: mat1 and mat2 shapes cannot be multiplied (3x2 and 3x2)"
          ]
        }
      ]
    },
    {
      "cell_type": "markdown",
      "source": [
        "# to fix the tensor we will use transpose using the T.\n"
      ],
      "metadata": {
        "id": "vTgRzBmThkWG"
      }
    },
    {
      "cell_type": "code",
      "source": [
        "tensor2.shape"
      ],
      "metadata": {
        "colab": {
          "base_uri": "https://localhost:8080/"
        },
        "id": "ng2oG9w3j39u",
        "outputId": "ce19af29-54af-406f-dffb-1713b222e634"
      },
      "execution_count": null,
      "outputs": [
        {
          "output_type": "execute_result",
          "data": {
            "text/plain": [
              "torch.Size([3, 2])"
            ]
          },
          "metadata": {},
          "execution_count": 48
        }
      ]
    },
    {
      "cell_type": "code",
      "source": [
        "#here is the ex using the T\n",
        "tensor2.T, tensor2.T.shape"
      ],
      "metadata": {
        "colab": {
          "base_uri": "https://localhost:8080/"
        },
        "id": "QdzGc-_jjjA4",
        "outputId": "b2c6ad3e-1bd3-4a2e-af2d-e18a3b0e4a5d"
      },
      "execution_count": null,
      "outputs": [
        {
          "output_type": "execute_result",
          "data": {
            "text/plain": [
              "(tensor([[5, 7, 8],\n",
              "         [4, 2, 9]]),\n",
              " torch.Size([2, 3]))"
            ]
          },
          "metadata": {},
          "execution_count": 49
        }
      ]
    },
    {
      "cell_type": "code",
      "source": [
        "# now using tensor2.T we will multipy the matrix\n",
        "# as we transform tensor2.T not the tensor1. This is eligible with the rule 1\n",
        "# rule 1 is inner dimension should match so for our examples\n",
        "# the tensor 1 has dimension of (3,2) and we transpose the tensor2 to (2,3) so this will work without any issue\n",
        "\n",
        "torch.mm(tensor1,tensor2.T)#.mm stands for matmul mm is a short form of matmul\n",
        "\n"
      ],
      "metadata": {
        "colab": {
          "base_uri": "https://localhost:8080/"
        },
        "id": "i3KPn61ckdkn",
        "outputId": "a4e6bb58-63d1-4c32-8f93-7a4bf5e27a8e"
      },
      "execution_count": null,
      "outputs": [
        {
          "output_type": "execute_result",
          "data": {
            "text/plain": [
              "tensor([[30, 24, 61],\n",
              "        [39, 33, 78],\n",
              "        [41, 43, 76]])"
            ]
          },
          "metadata": {},
          "execution_count": 50
        }
      ]
    },
    {
      "cell_type": "code",
      "source": [
        "# here we are doing the outer dimmension example\n",
        "# we will set the (4,3)matrix to match with rule 2\n",
        "tensor3 = torch.tensor([[5,6,5],\n",
        "                       [4,5,7],\n",
        "                       [0,0,8],\n",
        "                        [2,5,8]])\n",
        "tensor4 = torch.tensor([[3,6,2],\n",
        "                       [1,1,1],\n",
        "                       [3,8,4],\n",
        "                        [4,7,8]])"
      ],
      "metadata": {
        "id": "EEMP1vDNmsrI"
      },
      "execution_count": null,
      "outputs": []
    },
    {
      "cell_type": "code",
      "source": [
        "torch.mm(tensor3, tensor4)"
      ],
      "metadata": {
        "colab": {
          "base_uri": "https://localhost:8080/",
          "height": 141
        },
        "id": "8qkGzxSSnCD6",
        "outputId": "d840db2e-7ec3-411d-ee8e-f599dd2a0187"
      },
      "execution_count": null,
      "outputs": [
        {
          "output_type": "error",
          "ename": "RuntimeError",
          "evalue": "mat1 and mat2 shapes cannot be multiplied (4x3 and 4x3)",
          "traceback": [
            "\u001b[0;31m---------------------------------------------------------------------------\u001b[0m",
            "\u001b[0;31mRuntimeError\u001b[0m                              Traceback (most recent call last)",
            "\u001b[0;32m<ipython-input-52-6c37b38e43f5>\u001b[0m in \u001b[0;36m<cell line: 1>\u001b[0;34m()\u001b[0m\n\u001b[0;32m----> 1\u001b[0;31m \u001b[0mtorch\u001b[0m\u001b[0;34m.\u001b[0m\u001b[0mmm\u001b[0m\u001b[0;34m(\u001b[0m\u001b[0mtensor3\u001b[0m\u001b[0;34m,\u001b[0m \u001b[0mtensor4\u001b[0m\u001b[0;34m)\u001b[0m\u001b[0;34m\u001b[0m\u001b[0;34m\u001b[0m\u001b[0m\n\u001b[0m",
            "\u001b[0;31mRuntimeError\u001b[0m: mat1 and mat2 shapes cannot be multiplied (4x3 and 4x3)"
          ]
        }
      ]
    },
    {
      "cell_type": "code",
      "source": [
        "tensor3.T"
      ],
      "metadata": {
        "colab": {
          "base_uri": "https://localhost:8080/"
        },
        "id": "NK9IDkR3n-92",
        "outputId": "1b768837-c4e5-4140-b208-3a6069d7fb02"
      },
      "execution_count": null,
      "outputs": [
        {
          "output_type": "execute_result",
          "data": {
            "text/plain": [
              "tensor([[5, 4, 0, 2],\n",
              "        [6, 5, 0, 5],\n",
              "        [5, 7, 8, 8]])"
            ]
          },
          "metadata": {},
          "execution_count": 53
        }
      ]
    },
    {
      "cell_type": "code",
      "source": [
        "tensor3.T.shape"
      ],
      "metadata": {
        "colab": {
          "base_uri": "https://localhost:8080/"
        },
        "id": "JavQQZ1MormM",
        "outputId": "eb1468bc-1fd5-4372-87ab-ea792820d75c"
      },
      "execution_count": null,
      "outputs": [
        {
          "output_type": "execute_result",
          "data": {
            "text/plain": [
              "torch.Size([3, 4])"
            ]
          },
          "metadata": {},
          "execution_count": 54
        }
      ]
    },
    {
      "cell_type": "code",
      "source": [
        "torch.mm(tensor3.T, tensor4)"
      ],
      "metadata": {
        "colab": {
          "base_uri": "https://localhost:8080/"
        },
        "id": "b4uaBPr6ow0Z",
        "outputId": "f5f1bc07-d2e1-4561-8d3e-6744deda0363"
      },
      "execution_count": null,
      "outputs": [
        {
          "output_type": "execute_result",
          "data": {
            "text/plain": [
              "tensor([[ 27,  48,  30],\n",
              "        [ 43,  76,  57],\n",
              "        [ 78, 157, 113]])"
            ]
          },
          "metadata": {},
          "execution_count": 55
        }
      ]
    },
    {
      "cell_type": "markdown",
      "source": [
        "#Finding the min,max,sum(tesnor aggregation)"
      ],
      "metadata": {
        "id": "cYY2sM6hqIId"
      }
    },
    {
      "cell_type": "code",
      "source": [
        "#Create a tensor\n",
        "a = torch.arange(1,50,10)\n",
        "a"
      ],
      "metadata": {
        "colab": {
          "base_uri": "https://localhost:8080/"
        },
        "id": "h6tg6deeq3oY",
        "outputId": "41f56ae1-550e-4034-dae2-493b159b3ed1"
      },
      "execution_count": null,
      "outputs": [
        {
          "output_type": "execute_result",
          "data": {
            "text/plain": [
              "tensor([ 1, 11, 21, 31, 41])"
            ]
          },
          "metadata": {},
          "execution_count": 56
        }
      ]
    },
    {
      "cell_type": "code",
      "source": [
        "torch.min(a), a.min()#another way to call"
      ],
      "metadata": {
        "colab": {
          "base_uri": "https://localhost:8080/"
        },
        "id": "CTKD8Owqw9wi",
        "outputId": "c39a155a-0acc-4f4b-eba7-39d334f0674c"
      },
      "execution_count": null,
      "outputs": [
        {
          "output_type": "execute_result",
          "data": {
            "text/plain": [
              "(tensor(1), tensor(1))"
            ]
          },
          "metadata": {},
          "execution_count": 57
        }
      ]
    },
    {
      "cell_type": "code",
      "source": [
        "torch.max(a), a.max()"
      ],
      "metadata": {
        "colab": {
          "base_uri": "https://localhost:8080/"
        },
        "id": "aAkkYN95xUft",
        "outputId": "001b7494-4686-4def-b9ad-95fae53b983b"
      },
      "execution_count": null,
      "outputs": [
        {
          "output_type": "execute_result",
          "data": {
            "text/plain": [
              "(tensor(41), tensor(41))"
            ]
          },
          "metadata": {},
          "execution_count": 58
        }
      ]
    },
    {
      "cell_type": "code",
      "source": [
        "torch.mean(a)"
      ],
      "metadata": {
        "colab": {
          "base_uri": "https://localhost:8080/",
          "height": 141
        },
        "id": "QY7xJc-uxXHk",
        "outputId": "56b50083-53ab-4912-c3d0-fabd5a687c22"
      },
      "execution_count": null,
      "outputs": [
        {
          "output_type": "error",
          "ename": "RuntimeError",
          "evalue": "mean(): could not infer output dtype. Input dtype must be either a floating point or complex dtype. Got: Long",
          "traceback": [
            "\u001b[0;31m---------------------------------------------------------------------------\u001b[0m",
            "\u001b[0;31mRuntimeError\u001b[0m                              Traceback (most recent call last)",
            "\u001b[0;32m<ipython-input-60-8ac49bb4b0bb>\u001b[0m in \u001b[0;36m<cell line: 1>\u001b[0;34m()\u001b[0m\n\u001b[0;32m----> 1\u001b[0;31m \u001b[0mtorch\u001b[0m\u001b[0;34m.\u001b[0m\u001b[0mmean\u001b[0m\u001b[0;34m(\u001b[0m\u001b[0ma\u001b[0m\u001b[0;34m)\u001b[0m\u001b[0;34m\u001b[0m\u001b[0;34m\u001b[0m\u001b[0m\n\u001b[0m",
            "\u001b[0;31mRuntimeError\u001b[0m: mean(): could not infer output dtype. Input dtype must be either a floating point or complex dtype. Got: Long"
          ]
        }
      ]
    },
    {
      "cell_type": "code",
      "source": [
        "#change the datatype as it throws error\n",
        "torch.mean(a.type(torch.float32))"
      ],
      "metadata": {
        "colab": {
          "base_uri": "https://localhost:8080/"
        },
        "id": "AxjmJ_V-yAQO",
        "outputId": "c96abfdb-9de6-415b-a24f-f3386afd7d15"
      },
      "execution_count": null,
      "outputs": [
        {
          "output_type": "execute_result",
          "data": {
            "text/plain": [
              "tensor(21.)"
            ]
          },
          "metadata": {},
          "execution_count": 61
        }
      ]
    },
    {
      "cell_type": "code",
      "source": [
        "#Find the sum\n",
        "torch.sum(a),a.sum()"
      ],
      "metadata": {
        "colab": {
          "base_uri": "https://localhost:8080/"
        },
        "id": "ddWhVx9Wz_Qv",
        "outputId": "728c1a35-e9fa-4fcc-8072-2c48c7bc8b51"
      },
      "execution_count": null,
      "outputs": [
        {
          "output_type": "execute_result",
          "data": {
            "text/plain": [
              "(tensor(105), tensor(105))"
            ]
          },
          "metadata": {},
          "execution_count": 62
        }
      ]
    },
    {
      "cell_type": "markdown",
      "source": [
        "#finding the positional of Min and Max"
      ],
      "metadata": {
        "id": "XFh01-qn0jAX"
      }
    },
    {
      "cell_type": "code",
      "source": [
        "a\n"
      ],
      "metadata": {
        "colab": {
          "base_uri": "https://localhost:8080/"
        },
        "id": "Zxyvjtbo0qVf",
        "outputId": "aeb06662-7ac1-413a-ae76-048255d3e625"
      },
      "execution_count": null,
      "outputs": [
        {
          "output_type": "execute_result",
          "data": {
            "text/plain": [
              "tensor([ 1, 11, 21, 31, 41])"
            ]
          },
          "metadata": {},
          "execution_count": 63
        }
      ]
    },
    {
      "cell_type": "code",
      "source": [
        "a.argmin()#here armin means argrument min value"
      ],
      "metadata": {
        "colab": {
          "base_uri": "https://localhost:8080/"
        },
        "id": "f6qT2JuT00xn",
        "outputId": "89909916-fbeb-495d-ead4-755c23ea081f"
      },
      "execution_count": null,
      "outputs": [
        {
          "output_type": "execute_result",
          "data": {
            "text/plain": [
              "tensor(0)"
            ]
          },
          "metadata": {},
          "execution_count": 64
        }
      ]
    },
    {
      "cell_type": "code",
      "source": [
        "a.argmax()"
      ],
      "metadata": {
        "colab": {
          "base_uri": "https://localhost:8080/"
        },
        "id": "3EqW1YYF03nA",
        "outputId": "f7f98be0-e3c7-4fe1-d350-fd950ca68dd7"
      },
      "execution_count": null,
      "outputs": [
        {
          "output_type": "execute_result",
          "data": {
            "text/plain": [
              "tensor(4)"
            ]
          },
          "metadata": {},
          "execution_count": 65
        }
      ]
    },
    {
      "cell_type": "code",
      "source": [
        "a[0]"
      ],
      "metadata": {
        "colab": {
          "base_uri": "https://localhost:8080/"
        },
        "id": "-5pUV_Y71Pl3",
        "outputId": "805aa5d8-51c9-4f38-a077-81bade4bab05"
      },
      "execution_count": null,
      "outputs": [
        {
          "output_type": "execute_result",
          "data": {
            "text/plain": [
              "tensor(1)"
            ]
          },
          "metadata": {},
          "execution_count": 66
        }
      ]
    },
    {
      "cell_type": "markdown",
      "source": [
        "#Reshapping, stacking, squeezing and unsquezing tensors\n",
        "Reshaping - rehsapes the input to define shape\n",
        "\n",
        "staching - combine multiple tensors on tip each other(vstak) and (hstack) for side by side\n",
        "\n",
        "view- to view of an uninput tensorsof certain shape but to keep the same memory as original tensor\n",
        "\n",
        "squeeze: to remove the 1 dimensions from tensor\n",
        "unsqueeze: to add the 1 dimension in the tensor\n",
        "permute: return a view of the input with dimension permuted(swapped)in a certain way\n"
      ],
      "metadata": {
        "id": "mLUdudMv1bAF"
      }
    },
    {
      "cell_type": "code",
      "source": [
        "import torch\n",
        "b = torch.arange(1, 9)\n",
        "b, b.shape"
      ],
      "metadata": {
        "colab": {
          "base_uri": "https://localhost:8080/"
        },
        "id": "DuLmKQMg2beZ",
        "outputId": "26620ba5-12fe-4f19-fecc-7c2fd9e11347"
      },
      "execution_count": null,
      "outputs": [
        {
          "output_type": "execute_result",
          "data": {
            "text/plain": [
              "(tensor([1, 2, 3, 4, 5, 6, 7, 8]), torch.Size([8]))"
            ]
          },
          "metadata": {},
          "execution_count": 5
        }
      ]
    },
    {
      "cell_type": "code",
      "source": [
        "# Reshapping\n",
        "\n",
        "b_resh = b.reshape(1,8) # this will add the tensor to inside the single dimension which is \"1\" and you will see [] inside it\n",
        "b_resh, b_resh.shape\n"
      ],
      "metadata": {
        "colab": {
          "base_uri": "https://localhost:8080/"
        },
        "id": "QTTMNlt24l6e",
        "outputId": "7425d3de-b6cd-44af-f388-b2429fafbd35"
      },
      "execution_count": null,
      "outputs": [
        {
          "output_type": "execute_result",
          "data": {
            "text/plain": [
              "(tensor([[1, 2, 3, 4, 5, 6, 7, 8]]), torch.Size([1, 8]))"
            ]
          },
          "metadata": {},
          "execution_count": 6
        }
      ]
    },
    {
      "cell_type": "code",
      "source": [
        "# Reshapping\n",
        "\n",
        "b_resh = b.reshape(4,2) # this will add the tensor to inside the single dimension which is \"2\" and you will see [] inside it\n",
        "b_resh, b_resh.shape"
      ],
      "metadata": {
        "colab": {
          "base_uri": "https://localhost:8080/"
        },
        "id": "lTHhxZS-7imO",
        "outputId": "da074b18-4f9a-45a3-9257-ff163445e1d7"
      },
      "execution_count": null,
      "outputs": [
        {
          "output_type": "execute_result",
          "data": {
            "text/plain": [
              "(tensor([[1, 2],\n",
              "         [3, 4],\n",
              "         [5, 6],\n",
              "         [7, 8]]),\n",
              " torch.Size([4, 2]))"
            ]
          },
          "metadata": {},
          "execution_count": 7
        }
      ]
    },
    {
      "cell_type": "code",
      "source": [
        "#change the view\n",
        "y = b.view(1,8) #here we are calling the b tensor which will share the original value with y\n",
        "y,\n"
      ],
      "metadata": {
        "colab": {
          "base_uri": "https://localhost:8080/"
        },
        "id": "-KVjBDKh-TRQ",
        "outputId": "f1a49165-adee-4fa5-e39c-f13594e802ad"
      },
      "execution_count": null,
      "outputs": [
        {
          "output_type": "execute_result",
          "data": {
            "text/plain": [
              "(tensor([[1, 2, 3, 4, 5, 6, 7, 8]]),)"
            ]
          },
          "metadata": {},
          "execution_count": 10
        }
      ]
    },
    {
      "cell_type": "code",
      "source": [
        "#changing the y will change the b vlaues in the tensor as it share the original values\n",
        "y[:,0]=8\n",
        "y"
      ],
      "metadata": {
        "colab": {
          "base_uri": "https://localhost:8080/"
        },
        "id": "ZIh9Yg3bqYhN",
        "outputId": "736076d7-f0cc-454a-8ed7-47787bcacfb8"
      },
      "execution_count": null,
      "outputs": [
        {
          "output_type": "execute_result",
          "data": {
            "text/plain": [
              "tensor([[8, 2, 3, 4, 5, 6, 7, 8]])"
            ]
          },
          "metadata": {},
          "execution_count": 12
        }
      ]
    }
  ]
}