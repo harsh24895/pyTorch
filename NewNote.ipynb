{
  "nbformat": 4,
  "nbformat_minor": 0,
  "metadata": {
    "colab": {
      "provenance": [],
      "authorship_tag": "ABX9TyNs0goJsn036rJZ64FIisKV"
    },
    "kernelspec": {
      "name": "python3",
      "display_name": "Python 3"
    },
    "language_info": {
      "name": "python"
    }
  },
  "cells": [
    {
      "cell_type": "code",
      "execution_count": 2,
      "metadata": {
        "colab": {
          "base_uri": "https://localhost:8080/"
        },
        "id": "5H9Qd1CbPmKW",
        "outputId": "43d1644a-de7e-481b-d869-4d7fddd2e4ce"
      },
      "outputs": [
        {
          "output_type": "stream",
          "name": "stdout",
          "text": [
            "ejes\n"
          ]
        }
      ],
      "source": [
        "print(\"ejes\")\n",
        "\n"
      ]
    },
    {
      "cell_type": "code",
      "source": [
        "!nvidia-smi\n"
      ],
      "metadata": {
        "colab": {
          "base_uri": "https://localhost:8080/"
        },
        "id": "tMIldw1sQpcC",
        "outputId": "f386ee03-2381-44e1-dc5c-5b648828d6d8"
      },
      "execution_count": 3,
      "outputs": [
        {
          "output_type": "stream",
          "name": "stdout",
          "text": [
            "/bin/bash: line 1: nvidia-smi: command not found\n"
          ]
        }
      ]
    },
    {
      "cell_type": "markdown",
      "source": [
        "#introduction to tensors\n",
        "Creating Tensor"
      ],
      "metadata": {
        "id": "3Sxo96xa34Qj"
      }
    },
    {
      "cell_type": "code",
      "source": [
        "import torch\n",
        "import pandas as pd\n",
        "import numpy as py\n",
        "import matplotlib.pyplot as plt\n",
        "\n",
        "\n",
        "\n",
        "print(torch.__version__)\n",
        "\n",
        "#Scalar\n",
        "scalar = torch.tensor(7)\n",
        "scalar"
      ],
      "metadata": {
        "colab": {
          "base_uri": "https://localhost:8080/"
        },
        "id": "2nnqb7BhZYNk",
        "outputId": "0738dea6-9017-4545-90bc-96c2bb2a9c35"
      },
      "execution_count": 4,
      "outputs": [
        {
          "output_type": "stream",
          "name": "stdout",
          "text": [
            "2.3.0+cu121\n"
          ]
        },
        {
          "output_type": "execute_result",
          "data": {
            "text/plain": [
              "tensor(7)"
            ]
          },
          "metadata": {},
          "execution_count": 4
        }
      ]
    },
    {
      "cell_type": "markdown",
      "source": [
        "Pytorch tensors are created using torch.Tensor()"
      ],
      "metadata": {
        "id": "irpADIJQImGE"
      }
    },
    {
      "cell_type": "code",
      "source": [
        "import torch\n",
        "#Scalar\n",
        "scalar = torch.tensor(7);\n",
        "scalar"
      ],
      "metadata": {
        "colab": {
          "base_uri": "https://localhost:8080/"
        },
        "id": "aUuSD-KbIxan",
        "outputId": "09b80863-981d-445f-f6dd-1ad1c068dd6b"
      },
      "execution_count": 5,
      "outputs": [
        {
          "output_type": "execute_result",
          "data": {
            "text/plain": [
              "tensor(7)"
            ]
          },
          "metadata": {},
          "execution_count": 5
        }
      ]
    },
    {
      "cell_type": "code",
      "source": [
        "scalar.ndim"
      ],
      "metadata": {
        "colab": {
          "base_uri": "https://localhost:8080/"
        },
        "id": "llVOliiaJfv4",
        "outputId": "6a0f5020-4db4-4f12-d6ef-19eaf245059a"
      },
      "execution_count": 6,
      "outputs": [
        {
          "output_type": "execute_result",
          "data": {
            "text/plain": [
              "0"
            ]
          },
          "metadata": {},
          "execution_count": 6
        }
      ]
    },
    {
      "cell_type": "code",
      "source": [
        "#get the tensor as an int value\n",
        "scalar.item()"
      ],
      "metadata": {
        "colab": {
          "base_uri": "https://localhost:8080/"
        },
        "id": "qSgZT5KrKCP4",
        "outputId": "a5194a5b-4af7-448f-d4af-babec4710433"
      },
      "execution_count": 7,
      "outputs": [
        {
          "output_type": "execute_result",
          "data": {
            "text/plain": [
              "7"
            ]
          },
          "metadata": {},
          "execution_count": 7
        }
      ]
    },
    {
      "cell_type": "code",
      "source": [
        "#vector\n",
        "import torch\n",
        "vector = torch.tensor([1, 1])\n",
        "vector"
      ],
      "metadata": {
        "colab": {
          "base_uri": "https://localhost:8080/"
        },
        "id": "oWInctW9KaK1",
        "outputId": "e2f3b338-5fcd-4b4b-c4a3-514eb87333d8"
      },
      "execution_count": 8,
      "outputs": [
        {
          "output_type": "execute_result",
          "data": {
            "text/plain": [
              "tensor([1, 1])"
            ]
          },
          "metadata": {},
          "execution_count": 8
        }
      ]
    },
    {
      "cell_type": "code",
      "source": [
        "#vector dimension\n",
        "vector.ndim"
      ],
      "metadata": {
        "colab": {
          "base_uri": "https://localhost:8080/"
        },
        "id": "gf3fvqSD4R9d",
        "outputId": "64687568-504d-41f8-d43c-5a966e1f4bf1"
      },
      "execution_count": 9,
      "outputs": [
        {
          "output_type": "execute_result",
          "data": {
            "text/plain": [
              "1"
            ]
          },
          "metadata": {},
          "execution_count": 9
        }
      ]
    },
    {
      "cell_type": "code",
      "source": [
        "#vector for shape\n",
        "vector.shape"
      ],
      "metadata": {
        "colab": {
          "base_uri": "https://localhost:8080/"
        },
        "id": "xYVGyijM6-L2",
        "outputId": "f5efb417-dec7-436b-8897-b7dedbff55e7"
      },
      "execution_count": 10,
      "outputs": [
        {
          "output_type": "execute_result",
          "data": {
            "text/plain": [
              "torch.Size([2])"
            ]
          },
          "metadata": {},
          "execution_count": 10
        }
      ]
    },
    {
      "cell_type": "code",
      "source": [
        "#MATRIX all the things are call with the torch.tensor even vector, scalar and Matrix\n",
        "\n",
        "MATRIX  = torch.tensor([[1,3],\n",
        "                        [9,4]])\n",
        "MATRIX"
      ],
      "metadata": {
        "colab": {
          "base_uri": "https://localhost:8080/"
        },
        "id": "dS-9Ty8F7ZvA",
        "outputId": "061845d5-27e4-46cf-fc63-6887a3ec8b7f"
      },
      "execution_count": 11,
      "outputs": [
        {
          "output_type": "execute_result",
          "data": {
            "text/plain": [
              "tensor([[1, 3],\n",
              "        [9, 4]])"
            ]
          },
          "metadata": {},
          "execution_count": 11
        }
      ]
    },
    {
      "cell_type": "code",
      "source": [
        "#shape of matrix\n",
        "MATRIX.shape\n"
      ],
      "metadata": {
        "colab": {
          "base_uri": "https://localhost:8080/"
        },
        "id": "vjO5KlWX8LvW",
        "outputId": "d1882647-4525-4701-d0df-b9245f36dddf"
      },
      "execution_count": 12,
      "outputs": [
        {
          "output_type": "execute_result",
          "data": {
            "text/plain": [
              "torch.Size([2, 2])"
            ]
          },
          "metadata": {},
          "execution_count": 12
        }
      ]
    },
    {
      "cell_type": "code",
      "source": [
        "#matrix dimension\n",
        "MATRIX.ndim"
      ],
      "metadata": {
        "colab": {
          "base_uri": "https://localhost:8080/"
        },
        "id": "2uxDqxSG9fDx",
        "outputId": "1a35757e-5090-401b-eeb8-041d9c1a92f5"
      },
      "execution_count": 13,
      "outputs": [
        {
          "output_type": "execute_result",
          "data": {
            "text/plain": [
              "2"
            ]
          },
          "metadata": {},
          "execution_count": 13
        }
      ]
    },
    {
      "cell_type": "code",
      "source": [
        "MATRIX[0]"
      ],
      "metadata": {
        "colab": {
          "base_uri": "https://localhost:8080/"
        },
        "id": "jhKT44e--DPQ",
        "outputId": "e960c89c-2aad-46fd-a30e-3027ab06a239"
      },
      "execution_count": 14,
      "outputs": [
        {
          "output_type": "execute_result",
          "data": {
            "text/plain": [
              "tensor([1, 3])"
            ]
          },
          "metadata": {},
          "execution_count": 14
        }
      ]
    },
    {
      "cell_type": "code",
      "source": [
        "# TENSOR\n",
        "\n",
        "TENSOR = torch.tensor([[[1,2,3],[2,3,4],[3,4,5]]])\n",
        "TENSOR\n"
      ],
      "metadata": {
        "id": "9_Edc8_U-Lqg",
        "colab": {
          "base_uri": "https://localhost:8080/"
        },
        "outputId": "5ea42f88-7dbe-4909-fa45-6bd2e7b46f8f"
      },
      "execution_count": 15,
      "outputs": [
        {
          "output_type": "execute_result",
          "data": {
            "text/plain": [
              "tensor([[[1, 2, 3],\n",
              "         [2, 3, 4],\n",
              "         [3, 4, 5]]])"
            ]
          },
          "metadata": {},
          "execution_count": 15
        }
      ]
    },
    {
      "cell_type": "code",
      "source": [
        "TENSOR.shape\n",
        "#here the 1 is from the whole index []\n",
        "# second 3 is from the three index\n",
        "#third 3 is from the 3 input in the index[]"
      ],
      "metadata": {
        "colab": {
          "base_uri": "https://localhost:8080/"
        },
        "id": "3P1n8pQE_wjW",
        "outputId": "e7a8478d-75de-443a-87db-819f7261c2ef"
      },
      "execution_count": 16,
      "outputs": [
        {
          "output_type": "execute_result",
          "data": {
            "text/plain": [
              "torch.Size([1, 3, 3])"
            ]
          },
          "metadata": {},
          "execution_count": 16
        }
      ]
    },
    {
      "cell_type": "code",
      "source": [
        "TENSOR.ndim\n"
      ],
      "metadata": {
        "colab": {
          "base_uri": "https://localhost:8080/"
        },
        "id": "H05bLAUz_1D3",
        "outputId": "aeb0508f-9685-4133-a967-b705376f1444"
      },
      "execution_count": 17,
      "outputs": [
        {
          "output_type": "execute_result",
          "data": {
            "text/plain": [
              "3"
            ]
          },
          "metadata": {},
          "execution_count": 17
        }
      ]
    },
    {
      "cell_type": "code",
      "source": [
        "TENSOR = torch.tensor([[[[1,2,3],[2,3,4],[3,4,5]]]])\n",
        "TENSOR.shape"
      ],
      "metadata": {
        "colab": {
          "base_uri": "https://localhost:8080/"
        },
        "id": "QTPZrLeXBhya",
        "outputId": "2e883cbc-e566-4b45-91f8-e3746336afc0"
      },
      "execution_count": 18,
      "outputs": [
        {
          "output_type": "execute_result",
          "data": {
            "text/plain": [
              "torch.Size([1, 1, 3, 3])"
            ]
          },
          "metadata": {},
          "execution_count": 18
        }
      ]
    },
    {
      "cell_type": "markdown",
      "source": [
        "#Random Tensors"
      ],
      "metadata": {
        "id": "yyD3DS9LCBqC"
      }
    },
    {
      "cell_type": "code",
      "source": [
        "#Create a random tensor of size (2,4)\n",
        "random_Tensor = torch.rand(2,4)\n",
        "random_Tensor"
      ],
      "metadata": {
        "id": "UDtx7ySGC5Gy",
        "colab": {
          "base_uri": "https://localhost:8080/"
        },
        "outputId": "1c2e8486-3cf1-4499-91ce-d44c37609947"
      },
      "execution_count": 19,
      "outputs": [
        {
          "output_type": "execute_result",
          "data": {
            "text/plain": [
              "tensor([[0.9926, 0.0960, 0.4527, 0.1839],\n",
              "        [0.3866, 0.9813, 0.5229, 0.3978]])"
            ]
          },
          "metadata": {},
          "execution_count": 19
        }
      ]
    },
    {
      "cell_type": "code",
      "source": [
        "random_Tensor.ndim"
      ],
      "metadata": {
        "colab": {
          "base_uri": "https://localhost:8080/"
        },
        "id": "c68h9OVAENlv",
        "outputId": "548a2ff8-8ffc-48ce-eddc-e9642a1f0441"
      },
      "execution_count": 20,
      "outputs": [
        {
          "output_type": "execute_result",
          "data": {
            "text/plain": [
              "2"
            ]
          },
          "metadata": {},
          "execution_count": 20
        }
      ]
    },
    {
      "cell_type": "code",
      "source": [
        "random_Tensor.shape"
      ],
      "metadata": {
        "colab": {
          "base_uri": "https://localhost:8080/"
        },
        "id": "djzGy4wBEKrh",
        "outputId": "0c569303-15a8-4c56-b986-ab57fc9370f0"
      },
      "execution_count": 21,
      "outputs": [
        {
          "output_type": "execute_result",
          "data": {
            "text/plain": [
              "torch.Size([2, 4])"
            ]
          },
          "metadata": {},
          "execution_count": 21
        }
      ]
    },
    {
      "cell_type": "markdown",
      "source": [
        "Create a random tensor with similar shape to an image  tensor"
      ],
      "metadata": {
        "id": "l1V5vNWGE7oC"
      }
    },
    {
      "cell_type": "code",
      "source": [
        "random_image_size = torch.rand(size=(244,244,5)) #height, width, colour channels(R,G,B)\n",
        "#also colour channels will switch first or last in the index().\n",
        "\n",
        "\n",
        "random_image_size.shape , random_image_size.ndim"
      ],
      "metadata": {
        "id": "SpM6FhfyFIL7",
        "colab": {
          "base_uri": "https://localhost:8080/"
        },
        "outputId": "e45d6f10-f76c-452b-95f2-5ebbb60b77f9"
      },
      "execution_count": 22,
      "outputs": [
        {
          "output_type": "execute_result",
          "data": {
            "text/plain": [
              "(torch.Size([244, 244, 5]), 3)"
            ]
          },
          "metadata": {},
          "execution_count": 22
        }
      ]
    },
    {
      "cell_type": "markdown",
      "source": [
        "#Zero and ones"
      ],
      "metadata": {
        "id": "bmsWeKh_HnLm"
      }
    },
    {
      "cell_type": "code",
      "source": [
        "import torch\n",
        "#Create a tensor of all zeros\n",
        "zero = torch.zeros(size=(2,4))\n",
        "zero"
      ],
      "metadata": {
        "colab": {
          "base_uri": "https://localhost:8080/"
        },
        "id": "NjnRCfoJHsPL",
        "outputId": "73bb1dc2-53e6-4bc4-f924-46237be7ce63"
      },
      "execution_count": 23,
      "outputs": [
        {
          "output_type": "execute_result",
          "data": {
            "text/plain": [
              "tensor([[0., 0., 0., 0.],\n",
              "        [0., 0., 0., 0.]])"
            ]
          },
          "metadata": {},
          "execution_count": 23
        }
      ]
    },
    {
      "cell_type": "code",
      "source": [
        "# tensor of ones\n",
        "ones = torch.ones(size=(2,4))\n",
        "ones"
      ],
      "metadata": {
        "colab": {
          "base_uri": "https://localhost:8080/"
        },
        "id": "OH-xJx-2IaOI",
        "outputId": "2726352f-f3f8-4ff7-9c12-2269d7965dbf"
      },
      "execution_count": 24,
      "outputs": [
        {
          "output_type": "execute_result",
          "data": {
            "text/plain": [
              "tensor([[1., 1., 1., 1.],\n",
              "        [1., 1., 1., 1.]])"
            ]
          },
          "metadata": {},
          "execution_count": 24
        }
      ]
    },
    {
      "cell_type": "code",
      "source": [
        "ones.dtype # this the default data type"
      ],
      "metadata": {
        "colab": {
          "base_uri": "https://localhost:8080/"
        },
        "id": "ACeHKl6fKvaq",
        "outputId": "d6ddd8db-453e-4d3a-d743-02a50eb061e1"
      },
      "execution_count": 25,
      "outputs": [
        {
          "output_type": "execute_result",
          "data": {
            "text/plain": [
              "torch.float32"
            ]
          },
          "metadata": {},
          "execution_count": 25
        }
      ]
    },
    {
      "cell_type": "code",
      "source": [
        "zero.dtype #expizitlity define the dataType"
      ],
      "metadata": {
        "colab": {
          "base_uri": "https://localhost:8080/"
        },
        "id": "grsir-mbPebm",
        "outputId": "00b19594-9ae2-4ccb-dab9-b82a862364cb"
      },
      "execution_count": 26,
      "outputs": [
        {
          "output_type": "execute_result",
          "data": {
            "text/plain": [
              "torch.float32"
            ]
          },
          "metadata": {},
          "execution_count": 26
        }
      ]
    },
    {
      "cell_type": "markdown",
      "source": [
        "#Creating a range of Tensors and Tensors-like"
      ],
      "metadata": {
        "id": "7PYURUhOPeLE"
      }
    },
    {
      "cell_type": "code",
      "source": [
        "import torch\n",
        "#use torch.range()\n",
        "tt = torch.arange(0,5) #use the arange() instead of range() as the range is been in consistant in the python\n",
        "tt"
      ],
      "metadata": {
        "colab": {
          "base_uri": "https://localhost:8080/"
        },
        "id": "c5c7JF6yJ7LO",
        "outputId": "2abdac57-86af-41dd-cef8-4bb837d56eea"
      },
      "execution_count": 27,
      "outputs": [
        {
          "output_type": "execute_result",
          "data": {
            "text/plain": [
              "tensor([0, 1, 2, 3, 4])"
            ]
          },
          "metadata": {},
          "execution_count": 27
        }
      ]
    },
    {
      "cell_type": "code",
      "source": [
        "#Creating tensors zeros like\n",
        "tenZeros = torch.zeros_like(tt)\n",
        "tenZeros"
      ],
      "metadata": {
        "colab": {
          "base_uri": "https://localhost:8080/"
        },
        "id": "Z9wYDr_q7Hd0",
        "outputId": "4fbf8d2e-90ca-42eb-f9d6-ac93c6f4f57d"
      },
      "execution_count": 28,
      "outputs": [
        {
          "output_type": "execute_result",
          "data": {
            "text/plain": [
              "tensor([0, 0, 0, 0, 0])"
            ]
          },
          "metadata": {},
          "execution_count": 28
        }
      ]
    },
    {
      "cell_type": "markdown",
      "source": [
        "#TensoDataType\n",
        "\n",
        "Note: We gonna get more error in datatypes with pytorch and deep learning\n",
        "1. tensor not right datatype\n",
        "2. tensor not right shape\n",
        "3. tensor not right device"
      ],
      "metadata": {
        "id": "pPHJl3Df8QQ2"
      }
    },
    {
      "cell_type": "code",
      "source": [
        "#Float Datatype\n",
        "float_t = torch.tensor([5.0,6.0,8.0],\n",
        "                       dtype=None,# datatype that you can set in the tensor(ex: float32 or float16 or float64)\n",
        "                       device=None, #  the default CPU and we can change to GPU(cuda)\n",
        "                       requires_grad=False)# whether or not to track gradients with this tensors operations\n",
        "\n",
        "float_t\n"
      ],
      "metadata": {
        "colab": {
          "base_uri": "https://localhost:8080/"
        },
        "id": "Xkg4zSft9afI",
        "outputId": "ee26ccd7-9415-44b2-f763-d64644a58ddf"
      },
      "execution_count": 29,
      "outputs": [
        {
          "output_type": "execute_result",
          "data": {
            "text/plain": [
              "tensor([5., 6., 8.])"
            ]
          },
          "metadata": {},
          "execution_count": 29
        }
      ]
    },
    {
      "cell_type": "code",
      "source": [
        "float_t.dtype"
      ],
      "metadata": {
        "colab": {
          "base_uri": "https://localhost:8080/"
        },
        "id": "Qn1ekoud-HAJ",
        "outputId": "dbda5af3-a14c-4d6d-d785-05895acdc558"
      },
      "execution_count": 30,
      "outputs": [
        {
          "output_type": "execute_result",
          "data": {
            "text/plain": [
              "torch.float32"
            ]
          },
          "metadata": {},
          "execution_count": 30
        }
      ]
    },
    {
      "cell_type": "code",
      "source": [
        "#Convert the datatype to float32 default to float 16\n",
        "float_16 = float_t.type(torch.float16)\n",
        "float_16"
      ],
      "metadata": {
        "colab": {
          "base_uri": "https://localhost:8080/"
        },
        "id": "ewkAbx0JA1Qo",
        "outputId": "b51a4bf4-ad74-40f5-bac6-cd7be75cf15b"
      },
      "execution_count": 31,
      "outputs": [
        {
          "output_type": "execute_result",
          "data": {
            "text/plain": [
              "tensor([5., 6., 8.], dtype=torch.float16)"
            ]
          },
          "metadata": {},
          "execution_count": 31
        }
      ]
    },
    {
      "cell_type": "code",
      "source": [
        "#even we can multiply the tensor\n",
        "float_16*float_t"
      ],
      "metadata": {
        "colab": {
          "base_uri": "https://localhost:8080/"
        },
        "id": "-R0jy0YKA3UJ",
        "outputId": "f8732822-ece7-4c14-a3a5-0ca9cbb20975"
      },
      "execution_count": 32,
      "outputs": [
        {
          "output_type": "execute_result",
          "data": {
            "text/plain": [
              "tensor([25., 36., 64.])"
            ]
          },
          "metadata": {},
          "execution_count": 32
        }
      ]
    },
    {
      "cell_type": "code",
      "source": [
        "#int32 to float multiply\n",
        "int_32_tensor = torch.tensor([6,9,8], dtype=torch.int32)\n",
        "int_32_tensor"
      ],
      "metadata": {
        "colab": {
          "base_uri": "https://localhost:8080/"
        },
        "id": "8Qs77LuCG8tE",
        "outputId": "af357e17-74b3-4d64-90f5-4bdec06c73a8"
      },
      "execution_count": 33,
      "outputs": [
        {
          "output_type": "execute_result",
          "data": {
            "text/plain": [
              "tensor([6, 9, 8], dtype=torch.int32)"
            ]
          },
          "metadata": {},
          "execution_count": 33
        }
      ]
    },
    {
      "cell_type": "code",
      "source": [
        "int_32_tensor*float_16"
      ],
      "metadata": {
        "colab": {
          "base_uri": "https://localhost:8080/"
        },
        "id": "d2IxsSMJHWar",
        "outputId": "9f2ac86f-d2d5-42e2-e75c-35d83e581f7f"
      },
      "execution_count": 34,
      "outputs": [
        {
          "output_type": "execute_result",
          "data": {
            "text/plain": [
              "tensor([30., 54., 64.], dtype=torch.float16)"
            ]
          },
          "metadata": {},
          "execution_count": 34
        }
      ]
    },
    {
      "cell_type": "markdown",
      "source": [
        "#Getting information from the tensor\n",
        "1.tensor not right datatype #to get the tensor information use tensor.dtype\n",
        "2.tensor not right shape #to get the tensor information use tensor.shape\n",
        "3.tensor not right device #to get the tensor information use tensor.device"
      ],
      "metadata": {
        "id": "ilCdMhQJKcng"
      }
    },
    {
      "cell_type": "code",
      "source": [
        "some = torch.rand(3,5)\n",
        "some"
      ],
      "metadata": {
        "colab": {
          "base_uri": "https://localhost:8080/"
        },
        "id": "FlJAhqlILNss",
        "outputId": "f0736afc-1e7a-4d0b-8f62-3e39198a071e"
      },
      "execution_count": 35,
      "outputs": [
        {
          "output_type": "execute_result",
          "data": {
            "text/plain": [
              "tensor([[0.5068, 0.4706, 0.7992, 0.7876, 0.8895],\n",
              "        [0.9580, 0.9090, 0.2418, 0.4965, 0.9761],\n",
              "        [0.0773, 0.1334, 0.5440, 0.0897, 0.1708]])"
            ]
          },
          "metadata": {},
          "execution_count": 35
        }
      ]
    },
    {
      "cell_type": "code",
      "source": [
        "some.size(),  #this need to be in () if we need to call the size() menthod\n",
        "some.shape #this doesn't required the () as this has a attribute"
      ],
      "metadata": {
        "colab": {
          "base_uri": "https://localhost:8080/"
        },
        "id": "eaq2ZZhVMhCA",
        "outputId": "627ae089-5788-4b0b-f77d-39afd935d0a9"
      },
      "execution_count": 36,
      "outputs": [
        {
          "output_type": "execute_result",
          "data": {
            "text/plain": [
              "torch.Size([3, 5])"
            ]
          },
          "metadata": {},
          "execution_count": 36
        }
      ]
    },
    {
      "cell_type": "code",
      "source": [
        "#find the details of some tensor\n",
        "print(some)\n",
        "print(f\"Datatype of tensor:{some.dtype}\")\n",
        "print(f\"Shape of the tensor:{some.shape}\")\n",
        "print(f\"Device od the tensor:{some.device}\")"
      ],
      "metadata": {
        "colab": {
          "base_uri": "https://localhost:8080/"
        },
        "id": "IqM9JCt7NUUf",
        "outputId": "16791747-7c1e-470c-b0a4-90a1603a002b"
      },
      "execution_count": 37,
      "outputs": [
        {
          "output_type": "stream",
          "name": "stdout",
          "text": [
            "tensor([[0.5068, 0.4706, 0.7992, 0.7876, 0.8895],\n",
            "        [0.9580, 0.9090, 0.2418, 0.4965, 0.9761],\n",
            "        [0.0773, 0.1334, 0.5440, 0.0897, 0.1708]])\n",
            "Datatype of tensor:torch.float32\n",
            "Shape of the tensor:torch.Size([3, 5])\n",
            "Device od the tensor:cpu\n"
          ]
        }
      ]
    },
    {
      "cell_type": "code",
      "source": [
        "#manipulating the tensors add, sub, multi, division\n",
        "import torch\n",
        "tensor = torch.tensor([4,5,6])\n",
        "tensor +5"
      ],
      "metadata": {
        "colab": {
          "base_uri": "https://localhost:8080/"
        },
        "id": "76SDppmcNyEp",
        "outputId": "0392e8be-1f94-4699-eb05-ec6554afbaaf"
      },
      "execution_count": 38,
      "outputs": [
        {
          "output_type": "execute_result",
          "data": {
            "text/plain": [
              "tensor([ 9, 10, 11])"
            ]
          },
          "metadata": {},
          "execution_count": 38
        }
      ]
    },
    {
      "cell_type": "code",
      "source": [
        "tensor -10"
      ],
      "metadata": {
        "colab": {
          "base_uri": "https://localhost:8080/"
        },
        "id": "9ON9u3g8RWE-",
        "outputId": "4d7d0e51-7d57-4ec7-a489-9c58e24fcf51"
      },
      "execution_count": 39,
      "outputs": [
        {
          "output_type": "execute_result",
          "data": {
            "text/plain": [
              "tensor([-6, -5, -4])"
            ]
          },
          "metadata": {},
          "execution_count": 39
        }
      ]
    },
    {
      "cell_type": "code",
      "source": [
        "#Using the inbuilt function in the tensor\n",
        "\n",
        "torch.add(tensor,10)"
      ],
      "metadata": {
        "colab": {
          "base_uri": "https://localhost:8080/"
        },
        "id": "w59fS1cfRYzj",
        "outputId": "f17fddcc-96b3-4e8b-fe2b-e8039546337e"
      },
      "execution_count": 40,
      "outputs": [
        {
          "output_type": "execute_result",
          "data": {
            "text/plain": [
              "tensor([14, 15, 16])"
            ]
          },
          "metadata": {},
          "execution_count": 40
        }
      ]
    },
    {
      "cell_type": "code",
      "source": [
        "#sub using inbuilt function\n",
        "torch.sub(tensor,5)"
      ],
      "metadata": {
        "colab": {
          "base_uri": "https://localhost:8080/"
        },
        "id": "SswtkLv5VUvy",
        "outputId": "4e94ad19-1259-42ab-b043-b97f97625ff9"
      },
      "execution_count": 41,
      "outputs": [
        {
          "output_type": "execute_result",
          "data": {
            "text/plain": [
              "tensor([-1,  0,  1])"
            ]
          },
          "metadata": {},
          "execution_count": 41
        }
      ]
    },
    {
      "cell_type": "markdown",
      "source": [
        "#Matrix multiplication\n",
        "\n",
        "Note: we can use the @ or matmul for the multiplication\n",
        "\n",
        "#Make sure the two rules 1. inner dimmensions should match\n",
        "ex: 1. (4,2) @(4,2) this will throw the error as the inner dimension is not mathcing\n",
        "2. (4,2)@(2,4) this will work as their inner dimension matches\n",
        "3.(2,4)@(4,2)this will work too\n",
        "\n",
        "#2. the matrix has  the shape of outer dimension\n",
        "1.(2,3)@(3,2) it will work and shows (2,2)\n",
        "\n",
        "2.(4,5)@(5,4) - >(4,4)"
      ],
      "metadata": {
        "id": "Vm7F0s2pZdos"
      }
    },
    {
      "cell_type": "code",
      "source": [
        "#Element wise multiplication\n",
        "print(tensor, \"*\" ,tensor)\n",
        "print(f\"Equals:{tensor * tensor}\")"
      ],
      "metadata": {
        "colab": {
          "base_uri": "https://localhost:8080/"
        },
        "id": "-BlbV9rHZhSp",
        "outputId": "19a18c82-29d8-4b91-97cb-f09268d60d95"
      },
      "execution_count": 42,
      "outputs": [
        {
          "output_type": "stream",
          "name": "stdout",
          "text": [
            "tensor([4, 5, 6]) * tensor([4, 5, 6])\n",
            "Equals:tensor([16, 25, 36])\n"
          ]
        }
      ]
    },
    {
      "cell_type": "code",
      "source": [
        "#matix multiplication\n",
        "\n",
        "torch.matmul(tensor, tensor) #vector version instead of for loop"
      ],
      "metadata": {
        "colab": {
          "base_uri": "https://localhost:8080/"
        },
        "id": "_CWnkTVxauig",
        "outputId": "886fea92-2297-4deb-e57a-0c291ef0b74a"
      },
      "execution_count": 43,
      "outputs": [
        {
          "output_type": "execute_result",
          "data": {
            "text/plain": [
              "tensor(77)"
            ]
          },
          "metadata": {},
          "execution_count": 43
        }
      ]
    },
    {
      "cell_type": "code",
      "source": [
        "#how it works with multiplication\n",
        "4*4+5*5+6*6\n"
      ],
      "metadata": {
        "colab": {
          "base_uri": "https://localhost:8080/"
        },
        "id": "5PBwQJjObaOC",
        "outputId": "26a0477c-c662-4f24-f6a9-0ad4dbdaba1f"
      },
      "execution_count": 44,
      "outputs": [
        {
          "output_type": "execute_result",
          "data": {
            "text/plain": [
              "77"
            ]
          },
          "metadata": {},
          "execution_count": 44
        }
      ]
    },
    {
      "cell_type": "code",
      "source": [
        "%%time\n",
        "value = 0\n",
        "for i in range(len(tensor)):\n",
        "  value += tensor[i]*tensor[i]\n",
        "print(value)\n",
        "\n"
      ],
      "metadata": {
        "id": "dle2ZciIbosL",
        "colab": {
          "base_uri": "https://localhost:8080/"
        },
        "outputId": "9948988c-65ee-417f-85f2-a18b3f14d856"
      },
      "execution_count": 45,
      "outputs": [
        {
          "output_type": "stream",
          "name": "stdout",
          "text": [
            "tensor(77)\n",
            "CPU times: user 1.79 ms, sys: 136 µs, total: 1.92 ms\n",
            "Wall time: 2.23 ms\n"
          ]
        }
      ]
    },
    {
      "cell_type": "code",
      "source": [
        "#another way to multipy the tensor\n",
        "tensor @ tensor\n"
      ],
      "metadata": {
        "id": "tXC7rkseWrzN",
        "colab": {
          "base_uri": "https://localhost:8080/"
        },
        "outputId": "45858e47-ae72-44d1-c521-34672c69a9c4"
      },
      "execution_count": 46,
      "outputs": [
        {
          "output_type": "execute_result",
          "data": {
            "text/plain": [
              "tensor(77)"
            ]
          },
          "metadata": {},
          "execution_count": 46
        }
      ]
    },
    {
      "cell_type": "code",
      "source": [
        "#shapes of matrix multiplication\n",
        "\n",
        "tensor1 = torch.tensor([[2,5],\n",
        "                       [3,6],\n",
        "                       [5,4]])\n",
        "\n",
        "tensor2 = torch.tensor([[5,4],\n",
        "                       [7,2],\n",
        "                       [8,9]])\n",
        "\n",
        "torch.mm(tensor1,tensor2)#.mm stands for matmul mm is a short form of matmul\n",
        "\n"
      ],
      "metadata": {
        "colab": {
          "base_uri": "https://localhost:8080/",
          "height": 193
        },
        "id": "DP0tQjQKXMaU",
        "outputId": "79bba375-ccb1-482f-e3ff-9060675a9069"
      },
      "execution_count": 48,
      "outputs": [
        {
          "output_type": "error",
          "ename": "RuntimeError",
          "evalue": "mat1 and mat2 shapes cannot be multiplied (3x2 and 3x2)",
          "traceback": [
            "\u001b[0;31m---------------------------------------------------------------------------\u001b[0m",
            "\u001b[0;31mRuntimeError\u001b[0m                              Traceback (most recent call last)",
            "\u001b[0;32m<ipython-input-48-d6d5c0d73274>\u001b[0m in \u001b[0;36m<cell line: 11>\u001b[0;34m()\u001b[0m\n\u001b[1;32m      9\u001b[0m                        [8,9]])\n\u001b[1;32m     10\u001b[0m \u001b[0;34m\u001b[0m\u001b[0m\n\u001b[0;32m---> 11\u001b[0;31m \u001b[0mtorch\u001b[0m\u001b[0;34m.\u001b[0m\u001b[0mmm\u001b[0m\u001b[0;34m(\u001b[0m\u001b[0mtensor1\u001b[0m\u001b[0;34m,\u001b[0m\u001b[0mtensor2\u001b[0m\u001b[0;34m)\u001b[0m\u001b[0;31m#.mm stands for matmul mm is a short form of matmul\u001b[0m\u001b[0;34m\u001b[0m\u001b[0;34m\u001b[0m\u001b[0m\n\u001b[0m\u001b[1;32m     12\u001b[0m \u001b[0;34m\u001b[0m\u001b[0m\n",
            "\u001b[0;31mRuntimeError\u001b[0m: mat1 and mat2 shapes cannot be multiplied (3x2 and 3x2)"
          ]
        }
      ]
    },
    {
      "cell_type": "markdown",
      "source": [
        "# to fix the tensor we will use transpose using the T.\n"
      ],
      "metadata": {
        "id": "vTgRzBmThkWG"
      }
    },
    {
      "cell_type": "code",
      "source": [
        "tensor2.shape"
      ],
      "metadata": {
        "colab": {
          "base_uri": "https://localhost:8080/"
        },
        "id": "ng2oG9w3j39u",
        "outputId": "a91f4db3-f39e-472a-ab79-d10b118dbc07"
      },
      "execution_count": 49,
      "outputs": [
        {
          "output_type": "execute_result",
          "data": {
            "text/plain": [
              "torch.Size([3, 2])"
            ]
          },
          "metadata": {},
          "execution_count": 49
        }
      ]
    },
    {
      "cell_type": "code",
      "source": [
        "#here is the ex using the T\n",
        "tensor2.T, tensor2.T.shape"
      ],
      "metadata": {
        "colab": {
          "base_uri": "https://localhost:8080/"
        },
        "id": "QdzGc-_jjjA4",
        "outputId": "6d3b2e3b-c379-4651-85ac-dfcc38b2e90d"
      },
      "execution_count": 50,
      "outputs": [
        {
          "output_type": "execute_result",
          "data": {
            "text/plain": [
              "(tensor([[5, 7, 8],\n",
              "         [4, 2, 9]]),\n",
              " torch.Size([2, 3]))"
            ]
          },
          "metadata": {},
          "execution_count": 50
        }
      ]
    },
    {
      "cell_type": "code",
      "source": [
        "# now using tensor2.T we will multipy the matrix\n",
        "# as we transform tensor2.T not the tensor1. This is eligible with the rule 1\n",
        "# rule 1 is inner dimension should match so for our examples\n",
        "# the tensor 1 has dimension of (3,2) and we transpose the tensor2 to (2,3) so this will work without any issue\n",
        "\n",
        "torch.mm(tensor1,tensor2.T)#.mm stands for matmul mm is a short form of matmul\n",
        "\n"
      ],
      "metadata": {
        "colab": {
          "base_uri": "https://localhost:8080/"
        },
        "id": "i3KPn61ckdkn",
        "outputId": "8ee5c891-2471-455e-b282-a0a4510cea95"
      },
      "execution_count": 51,
      "outputs": [
        {
          "output_type": "execute_result",
          "data": {
            "text/plain": [
              "tensor([[30, 24, 61],\n",
              "        [39, 33, 78],\n",
              "        [41, 43, 76]])"
            ]
          },
          "metadata": {},
          "execution_count": 51
        }
      ]
    },
    {
      "cell_type": "code",
      "source": [
        "# here we are doing the outer dimmension example\n",
        "# we will set the (4,3)matrix to match with rule 2\n",
        "tensor3 = torch.tensor([[5,6,5],\n",
        "                       [4,5,7],\n",
        "                       [0,0,8],\n",
        "                        [2,5,8]])\n",
        "tensor4 = torch.tensor([[3,6,2],\n",
        "                       [1,1,1],\n",
        "                       [3,8,4],\n",
        "                        [4,7,8]])"
      ],
      "metadata": {
        "id": "EEMP1vDNmsrI"
      },
      "execution_count": 52,
      "outputs": []
    },
    {
      "cell_type": "code",
      "source": [
        "torch.mm(tensor3, tensor4)"
      ],
      "metadata": {
        "colab": {
          "base_uri": "https://localhost:8080/",
          "height": 141
        },
        "id": "8qkGzxSSnCD6",
        "outputId": "e8c0da9d-6a0f-4a38-d7d6-a2cab0447f5b"
      },
      "execution_count": 54,
      "outputs": [
        {
          "output_type": "error",
          "ename": "RuntimeError",
          "evalue": "mat1 and mat2 shapes cannot be multiplied (4x3 and 4x3)",
          "traceback": [
            "\u001b[0;31m---------------------------------------------------------------------------\u001b[0m",
            "\u001b[0;31mRuntimeError\u001b[0m                              Traceback (most recent call last)",
            "\u001b[0;32m<ipython-input-54-6c37b38e43f5>\u001b[0m in \u001b[0;36m<cell line: 1>\u001b[0;34m()\u001b[0m\n\u001b[0;32m----> 1\u001b[0;31m \u001b[0mtorch\u001b[0m\u001b[0;34m.\u001b[0m\u001b[0mmm\u001b[0m\u001b[0;34m(\u001b[0m\u001b[0mtensor3\u001b[0m\u001b[0;34m,\u001b[0m \u001b[0mtensor4\u001b[0m\u001b[0;34m)\u001b[0m\u001b[0;34m\u001b[0m\u001b[0;34m\u001b[0m\u001b[0m\n\u001b[0m",
            "\u001b[0;31mRuntimeError\u001b[0m: mat1 and mat2 shapes cannot be multiplied (4x3 and 4x3)"
          ]
        }
      ]
    },
    {
      "cell_type": "code",
      "source": [
        "tensor3.T"
      ],
      "metadata": {
        "colab": {
          "base_uri": "https://localhost:8080/"
        },
        "id": "NK9IDkR3n-92",
        "outputId": "0d07107e-4dc7-477d-f145-2853365841a8"
      },
      "execution_count": 55,
      "outputs": [
        {
          "output_type": "execute_result",
          "data": {
            "text/plain": [
              "tensor([[5, 4, 0, 2],\n",
              "        [6, 5, 0, 5],\n",
              "        [5, 7, 8, 8]])"
            ]
          },
          "metadata": {},
          "execution_count": 55
        }
      ]
    },
    {
      "cell_type": "code",
      "source": [
        "tensor3.T.shape"
      ],
      "metadata": {
        "colab": {
          "base_uri": "https://localhost:8080/"
        },
        "id": "JavQQZ1MormM",
        "outputId": "a8742773-4403-4acc-cba5-52e5eb517136"
      },
      "execution_count": 56,
      "outputs": [
        {
          "output_type": "execute_result",
          "data": {
            "text/plain": [
              "torch.Size([3, 4])"
            ]
          },
          "metadata": {},
          "execution_count": 56
        }
      ]
    },
    {
      "cell_type": "code",
      "source": [
        "torch.mm(tensor3.T, tensor4)"
      ],
      "metadata": {
        "colab": {
          "base_uri": "https://localhost:8080/"
        },
        "id": "b4uaBPr6ow0Z",
        "outputId": "df182a15-c8c8-4ae8-f82a-cf89ea262319"
      },
      "execution_count": 57,
      "outputs": [
        {
          "output_type": "execute_result",
          "data": {
            "text/plain": [
              "tensor([[ 27,  48,  30],\n",
              "        [ 43,  76,  57],\n",
              "        [ 78, 157, 113]])"
            ]
          },
          "metadata": {},
          "execution_count": 57
        }
      ]
    },
    {
      "cell_type": "markdown",
      "source": [
        "#Finding the min,max,sum(tesnor aggregation)"
      ],
      "metadata": {
        "id": "cYY2sM6hqIId"
      }
    },
    {
      "cell_type": "code",
      "source": [
        "#Create a tensor\n",
        "a = torch.arange(1,50,10)\n",
        "a"
      ],
      "metadata": {
        "colab": {
          "base_uri": "https://localhost:8080/"
        },
        "id": "h6tg6deeq3oY",
        "outputId": "b283c33c-3f1f-4f8f-ab5a-c11a2eaed88b"
      },
      "execution_count": 58,
      "outputs": [
        {
          "output_type": "execute_result",
          "data": {
            "text/plain": [
              "tensor([ 1, 11, 21, 31, 41])"
            ]
          },
          "metadata": {},
          "execution_count": 58
        }
      ]
    },
    {
      "cell_type": "code",
      "source": [
        "torch.min(a), a.min()#another way to call"
      ],
      "metadata": {
        "colab": {
          "base_uri": "https://localhost:8080/"
        },
        "id": "CTKD8Owqw9wi",
        "outputId": "30921987-557d-444a-eb92-d2ce15e6e773"
      },
      "execution_count": 59,
      "outputs": [
        {
          "output_type": "execute_result",
          "data": {
            "text/plain": [
              "(tensor(1), tensor(1))"
            ]
          },
          "metadata": {},
          "execution_count": 59
        }
      ]
    },
    {
      "cell_type": "code",
      "source": [
        "torch.max(a), a.max()"
      ],
      "metadata": {
        "colab": {
          "base_uri": "https://localhost:8080/"
        },
        "id": "aAkkYN95xUft",
        "outputId": "bffe2deb-99e3-4a8e-801f-f8cbfe52d2d8"
      },
      "execution_count": 60,
      "outputs": [
        {
          "output_type": "execute_result",
          "data": {
            "text/plain": [
              "(tensor(41), tensor(41))"
            ]
          },
          "metadata": {},
          "execution_count": 60
        }
      ]
    },
    {
      "cell_type": "code",
      "source": [
        "torch.mean(a)"
      ],
      "metadata": {
        "colab": {
          "base_uri": "https://localhost:8080/",
          "height": 141
        },
        "id": "QY7xJc-uxXHk",
        "outputId": "4ac62ce1-7628-4042-cf14-c5b5da038567"
      },
      "execution_count": 62,
      "outputs": [
        {
          "output_type": "error",
          "ename": "RuntimeError",
          "evalue": "mean(): could not infer output dtype. Input dtype must be either a floating point or complex dtype. Got: Long",
          "traceback": [
            "\u001b[0;31m---------------------------------------------------------------------------\u001b[0m",
            "\u001b[0;31mRuntimeError\u001b[0m                              Traceback (most recent call last)",
            "\u001b[0;32m<ipython-input-62-8ac49bb4b0bb>\u001b[0m in \u001b[0;36m<cell line: 1>\u001b[0;34m()\u001b[0m\n\u001b[0;32m----> 1\u001b[0;31m \u001b[0mtorch\u001b[0m\u001b[0;34m.\u001b[0m\u001b[0mmean\u001b[0m\u001b[0;34m(\u001b[0m\u001b[0ma\u001b[0m\u001b[0;34m)\u001b[0m\u001b[0;34m\u001b[0m\u001b[0;34m\u001b[0m\u001b[0m\n\u001b[0m",
            "\u001b[0;31mRuntimeError\u001b[0m: mean(): could not infer output dtype. Input dtype must be either a floating point or complex dtype. Got: Long"
          ]
        }
      ]
    },
    {
      "cell_type": "code",
      "source": [
        "#change the datatype as it throws error\n",
        "torch.mean(a.type(torch.float32))"
      ],
      "metadata": {
        "colab": {
          "base_uri": "https://localhost:8080/"
        },
        "id": "AxjmJ_V-yAQO",
        "outputId": "a7b477ee-ff47-4cfd-c8ae-d3b0ee1be370"
      },
      "execution_count": 63,
      "outputs": [
        {
          "output_type": "execute_result",
          "data": {
            "text/plain": [
              "tensor(21.)"
            ]
          },
          "metadata": {},
          "execution_count": 63
        }
      ]
    },
    {
      "cell_type": "code",
      "source": [
        "#Find the sum\n",
        "torch.sum(a),a.sum()"
      ],
      "metadata": {
        "colab": {
          "base_uri": "https://localhost:8080/"
        },
        "id": "ddWhVx9Wz_Qv",
        "outputId": "4d0d033e-a1c6-4c21-9a19-2640a38cbcbb"
      },
      "execution_count": 64,
      "outputs": [
        {
          "output_type": "execute_result",
          "data": {
            "text/plain": [
              "(tensor(105), tensor(105))"
            ]
          },
          "metadata": {},
          "execution_count": 64
        }
      ]
    },
    {
      "cell_type": "markdown",
      "source": [
        "#finding the positional of Min and Max"
      ],
      "metadata": {
        "id": "XFh01-qn0jAX"
      }
    },
    {
      "cell_type": "code",
      "source": [
        "a\n"
      ],
      "metadata": {
        "colab": {
          "base_uri": "https://localhost:8080/"
        },
        "id": "Zxyvjtbo0qVf",
        "outputId": "e5fa894a-e114-4743-c7e8-2acae55c460d"
      },
      "execution_count": 65,
      "outputs": [
        {
          "output_type": "execute_result",
          "data": {
            "text/plain": [
              "tensor([ 1, 11, 21, 31, 41])"
            ]
          },
          "metadata": {},
          "execution_count": 65
        }
      ]
    },
    {
      "cell_type": "code",
      "source": [
        "a.argmin()#here armin means argrument min value"
      ],
      "metadata": {
        "colab": {
          "base_uri": "https://localhost:8080/"
        },
        "id": "f6qT2JuT00xn",
        "outputId": "82519e68-03f1-4fcf-830a-fb3d4bbcbf0e"
      },
      "execution_count": 66,
      "outputs": [
        {
          "output_type": "execute_result",
          "data": {
            "text/plain": [
              "tensor(0)"
            ]
          },
          "metadata": {},
          "execution_count": 66
        }
      ]
    },
    {
      "cell_type": "code",
      "source": [
        "a.argmax()"
      ],
      "metadata": {
        "colab": {
          "base_uri": "https://localhost:8080/"
        },
        "id": "3EqW1YYF03nA",
        "outputId": "c3aabcf1-4e88-45eb-fee7-bdf8d26c79b8"
      },
      "execution_count": 67,
      "outputs": [
        {
          "output_type": "execute_result",
          "data": {
            "text/plain": [
              "tensor(4)"
            ]
          },
          "metadata": {},
          "execution_count": 67
        }
      ]
    },
    {
      "cell_type": "code",
      "source": [
        "a[0]"
      ],
      "metadata": {
        "colab": {
          "base_uri": "https://localhost:8080/"
        },
        "id": "-5pUV_Y71Pl3",
        "outputId": "1e67eef4-f27f-4b4b-98c3-d25fab795fad"
      },
      "execution_count": 68,
      "outputs": [
        {
          "output_type": "execute_result",
          "data": {
            "text/plain": [
              "tensor(1)"
            ]
          },
          "metadata": {},
          "execution_count": 68
        }
      ]
    },
    {
      "cell_type": "markdown",
      "source": [
        "#Reshapping, stacking, squeezing and unsquezing tensors\n",
        "Reshaping - rehsapes the input to define shape\n",
        "\n",
        "staching - combine multiple tensors on tip each other(vstak) and (hstack) for side by side\n",
        "\n",
        "view- to view of an uninput tensorsof certain shape but to keep the same memory as original tensor\n",
        "\n",
        "squeeze: to remove the 1 dimensions from tensor\n",
        "unsqueeze: to add the 1 dimension in the tensor\n",
        "permute: return a view of the input with dimension permuted(swapped)in a certain way\n"
      ],
      "metadata": {
        "id": "mLUdudMv1bAF"
      }
    },
    {
      "cell_type": "code",
      "source": [
        "import torch\n",
        "b = torch.arange(1, 9)\n",
        "b, b.shape"
      ],
      "metadata": {
        "colab": {
          "base_uri": "https://localhost:8080/"
        },
        "id": "DuLmKQMg2beZ",
        "outputId": "fc74b23d-1a97-4176-e22d-1d2c8ca9bcf8"
      },
      "execution_count": 69,
      "outputs": [
        {
          "output_type": "execute_result",
          "data": {
            "text/plain": [
              "(tensor([1, 2, 3, 4, 5, 6, 7, 8]), torch.Size([8]))"
            ]
          },
          "metadata": {},
          "execution_count": 69
        }
      ]
    },
    {
      "cell_type": "code",
      "source": [
        "# Reshapping\n",
        "\n",
        "b_resh = b.reshape(1,8) # this will add the tensor to inside the single dimension which is \"1\" and you will see [] inside it\n",
        "b_resh, b_resh.shape\n"
      ],
      "metadata": {
        "colab": {
          "base_uri": "https://localhost:8080/"
        },
        "id": "QTTMNlt24l6e",
        "outputId": "203eba16-1394-40dd-e852-ab08b60365f0"
      },
      "execution_count": 70,
      "outputs": [
        {
          "output_type": "execute_result",
          "data": {
            "text/plain": [
              "(tensor([[1, 2, 3, 4, 5, 6, 7, 8]]), torch.Size([1, 8]))"
            ]
          },
          "metadata": {},
          "execution_count": 70
        }
      ]
    },
    {
      "cell_type": "code",
      "source": [
        "# Reshapping\n",
        "\n",
        "b_resh = b.reshape(4,2) # this will add the tensor to inside the single dimension which is \"2\" and you will see [] inside it\n",
        "b_resh, b_resh.shape"
      ],
      "metadata": {
        "colab": {
          "base_uri": "https://localhost:8080/"
        },
        "id": "lTHhxZS-7imO",
        "outputId": "b20adabd-c333-4936-bc6a-4be074393dbf"
      },
      "execution_count": 71,
      "outputs": [
        {
          "output_type": "execute_result",
          "data": {
            "text/plain": [
              "(tensor([[1, 2],\n",
              "         [3, 4],\n",
              "         [5, 6],\n",
              "         [7, 8]]),\n",
              " torch.Size([4, 2]))"
            ]
          },
          "metadata": {},
          "execution_count": 71
        }
      ]
    },
    {
      "cell_type": "code",
      "source": [
        "#change the view\n",
        "y = b.view(1,8) #here we are calling the b tensor which will share the original value with y\n",
        "y,\n"
      ],
      "metadata": {
        "colab": {
          "base_uri": "https://localhost:8080/"
        },
        "id": "-KVjBDKh-TRQ",
        "outputId": "ca005a68-100f-4261-920e-f8e8466d0e4d"
      },
      "execution_count": 72,
      "outputs": [
        {
          "output_type": "execute_result",
          "data": {
            "text/plain": [
              "(tensor([[1, 2, 3, 4, 5, 6, 7, 8]]),)"
            ]
          },
          "metadata": {},
          "execution_count": 72
        }
      ]
    },
    {
      "cell_type": "code",
      "source": [
        "#changing the y will change the b vlaues in the tensor as it share the original values\n",
        "y[:,0]=8\n",
        "y, b"
      ],
      "metadata": {
        "colab": {
          "base_uri": "https://localhost:8080/"
        },
        "id": "ZIh9Yg3bqYhN",
        "outputId": "f5237337-c1db-4271-be67-a56c0c88120d"
      },
      "execution_count": 73,
      "outputs": [
        {
          "output_type": "execute_result",
          "data": {
            "text/plain": [
              "(tensor([[8, 2, 3, 4, 5, 6, 7, 8]]), tensor([8, 2, 3, 4, 5, 6, 7, 8]))"
            ]
          },
          "metadata": {},
          "execution_count": 73
        }
      ]
    },
    {
      "cell_type": "code",
      "source": [
        "# Start stacking tensor on top of each other\n",
        "x_stack = torch.stack([y,y,y,y],dim=0) #try chaning the dimension to dim=0/dim=1\n",
        "x_stack"
      ],
      "metadata": {
        "colab": {
          "base_uri": "https://localhost:8080/"
        },
        "id": "JE6Hgfda02SA",
        "outputId": "8c257e77-d33f-428b-828e-41bde2fe5d38"
      },
      "execution_count": 79,
      "outputs": [
        {
          "output_type": "execute_result",
          "data": {
            "text/plain": [
              "tensor([[[8, 2, 3, 4, 5, 6, 7, 8]],\n",
              "\n",
              "        [[8, 2, 3, 4, 5, 6, 7, 8]],\n",
              "\n",
              "        [[8, 2, 3, 4, 5, 6, 7, 8]],\n",
              "\n",
              "        [[8, 2, 3, 4, 5, 6, 7, 8]]])"
            ]
          },
          "metadata": {},
          "execution_count": 79
        }
      ]
    },
    {
      "cell_type": "code",
      "source": [],
      "metadata": {
        "id": "z2X7pmeZ2BRI"
      },
      "execution_count": null,
      "outputs": []
    }
  ]
}