{
  "nbformat": 4,
  "nbformat_minor": 0,
  "metadata": {
    "colab": {
      "provenance": [],
      "authorship_tag": "ABX9TyMkEPOBEcmlIv0diC9SmQ/g"
    },
    "kernelspec": {
      "name": "python3",
      "display_name": "Python 3"
    },
    "language_info": {
      "name": "python"
    }
  },
  "cells": [
    {
      "cell_type": "markdown",
      "source": [
        " 2 Neural network classification with Pytorch\n",
        "\n",
        "Classifiction is a problem if predicting whether something is one thing or aanother(or could be multiple things kinda like options)"
      ],
      "metadata": {
        "id": "m9UujhsqykTx"
      }
    },
    {
      "cell_type": "code",
      "source": [
        "## 1. make classification data and get it ready\n",
        "import sklearn ## this popular Machine learning library and Pytorch is mainly focus on deep learning\n",
        "# and this sklearn is already installed in google colab"
      ],
      "metadata": {
        "id": "jIRvddRR0St5"
      },
      "execution_count": null,
      "outputs": []
    },
    {
      "cell_type": "code",
      "source": [
        "from sklearn.datasets import make_circles\n",
        "\n",
        "#Making 1000 samples\n",
        "samples = 1000\n",
        "\n",
        "#create the circles\n",
        "X, y = make_circles(samples,\n",
        "                    noise=0.05, #this is the randomness we can set any value upto us\n",
        "                    random_state=42)"
      ],
      "metadata": {
        "id": "6buELOhD2wO5"
      },
      "execution_count": null,
      "outputs": []
    },
    {
      "cell_type": "code",
      "source": [
        "len(X), len(y)"
      ],
      "metadata": {
        "colab": {
          "base_uri": "https://localhost:8080/"
        },
        "id": "MirOKT1q4our",
        "outputId": "a0e2a7da-623c-44ee-e8b0-f5c7db6fbf48"
      },
      "execution_count": null,
      "outputs": [
        {
          "output_type": "execute_result",
          "data": {
            "text/plain": [
              "(1000, 1000)"
            ]
          },
          "metadata": {},
          "execution_count": 3
        }
      ]
    },
    {
      "cell_type": "code",
      "source": [
        "print(f\"First 5 samples of X:\\n{X[:5]}\")\n",
        "print(f\"First 5 samples of y:\\n{y[:5]}\")\n"
      ],
      "metadata": {
        "colab": {
          "base_uri": "https://localhost:8080/"
        },
        "id": "v0prGBbA5P1A",
        "outputId": "5a5082d6-cce2-4b55-eea8-f9eb11a08c7e"
      },
      "execution_count": null,
      "outputs": [
        {
          "output_type": "stream",
          "name": "stdout",
          "text": [
            "First 5 samples of X:\n",
            "[[ 0.74220688  0.24668576]\n",
            " [-0.7340323   0.16869164]\n",
            " [-0.82985872  0.22195899]\n",
            " [-0.42913559  0.67223019]\n",
            " [ 0.44560223 -0.89493556]]\n",
            "First 5 samples of y:\n",
            "[1 1 1 1 0]\n"
          ]
        }
      ]
    },
    {
      "cell_type": "code",
      "source": [
        "#make DataFrame of circle data\n",
        "import pandas as pd\n",
        "circles = pd.DataFrame({\"X1\":X[:, 0], #is the index 0 of X so it would be 0.74220688 from above result\n",
        "                        \"X2\":X[:, 1], #is the index 1 of X so it would be 0.24668576 from above result\n",
        "                        \"label\": y})  #0.74220688  0.24668576 count as 1 in y same goes to other output above at last it say 0 for some reason\n",
        "circles.head(10)"
      ],
      "metadata": {
        "colab": {
          "base_uri": "https://localhost:8080/",
          "height": 363
        },
        "id": "KyD4wWkyusBi",
        "outputId": "b6da1854-f04b-4e3b-90b7-fc5c8a797868"
      },
      "execution_count": null,
      "outputs": [
        {
          "output_type": "execute_result",
          "data": {
            "text/plain": [
              "         X1        X2  label\n",
              "0  0.742207  0.246686      1\n",
              "1 -0.734032  0.168692      1\n",
              "2 -0.829859  0.221959      1\n",
              "3 -0.429136  0.672230      1\n",
              "4  0.445602 -0.894936      0\n",
              "5 -0.469885  0.708037      1\n",
              "6 -0.016045  0.805623      1\n",
              "7  0.759623  0.159526      1\n",
              "8 -0.175692 -0.799837      1\n",
              "9 -0.110616  1.042207      0"
            ],
            "text/html": [
              "\n",
              "  <div id=\"df-5e9173cd-6d71-4187-bc69-b60f502ea5b1\" class=\"colab-df-container\">\n",
              "    <div>\n",
              "<style scoped>\n",
              "    .dataframe tbody tr th:only-of-type {\n",
              "        vertical-align: middle;\n",
              "    }\n",
              "\n",
              "    .dataframe tbody tr th {\n",
              "        vertical-align: top;\n",
              "    }\n",
              "\n",
              "    .dataframe thead th {\n",
              "        text-align: right;\n",
              "    }\n",
              "</style>\n",
              "<table border=\"1\" class=\"dataframe\">\n",
              "  <thead>\n",
              "    <tr style=\"text-align: right;\">\n",
              "      <th></th>\n",
              "      <th>X1</th>\n",
              "      <th>X2</th>\n",
              "      <th>label</th>\n",
              "    </tr>\n",
              "  </thead>\n",
              "  <tbody>\n",
              "    <tr>\n",
              "      <th>0</th>\n",
              "      <td>0.742207</td>\n",
              "      <td>0.246686</td>\n",
              "      <td>1</td>\n",
              "    </tr>\n",
              "    <tr>\n",
              "      <th>1</th>\n",
              "      <td>-0.734032</td>\n",
              "      <td>0.168692</td>\n",
              "      <td>1</td>\n",
              "    </tr>\n",
              "    <tr>\n",
              "      <th>2</th>\n",
              "      <td>-0.829859</td>\n",
              "      <td>0.221959</td>\n",
              "      <td>1</td>\n",
              "    </tr>\n",
              "    <tr>\n",
              "      <th>3</th>\n",
              "      <td>-0.429136</td>\n",
              "      <td>0.672230</td>\n",
              "      <td>1</td>\n",
              "    </tr>\n",
              "    <tr>\n",
              "      <th>4</th>\n",
              "      <td>0.445602</td>\n",
              "      <td>-0.894936</td>\n",
              "      <td>0</td>\n",
              "    </tr>\n",
              "    <tr>\n",
              "      <th>5</th>\n",
              "      <td>-0.469885</td>\n",
              "      <td>0.708037</td>\n",
              "      <td>1</td>\n",
              "    </tr>\n",
              "    <tr>\n",
              "      <th>6</th>\n",
              "      <td>-0.016045</td>\n",
              "      <td>0.805623</td>\n",
              "      <td>1</td>\n",
              "    </tr>\n",
              "    <tr>\n",
              "      <th>7</th>\n",
              "      <td>0.759623</td>\n",
              "      <td>0.159526</td>\n",
              "      <td>1</td>\n",
              "    </tr>\n",
              "    <tr>\n",
              "      <th>8</th>\n",
              "      <td>-0.175692</td>\n",
              "      <td>-0.799837</td>\n",
              "      <td>1</td>\n",
              "    </tr>\n",
              "    <tr>\n",
              "      <th>9</th>\n",
              "      <td>-0.110616</td>\n",
              "      <td>1.042207</td>\n",
              "      <td>0</td>\n",
              "    </tr>\n",
              "  </tbody>\n",
              "</table>\n",
              "</div>\n",
              "    <div class=\"colab-df-buttons\">\n",
              "\n",
              "  <div class=\"colab-df-container\">\n",
              "    <button class=\"colab-df-convert\" onclick=\"convertToInteractive('df-5e9173cd-6d71-4187-bc69-b60f502ea5b1')\"\n",
              "            title=\"Convert this dataframe to an interactive table.\"\n",
              "            style=\"display:none;\">\n",
              "\n",
              "  <svg xmlns=\"http://www.w3.org/2000/svg\" height=\"24px\" viewBox=\"0 -960 960 960\">\n",
              "    <path d=\"M120-120v-720h720v720H120Zm60-500h600v-160H180v160Zm220 220h160v-160H400v160Zm0 220h160v-160H400v160ZM180-400h160v-160H180v160Zm440 0h160v-160H620v160ZM180-180h160v-160H180v160Zm440 0h160v-160H620v160Z\"/>\n",
              "  </svg>\n",
              "    </button>\n",
              "\n",
              "  <style>\n",
              "    .colab-df-container {\n",
              "      display:flex;\n",
              "      gap: 12px;\n",
              "    }\n",
              "\n",
              "    .colab-df-convert {\n",
              "      background-color: #E8F0FE;\n",
              "      border: none;\n",
              "      border-radius: 50%;\n",
              "      cursor: pointer;\n",
              "      display: none;\n",
              "      fill: #1967D2;\n",
              "      height: 32px;\n",
              "      padding: 0 0 0 0;\n",
              "      width: 32px;\n",
              "    }\n",
              "\n",
              "    .colab-df-convert:hover {\n",
              "      background-color: #E2EBFA;\n",
              "      box-shadow: 0px 1px 2px rgba(60, 64, 67, 0.3), 0px 1px 3px 1px rgba(60, 64, 67, 0.15);\n",
              "      fill: #174EA6;\n",
              "    }\n",
              "\n",
              "    .colab-df-buttons div {\n",
              "      margin-bottom: 4px;\n",
              "    }\n",
              "\n",
              "    [theme=dark] .colab-df-convert {\n",
              "      background-color: #3B4455;\n",
              "      fill: #D2E3FC;\n",
              "    }\n",
              "\n",
              "    [theme=dark] .colab-df-convert:hover {\n",
              "      background-color: #434B5C;\n",
              "      box-shadow: 0px 1px 3px 1px rgba(0, 0, 0, 0.15);\n",
              "      filter: drop-shadow(0px 1px 2px rgba(0, 0, 0, 0.3));\n",
              "      fill: #FFFFFF;\n",
              "    }\n",
              "  </style>\n",
              "\n",
              "    <script>\n",
              "      const buttonEl =\n",
              "        document.querySelector('#df-5e9173cd-6d71-4187-bc69-b60f502ea5b1 button.colab-df-convert');\n",
              "      buttonEl.style.display =\n",
              "        google.colab.kernel.accessAllowed ? 'block' : 'none';\n",
              "\n",
              "      async function convertToInteractive(key) {\n",
              "        const element = document.querySelector('#df-5e9173cd-6d71-4187-bc69-b60f502ea5b1');\n",
              "        const dataTable =\n",
              "          await google.colab.kernel.invokeFunction('convertToInteractive',\n",
              "                                                    [key], {});\n",
              "        if (!dataTable) return;\n",
              "\n",
              "        const docLinkHtml = 'Like what you see? Visit the ' +\n",
              "          '<a target=\"_blank\" href=https://colab.research.google.com/notebooks/data_table.ipynb>data table notebook</a>'\n",
              "          + ' to learn more about interactive tables.';\n",
              "        element.innerHTML = '';\n",
              "        dataTable['output_type'] = 'display_data';\n",
              "        await google.colab.output.renderOutput(dataTable, element);\n",
              "        const docLink = document.createElement('div');\n",
              "        docLink.innerHTML = docLinkHtml;\n",
              "        element.appendChild(docLink);\n",
              "      }\n",
              "    </script>\n",
              "  </div>\n",
              "\n",
              "\n",
              "<div id=\"df-f9712259-dcf1-4476-ad49-114cd8eae513\">\n",
              "  <button class=\"colab-df-quickchart\" onclick=\"quickchart('df-f9712259-dcf1-4476-ad49-114cd8eae513')\"\n",
              "            title=\"Suggest charts\"\n",
              "            style=\"display:none;\">\n",
              "\n",
              "<svg xmlns=\"http://www.w3.org/2000/svg\" height=\"24px\"viewBox=\"0 0 24 24\"\n",
              "     width=\"24px\">\n",
              "    <g>\n",
              "        <path d=\"M19 3H5c-1.1 0-2 .9-2 2v14c0 1.1.9 2 2 2h14c1.1 0 2-.9 2-2V5c0-1.1-.9-2-2-2zM9 17H7v-7h2v7zm4 0h-2V7h2v10zm4 0h-2v-4h2v4z\"/>\n",
              "    </g>\n",
              "</svg>\n",
              "  </button>\n",
              "\n",
              "<style>\n",
              "  .colab-df-quickchart {\n",
              "      --bg-color: #E8F0FE;\n",
              "      --fill-color: #1967D2;\n",
              "      --hover-bg-color: #E2EBFA;\n",
              "      --hover-fill-color: #174EA6;\n",
              "      --disabled-fill-color: #AAA;\n",
              "      --disabled-bg-color: #DDD;\n",
              "  }\n",
              "\n",
              "  [theme=dark] .colab-df-quickchart {\n",
              "      --bg-color: #3B4455;\n",
              "      --fill-color: #D2E3FC;\n",
              "      --hover-bg-color: #434B5C;\n",
              "      --hover-fill-color: #FFFFFF;\n",
              "      --disabled-bg-color: #3B4455;\n",
              "      --disabled-fill-color: #666;\n",
              "  }\n",
              "\n",
              "  .colab-df-quickchart {\n",
              "    background-color: var(--bg-color);\n",
              "    border: none;\n",
              "    border-radius: 50%;\n",
              "    cursor: pointer;\n",
              "    display: none;\n",
              "    fill: var(--fill-color);\n",
              "    height: 32px;\n",
              "    padding: 0;\n",
              "    width: 32px;\n",
              "  }\n",
              "\n",
              "  .colab-df-quickchart:hover {\n",
              "    background-color: var(--hover-bg-color);\n",
              "    box-shadow: 0 1px 2px rgba(60, 64, 67, 0.3), 0 1px 3px 1px rgba(60, 64, 67, 0.15);\n",
              "    fill: var(--button-hover-fill-color);\n",
              "  }\n",
              "\n",
              "  .colab-df-quickchart-complete:disabled,\n",
              "  .colab-df-quickchart-complete:disabled:hover {\n",
              "    background-color: var(--disabled-bg-color);\n",
              "    fill: var(--disabled-fill-color);\n",
              "    box-shadow: none;\n",
              "  }\n",
              "\n",
              "  .colab-df-spinner {\n",
              "    border: 2px solid var(--fill-color);\n",
              "    border-color: transparent;\n",
              "    border-bottom-color: var(--fill-color);\n",
              "    animation:\n",
              "      spin 1s steps(1) infinite;\n",
              "  }\n",
              "\n",
              "  @keyframes spin {\n",
              "    0% {\n",
              "      border-color: transparent;\n",
              "      border-bottom-color: var(--fill-color);\n",
              "      border-left-color: var(--fill-color);\n",
              "    }\n",
              "    20% {\n",
              "      border-color: transparent;\n",
              "      border-left-color: var(--fill-color);\n",
              "      border-top-color: var(--fill-color);\n",
              "    }\n",
              "    30% {\n",
              "      border-color: transparent;\n",
              "      border-left-color: var(--fill-color);\n",
              "      border-top-color: var(--fill-color);\n",
              "      border-right-color: var(--fill-color);\n",
              "    }\n",
              "    40% {\n",
              "      border-color: transparent;\n",
              "      border-right-color: var(--fill-color);\n",
              "      border-top-color: var(--fill-color);\n",
              "    }\n",
              "    60% {\n",
              "      border-color: transparent;\n",
              "      border-right-color: var(--fill-color);\n",
              "    }\n",
              "    80% {\n",
              "      border-color: transparent;\n",
              "      border-right-color: var(--fill-color);\n",
              "      border-bottom-color: var(--fill-color);\n",
              "    }\n",
              "    90% {\n",
              "      border-color: transparent;\n",
              "      border-bottom-color: var(--fill-color);\n",
              "    }\n",
              "  }\n",
              "</style>\n",
              "\n",
              "  <script>\n",
              "    async function quickchart(key) {\n",
              "      const quickchartButtonEl =\n",
              "        document.querySelector('#' + key + ' button');\n",
              "      quickchartButtonEl.disabled = true;  // To prevent multiple clicks.\n",
              "      quickchartButtonEl.classList.add('colab-df-spinner');\n",
              "      try {\n",
              "        const charts = await google.colab.kernel.invokeFunction(\n",
              "            'suggestCharts', [key], {});\n",
              "      } catch (error) {\n",
              "        console.error('Error during call to suggestCharts:', error);\n",
              "      }\n",
              "      quickchartButtonEl.classList.remove('colab-df-spinner');\n",
              "      quickchartButtonEl.classList.add('colab-df-quickchart-complete');\n",
              "    }\n",
              "    (() => {\n",
              "      let quickchartButtonEl =\n",
              "        document.querySelector('#df-f9712259-dcf1-4476-ad49-114cd8eae513 button');\n",
              "      quickchartButtonEl.style.display =\n",
              "        google.colab.kernel.accessAllowed ? 'block' : 'none';\n",
              "    })();\n",
              "  </script>\n",
              "</div>\n",
              "\n",
              "    </div>\n",
              "  </div>\n"
            ],
            "application/vnd.google.colaboratory.intrinsic+json": {
              "type": "dataframe",
              "variable_name": "circles",
              "summary": "{\n  \"name\": \"circles\",\n  \"rows\": 1000,\n  \"fields\": [\n    {\n      \"column\": \"X1\",\n      \"properties\": {\n        \"dtype\": \"number\",\n        \"std\": 0.6401123499822728,\n        \"min\": -1.1161528513253876,\n        \"max\": 1.0576079974659371,\n        \"num_unique_values\": 1000,\n        \"samples\": [\n          -0.36253378566314187,\n          0.05913012328894063,\n          -0.6859161454401436\n        ],\n        \"semantic_type\": \"\",\n        \"description\": \"\"\n      }\n    },\n    {\n      \"column\": \"X2\",\n      \"properties\": {\n        \"dtype\": \"number\",\n        \"std\": 0.6422249340894738,\n        \"min\": -1.1142627115008916,\n        \"max\": 1.068896513032579,\n        \"num_unique_values\": 1000,\n        \"samples\": [\n          0.6736682018243565,\n          0.9342187323788756,\n          -0.3035280109948755\n        ],\n        \"semantic_type\": \"\",\n        \"description\": \"\"\n      }\n    },\n    {\n      \"column\": \"label\",\n      \"properties\": {\n        \"dtype\": \"number\",\n        \"std\": 0,\n        \"min\": 0,\n        \"max\": 1,\n        \"num_unique_values\": 2,\n        \"samples\": [\n          0,\n          1\n        ],\n        \"semantic_type\": \"\",\n        \"description\": \"\"\n      }\n    }\n  ]\n}"
            }
          },
          "metadata": {},
          "execution_count": 5
        }
      ]
    },
    {
      "cell_type": "code",
      "source": [
        "circles.label.value_counts() #here we have 500 data for both level red dot and blue dot"
      ],
      "metadata": {
        "colab": {
          "base_uri": "https://localhost:8080/",
          "height": 178
        },
        "id": "_uXa1k9d7qXm",
        "outputId": "ec6fbef6-6aff-4b36-dd53-3a879028feef"
      },
      "execution_count": null,
      "outputs": [
        {
          "output_type": "execute_result",
          "data": {
            "text/plain": [
              "label\n",
              "1    500\n",
              "0    500\n",
              "Name: count, dtype: int64"
            ],
            "text/html": [
              "<div>\n",
              "<style scoped>\n",
              "    .dataframe tbody tr th:only-of-type {\n",
              "        vertical-align: middle;\n",
              "    }\n",
              "\n",
              "    .dataframe tbody tr th {\n",
              "        vertical-align: top;\n",
              "    }\n",
              "\n",
              "    .dataframe thead th {\n",
              "        text-align: right;\n",
              "    }\n",
              "</style>\n",
              "<table border=\"1\" class=\"dataframe\">\n",
              "  <thead>\n",
              "    <tr style=\"text-align: right;\">\n",
              "      <th></th>\n",
              "      <th>count</th>\n",
              "    </tr>\n",
              "    <tr>\n",
              "      <th>label</th>\n",
              "      <th></th>\n",
              "    </tr>\n",
              "  </thead>\n",
              "  <tbody>\n",
              "    <tr>\n",
              "      <th>1</th>\n",
              "      <td>500</td>\n",
              "    </tr>\n",
              "    <tr>\n",
              "      <th>0</th>\n",
              "      <td>500</td>\n",
              "    </tr>\n",
              "  </tbody>\n",
              "</table>\n",
              "</div><br><label><b>dtype:</b> int64</label>"
            ]
          },
          "metadata": {},
          "execution_count": 6
        }
      ]
    },
    {
      "cell_type": "code",
      "source": [
        "# Visualize  the data which we got in above results\n",
        "import matplotlib.pyplot as plt\n",
        "\n",
        "plt.scatter(x=X[:, 0],\n",
        "            y=X[:, 1],\n",
        "            c=y, #color with label\n",
        "            cmap=plt.cm.RdYlBu); #here cmap stands for color map\n",
        "\n",
        "            #here we are seeing the circle dataset which comes from sklearn toy dataset"
      ],
      "metadata": {
        "colab": {
          "base_uri": "https://localhost:8080/",
          "height": 430
        },
        "id": "IqKOUpU7zr27",
        "outputId": "b814f3f4-b52d-439a-b066-06d82abbd92d"
      },
      "execution_count": null,
      "outputs": [
        {
          "output_type": "display_data",
          "data": {
            "text/plain": [
              "<Figure size 640x480 with 1 Axes>"
            ],
            "image/png": "[encoded data removed]"
          },
          "metadata": {}
        }
      ]
    },
    {
      "cell_type": "markdown",
      "source": [
        "#Note: the data we are working with is also called Toy dataset, a dataset that is small enough to experiment but still sizeable enough to practice"
      ],
      "metadata": {
        "id": "V4cQQi-L1Gdt"
      }
    },
    {
      "cell_type": "code",
      "source": [
        "#1.1 check input and output shapes\n",
        "\n",
        "X.shape, y.shape # Here X has 2 Features and y has nothing single number as its called a scaler\n",
        "# X is feature and y is a label"
      ],
      "metadata": {
        "colab": {
          "base_uri": "https://localhost:8080/"
        },
        "id": "SSIEncO55aQx",
        "outputId": "982b8917-1c12-4b5d-897d-4a81622f89d1"
      },
      "execution_count": null,
      "outputs": [
        {
          "output_type": "execute_result",
          "data": {
            "text/plain": [
              "((1000, 2), (1000,))"
            ]
          },
          "metadata": {},
          "execution_count": 8
        }
      ]
    },
    {
      "cell_type": "code",
      "source": [
        "X"
      ],
      "metadata": {
        "colab": {
          "base_uri": "https://localhost:8080/"
        },
        "id": "UQKmXOaS-eQj",
        "outputId": "47cc3c21-ddaf-4fac-fbc0-8e3447a8fc98"
      },
      "execution_count": null,
      "outputs": [
        {
          "output_type": "execute_result",
          "data": {
            "text/plain": [
              "array([[ 0.74220688,  0.24668576],\n",
              "       [-0.7340323 ,  0.16869164],\n",
              "       [-0.82985872,  0.22195899],\n",
              "       ...,\n",
              "       [-0.12823057, -0.82613318],\n",
              "       [ 0.66090453, -0.79319015],\n",
              "       [ 0.27841491,  0.96735953]])"
            ]
          },
          "metadata": {},
          "execution_count": 9
        }
      ]
    },
    {
      "cell_type": "code",
      "source": [
        "# view the first example of feautures and labels\n",
        "\n",
        "X_sample = X[0]\n",
        "y_sample = y[0]\n",
        "\n",
        "print(f\"Value of one sample of X:{X_sample} and same for y:{y_sample}\")\n",
        "print(f\"Shapes for one sample of X:{X_sample.shape} and same for y:{y_sample.shape}\")"
      ],
      "metadata": {
        "colab": {
          "base_uri": "https://localhost:8080/"
        },
        "id": "gNFXxxpt_y7_",
        "outputId": "820c30d7-69c0-496a-b2a9-7de8026e2f6e"
      },
      "execution_count": null,
      "outputs": [
        {
          "output_type": "stream",
          "name": "stdout",
          "text": [
            "Value of one sample of X:[0.74220688 0.24668576] and same for y:1\n",
            "Shapes for one sample of X:(2,) and same for y:()\n"
          ]
        }
      ]
    },
    {
      "cell_type": "markdown",
      "source": [
        "##Turn data into tensors and create train test splits"
      ],
      "metadata": {
        "id": "Uu50mZdFBif_"
      }
    },
    {
      "cell_type": "code",
      "source": [
        "\n",
        "import torch\n",
        "torch.__version__\n"
      ],
      "metadata": {
        "colab": {
          "base_uri": "https://localhost:8080/",
          "height": 36
        },
        "id": "6EN7SIDuBLko",
        "outputId": "1d8a0d46-9eae-4de6-e7a4-e6b9c64b43b6"
      },
      "execution_count": null,
      "outputs": [
        {
          "output_type": "execute_result",
          "data": {
            "text/plain": [
              "'2.5.0+cu121'"
            ],
            "application/vnd.google.colaboratory.intrinsic+json": {
              "type": "string"
            }
          },
          "metadata": {},
          "execution_count": 11
        }
      ]
    },
    {
      "cell_type": "code",
      "source": [
        "type(X), X.dtype # HEre the default numpy datatype is float64\n",
        "#however the default datatype for pytorch is float32\n",
        "#makesure that the X.dtype shows float64/numpy.ndarray first and then run below code"
      ],
      "metadata": {
        "colab": {
          "base_uri": "https://localhost:8080/"
        },
        "id": "hnDkSeH1aeyG",
        "outputId": "fd231807-7c97-4008-9072-e4b65f33610f"
      },
      "execution_count": null,
      "outputs": [
        {
          "output_type": "execute_result",
          "data": {
            "text/plain": [
              "(numpy.ndarray, dtype('float64'))"
            ]
          },
          "metadata": {},
          "execution_count": 12
        }
      ]
    },
    {
      "cell_type": "code",
      "source": [
        "# Turn data into tensors\n",
        "X = torch.from_numpy(X).type(torch.float) #here we are converting the numpy(X) to the torch for float32\n",
        "y = torch.from_numpy(y).type(torch.float)\n",
        "\n",
        "X[:5], y[:5]"
      ],
      "metadata": {
        "colab": {
          "base_uri": "https://localhost:8080/"
        },
        "id": "b9LgHFLogUpN",
        "outputId": "2e98385e-63ab-4546-df01-913d01d38e5a"
      },
      "execution_count": null,
      "outputs": [
        {
          "output_type": "execute_result",
          "data": {
            "text/plain": [
              "(tensor([[ 0.7422,  0.2467],\n",
              "         [-0.7340,  0.1687],\n",
              "         [-0.8299,  0.2220],\n",
              "         [-0.4291,  0.6722],\n",
              "         [ 0.4456, -0.8949]]),\n",
              " tensor([1., 1., 1., 1., 0.]))"
            ]
          },
          "metadata": {},
          "execution_count": 13
        }
      ]
    },
    {
      "cell_type": "code",
      "source": [
        "type(X), X.dtype, y.dtype # here we got the data in Tensors"
      ],
      "metadata": {
        "colab": {
          "base_uri": "https://localhost:8080/"
        },
        "id": "bxaR7r6TgoiN",
        "outputId": "e164404e-2992-4717-bee8-fdba668512cf"
      },
      "execution_count": null,
      "outputs": [
        {
          "output_type": "execute_result",
          "data": {
            "text/plain": [
              "(torch.Tensor, torch.float32, torch.float32)"
            ]
          },
          "metadata": {},
          "execution_count": 14
        }
      ]
    },
    {
      "cell_type": "code",
      "source": [
        "#split data into training and test sets\n",
        "from sklearn.model_selection import train_test_split\n",
        "\n",
        "X_train, X_test, y_train, y_test = train_test_split(X,       #set the feature first and then the labels same as mentioned\n",
        "                                                    y,\n",
        "                                                    test_size = 0.2, #0.2 = 20% of the data will be test and 80% will be train and if we want to have 50-50 split then use 0.5\n",
        "                                                    random_state=42) #this same as manual_seed(42) it will get similar random split"
      ],
      "metadata": {
        "id": "z-e8Kmwig44C"
      },
      "execution_count": null,
      "outputs": []
    },
    {
      "cell_type": "code",
      "source": [
        "len(X_train), len(X_test), len(y_train), len(y_test)"
      ],
      "metadata": {
        "colab": {
          "base_uri": "https://localhost:8080/"
        },
        "id": "mBVM7UgCiskL",
        "outputId": "76183a4f-ed76-47cf-9477-8aa15e5f3f82"
      },
      "execution_count": null,
      "outputs": [
        {
          "output_type": "execute_result",
          "data": {
            "text/plain": [
              "(800, 200, 800, 200)"
            ]
          },
          "metadata": {},
          "execution_count": 16
        }
      ]
    },
    {
      "cell_type": "markdown",
      "source": [
        "#Building the model\n",
        "\n",
        "#let's build a model to classify the Blue and Red dots\n",
        "#To do that we want the following steps to do:\n",
        "#1. Setup device agonistic code and code will run on an accelerator(GPU) if there is one\n",
        "#2. Construct a model (By subclassing 'nn.module')\n",
        "#3. Define a loss function and optimizer\n",
        "#4. Create a training and test loops\n"
      ],
      "metadata": {
        "id": "OBZ6z7C8p7LR"
      }
    },
    {
      "cell_type": "code",
      "source": [
        "#import Pytorch and nn\n",
        "import torch\n",
        "from torch import nn\n",
        "\n",
        "#make device agnostic code\n",
        "device = \"cuda\" if torch.cuda.is_available() else \"cpu\"\n",
        "device"
      ],
      "metadata": {
        "colab": {
          "base_uri": "https://localhost:8080/",
          "height": 36
        },
        "id": "3-TAMZlbrw-I",
        "outputId": "75502af3-cb36-4504-c216-a25467dd9394"
      },
      "execution_count": null,
      "outputs": [
        {
          "output_type": "execute_result",
          "data": {
            "text/plain": [
              "'cpu'"
            ],
            "application/vnd.google.colaboratory.intrinsic+json": {
              "type": "string"
            }
          },
          "metadata": {},
          "execution_count": 17
        }
      ]
    },
    {
      "cell_type": "code",
      "source": [
        "X_train"
      ],
      "metadata": {
        "colab": {
          "base_uri": "https://localhost:8080/"
        },
        "id": "K5rPWMKxrjFn",
        "outputId": "125e742c-79d2-4258-9dea-d7f5c5e93f8d"
      },
      "execution_count": null,
      "outputs": [
        {
          "output_type": "execute_result",
          "data": {
            "text/plain": [
              "tensor([[ 0.6772, -0.4456],\n",
              "        [ 0.6030, -0.7328],\n",
              "        [-1.0219, -0.1066],\n",
              "        ...,\n",
              "        [ 0.0011, -1.0504],\n",
              "        [ 1.0259,  0.1799],\n",
              "        [ 0.5597, -0.5673]])"
            ]
          },
          "metadata": {},
          "execution_count": 18
        }
      ]
    },
    {
      "cell_type": "markdown",
      "source": [
        "So we have setup the device agnostic code, will create a model:\n",
        "1. Subclasses 'nn.module' (almost all model in pytorch subclass 'nn.module')\n",
        "2. Create two 'nn.Linear()' layers that are capable of handling the shapes of our data\n",
        "3. Define the 'forward()' method that outlines forward pass(or forward computation) of the model\n",
        "4. Instatiate an instance of out model class and send it to the target device"
      ],
      "metadata": {
        "id": "NnV9q6h_uaa0"
      }
    },
    {
      "cell_type": "code",
      "source": [
        "X_train.shape"
      ],
      "metadata": {
        "colab": {
          "base_uri": "https://localhost:8080/"
        },
        "id": "deAp9idmyfQ-",
        "outputId": "0310b023-6368-430d-e9d7-48fa0bbaffac"
      },
      "execution_count": null,
      "outputs": [
        {
          "output_type": "execute_result",
          "data": {
            "text/plain": [
              "torch.Size([800, 2])"
            ]
          },
          "metadata": {},
          "execution_count": 19
        }
      ]
    },
    {
      "cell_type": "code",
      "source": [
        "y_train[:5]"
      ],
      "metadata": {
        "colab": {
          "base_uri": "https://localhost:8080/"
        },
        "id": "KtHvG4Bjy2eb",
        "outputId": "8e6a14c8-7d61-4285-b0d1-1aac8d3c299d"
      },
      "execution_count": null,
      "outputs": [
        {
          "output_type": "execute_result",
          "data": {
            "text/plain": [
              "tensor([1., 0., 0., 0., 1.])"
            ]
          },
          "metadata": {},
          "execution_count": 20
        }
      ]
    },
    {
      "cell_type": "code",
      "source": [
        "#1. Construct a model that subclasses nn.module\n",
        "#here we are trying to seprate the red and blue cirles which we have seen above in plt chart\n",
        "class CircleModelV0(nn.Module):\n",
        "  def __init__(self):\n",
        "    super().__init__()\n",
        "    #2. Create two nn.linear layers capable of handling the shapes of data\n",
        "    self.layer_1 = nn.Linear(in_features=2, out_features=5) #in_features is going to be 2 as X_train has 2 feautures as input feature and for\n",
        "                                                            #out_features we need to look y_train and it has 1. shape in y first position and also we can change to 5 so that model can learn more. as well and could mention multiples of 8 so 64,256......\n",
        "    self.layer_2 = nn.Linear(in_features=5,out_features=1)# here we need to match with out_features layer to the in_feature layer = 5 which is hidden layer and out_feature is = 1\n",
        "\n",
        "    #3. Define forward() method which outline the forward pass\n",
        "    def forward(self, x):\n",
        "      return self.layer_2(self.layer_1(x)) #x-> It goes into the layer_1 -> and the output of layer_1 goes to -> layer_2 -> output\n",
        "\n",
        "\n",
        "\n"
      ],
      "metadata": {
        "id": "96UN-TbVwiO0"
      },
      "execution_count": null,
      "outputs": []
    },
    {
      "cell_type": "code",
      "source": [
        " #4.Instantiate the instance of our model class and send it to the target\n",
        "model_0 = CircleModelV0().to(device)\n",
        "model_0"
      ],
      "metadata": {
        "colab": {
          "base_uri": "https://localhost:8080/"
        },
        "id": "3GiBI_RjlAbf",
        "outputId": "691fe7f3-4e1e-46d1-d3bf-a383fa9e39b2"
      },
      "execution_count": null,
      "outputs": [
        {
          "output_type": "execute_result",
          "data": {
            "text/plain": [
              "CircleModelV0(\n",
              "  (layer_1): Linear(in_features=2, out_features=5, bias=True)\n",
              "  (layer_2): Linear(in_features=5, out_features=1, bias=True)\n",
              ")"
            ]
          },
          "metadata": {},
          "execution_count": 22
        }
      ]
    },
    {
      "cell_type": "code",
      "source": [
        "device"
      ],
      "metadata": {
        "colab": {
          "base_uri": "https://localhost:8080/",
          "height": 36
        },
        "id": "Gb03kpeqlZW0",
        "outputId": "44f9107e-4575-43a5-8a54-2b30906aca0a"
      },
      "execution_count": null,
      "outputs": [
        {
          "output_type": "execute_result",
          "data": {
            "text/plain": [
              "'cpu'"
            ],
            "application/vnd.google.colaboratory.intrinsic+json": {
              "type": "string"
            }
          },
          "metadata": {},
          "execution_count": 23
        }
      ]
    },
    {
      "cell_type": "code",
      "source": [
        "next(model_0.parameters()).device #will check which device its been working on now"
      ],
      "metadata": {
        "colab": {
          "base_uri": "https://localhost:8080/"
        },
        "id": "1HvL6B_HlgXu",
        "outputId": "af7de522-3343-497a-b77e-57a85a484cf2"
      },
      "execution_count": null,
      "outputs": [
        {
          "output_type": "execute_result",
          "data": {
            "text/plain": [
              "device(type='cpu')"
            ]
          },
          "metadata": {},
          "execution_count": 24
        }
      ]
    },
    {
      "cell_type": "code",
      "source": [
        "#Replicate the model above using nn.Sequential()\n",
        "\n",
        "model_0 = nn.Sequential(\n",
        "          nn.Linear(in_features=2, out_features=5),\n",
        "          nn.Linear(in_features=5, out_features=1)).to(device) #and will send this to device\n",
        "\n",
        "model_0\n",
        "\n",
        "\n"
      ],
      "metadata": {
        "colab": {
          "base_uri": "https://localhost:8080/"
        },
        "id": "sJIv6K1cprXv",
        "outputId": "6c61ac1a-3a04-4990-b005-9b05e43213e2"
      },
      "execution_count": null,
      "outputs": [
        {
          "output_type": "execute_result",
          "data": {
            "text/plain": [
              "Sequential(\n",
              "  (0): Linear(in_features=2, out_features=5, bias=True)\n",
              "  (1): Linear(in_features=5, out_features=1, bias=True)\n",
              ")"
            ]
          },
          "metadata": {},
          "execution_count": 25
        }
      ]
    },
    {
      "cell_type": "code",
      "source": [
        "model_0.state_dict()  #'0.' is 0th layer and '1.' is the next layer about you can see\n",
        "\"\"\"0.weight has 10 output: tensor([[-0.6906, -0.5069],\n",
        "                      [-0.1537,  0.6889],\n",
        "                      [-0.3696, -0.5877],\n",
        "                      [-0.6403, -0.4153],\n",
        "                      [-0.0722,  0.6794]])     why 10 output because  2*5 = 10\n",
        "\n",
        "                      0.bias', tensor([-0.2819, -0.0825,  0.1102,  0.2467,  0.4798] : has five output because we have set out_feature = 5\n",
        "                      '1.weight',tensor([[-0.1564,  0.2690, -0.1036,  0.3569, -0.3949]])): it has five in_features = 5\n",
        "                      \"\"\""
      ],
      "metadata": {
        "colab": {
          "base_uri": "https://localhost:8080/",
          "height": 70
        },
        "id": "aVkqJoilrnme",
        "outputId": "30576d3c-d6c5-4cd4-c1cb-4c432f1a2cc2"
      },
      "execution_count": null,
      "outputs": [
        {
          "output_type": "execute_result",
          "data": {
            "text/plain": [
              "\"0.weight has 10 output: tensor([[-0.6906, -0.5069],\\n                      [-0.1537,  0.6889],\\n                      [-0.3696, -0.5877],\\n                      [-0.6403, -0.4153],\\n                      [-0.0722,  0.6794]])     why 10 output because  2*5 = 10\\n\\n                      0.bias', tensor([-0.2819, -0.0825,  0.1102,  0.2467,  0.4798] : has five output because we have set out_feature = 5\\n                      '1.weight',tensor([[-0.1564,  0.2690, -0.1036,  0.3569, -0.3949]])): it has five in_features = 5\\n                      \""
            ],
            "application/vnd.google.colaboratory.intrinsic+json": {
              "type": "string"
            }
          },
          "metadata": {},
          "execution_count": 26
        }
      ]
    },
    {
      "cell_type": "code",
      "source": [
        "#make predictions with model\n",
        "#here we are trying predict whether the dot is red dot or a blue dot or 0 or 1.\n",
        "with torch.inference_mode():\n",
        "  untrained_pred = model_0(X_test.to(device))\n",
        "  print(f\"Length of predictions: {len(untrained_pred)},Shape: {untrained_pred.shape}\")\n",
        "  print(f\"Length of test samples: {len(X_test)}, Shape: {X_test.shape}\")\n",
        "  print(f\"\\n First 10 predictions:\\n{untrained_pred[:10]}\")\n",
        "  print(f\"\\n First 10 labels:\\n{y_test[:10]}\")\n",
        "\n",
        "\n",
        "\n"
      ],
      "metadata": {
        "colab": {
          "base_uri": "https://localhost:8080/"
        },
        "id": "G7Xx89Q3nuve",
        "outputId": "259565b4-abe5-40a5-c773-e25261291a77"
      },
      "execution_count": null,
      "outputs": [
        {
          "output_type": "stream",
          "name": "stdout",
          "text": [
            "Length of predictions: 200,Shape: torch.Size([200, 1])\n",
            "Length of test samples: 200, Shape: torch.Size([200, 2])\n",
            "\n",
            " First 10 predictions:\n",
            "tensor([[-0.0429],\n",
            "        [-0.2002],\n",
            "        [ 0.2260],\n",
            "        [-0.1295],\n",
            "        [ 0.0452],\n",
            "        [-0.0545],\n",
            "        [-0.3337],\n",
            "        [-0.3034],\n",
            "        [ 0.2467],\n",
            "        [-0.2018]])\n",
            "\n",
            " First 10 labels:\n",
            "tensor([1., 0., 1., 0., 1., 1., 0., 0., 1., 0.])\n"
          ]
        }
      ]
    },
    {
      "cell_type": "code",
      "source": [
        "X_test[:10], y_test[:10] #here we have 2 input feature and then 5 hidden layers and 1 output feature"
      ],
      "metadata": {
        "colab": {
          "base_uri": "https://localhost:8080/"
        },
        "id": "OvWGbtwZwKU6",
        "outputId": "35a0b403-3307-47d9-b135-48e3d42f4476"
      },
      "execution_count": null,
      "outputs": [
        {
          "output_type": "execute_result",
          "data": {
            "text/plain": [
              "(tensor([[-0.3625,  0.6737],\n",
              "         [ 0.0591,  0.9342],\n",
              "         [-0.6859, -0.3035],\n",
              "         [-0.2535,  0.9820],\n",
              "         [ 0.3849, -0.7893],\n",
              "         [ 0.6429, -0.6119],\n",
              "         [ 0.8778,  0.5384],\n",
              "         [ 1.0174,  0.1922],\n",
              "         [-0.7351, -0.3463],\n",
              "         [ 0.0478,  0.9578]]),\n",
              " tensor([1., 0., 1., 0., 1., 1., 0., 0., 1., 0.]))"
            ]
          },
          "metadata": {},
          "execution_count": 28
        }
      ]
    },
    {
      "cell_type": "code",
      "source": [
        " #2.1 Setup the loss function and optimizer\n",
        "\n",
        " #question need to use which loss function or optimizer? loss function will measure how wrong our model prediction are.\n",
        " # ***there are two for regression MAE or MSE(mean absolute error or mean squared error).\n",
        "\n",
        " #***for classification there is binary cross entropy or categorical cross entropy (cross entropy)\n",
        "\n",
        " #for optimizer two of the most common and useful are SGD and adam,\n",
        " #however pytorch has built in options\n",
        "\n",
        "\n",
        " #For the loss function we are using now 'torch.nn.BECwithLogitLoss() and for Binary cross entropy(BCE) need to check the atriclehttps://towardsdatascience.com/understanding-binary-cross-entropy-log-loss-a-visual-explanation-a3ac6025181a\n",
        " #for logit in deep learning: https://stackoverflow.com/questions/41455101/what-is-the-meaning-of-the-word-logits-in-tensorflow\n",
        " #for different optimizer need to see 'torch.optim'\n",
        "\n"
      ],
      "metadata": {
        "id": "57jNzDaWw0vS"
      },
      "execution_count": null,
      "outputs": []
    },
    {
      "cell_type": "code",
      "source": [
        "#setup the loss function there are two loss here\n",
        "#loss_fn = nn.BCELoss() #BCELoss = it requires input to have gone through the sigmoid activation function prior to input to BCELoss\n",
        "\n",
        "loss_fn = nn.BCEWithLogitsLoss() #this is sigmoid actication function builtin already\n",
        "\n",
        "optimizer = torch.optim.SGD(params=model_0.parameters(),\n",
        "                            lr = 0.1)"
      ],
      "metadata": {
        "id": "-GnFFsRw8o-O"
      },
      "execution_count": null,
      "outputs": []
    },
    {
      "cell_type": "code",
      "source": [
        "model_0.state_dict()"
      ],
      "metadata": {
        "colab": {
          "base_uri": "https://localhost:8080/"
        },
        "id": "lCf6RI5foQ8r",
        "outputId": "b1c7b2f0-2053-49e5-a01b-6cde8d9fde1d"
      },
      "execution_count": null,
      "outputs": [
        {
          "output_type": "execute_result",
          "data": {
            "text/plain": [
              "OrderedDict([('0.weight',\n",
              "              tensor([[ 0.4685, -0.1806],\n",
              "                      [-0.3243,  0.3214],\n",
              "                      [ 0.6599,  0.6565],\n",
              "                      [ 0.4006,  0.3245],\n",
              "                      [-0.4592,  0.2017]])),\n",
              "             ('0.bias', tensor([ 0.5616, -0.6142, -0.2487, -0.1135,  0.5630])),\n",
              "             ('1.weight',\n",
              "              tensor([[ 0.1312,  0.0727, -0.4294,  0.1743,  0.1735]])),\n",
              "             ('1.bias', tensor([-0.2207]))])"
            ]
          },
          "metadata": {},
          "execution_count": 31
        }
      ]
    },
    {
      "cell_type": "code",
      "source": [
        "#Calculate the accuracy - out of 100 examples, from the model to get it right\n",
        "def accuracy(y_true,y_pred):\n",
        "  correct = torch.eq(y_true, y_pred).sum().item()\n",
        "  acc = (correct/len(y_pred)) * 100\n",
        "  return acc"
      ],
      "metadata": {
        "id": "MgRu1jP0ojDi"
      },
      "execution_count": null,
      "outputs": []
    },
    {
      "cell_type": "markdown",
      "source": [
        "#3.Train model"
      ],
      "metadata": {
        "id": "H09HP3CMs3jP"
      }
    },
    {
      "cell_type": "markdown",
      "source": [
        "#to train the model, we need to build the training loop\n",
        "1.Forward pass\n",
        "2. Calculate the loss\n",
        "3. Optimizer zero grad\n",
        "4. Loss backward(backpropagation)\n",
        "5. Optimzier (gradient descent)"
      ],
      "metadata": {
        "id": "n9zMyB-Ws53f"
      }
    },
    {
      "cell_type": "code",
      "source": [
        "# 3.1 Going from raw logits -> prediction probabilities -> prediction labels\n",
        "# Our model outputs are going to be the raw output and it would be \"logits\"\n",
        "# we can convert these \"logits\" into prediction probablilites by passing them to a activation function(ex: sigmoid for binary crossentropy and softmax for multiclass classification)\n",
        "\n",
        "#Then convert our model to prediction probailities to \"Prediction labels\" by either rounding them or taking the 'argmax()'."
      ],
      "metadata": {
        "id": "BRe6xCvoxI9k"
      },
      "execution_count": null,
      "outputs": []
    },
    {
      "cell_type": "code",
      "source": [
        "#View first 5 outputs of the forward pass on the test data\n",
        "#important**** whenever we need to make prediction we need to eval() the model and then mention torch.inference_mode()\n",
        "# and if need to train the model then turn it to train model and then inference.mode()\n",
        "model_0.eval()\n",
        "with torch.inference_mode():\n",
        "  y_logits = model_0(X_test.to(device))[:5]\n",
        "y_logits"
      ],
      "metadata": {
        "colab": {
          "base_uri": "https://localhost:8080/"
        },
        "id": "S9hkA31Bv8xx",
        "outputId": "ea4ebcb7-99c5-4320-9617-fcc4a4b1f665"
      },
      "execution_count": null,
      "outputs": [
        {
          "output_type": "execute_result",
          "data": {
            "text/plain": [
              "tensor([[-0.0429],\n",
              "        [-0.2002],\n",
              "        [ 0.2260],\n",
              "        [-0.1295],\n",
              "        [ 0.0452]])"
            ]
          },
          "metadata": {},
          "execution_count": 34
        }
      ]
    },
    {
      "cell_type": "code",
      "source": [
        "y_test[:5] # we need the same ouput from above or vise versa it should match something"
      ],
      "metadata": {
        "colab": {
          "base_uri": "https://localhost:8080/"
        },
        "id": "Nx_0ktGb3IyT",
        "outputId": "21b3a9a7-fe58-4c3e-ac67-7ecc1d243a0b"
      },
      "execution_count": null,
      "outputs": [
        {
          "output_type": "execute_result",
          "data": {
            "text/plain": [
              "tensor([1., 0., 1., 0., 1.])"
            ]
          },
          "metadata": {},
          "execution_count": 35
        }
      ]
    },
    {
      "cell_type": "code",
      "source": [
        "#Use the sigmoid activation function on the model logits and turn into prediction probabilities\n",
        "# we are sigmoid as Binary classification for Output activation is Sigmoid\n",
        "\n",
        "y_pred_prob = torch.sigmoid(y_logits)\n",
        "y_pred_prob"
      ],
      "metadata": {
        "id": "NE4EXZsW9D4J",
        "colab": {
          "base_uri": "https://localhost:8080/"
        },
        "outputId": "0c729ba9-9253-47d3-cad5-dd67254de636"
      },
      "execution_count": null,
      "outputs": [
        {
          "output_type": "execute_result",
          "data": {
            "text/plain": [
              "tensor([[0.4893],\n",
              "        [0.4501],\n",
              "        [0.5563],\n",
              "        [0.4677],\n",
              "        [0.5113]])"
            ]
          },
          "metadata": {},
          "execution_count": 36
        }
      ]
    },
    {
      "cell_type": "code",
      "source": [
        "#for our predicition probaility values, we need to perform a range-style rounding on them:\n",
        "#\"y_pred_prob\" >= 0.5 we set 'y=1' (class 1) #it would be red or blue dot, also we can adjust this value 0.7\n",
        "#\"y_prod_prob\" < 0.5  we set 'y=0' (class 0)"
      ],
      "metadata": {
        "id": "_Ifqb3abmMc1"
      },
      "execution_count": null,
      "outputs": []
    },
    {
      "cell_type": "code",
      "source": [
        "# Find the predicted labels\n",
        "y_preds = torch.round(y_pred_prob)\n",
        "\n",
        "#in full this is(logits -> pred pros -> pred labels)\n",
        "y_pred_labels = torch.round(torch.sigmoid(model_0(X_test.to(device))[:5]))\n",
        "\n",
        "#check for equality\n",
        "print(torch.eq(y_preds.squeeze(),y_pred_labels.squeeze()))\n",
        "\n",
        "#get rid of extra dimension\n",
        "y_preds.squeeze()"
      ],
      "metadata": {
        "colab": {
          "base_uri": "https://localhost:8080/"
        },
        "id": "mJtAyK3Ec5cz",
        "outputId": "26e70d24-a1a8-44ec-9724-aa2eba21a790"
      },
      "execution_count": null,
      "outputs": [
        {
          "output_type": "stream",
          "name": "stdout",
          "text": [
            "tensor([True, True, True, True, True])\n"
          ]
        },
        {
          "output_type": "execute_result",
          "data": {
            "text/plain": [
              "tensor([0., 0., 1., 0., 1.])"
            ]
          },
          "metadata": {},
          "execution_count": 38
        }
      ]
    },
    {
      "cell_type": "code",
      "source": [
        "y_test[:5] #this would change as we have output above"
      ],
      "metadata": {
        "colab": {
          "base_uri": "https://localhost:8080/"
        },
        "id": "8D64P7LIibH5",
        "outputId": "86c99b17-c653-4325-fa8a-e741f9f16c2d"
      },
      "execution_count": null,
      "outputs": [
        {
          "output_type": "execute_result",
          "data": {
            "text/plain": [
              "tensor([1., 0., 1., 0., 1.])"
            ]
          },
          "metadata": {},
          "execution_count": 39
        }
      ]
    },
    {
      "cell_type": "markdown",
      "source": [
        "#3.2 Building a training and testing Loop"
      ],
      "metadata": {
        "id": "Wdo5fPqTkxwN"
      }
    },
    {
      "cell_type": "code",
      "source": [
        "torch.manual_seed(42)\n",
        "\n",
        "#Set the number of epochs\n",
        "epochs = 100\n",
        "\n",
        "#put the data\n",
        "X_train, y_train = X_train.to(device), y_train.to(device)\n",
        "X_test, t_test = X_test.to(device), y_test.to(device)\n",
        "\n",
        "#Building training and evaluation loop\n",
        "for epoch in range(epochs):\n",
        "  ##Training\n",
        "  model_0.train()\n",
        "\n",
        "  #1.Forward pass,   also this is little different than other forward pass as we have logits\n",
        "  y_logits = model_0(X_train).squeeze()\n",
        "  y_pred = torch.round(torch.sigmoid(y_logits)) #Here are adding torch.round(torch.sigmod()) sigmoid is acitvation function which convert y_logits into prediction probalities and then predition labels\n",
        "\n",
        "\n",
        "  #2. Calculate  loss/accuracy\n",
        "  #loss = loss_fn(torch.sigmoid(y_logits), #nn.BCELoss expects prediction probalities as input\n",
        "  #              y_train)\n",
        "  loss = loss_fn(y_logits,y_train) #nn.BCEWithLogitsLoss expects raw logits as input which explain below block\n",
        "\n",
        "  acc = accuracy(y_true=y_train, #look skilearn to know why this in order\n",
        "                    y_pred=y_pred)\n",
        "\n",
        "  #3. optimizer zero grad\n",
        "  optimizer.zero_grad()\n",
        "\n",
        "  #4. Loss backward (baackpropogation)\n",
        "  loss.backward()\n",
        "\n",
        "  #Optimizer step (gradient descent)\n",
        "  optimizer.step\n",
        "\n",
        "\n",
        "## Testing\n",
        "  model_0.eval()\n",
        "  with torch.inference_mode():\n",
        "    #1. Forward pass\n",
        "    test_logits = model_0(X_test).squeeze()\n",
        "    test_pred = torch.round(torch.sigmoid(test_logits))\n",
        "\n",
        "    #2. Calculate the test loss/accuracy\n",
        "    test_loss = loss_fn(test_logits, y_test)\n",
        "    test_acc = accuracy(y_true = y_test,\n",
        "                           y_pred = test_pred)\n",
        "\n",
        " #Print out\n",
        "\n",
        "  if epoch % 10 == 0:\n",
        "    print(f\"Epoch: {epoch} |  Train Loss: {loss:.5f}, Acc: {acc:.2f}% | Test Loss:{test_loss:.5f}, Test acc:{test_acc:.2f}%\")\n"
      ],
      "metadata": {
        "id": "0I0PLzANYEvy",
        "colab": {
          "base_uri": "https://localhost:8080/"
        },
        "outputId": "8a5d008f-bc0b-4231-a8ea-0996eda564a1"
      },
      "execution_count": null,
      "outputs": [
        {
          "output_type": "stream",
          "name": "stdout",
          "text": [
            "Epoch: 0 |  Train Loss: 0.69982, Acc: 49.88% | Test Loss:0.69199, Test acc:52.00%\n",
            "Epoch: 10 |  Train Loss: 0.69982, Acc: 49.88% | Test Loss:0.69199, Test acc:52.00%\n",
            "Epoch: 20 |  Train Loss: 0.69982, Acc: 49.88% | Test Loss:0.69199, Test acc:52.00%\n",
            "Epoch: 30 |  Train Loss: 0.69982, Acc: 49.88% | Test Loss:0.69199, Test acc:52.00%\n",
            "Epoch: 40 |  Train Loss: 0.69982, Acc: 49.88% | Test Loss:0.69199, Test acc:52.00%\n",
            "Epoch: 50 |  Train Loss: 0.69982, Acc: 49.88% | Test Loss:0.69199, Test acc:52.00%\n",
            "Epoch: 60 |  Train Loss: 0.69982, Acc: 49.88% | Test Loss:0.69199, Test acc:52.00%\n",
            "Epoch: 70 |  Train Loss: 0.69982, Acc: 49.88% | Test Loss:0.69199, Test acc:52.00%\n",
            "Epoch: 80 |  Train Loss: 0.69982, Acc: 49.88% | Test Loss:0.69199, Test acc:52.00%\n",
            "Epoch: 90 |  Train Loss: 0.69982, Acc: 49.88% | Test Loss:0.69199, Test acc:52.00%\n"
          ]
        }
      ]
    },
    {
      "cell_type": "code",
      "source": [
        "#2. Calculate  loss/accuracy (Explanation)\n",
        "#Here we are using loss_fn(y_logits) it take input y_logits, because we are using loss_fn = BCEWithLogitsLoss() function above so it will take input as logits: and we are using for now as its stable\n",
        "# also if we use with logits then it follows like this below:\n",
        "# loss_fn_without_logits = nn.BCELoss() this will output: BCELoss() function only\n"
      ],
      "metadata": {
        "id": "bG1hFKTawJUB"
      },
      "execution_count": null,
      "outputs": []
    },
    {
      "cell_type": "markdown",
      "source": [
        "#4. Make predictions and evaluate  the model to see: as the Model is learning or not\n",
        "#Visualize the model how the data looks\n",
        "#Also we are importing plot_decision_boundry()\n",
        "\n",
        "\n",
        "\n"
      ],
      "metadata": {
        "id": "x2tKKH6A8ZU9"
      }
    },
    {
      "cell_type": "code",
      "source": [
        "import requests\n",
        "from pathlib import Path #this allows us to create the file path\n",
        "\n",
        "#Download the helper functions from Learn Pytorch repo(if its not downloaded)\n",
        "if Path(\"helper_functions.py\").is_file():\n",
        "  print(\"helper_functions.py already exists will not download\")\n",
        "else:\n",
        "  print(\"Downloading the helper_functions.py\")\n",
        "  request = requests.get(\"https://raw.githubusercontent.com/mrdbourke/pytorch-deep-learning/refs/heads/main/helper_functions.py\") # we need to get this in raw verion of it. so goto github  repo and find Raw\n",
        "  with open(\"helper_functions.py\",\"wb\") as f: # wb:write binary\n",
        "    f.write(request.content)\n",
        "\n",
        "from helper_functions import plot_predictions, plot_decision_boundary\n"
      ],
      "metadata": {
        "colab": {
          "base_uri": "https://localhost:8080/"
        },
        "id": "vamvEs2g-62l",
        "outputId": "3fea6367-b5f2-4ba7-d74a-4d2a8c4f4b88"
      },
      "execution_count": null,
      "outputs": [
        {
          "output_type": "stream",
          "name": "stdout",
          "text": [
            "Downloading the helper_functions.py\n"
          ]
        }
      ]
    },
    {
      "cell_type": "code",
      "source": [
        "#plot decision boundary of the model\n",
        "plt.figure(figsize=(12, 6))\n",
        "plt.subplot(1,2,1) #here 1 is number of rows, 2 is number of columns, 1 is the index which appears on the first slot\n",
        "plt.title(\"Train\")\n",
        "plot_decision_boundary(model_0, X_train, y_train)\n",
        "plt.subplot(1,2,2)\n",
        "plt.title(\"Test\")\n",
        "\n",
        "plot_decision_boundary(model_0,X_test,y_test)\n"
      ],
      "metadata": {
        "colab": {
          "base_uri": "https://localhost:8080/",
          "height": 545
        },
        "id": "xey5AZdMnxSs",
        "outputId": "499a19a6-248c-4e3b-93d9-36456246ca4b"
      },
      "execution_count": null,
      "outputs": [
        {
          "output_type": "display_data",
          "data": {
            "text/plain": [
              "<Figure size 1200x600 with 2 Axes>"
            ],
            "image/png": "[encoded data removed]"
          },
          "metadata": {}
        }
      ]
    },
    {
      "cell_type": "markdown",
      "source": [
        "#5. Imporving the Model"
      ],
      "metadata": {
        "id": "40y6eaPwrrA4"
      }
    },
    {
      "cell_type": "code",
      "source": [
        "#Add the more layers so that model would have more chances to learn about the patterns in the data(From model perspective)\n",
        "# Add more hidden units so that we can move from 5 hidden units to 10 hidden units\n",
        "#Fir for longer: for example use epochs:1000 so it has longer data\n",
        "# changing the activation function\n",
        "#Change the learning rate\n",
        "#Change the loss function\n",
        "\n",
        "#These options are all from a models perspective because they deal directly with the model\n",
        "#if this options are all values we(ML engineer or Data scientists) can change as they referred to \"hyperparameters\"\n",
        "# hyperparatmeters are which you can see from line1 to 7in this block\n",
        "\n",
        "#Let's try and improve our model by:\n",
        "#- Adding more hidden units: from 5 to-> 10\n",
        "#- Increase the number of layers: from 2 to> 3\n",
        "#- Increase the number of epochs:from 100 to> 1000"
      ],
      "metadata": {
        "id": "BdU2Ozjbr2oP"
      },
      "execution_count": null,
      "outputs": []
    },
    {
      "cell_type": "code",
      "source": [
        "class CircleModelV1(nn.Module):\n",
        "  def __init__(self):\n",
        "    super().__init__()\n",
        "    self.layer_1 = nn.Linear(in_features=2, out_features=10) #We have mention 2 in_features as our X_train has two output features\n",
        "    self.layer_2 = nn.Linear(in_features=10, out_features=10)\n",
        "    self.layer_3 = nn.Linear(in_features=10, out_features=1) #out_feautures is 1 as y_train is one number\n",
        "\n",
        "  def forward(self, x):\n",
        "    # z = self.layer_1(x)\n",
        "    # z = self.layer_2(z)\n",
        "    # z = self.layer_3(z)\n",
        "    return self.layer_3(self.layer_2(self.layer_1(x)))# this way of writing operations leverages speed ups where possible behind the scenes\n",
        "\n",
        "model_1 = CircleModelV1().to(device)\n",
        "model_1\n",
        "\n",
        "\n"
      ],
      "metadata": {
        "colab": {
          "base_uri": "https://localhost:8080/"
        },
        "id": "EqSKAiTqsHz3",
        "outputId": "b017549d-7350-4245-c009-23672f2cda00"
      },
      "execution_count": null,
      "outputs": [
        {
          "output_type": "execute_result",
          "data": {
            "text/plain": [
              "CircleModelV1(\n",
              "  (layer_1): Linear(in_features=2, out_features=10, bias=True)\n",
              "  (layer_2): Linear(in_features=10, out_features=10, bias=True)\n",
              "  (layer_3): Linear(in_features=10, out_features=1, bias=True)\n",
              ")"
            ]
          },
          "metadata": {},
          "execution_count": 45
        }
      ]
    },
    {
      "cell_type": "code",
      "source": [
        "#Create a loss functions\n",
        "loss_fn = nn.BCEWithLogitsLoss()\n",
        "\n",
        "#Create an Optimizer\n",
        "optimizer = torch.optim.SGD(params = model_1.parameters(),\n",
        "                            lr=0.1)\n",
        "\n",
        "#Write a training and evaluation loop for model_1\n",
        "torch.manual_seed(42)\n",
        "torch.cuda.manual_seed(42)\n",
        "\n",
        "epochs = 1000\n",
        "\n",
        "#put data on the target device\n",
        "X_train, y_train = X_train.to(device), y_train.to(device)\n",
        "X_test, y_test = X_test.to(device), y_test.to(device)\n",
        "\n",
        "for epoch in range(epochs):\n",
        "  ##Training\n",
        "  model_1.train()\n",
        "  #1. Forward Pass\n",
        "  y_logits = model_1(X_train).squeeze()\n",
        "  y_pred = torch.round(torch.sigmoid(y_logits)) #logits -> Pred probabilities->Prediction\n",
        "\n",
        "  #2.Calcluate the loss/accuracy\n",
        "  loss = loss_fn(y_pred)"
      ],
      "metadata": {
        "id": "BFGE90CUrybE"
      },
      "execution_count": null,
      "outputs": []
    }
  ]
}