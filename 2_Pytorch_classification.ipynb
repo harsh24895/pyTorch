{
  "nbformat": 4,
  "nbformat_minor": 0,
  "metadata": {
    "colab": {
      "provenance": [],
      "authorship_tag": "ABX9TyOGHgoIOPM4L7ADs46HCfZi",
      "include_colab_link": true
    },
    "kernelspec": {
      "name": "python3",
      "display_name": "Python 3"
    },
    "language_info": {
      "name": "python"
    }
  },
  "cells": [
    {
      "cell_type": "markdown",
      "metadata": {
        "id": "view-in-github",
        "colab_type": "text"
      },
      "source": [
        "<a href=\"https://colab.research.google.com/github/harsh24895/pyTorch/blob/main/2_Pytorch_classification.ipynb\" target=\"_parent\"><img src=\"https://colab.research.google.com/assets/colab-badge.svg\" alt=\"Open In Colab\"/></a>"
      ]
    },
    {
      "cell_type": "markdown",
      "source": [
        " 2 Neural network classification with Pytorch\n",
        "\n",
        "Classifiction is a problem if predicting whether something is one thing or aanother(or could be multiple things kinda like options)"
      ],
      "metadata": {
        "id": "m9UujhsqykTx"
      }
    },
    {
      "cell_type": "code",
      "source": [
        "## 1. make classification data and get it ready\n",
        "import sklearn ## this popular Machine learning library and Pytorch is mainly focus on deep learning\n",
        "# and this sklearn is already installed in google colab"
      ],
      "metadata": {
        "id": "jIRvddRR0St5"
      },
      "execution_count": 3,
      "outputs": []
    },
    {
      "cell_type": "code",
      "source": [
        "from sklearn.datasets import make_circles\n",
        "\n",
        "#Making 1000 samples\n",
        "samples = 1000\n",
        "\n",
        "#create the circles\n",
        "X, y = make_circles(samples,\n",
        "                    noise=0.05,\n",
        "                    random_state=42)"
      ],
      "metadata": {
        "id": "6buELOhD2wO5"
      },
      "execution_count": 5,
      "outputs": []
    },
    {
      "cell_type": "code",
      "source": [
        "len(X), len(y)"
      ],
      "metadata": {
        "colab": {
          "base_uri": "https://localhost:8080/"
        },
        "id": "MirOKT1q4our",
        "outputId": "2063c61d-9643-46ff-cc0a-7953bb837e49"
      },
      "execution_count": 6,
      "outputs": [
        {
          "output_type": "execute_result",
          "data": {
            "text/plain": [
              "(1000, 1000)"
            ]
          },
          "metadata": {},
          "execution_count": 6
        }
      ]
    },
    {
      "cell_type": "code",
      "source": [
        "print(f\"First 5 samples of X:\\n{X[:5]}\")\n",
        "print(f\"First 5 samples of y:\\n{y[:5]}\")"
      ],
      "metadata": {
        "colab": {
          "base_uri": "https://localhost:8080/"
        },
        "id": "v0prGBbA5P1A",
        "outputId": "ecd3c8de-50b5-4e3c-e518-ee7067b11675"
      },
      "execution_count": 8,
      "outputs": [
        {
          "output_type": "stream",
          "name": "stdout",
          "text": [
            "First 5 samples of X:\n",
            "[[ 0.74220688  0.24668576]\n",
            " [-0.7340323   0.16869164]\n",
            " [-0.82985872  0.22195899]\n",
            " [-0.42913559  0.67223019]\n",
            " [ 0.44560223 -0.89493556]]\n",
            "First 5 samples of y:\n",
            "[1 1 1 1 0]\n"
          ]
        }
      ]
    }
  ]
}