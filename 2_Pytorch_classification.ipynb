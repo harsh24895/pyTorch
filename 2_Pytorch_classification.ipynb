{
  "nbformat": 4,
  "nbformat_minor": 0,
  "metadata": {
    "colab": {
      "provenance": [],
      "authorship_tag": "ABX9TyMQmOZqN8P0EI73cMS7qi3j"
    },
    "kernelspec": {
      "name": "python3",
      "display_name": "Python 3"
    },
    "language_info": {
      "name": "python"
    }
  },
  "cells": [
    {
      "cell_type": "markdown",
      "source": [
        " 2 Neural network classification with Pytorch\n",
        "\n",
        "Classifiction is a problem if predicting whether something is one thing or aanother(or could be multiple things kinda like options)"
      ],
      "metadata": {
        "id": "m9UujhsqykTx"
      }
    },
    {
      "cell_type": "code",
      "source": [
        "## 1. make classification data and get it ready\n",
        "import sklearn ## this popular Machine learning library and Pytorch is mainly focus on deep learning\n",
        "# and this sklearn is already installed in google colab"
      ],
      "metadata": {
        "id": "jIRvddRR0St5"
      },
      "execution_count": 1,
      "outputs": []
    },
    {
      "cell_type": "code",
      "source": [
        "from sklearn.datasets import make_circles\n",
        "\n",
        "#Making 1000 samples\n",
        "samples = 1000\n",
        "\n",
        "#create the circles\n",
        "X, y = make_circles(samples,\n",
        "                    noise=0.05, #this is the randomness we can set any value upto us\n",
        "                    random_state=42)"
      ],
      "metadata": {
        "id": "6buELOhD2wO5"
      },
      "execution_count": 2,
      "outputs": []
    },
    {
      "cell_type": "code",
      "source": [
        "len(X), len(y)"
      ],
      "metadata": {
        "colab": {
          "base_uri": "https://localhost:8080/"
        },
        "id": "MirOKT1q4our",
        "outputId": "ef53325d-0fda-4c68-dd02-70f9583ad483"
      },
      "execution_count": 3,
      "outputs": [
        {
          "output_type": "execute_result",
          "data": {
            "text/plain": [
              "(1000, 1000)"
            ]
          },
          "metadata": {},
          "execution_count": 3
        }
      ]
    },
    {
      "cell_type": "code",
      "source": [
        "print(f\"First 5 samples of X:\\n{X[:5]}\")\n",
        "print(f\"First 5 samples of y:\\n{y[:5]}\")\n"
      ],
      "metadata": {
        "colab": {
          "base_uri": "https://localhost:8080/"
        },
        "id": "v0prGBbA5P1A",
        "outputId": "16116185-92f6-46e5-ff2e-06f0ee9a1805"
      },
      "execution_count": 4,
      "outputs": [
        {
          "output_type": "stream",
          "name": "stdout",
          "text": [
            "First 5 samples of X:\n",
            "[[ 0.74220688  0.24668576]\n",
            " [-0.7340323   0.16869164]\n",
            " [-0.82985872  0.22195899]\n",
            " [-0.42913559  0.67223019]\n",
            " [ 0.44560223 -0.89493556]]\n",
            "First 5 samples of y:\n",
            "[1 1 1 1 0]\n"
          ]
        }
      ]
    },
    {
      "cell_type": "code",
      "source": [
        "#make DataFrame of circle data\n",
        "import pandas as pd\n",
        "circles = pd.DataFrame({\"X1\":X[:, 0], #is the index 0 of X so it would be 0.74220688 from above result\n",
        "                        \"X2\":X[:, 1], #is the index 1 of X so it would be 0.24668576 from above result\n",
        "                        \"label\": y})  #0.74220688  0.24668576 count as 1 in y same goes to other output above at last it say 0 for some reason\n",
        "circles.head(10)"
      ],
      "metadata": {
        "colab": {
          "base_uri": "https://localhost:8080/",
          "height": 363
        },
        "id": "KyD4wWkyusBi",
        "outputId": "22daaeed-2b86-44be-c2bf-40a95e2e97fd"
      },
      "execution_count": 5,
      "outputs": [
        {
          "output_type": "execute_result",
          "data": {
            "text/plain": [
              "         X1        X2  label\n",
              "0  0.742207  0.246686      1\n",
              "1 -0.734032  0.168692      1\n",
              "2 -0.829859  0.221959      1\n",
              "3 -0.429136  0.672230      1\n",
              "4  0.445602 -0.894936      0\n",
              "5 -0.469885  0.708037      1\n",
              "6 -0.016045  0.805623      1\n",
              "7  0.759623  0.159526      1\n",
              "8 -0.175692 -0.799837      1\n",
              "9 -0.110616  1.042207      0"
            ],
            "text/html": [
              "\n",
              "  <div id=\"df-2f17c809-1312-4d36-ae74-f155a8e2b096\" class=\"colab-df-container\">\n",
              "    <div>\n",
              "<style scoped>\n",
              "    .dataframe tbody tr th:only-of-type {\n",
              "        vertical-align: middle;\n",
              "    }\n",
              "\n",
              "    .dataframe tbody tr th {\n",
              "        vertical-align: top;\n",
              "    }\n",
              "\n",
              "    .dataframe thead th {\n",
              "        text-align: right;\n",
              "    }\n",
              "</style>\n",
              "<table border=\"1\" class=\"dataframe\">\n",
              "  <thead>\n",
              "    <tr style=\"text-align: right;\">\n",
              "      <th></th>\n",
              "      <th>X1</th>\n",
              "      <th>X2</th>\n",
              "      <th>label</th>\n",
              "    </tr>\n",
              "  </thead>\n",
              "  <tbody>\n",
              "    <tr>\n",
              "      <th>0</th>\n",
              "      <td>0.742207</td>\n",
              "      <td>0.246686</td>\n",
              "      <td>1</td>\n",
              "    </tr>\n",
              "    <tr>\n",
              "      <th>1</th>\n",
              "      <td>-0.734032</td>\n",
              "      <td>0.168692</td>\n",
              "      <td>1</td>\n",
              "    </tr>\n",
              "    <tr>\n",
              "      <th>2</th>\n",
              "      <td>-0.829859</td>\n",
              "      <td>0.221959</td>\n",
              "      <td>1</td>\n",
              "    </tr>\n",
              "    <tr>\n",
              "      <th>3</th>\n",
              "      <td>-0.429136</td>\n",
              "      <td>0.672230</td>\n",
              "      <td>1</td>\n",
              "    </tr>\n",
              "    <tr>\n",
              "      <th>4</th>\n",
              "      <td>0.445602</td>\n",
              "      <td>-0.894936</td>\n",
              "      <td>0</td>\n",
              "    </tr>\n",
              "    <tr>\n",
              "      <th>5</th>\n",
              "      <td>-0.469885</td>\n",
              "      <td>0.708037</td>\n",
              "      <td>1</td>\n",
              "    </tr>\n",
              "    <tr>\n",
              "      <th>6</th>\n",
              "      <td>-0.016045</td>\n",
              "      <td>0.805623</td>\n",
              "      <td>1</td>\n",
              "    </tr>\n",
              "    <tr>\n",
              "      <th>7</th>\n",
              "      <td>0.759623</td>\n",
              "      <td>0.159526</td>\n",
              "      <td>1</td>\n",
              "    </tr>\n",
              "    <tr>\n",
              "      <th>8</th>\n",
              "      <td>-0.175692</td>\n",
              "      <td>-0.799837</td>\n",
              "      <td>1</td>\n",
              "    </tr>\n",
              "    <tr>\n",
              "      <th>9</th>\n",
              "      <td>-0.110616</td>\n",
              "      <td>1.042207</td>\n",
              "      <td>0</td>\n",
              "    </tr>\n",
              "  </tbody>\n",
              "</table>\n",
              "</div>\n",
              "    <div class=\"colab-df-buttons\">\n",
              "\n",
              "  <div class=\"colab-df-container\">\n",
              "    <button class=\"colab-df-convert\" onclick=\"convertToInteractive('df-2f17c809-1312-4d36-ae74-f155a8e2b096')\"\n",
              "            title=\"Convert this dataframe to an interactive table.\"\n",
              "            style=\"display:none;\">\n",
              "\n",
              "  <svg xmlns=\"http://www.w3.org/2000/svg\" height=\"24px\" viewBox=\"0 -960 960 960\">\n",
              "    <path d=\"M120-120v-720h720v720H120Zm60-500h600v-160H180v160Zm220 220h160v-160H400v160Zm0 220h160v-160H400v160ZM180-400h160v-160H180v160Zm440 0h160v-160H620v160ZM180-180h160v-160H180v160Zm440 0h160v-160H620v160Z\"/>\n",
              "  </svg>\n",
              "    </button>\n",
              "\n",
              "  <style>\n",
              "    .colab-df-container {\n",
              "      display:flex;\n",
              "      gap: 12px;\n",
              "    }\n",
              "\n",
              "    .colab-df-convert {\n",
              "      background-color: #E8F0FE;\n",
              "      border: none;\n",
              "      border-radius: 50%;\n",
              "      cursor: pointer;\n",
              "      display: none;\n",
              "      fill: #1967D2;\n",
              "      height: 32px;\n",
              "      padding: 0 0 0 0;\n",
              "      width: 32px;\n",
              "    }\n",
              "\n",
              "    .colab-df-convert:hover {\n",
              "      background-color: #E2EBFA;\n",
              "      box-shadow: 0px 1px 2px rgba(60, 64, 67, 0.3), 0px 1px 3px 1px rgba(60, 64, 67, 0.15);\n",
              "      fill: #174EA6;\n",
              "    }\n",
              "\n",
              "    .colab-df-buttons div {\n",
              "      margin-bottom: 4px;\n",
              "    }\n",
              "\n",
              "    [theme=dark] .colab-df-convert {\n",
              "      background-color: #3B4455;\n",
              "      fill: #D2E3FC;\n",
              "    }\n",
              "\n",
              "    [theme=dark] .colab-df-convert:hover {\n",
              "      background-color: #434B5C;\n",
              "      box-shadow: 0px 1px 3px 1px rgba(0, 0, 0, 0.15);\n",
              "      filter: drop-shadow(0px 1px 2px rgba(0, 0, 0, 0.3));\n",
              "      fill: #FFFFFF;\n",
              "    }\n",
              "  </style>\n",
              "\n",
              "    <script>\n",
              "      const buttonEl =\n",
              "        document.querySelector('#df-2f17c809-1312-4d36-ae74-f155a8e2b096 button.colab-df-convert');\n",
              "      buttonEl.style.display =\n",
              "        google.colab.kernel.accessAllowed ? 'block' : 'none';\n",
              "\n",
              "      async function convertToInteractive(key) {\n",
              "        const element = document.querySelector('#df-2f17c809-1312-4d36-ae74-f155a8e2b096');\n",
              "        const dataTable =\n",
              "          await google.colab.kernel.invokeFunction('convertToInteractive',\n",
              "                                                    [key], {});\n",
              "        if (!dataTable) return;\n",
              "\n",
              "        const docLinkHtml = 'Like what you see? Visit the ' +\n",
              "          '<a target=\"_blank\" href=https://colab.research.google.com/notebooks/data_table.ipynb>data table notebook</a>'\n",
              "          + ' to learn more about interactive tables.';\n",
              "        element.innerHTML = '';\n",
              "        dataTable['output_type'] = 'display_data';\n",
              "        await google.colab.output.renderOutput(dataTable, element);\n",
              "        const docLink = document.createElement('div');\n",
              "        docLink.innerHTML = docLinkHtml;\n",
              "        element.appendChild(docLink);\n",
              "      }\n",
              "    </script>\n",
              "  </div>\n",
              "\n",
              "\n",
              "<div id=\"df-ec39b378-4821-4eb0-ba06-e31aa2515587\">\n",
              "  <button class=\"colab-df-quickchart\" onclick=\"quickchart('df-ec39b378-4821-4eb0-ba06-e31aa2515587')\"\n",
              "            title=\"Suggest charts\"\n",
              "            style=\"display:none;\">\n",
              "\n",
              "<svg xmlns=\"http://www.w3.org/2000/svg\" height=\"24px\"viewBox=\"0 0 24 24\"\n",
              "     width=\"24px\">\n",
              "    <g>\n",
              "        <path d=\"M19 3H5c-1.1 0-2 .9-2 2v14c0 1.1.9 2 2 2h14c1.1 0 2-.9 2-2V5c0-1.1-.9-2-2-2zM9 17H7v-7h2v7zm4 0h-2V7h2v10zm4 0h-2v-4h2v4z\"/>\n",
              "    </g>\n",
              "</svg>\n",
              "  </button>\n",
              "\n",
              "<style>\n",
              "  .colab-df-quickchart {\n",
              "      --bg-color: #E8F0FE;\n",
              "      --fill-color: #1967D2;\n",
              "      --hover-bg-color: #E2EBFA;\n",
              "      --hover-fill-color: #174EA6;\n",
              "      --disabled-fill-color: #AAA;\n",
              "      --disabled-bg-color: #DDD;\n",
              "  }\n",
              "\n",
              "  [theme=dark] .colab-df-quickchart {\n",
              "      --bg-color: #3B4455;\n",
              "      --fill-color: #D2E3FC;\n",
              "      --hover-bg-color: #434B5C;\n",
              "      --hover-fill-color: #FFFFFF;\n",
              "      --disabled-bg-color: #3B4455;\n",
              "      --disabled-fill-color: #666;\n",
              "  }\n",
              "\n",
              "  .colab-df-quickchart {\n",
              "    background-color: var(--bg-color);\n",
              "    border: none;\n",
              "    border-radius: 50%;\n",
              "    cursor: pointer;\n",
              "    display: none;\n",
              "    fill: var(--fill-color);\n",
              "    height: 32px;\n",
              "    padding: 0;\n",
              "    width: 32px;\n",
              "  }\n",
              "\n",
              "  .colab-df-quickchart:hover {\n",
              "    background-color: var(--hover-bg-color);\n",
              "    box-shadow: 0 1px 2px rgba(60, 64, 67, 0.3), 0 1px 3px 1px rgba(60, 64, 67, 0.15);\n",
              "    fill: var(--button-hover-fill-color);\n",
              "  }\n",
              "\n",
              "  .colab-df-quickchart-complete:disabled,\n",
              "  .colab-df-quickchart-complete:disabled:hover {\n",
              "    background-color: var(--disabled-bg-color);\n",
              "    fill: var(--disabled-fill-color);\n",
              "    box-shadow: none;\n",
              "  }\n",
              "\n",
              "  .colab-df-spinner {\n",
              "    border: 2px solid var(--fill-color);\n",
              "    border-color: transparent;\n",
              "    border-bottom-color: var(--fill-color);\n",
              "    animation:\n",
              "      spin 1s steps(1) infinite;\n",
              "  }\n",
              "\n",
              "  @keyframes spin {\n",
              "    0% {\n",
              "      border-color: transparent;\n",
              "      border-bottom-color: var(--fill-color);\n",
              "      border-left-color: var(--fill-color);\n",
              "    }\n",
              "    20% {\n",
              "      border-color: transparent;\n",
              "      border-left-color: var(--fill-color);\n",
              "      border-top-color: var(--fill-color);\n",
              "    }\n",
              "    30% {\n",
              "      border-color: transparent;\n",
              "      border-left-color: var(--fill-color);\n",
              "      border-top-color: var(--fill-color);\n",
              "      border-right-color: var(--fill-color);\n",
              "    }\n",
              "    40% {\n",
              "      border-color: transparent;\n",
              "      border-right-color: var(--fill-color);\n",
              "      border-top-color: var(--fill-color);\n",
              "    }\n",
              "    60% {\n",
              "      border-color: transparent;\n",
              "      border-right-color: var(--fill-color);\n",
              "    }\n",
              "    80% {\n",
              "      border-color: transparent;\n",
              "      border-right-color: var(--fill-color);\n",
              "      border-bottom-color: var(--fill-color);\n",
              "    }\n",
              "    90% {\n",
              "      border-color: transparent;\n",
              "      border-bottom-color: var(--fill-color);\n",
              "    }\n",
              "  }\n",
              "</style>\n",
              "\n",
              "  <script>\n",
              "    async function quickchart(key) {\n",
              "      const quickchartButtonEl =\n",
              "        document.querySelector('#' + key + ' button');\n",
              "      quickchartButtonEl.disabled = true;  // To prevent multiple clicks.\n",
              "      quickchartButtonEl.classList.add('colab-df-spinner');\n",
              "      try {\n",
              "        const charts = await google.colab.kernel.invokeFunction(\n",
              "            'suggestCharts', [key], {});\n",
              "      } catch (error) {\n",
              "        console.error('Error during call to suggestCharts:', error);\n",
              "      }\n",
              "      quickchartButtonEl.classList.remove('colab-df-spinner');\n",
              "      quickchartButtonEl.classList.add('colab-df-quickchart-complete');\n",
              "    }\n",
              "    (() => {\n",
              "      let quickchartButtonEl =\n",
              "        document.querySelector('#df-ec39b378-4821-4eb0-ba06-e31aa2515587 button');\n",
              "      quickchartButtonEl.style.display =\n",
              "        google.colab.kernel.accessAllowed ? 'block' : 'none';\n",
              "    })();\n",
              "  </script>\n",
              "</div>\n",
              "\n",
              "    </div>\n",
              "  </div>\n"
            ],
            "application/vnd.google.colaboratory.intrinsic+json": {
              "type": "dataframe",
              "variable_name": "circles",
              "summary": "{\n  \"name\": \"circles\",\n  \"rows\": 1000,\n  \"fields\": [\n    {\n      \"column\": \"X1\",\n      \"properties\": {\n        \"dtype\": \"number\",\n        \"std\": 0.6401123499822728,\n        \"min\": -1.1161528513253876,\n        \"max\": 1.0576079974659371,\n        \"num_unique_values\": 1000,\n        \"samples\": [\n          -0.36253378566314187,\n          0.05913012328894063,\n          -0.6859161454401436\n        ],\n        \"semantic_type\": \"\",\n        \"description\": \"\"\n      }\n    },\n    {\n      \"column\": \"X2\",\n      \"properties\": {\n        \"dtype\": \"number\",\n        \"std\": 0.6422249340894738,\n        \"min\": -1.1142627115008916,\n        \"max\": 1.068896513032579,\n        \"num_unique_values\": 1000,\n        \"samples\": [\n          0.6736682018243565,\n          0.9342187323788756,\n          -0.3035280109948755\n        ],\n        \"semantic_type\": \"\",\n        \"description\": \"\"\n      }\n    },\n    {\n      \"column\": \"label\",\n      \"properties\": {\n        \"dtype\": \"number\",\n        \"std\": 0,\n        \"min\": 0,\n        \"max\": 1,\n        \"num_unique_values\": 2,\n        \"samples\": [\n          0,\n          1\n        ],\n        \"semantic_type\": \"\",\n        \"description\": \"\"\n      }\n    }\n  ]\n}"
            }
          },
          "metadata": {},
          "execution_count": 5
        }
      ]
    },
    {
      "cell_type": "code",
      "source": [
        "circles.label.value_counts() #here we have 500 data for both level red dot and blue dot"
      ],
      "metadata": {
        "colab": {
          "base_uri": "https://localhost:8080/",
          "height": 178
        },
        "id": "_uXa1k9d7qXm",
        "outputId": "2ed29d60-8871-45e6-b7ec-113bc84c720e"
      },
      "execution_count": 6,
      "outputs": [
        {
          "output_type": "execute_result",
          "data": {
            "text/plain": [
              "label\n",
              "1    500\n",
              "0    500\n",
              "Name: count, dtype: int64"
            ],
            "text/html": [
              "<div>\n",
              "<style scoped>\n",
              "    .dataframe tbody tr th:only-of-type {\n",
              "        vertical-align: middle;\n",
              "    }\n",
              "\n",
              "    .dataframe tbody tr th {\n",
              "        vertical-align: top;\n",
              "    }\n",
              "\n",
              "    .dataframe thead th {\n",
              "        text-align: right;\n",
              "    }\n",
              "</style>\n",
              "<table border=\"1\" class=\"dataframe\">\n",
              "  <thead>\n",
              "    <tr style=\"text-align: right;\">\n",
              "      <th></th>\n",
              "      <th>count</th>\n",
              "    </tr>\n",
              "    <tr>\n",
              "      <th>label</th>\n",
              "      <th></th>\n",
              "    </tr>\n",
              "  </thead>\n",
              "  <tbody>\n",
              "    <tr>\n",
              "      <th>1</th>\n",
              "      <td>500</td>\n",
              "    </tr>\n",
              "    <tr>\n",
              "      <th>0</th>\n",
              "      <td>500</td>\n",
              "    </tr>\n",
              "  </tbody>\n",
              "</table>\n",
              "</div><br><label><b>dtype:</b> int64</label>"
            ]
          },
          "metadata": {},
          "execution_count": 6
        }
      ]
    },
    {
      "cell_type": "code",
      "source": [
        "# Visualize  the data which we got in above results\n",
        "import matplotlib.pyplot as plt\n",
        "\n",
        "plt.scatter(x=X[:, 0],\n",
        "            y=X[:, 1],\n",
        "            c=y, #color with label\n",
        "            cmap=plt.cm.RdYlBu); #here cmap stands for color map\n",
        "\n",
        "            #here we are seeing the circle dataset which comes from sklearn toy dataset"
      ],
      "metadata": {
        "colab": {
          "base_uri": "https://localhost:8080/",
          "height": 430
        },
        "id": "IqKOUpU7zr27",
        "outputId": "80e445bf-2a81-47f8-b59d-82498d33cf36"
      },
      "execution_count": 7,
      "outputs": [
        {
          "output_type": "display_data",
          "data": {
            "text/plain": [
              "<Figure size 640x480 with 1 Axes>"
            ],
            "image/png": "[encoded data removed]"
          },
          "metadata": {}
        }
      ]
    },
    {
      "cell_type": "markdown",
      "source": [
        "#Note: the data we are working with is also called Toy dataset, a dataset that is small enough to experiment but still sizeable enough to practice"
      ],
      "metadata": {
        "id": "V4cQQi-L1Gdt"
      }
    },
    {
      "cell_type": "code",
      "source": [
        "#1.1 check input and output shapes\n",
        "\n",
        "X.shape, y.shape # Here X has 2 Features and y has nothing single number as its called a scaler\n",
        "# X is feature and y is a label"
      ],
      "metadata": {
        "colab": {
          "base_uri": "https://localhost:8080/"
        },
        "id": "SSIEncO55aQx",
        "outputId": "27bce619-cf83-466b-9501-5d9359055679"
      },
      "execution_count": 8,
      "outputs": [
        {
          "output_type": "execute_result",
          "data": {
            "text/plain": [
              "((1000, 2), (1000,))"
            ]
          },
          "metadata": {},
          "execution_count": 8
        }
      ]
    },
    {
      "cell_type": "code",
      "source": [
        "X"
      ],
      "metadata": {
        "colab": {
          "base_uri": "https://localhost:8080/"
        },
        "id": "UQKmXOaS-eQj",
        "outputId": "cd0586aa-7ede-4e1c-809e-e2b63f2ac532"
      },
      "execution_count": 9,
      "outputs": [
        {
          "output_type": "execute_result",
          "data": {
            "text/plain": [
              "array([[ 0.74220688,  0.24668576],\n",
              "       [-0.7340323 ,  0.16869164],\n",
              "       [-0.82985872,  0.22195899],\n",
              "       ...,\n",
              "       [-0.12823057, -0.82613318],\n",
              "       [ 0.66090453, -0.79319015],\n",
              "       [ 0.27841491,  0.96735953]])"
            ]
          },
          "metadata": {},
          "execution_count": 9
        }
      ]
    },
    {
      "cell_type": "code",
      "source": [
        "# view the first example of feautures and labels\n",
        "\n",
        "X_sample = X[0]\n",
        "y_sample = y[0]\n",
        "\n",
        "print(f\"Value of one sample of X:{X_sample} and same for y:{y_sample}\")\n",
        "print(f\"Shapes for one sample of X:{X_sample.shape} and same for y:{y_sample.shape}\")"
      ],
      "metadata": {
        "colab": {
          "base_uri": "https://localhost:8080/"
        },
        "id": "gNFXxxpt_y7_",
        "outputId": "c45bbd3e-5938-42d8-e79c-ab778857bd2f"
      },
      "execution_count": 10,
      "outputs": [
        {
          "output_type": "stream",
          "name": "stdout",
          "text": [
            "Value of one sample of X:[0.74220688 0.24668576] and same for y:1\n",
            "Shapes for one sample of X:(2,) and same for y:()\n"
          ]
        }
      ]
    },
    {
      "cell_type": "markdown",
      "source": [
        "##Turn data into tensors and create train test splits"
      ],
      "metadata": {
        "id": "Uu50mZdFBif_"
      }
    },
    {
      "cell_type": "code",
      "source": [
        "\n",
        "import torch\n",
        "torch.__version__\n"
      ],
      "metadata": {
        "colab": {
          "base_uri": "https://localhost:8080/",
          "height": 36
        },
        "id": "6EN7SIDuBLko",
        "outputId": "3c7de0dd-b9b2-4da3-e2c6-0e74e2230d92"
      },
      "execution_count": 11,
      "outputs": [
        {
          "output_type": "execute_result",
          "data": {
            "text/plain": [
              "'2.5.0+cu121'"
            ],
            "application/vnd.google.colaboratory.intrinsic+json": {
              "type": "string"
            }
          },
          "metadata": {},
          "execution_count": 11
        }
      ]
    },
    {
      "cell_type": "code",
      "source": [
        "type(X), X.dtype # HEre the default numpy datatype is float64\n",
        "#however the default datatype for pytorch is float32\n",
        "#makesure that the X.dtype shows float64/numpy.ndarray first and then run below code"
      ],
      "metadata": {
        "colab": {
          "base_uri": "https://localhost:8080/"
        },
        "id": "hnDkSeH1aeyG",
        "outputId": "acdbb36d-6b32-4c82-dae3-5219432b579c"
      },
      "execution_count": 12,
      "outputs": [
        {
          "output_type": "execute_result",
          "data": {
            "text/plain": [
              "(numpy.ndarray, dtype('float64'))"
            ]
          },
          "metadata": {},
          "execution_count": 12
        }
      ]
    },
    {
      "cell_type": "code",
      "source": [
        "# Turn data into tensors\n",
        "X = torch.from_numpy(X).type(torch.float) #here we are converting the numpy(X) to the torch for float32\n",
        "y = torch.from_numpy(y).type(torch.float)\n",
        "\n",
        "X[:5], y[:5]"
      ],
      "metadata": {
        "colab": {
          "base_uri": "https://localhost:8080/"
        },
        "id": "b9LgHFLogUpN",
        "outputId": "b27ae414-6732-46ae-a69b-a534cae21c53"
      },
      "execution_count": 13,
      "outputs": [
        {
          "output_type": "execute_result",
          "data": {
            "text/plain": [
              "(tensor([[ 0.7422,  0.2467],\n",
              "         [-0.7340,  0.1687],\n",
              "         [-0.8299,  0.2220],\n",
              "         [-0.4291,  0.6722],\n",
              "         [ 0.4456, -0.8949]]),\n",
              " tensor([1., 1., 1., 1., 0.]))"
            ]
          },
          "metadata": {},
          "execution_count": 13
        }
      ]
    },
    {
      "cell_type": "code",
      "source": [
        "type(X), X.dtype, y.dtype # here we got the data in Tensors"
      ],
      "metadata": {
        "colab": {
          "base_uri": "https://localhost:8080/"
        },
        "id": "bxaR7r6TgoiN",
        "outputId": "9f6fe71f-ecc2-4b12-e962-e1a72a910e3c"
      },
      "execution_count": 14,
      "outputs": [
        {
          "output_type": "execute_result",
          "data": {
            "text/plain": [
              "(torch.Tensor, torch.float32, torch.float32)"
            ]
          },
          "metadata": {},
          "execution_count": 14
        }
      ]
    },
    {
      "cell_type": "code",
      "source": [
        "#split data into training and test sets\n",
        "from sklearn.model_selection import train_test_split\n",
        "\n",
        "X_train, X_test, y_train, y_test = train_test_split(X,       #set the feature first and then the labels same as mentioned\n",
        "                                                    y,\n",
        "                                                    test_size = 0.2, #0.2 = 20% of the data will be test and 80% will be train and if we want to have 50-50 split then use 0.5\n",
        "                                                    random_state=42) #this same as manual_seed(42) it will get similar random split"
      ],
      "metadata": {
        "id": "z-e8Kmwig44C"
      },
      "execution_count": 15,
      "outputs": []
    },
    {
      "cell_type": "code",
      "source": [
        "len(X_train), len(X_test), len(y_train), len(y_test)"
      ],
      "metadata": {
        "colab": {
          "base_uri": "https://localhost:8080/"
        },
        "id": "mBVM7UgCiskL",
        "outputId": "d21edb3b-48e6-42d5-8023-b9dfda8cc4fd"
      },
      "execution_count": 16,
      "outputs": [
        {
          "output_type": "execute_result",
          "data": {
            "text/plain": [
              "(800, 200, 800, 200)"
            ]
          },
          "metadata": {},
          "execution_count": 16
        }
      ]
    },
    {
      "cell_type": "markdown",
      "source": [
        "#Building the model\n",
        "\n",
        "#let's build a model to classify the Blue and Red dots\n",
        "#To do that we want the following steps to do:\n",
        "#1. Setup device agonistic code and code will run on an accelerator(GPU) if there is one\n",
        "#2. Construct a model (By subclassing 'nn.module')\n",
        "#3. Define a loss function and optimizer\n",
        "#4. Create a training and test loops\n"
      ],
      "metadata": {
        "id": "OBZ6z7C8p7LR"
      }
    },
    {
      "cell_type": "code",
      "source": [
        "#import Pytorch and nn\n",
        "import torch\n",
        "from torch import nn\n",
        "\n",
        "#make device agnostic code\n",
        "device = \"cuda\" if torch.cuda.is_available() else \"cpu\"\n",
        "device"
      ],
      "metadata": {
        "colab": {
          "base_uri": "https://localhost:8080/",
          "height": 36
        },
        "id": "3-TAMZlbrw-I",
        "outputId": "ab881d4e-f35d-486b-f5b4-98db7c09219f"
      },
      "execution_count": 17,
      "outputs": [
        {
          "output_type": "execute_result",
          "data": {
            "text/plain": [
              "'cpu'"
            ],
            "application/vnd.google.colaboratory.intrinsic+json": {
              "type": "string"
            }
          },
          "metadata": {},
          "execution_count": 17
        }
      ]
    },
    {
      "cell_type": "code",
      "source": [
        "X_train"
      ],
      "metadata": {
        "colab": {
          "base_uri": "https://localhost:8080/"
        },
        "id": "K5rPWMKxrjFn",
        "outputId": "6613711a-7dc8-461b-c29e-8081214c0896"
      },
      "execution_count": 18,
      "outputs": [
        {
          "output_type": "execute_result",
          "data": {
            "text/plain": [
              "tensor([[ 0.6772, -0.4456],\n",
              "        [ 0.6030, -0.7328],\n",
              "        [-1.0219, -0.1066],\n",
              "        ...,\n",
              "        [ 0.0011, -1.0504],\n",
              "        [ 1.0259,  0.1799],\n",
              "        [ 0.5597, -0.5673]])"
            ]
          },
          "metadata": {},
          "execution_count": 18
        }
      ]
    },
    {
      "cell_type": "markdown",
      "source": [
        "So we have setup the device agnostic code, will create a model:\n",
        "1. Subclasses 'nn.module' (almost all model in pytorch subclass 'nn.module')\n",
        "2. Create two 'nn.Linear()' layers that are capable of handling the shapes of our data\n",
        "3. Define the 'forward()' method that outlines forward pass(or forward computation) of the model\n",
        "4. Instatiate an instance of out model class and send it to the target device"
      ],
      "metadata": {
        "id": "NnV9q6h_uaa0"
      }
    },
    {
      "cell_type": "code",
      "source": [
        "X_train.shape"
      ],
      "metadata": {
        "colab": {
          "base_uri": "https://localhost:8080/"
        },
        "id": "deAp9idmyfQ-",
        "outputId": "563aa909-0c8b-4e71-8765-b43b6fbebb8c"
      },
      "execution_count": 19,
      "outputs": [
        {
          "output_type": "execute_result",
          "data": {
            "text/plain": [
              "torch.Size([800, 2])"
            ]
          },
          "metadata": {},
          "execution_count": 19
        }
      ]
    },
    {
      "cell_type": "code",
      "source": [
        "y_train[:5]"
      ],
      "metadata": {
        "colab": {
          "base_uri": "https://localhost:8080/"
        },
        "id": "KtHvG4Bjy2eb",
        "outputId": "6251f128-3bd0-4fdd-ec33-9cc04f3e67fd"
      },
      "execution_count": 20,
      "outputs": [
        {
          "output_type": "execute_result",
          "data": {
            "text/plain": [
              "tensor([1., 0., 0., 0., 1.])"
            ]
          },
          "metadata": {},
          "execution_count": 20
        }
      ]
    },
    {
      "cell_type": "code",
      "source": [
        "#1. Construct a model that subclasses nn.module\n",
        "#here we are trying to seprate the red and blue cirles which we have seen above in plt chart\n",
        "class CircleModelV0(nn.Module):\n",
        "  def __init__(self):\n",
        "    super().__init__()\n",
        "    #2. Create two nn.linear layers capable of handling the shapes of data\n",
        "    self.layer_1 = nn.Linear(in_features=2, out_features=5) #in_features is going to be 2 as X_train has 2 feautures as input feature and for\n",
        "                                                            #out_features we need to look y_train and it has 1. shape in y first position and also we can change to 5 so that model can learn more. as well and could mention multiples of 8 so 64,256......\n",
        "    self.layer_2 = nn.Linear(in_features=5,out_features=1)# here we need to match with out_features layer to the in_feature layer = 5 which is hidden layer and out_feature is = 1\n",
        "\n",
        "    #3. Define forward() method which outline the forward pass\n",
        "    def forward(self, x):\n",
        "      return self.layer_2(self.layer_1(x)) #x-> It goes into the layer_1 -> and the output of layer_1 goes to -> layer_2 -> output\n",
        "\n",
        "\n",
        "\n"
      ],
      "metadata": {
        "id": "96UN-TbVwiO0"
      },
      "execution_count": 21,
      "outputs": []
    },
    {
      "cell_type": "code",
      "source": [
        " #4.Instantiate the instance of our model class and send it to the target\n",
        "model_0 = CircleModelV0().to(device)\n",
        "model_0"
      ],
      "metadata": {
        "colab": {
          "base_uri": "https://localhost:8080/"
        },
        "id": "3GiBI_RjlAbf",
        "outputId": "c8e0834e-3ed8-4cc5-ff2c-51973285dc34"
      },
      "execution_count": 22,
      "outputs": [
        {
          "output_type": "execute_result",
          "data": {
            "text/plain": [
              "CircleModelV0(\n",
              "  (layer_1): Linear(in_features=2, out_features=5, bias=True)\n",
              "  (layer_2): Linear(in_features=5, out_features=1, bias=True)\n",
              ")"
            ]
          },
          "metadata": {},
          "execution_count": 22
        }
      ]
    },
    {
      "cell_type": "code",
      "source": [
        "device"
      ],
      "metadata": {
        "colab": {
          "base_uri": "https://localhost:8080/",
          "height": 36
        },
        "id": "Gb03kpeqlZW0",
        "outputId": "88a0d2fc-6b93-4260-ca64-63ac891bcb37"
      },
      "execution_count": 23,
      "outputs": [
        {
          "output_type": "execute_result",
          "data": {
            "text/plain": [
              "'cpu'"
            ],
            "application/vnd.google.colaboratory.intrinsic+json": {
              "type": "string"
            }
          },
          "metadata": {},
          "execution_count": 23
        }
      ]
    },
    {
      "cell_type": "code",
      "source": [
        "next(model_0.parameters()).device #will check which device its been working on now"
      ],
      "metadata": {
        "colab": {
          "base_uri": "https://localhost:8080/"
        },
        "id": "1HvL6B_HlgXu",
        "outputId": "42603e17-5952-41df-b9d5-9f18c9fb47ae"
      },
      "execution_count": 24,
      "outputs": [
        {
          "output_type": "execute_result",
          "data": {
            "text/plain": [
              "device(type='cpu')"
            ]
          },
          "metadata": {},
          "execution_count": 24
        }
      ]
    },
    {
      "cell_type": "code",
      "source": [
        "#Replicate the model above using nn.Sequential()\n",
        "\n",
        "model_0 = nn.Sequential(\n",
        "          nn.Linear(in_features=2, out_features=5),\n",
        "          nn.Linear(in_features=5, out_features=1)).to(device) #and will send this to device\n",
        "\n",
        "model_0\n",
        "\n",
        "\n"
      ],
      "metadata": {
        "colab": {
          "base_uri": "https://localhost:8080/"
        },
        "id": "sJIv6K1cprXv",
        "outputId": "5cd71fcf-d051-4e4e-c319-df1c7b62d540"
      },
      "execution_count": 25,
      "outputs": [
        {
          "output_type": "execute_result",
          "data": {
            "text/plain": [
              "Sequential(\n",
              "  (0): Linear(in_features=2, out_features=5, bias=True)\n",
              "  (1): Linear(in_features=5, out_features=1, bias=True)\n",
              ")"
            ]
          },
          "metadata": {},
          "execution_count": 25
        }
      ]
    },
    {
      "cell_type": "code",
      "source": [
        "model_0.state_dict()  #'0.' is 0th layer and '1.' is the next layer about you can see\n",
        "\"\"\"0.weight has 10 output: tensor([[-0.6906, -0.5069],\n",
        "                      [-0.1537,  0.6889],\n",
        "                      [-0.3696, -0.5877],\n",
        "                      [-0.6403, -0.4153],\n",
        "                      [-0.0722,  0.6794]])     why 10 output because  2*5 = 10\n",
        "\n",
        "                      0.bias', tensor([-0.2819, -0.0825,  0.1102,  0.2467,  0.4798] : has five output because we have set out_feature = 5\n",
        "                      '1.weight',tensor([[-0.1564,  0.2690, -0.1036,  0.3569, -0.3949]])): it has five in_features = 5\n",
        "                      \"\"\""
      ],
      "metadata": {
        "colab": {
          "base_uri": "https://localhost:8080/",
          "height": 70
        },
        "id": "aVkqJoilrnme",
        "outputId": "35abeea1-9cac-431b-ca27-bd2566711ced"
      },
      "execution_count": 26,
      "outputs": [
        {
          "output_type": "execute_result",
          "data": {
            "text/plain": [
              "\"0.weight has 10 output: tensor([[-0.6906, -0.5069],\\n                      [-0.1537,  0.6889],\\n                      [-0.3696, -0.5877],\\n                      [-0.6403, -0.4153],\\n                      [-0.0722,  0.6794]])     why 10 output because  2*5 = 10\\n\\n                      0.bias', tensor([-0.2819, -0.0825,  0.1102,  0.2467,  0.4798] : has five output because we have set out_feature = 5\\n                      '1.weight',tensor([[-0.1564,  0.2690, -0.1036,  0.3569, -0.3949]])): it has five in_features = 5\\n                      \""
            ],
            "application/vnd.google.colaboratory.intrinsic+json": {
              "type": "string"
            }
          },
          "metadata": {},
          "execution_count": 26
        }
      ]
    },
    {
      "cell_type": "code",
      "source": [
        "#make predictions with model\n",
        "#here we are trying predict whether the dot is red dot or a blue dot or 0 or 1.\n",
        "with torch.inference_mode():\n",
        "  untrained_pred = model_0(X_test.to(device))\n",
        "  print(f\"Length of predictions: {len(untrained_pred)},Shape: {untrained_pred.shape}\")\n",
        "  print(f\"Length of test samples: {len(X_test)}, Shape: {X_test.shape}\")\n",
        "  print(f\"\\n First 10 predictions:\\n{untrained_pred[:10]}\")\n",
        "  print(f\"\\n First 10 labels:\\n{y_test[:10]}\")\n",
        "\n",
        "\n",
        "\n"
      ],
      "metadata": {
        "colab": {
          "base_uri": "https://localhost:8080/"
        },
        "id": "G7Xx89Q3nuve",
        "outputId": "cfc6cf96-5856-4e1f-c415-737049f16651"
      },
      "execution_count": 27,
      "outputs": [
        {
          "output_type": "stream",
          "name": "stdout",
          "text": [
            "Length of predictions: 200,Shape: torch.Size([200, 1])\n",
            "Length of test samples: 200, Shape: torch.Size([200, 2])\n",
            "\n",
            " First 10 predictions:\n",
            "tensor([[-0.3823],\n",
            "        [-0.5972],\n",
            "        [-0.3444],\n",
            "        [-0.3986],\n",
            "        [-1.0771],\n",
            "        [-1.2056],\n",
            "        [-1.1613],\n",
            "        [-1.3030],\n",
            "        [-0.3213],\n",
            "        [-0.5864]])\n",
            "\n",
            " First 10 labels:\n",
            "tensor([1., 0., 1., 0., 1., 1., 0., 0., 1., 0.])\n"
          ]
        }
      ]
    },
    {
      "cell_type": "code",
      "source": [
        "X_test[:10], y_test[:10] #here we have 2 input feature and then 5 hidden layers and 1 output feature"
      ],
      "metadata": {
        "colab": {
          "base_uri": "https://localhost:8080/"
        },
        "id": "OvWGbtwZwKU6",
        "outputId": "c9f1db1e-3071-43c7-d1bc-ddeb1a9ec189"
      },
      "execution_count": 28,
      "outputs": [
        {
          "output_type": "execute_result",
          "data": {
            "text/plain": [
              "(tensor([[-0.3625,  0.6737],\n",
              "         [ 0.0591,  0.9342],\n",
              "         [-0.6859, -0.3035],\n",
              "         [-0.2535,  0.9820],\n",
              "         [ 0.3849, -0.7893],\n",
              "         [ 0.6429, -0.6119],\n",
              "         [ 0.8778,  0.5384],\n",
              "         [ 1.0174,  0.1922],\n",
              "         [-0.7351, -0.3463],\n",
              "         [ 0.0478,  0.9578]]),\n",
              " tensor([1., 0., 1., 0., 1., 1., 0., 0., 1., 0.]))"
            ]
          },
          "metadata": {},
          "execution_count": 28
        }
      ]
    },
    {
      "cell_type": "code",
      "source": [
        " #2.1 Setup the loss function and optimizer\n",
        "\n",
        " #question need to use which loss function or optimizer? loss function will measure how wrong our model prediction are.\n",
        " # ***there are two for regression MAE or MSE(mean absolute error or mean squared error).\n",
        "\n",
        " #***for classification there is binary cross entropy or categorical cross entropy (cross entropy)\n",
        "\n",
        " #for optimizer two of the most common and useful are SGD and adam,\n",
        " #however pytorch has built in options\n",
        "\n",
        "\n",
        " #For the loss function we are using now 'torch.nn.BECwithLogitLoss() and for Binary cross entropy(BCE) need to check the atriclehttps://towardsdatascience.com/understanding-binary-cross-entropy-log-loss-a-visual-explanation-a3ac6025181a\n",
        " #for logit in deep learning: https://stackoverflow.com/questions/41455101/what-is-the-meaning-of-the-word-logits-in-tensorflow\n",
        " #for different optimizer need to see 'torch.optim'\n",
        "\n"
      ],
      "metadata": {
        "id": "57jNzDaWw0vS"
      },
      "execution_count": 29,
      "outputs": []
    },
    {
      "cell_type": "code",
      "source": [
        "#setup the loss function there are two loss here\n",
        "#loss_fn = nn.BCELoss() #BCELoss = it requires input to have gone through the sigmoid activation function prior to input to BCELoss\n",
        "\n",
        "loss_fn = nn.BCEWithLogitsLoss() #this is sigmoid actication function builtin already\n",
        "\n",
        "optimizer = torch.optim.SGD(params=model_0.parameters(),\n",
        "                            lr = 0.1)"
      ],
      "metadata": {
        "id": "-GnFFsRw8o-O"
      },
      "execution_count": 30,
      "outputs": []
    },
    {
      "cell_type": "code",
      "source": [
        "model_0.state_dict()"
      ],
      "metadata": {
        "colab": {
          "base_uri": "https://localhost:8080/"
        },
        "id": "lCf6RI5foQ8r",
        "outputId": "862ffdf3-0580-4c9c-ee0e-38fc3c7b5ef1"
      },
      "execution_count": 31,
      "outputs": [
        {
          "output_type": "execute_result",
          "data": {
            "text/plain": [
              "OrderedDict([('0.weight',\n",
              "              tensor([[-0.6670,  0.2761],\n",
              "                      [-0.2633, -0.2982],\n",
              "                      [ 0.5809, -0.5780],\n",
              "                      [ 0.4411, -0.0371],\n",
              "                      [ 0.4542, -0.2114]])),\n",
              "             ('0.bias', tensor([-0.1612,  0.3490,  0.6739,  0.5374,  0.0661])),\n",
              "             ('1.weight',\n",
              "              tensor([[ 0.2660,  0.1974, -0.1182, -0.3870, -0.3116]])),\n",
              "             ('1.bias', tensor([-0.4313]))])"
            ]
          },
          "metadata": {},
          "execution_count": 31
        }
      ]
    },
    {
      "cell_type": "code",
      "source": [
        "#Calculate the accuracy - out of 100 examples, from the model to get it right\n",
        "def accuracy(y_true,y_pred):\n",
        "  correct = torch.eq(y_true, y_pred).sum().item()\n",
        "  acc = (correct/len(y_pred)) * 100\n",
        "  return acc"
      ],
      "metadata": {
        "id": "MgRu1jP0ojDi"
      },
      "execution_count": 32,
      "outputs": []
    },
    {
      "cell_type": "markdown",
      "source": [
        "#3.Train model"
      ],
      "metadata": {
        "id": "H09HP3CMs3jP"
      }
    },
    {
      "cell_type": "markdown",
      "source": [
        "#to train the model, we need to build the training loop\n",
        "1.Forward pass\n",
        "2. Calculate the loss\n",
        "3. Optimizer zero grad\n",
        "4. Loss backward(backpropagation)\n",
        "5. Optimzier (gradient descent)"
      ],
      "metadata": {
        "id": "n9zMyB-Ws53f"
      }
    },
    {
      "cell_type": "code",
      "source": [
        "# 3.1 Going from raw logits -> prediction probabilities -> prediction labels\n",
        "# Our model outputs are going to be the raw output and it would be \"logits\"\n",
        "# we can convert these \"logits\" into prediction probablilites by passing them to a activation function(ex: sigmoid for binary crossentropy and softmax for multiclass classification)\n",
        "\n",
        "#Then convert our model to prediction probailities to \"Prediction labels\" by either rounding them or taking the 'argmax()'."
      ],
      "metadata": {
        "id": "BRe6xCvoxI9k"
      },
      "execution_count": 33,
      "outputs": []
    },
    {
      "cell_type": "code",
      "source": [
        "#View first 5 outputs of the forward pass on the test data\n",
        "#important**** whenever we need to make prediction we need to eval() the model and then mention torch.inference_mode()\n",
        "# and if need to train the model then turn it to train model and then inference.mode()\n",
        "model_0.eval()\n",
        "with torch.inference_mode():\n",
        "  y_logits = model_0(X_test.to(device))[:5]\n",
        "y_logits"
      ],
      "metadata": {
        "colab": {
          "base_uri": "https://localhost:8080/"
        },
        "id": "S9hkA31Bv8xx",
        "outputId": "cb291f13-7500-4370-c973-74223f53fc77"
      },
      "execution_count": 34,
      "outputs": [
        {
          "output_type": "execute_result",
          "data": {
            "text/plain": [
              "tensor([[-0.3823],\n",
              "        [-0.5972],\n",
              "        [-0.3444],\n",
              "        [-0.3986],\n",
              "        [-1.0771]])"
            ]
          },
          "metadata": {},
          "execution_count": 34
        }
      ]
    },
    {
      "cell_type": "code",
      "source": [
        "y_test[:5] # we need the same ouput from above or vise versa it should match something"
      ],
      "metadata": {
        "colab": {
          "base_uri": "https://localhost:8080/"
        },
        "id": "Nx_0ktGb3IyT",
        "outputId": "da845864-f964-4543-a4c0-7b4e43ff8de7"
      },
      "execution_count": 35,
      "outputs": [
        {
          "output_type": "execute_result",
          "data": {
            "text/plain": [
              "tensor([1., 0., 1., 0., 1.])"
            ]
          },
          "metadata": {},
          "execution_count": 35
        }
      ]
    },
    {
      "cell_type": "code",
      "source": [
        "#Use the sigmoid activation function on the model logits and turn into prediction probabilities\n",
        "# we are sigmoid as Binary classification for Output activation is Sigmoid\n",
        "\n",
        "y_pred_prob = torch.sigmoid(y_logits)\n",
        "y_pred_prob"
      ],
      "metadata": {
        "id": "NE4EXZsW9D4J",
        "colab": {
          "base_uri": "https://localhost:8080/"
        },
        "outputId": "d3fe8923-2b4e-4cc2-9484-0c0c3d75097a"
      },
      "execution_count": 36,
      "outputs": [
        {
          "output_type": "execute_result",
          "data": {
            "text/plain": [
              "tensor([[0.4056],\n",
              "        [0.3550],\n",
              "        [0.4147],\n",
              "        [0.4017],\n",
              "        [0.2541]])"
            ]
          },
          "metadata": {},
          "execution_count": 36
        }
      ]
    },
    {
      "cell_type": "code",
      "source": [
        "#for our predicition probaility values, we need to perform a range-style rounding on them:\n",
        "#\"y_pred_prob\" >= 0.5 we set 'y=1' (class 1) #it would be red or blue dot, also we can adjust this value 0.7\n",
        "#\"y_prod_prob\" < 0.5  we set 'y=0' (class 0)"
      ],
      "metadata": {
        "id": "_Ifqb3abmMc1"
      },
      "execution_count": 37,
      "outputs": []
    },
    {
      "cell_type": "code",
      "source": [
        "# Find the predicted labels\n",
        "y_preds = torch.round(y_pred_prob)\n",
        "\n",
        "#in full this is(logits -> pred pros -> pred labels)\n",
        "y_pred_labels = torch.round(torch.sigmoid(model_0(X_test.to(device))[:5]))\n",
        "\n",
        "#check for equality\n",
        "print(torch.eq(y_preds.squeeze(),y_pred_labels.squeeze()))\n",
        "\n",
        "#get rid of extra dimension\n",
        "y_preds.squeeze()"
      ],
      "metadata": {
        "colab": {
          "base_uri": "https://localhost:8080/"
        },
        "id": "mJtAyK3Ec5cz",
        "outputId": "afc8a694-4d12-473a-cf27-e72d4350eb27"
      },
      "execution_count": 38,
      "outputs": [
        {
          "output_type": "stream",
          "name": "stdout",
          "text": [
            "tensor([True, True, True, True, True])\n"
          ]
        },
        {
          "output_type": "execute_result",
          "data": {
            "text/plain": [
              "tensor([0., 0., 0., 0., 0.])"
            ]
          },
          "metadata": {},
          "execution_count": 38
        }
      ]
    },
    {
      "cell_type": "code",
      "source": [
        "y_test[:5] #this would change as we have output above"
      ],
      "metadata": {
        "colab": {
          "base_uri": "https://localhost:8080/"
        },
        "id": "8D64P7LIibH5",
        "outputId": "7d16048a-0901-4ce0-f039-2858a4f26144"
      },
      "execution_count": 39,
      "outputs": [
        {
          "output_type": "execute_result",
          "data": {
            "text/plain": [
              "tensor([1., 0., 1., 0., 1.])"
            ]
          },
          "metadata": {},
          "execution_count": 39
        }
      ]
    },
    {
      "cell_type": "markdown",
      "source": [
        "#3.2 Building a training and testing Loop"
      ],
      "metadata": {
        "id": "Wdo5fPqTkxwN"
      }
    },
    {
      "cell_type": "code",
      "source": [
        "torch.manual_seed(42)\n",
        "\n",
        "#Set the number of epochs\n",
        "epochs = 100\n",
        "\n",
        "#put the data\n",
        "X_train, y_train = X_train.to(device), y_train.to(device)\n",
        "X_test, t_test = X_test.to(device), y_test.to(device)\n",
        "\n",
        "#Building training and evaluation loop\n",
        "for epoch in range(epochs):\n",
        "  ##Training\n",
        "  model_0.train()\n",
        "\n",
        "  #1.Forward pass,   also this is little different than other forward pass as we have logits\n",
        "  y_logits = model_0(X_train).squeeze()\n",
        "  y_pred = torch.round(torch.sigmoid(y_logits)) #Here are adding torch.round(torch.sigmod()) sigmoid is acitvation function which convert y_logits into prediction probalities and then predition labels\n",
        "\n",
        "\n",
        "  #2. Calculate  loss/accuracy\n",
        "  #loss = loss_fn(torch.sigmoid(y_logits), #nn.BCELoss expects prediction probalities as input\n",
        "  #              y_train)\n",
        "  loss = loss_fn(y_logits,y_train) #nn.BCEWithLogitsLoss expects raw logits as input which explain below block\n",
        "\n",
        "  acc = accuracy(y_true=y_train, #look skilearn to know why this in order\n",
        "                    y_pred=y_pred)\n",
        "\n",
        "  #3. optimizer zero grad\n",
        "  optimizer.zero_grad()\n",
        "\n",
        "  #4. Loss backward (baackpropogation)\n",
        "  loss.backward()\n",
        "\n",
        "  #Optimizer step (gradient descent)\n",
        "  optimizer.step\n",
        "\n",
        "\n",
        "## Testing\n",
        "  model_0.eval()\n",
        "  with torch.inference_mode():\n",
        "    #1. Forward pass\n",
        "    test_logits = model_0(X_test).squeeze()\n",
        "    test_pred = torch.round(torch.sigmoid(test_logits))\n",
        "\n",
        "    #2. Calculate the test loss/accuracy\n",
        "    test_loss = loss_fn(test_logits, y_test)\n",
        "    test_acc = accuracy(y_true = y_test,\n",
        "                           y_pred = test_pred)\n",
        "\n",
        " #Print out\n",
        "\n",
        "  if epoch % 10 == 0:\n",
        "    print(f\"Epoch: {epoch} |  Train Loss: {loss:.5f}, Acc: {acc:.2f}% | Test Loss:{test_loss:.5f}, Test acc:{test_acc:.2f}%\")\n"
      ],
      "metadata": {
        "id": "0I0PLzANYEvy",
        "colab": {
          "base_uri": "https://localhost:8080/"
        },
        "outputId": "a981c172-5699-4882-b6a1-719619da5613"
      },
      "execution_count": 40,
      "outputs": [
        {
          "output_type": "stream",
          "name": "stdout",
          "text": [
            "Epoch: 0 |  Train Loss: 0.77435, Acc: 49.88% | Test Loss:0.76805, Test acc:50.00%\n",
            "Epoch: 10 |  Train Loss: 0.77435, Acc: 49.88% | Test Loss:0.76805, Test acc:50.00%\n",
            "Epoch: 20 |  Train Loss: 0.77435, Acc: 49.88% | Test Loss:0.76805, Test acc:50.00%\n",
            "Epoch: 30 |  Train Loss: 0.77435, Acc: 49.88% | Test Loss:0.76805, Test acc:50.00%\n",
            "Epoch: 40 |  Train Loss: 0.77435, Acc: 49.88% | Test Loss:0.76805, Test acc:50.00%\n",
            "Epoch: 50 |  Train Loss: 0.77435, Acc: 49.88% | Test Loss:0.76805, Test acc:50.00%\n",
            "Epoch: 60 |  Train Loss: 0.77435, Acc: 49.88% | Test Loss:0.76805, Test acc:50.00%\n",
            "Epoch: 70 |  Train Loss: 0.77435, Acc: 49.88% | Test Loss:0.76805, Test acc:50.00%\n",
            "Epoch: 80 |  Train Loss: 0.77435, Acc: 49.88% | Test Loss:0.76805, Test acc:50.00%\n",
            "Epoch: 90 |  Train Loss: 0.77435, Acc: 49.88% | Test Loss:0.76805, Test acc:50.00%\n"
          ]
        }
      ]
    },
    {
      "cell_type": "code",
      "source": [
        "#2. Calculate  loss/accuracy (Explanation)\n",
        "#Here we are using loss_fn(y_logits) it take input y_logits, because we are using loss_fn = BCEWithLogitsLoss() function above so it will take input as logits: and we are using for now as its stable\n",
        "# also if we use with logits then it follows like this below:\n",
        "# loss_fn_without_logits = nn.BCELoss() this will output: BCELoss() function only\n"
      ],
      "metadata": {
        "id": "bG1hFKTawJUB"
      },
      "execution_count": 41,
      "outputs": []
    },
    {
      "cell_type": "markdown",
      "source": [
        "#4. Make predictions and evaluate  the model to see: as the Model is learning or not\n",
        "#Visualize the model how the data looks\n",
        "#Also we are importing plot_decision_boundry()\n",
        "\n",
        "\n",
        "\n"
      ],
      "metadata": {
        "id": "x2tKKH6A8ZU9"
      }
    },
    {
      "cell_type": "code",
      "source": [
        "import requests\n",
        "from pathlib import Path #this allows us to create the file path\n",
        "\n",
        "#Download the helper functions from Learn Pytorch repo(if its not downloaded)\n",
        "if Path(\"helper_functions.py\").is_file():\n",
        "  print(\"helper_functions.py already exists will not download\")\n",
        "else:\n",
        "  print(\"Downloading the helper_functions.py\")\n",
        "  request = requests.get(\"https://raw.githubusercontent.com/mrdbourke/pytorch-deep-learning/refs/heads/main/helper_functions.py\") # we need to get this in raw verion of it. so goto github  repo and find Raw\n",
        "  with open(\"helper_functions.py\",\"wb\") as f: # wb:write binary\n",
        "    f.write(request.content)\n",
        "\n",
        "from helper_functions import plot_predictions, plot_decision_boundary\n"
      ],
      "metadata": {
        "colab": {
          "base_uri": "https://localhost:8080/"
        },
        "id": "vamvEs2g-62l",
        "outputId": "3fe99e67-5f7d-46ac-b0cd-034bd52a76b5"
      },
      "execution_count": 42,
      "outputs": [
        {
          "output_type": "stream",
          "name": "stdout",
          "text": [
            "Downloading the helper_functions.py\n"
          ]
        }
      ]
    },
    {
      "cell_type": "code",
      "source": [
        "#plot decision boundary of the model\n",
        "plt.figure(figsize=(12, 6))\n",
        "plt.subplot(1,2,1) #here 1 is number of rows, 2 is number of columns, 1 is the index which appears on the first slot\n",
        "plt.title(\"Train\")\n",
        "plot_decision_boundary(model_0, X_train, y_train)\n",
        "plt.subplot(1,2,2)\n",
        "plt.title(\"Test\")\n",
        "\n",
        "plot_decision_boundary(model_0,X_test,y_test)\n"
      ],
      "metadata": {
        "colab": {
          "base_uri": "https://localhost:8080/",
          "height": 545
        },
        "id": "xey5AZdMnxSs",
        "outputId": "26acfede-cd32-4a95-cb3a-834c2b4154c6"
      },
      "execution_count": 43,
      "outputs": [
        {
          "output_type": "display_data",
          "data": {
            "text/plain": [
              "<Figure size 1200x600 with 2 Axes>"
            ],
            "image/png": "[encoded data removed]"
          },
          "metadata": {}
        }
      ]
    },
    {
      "cell_type": "markdown",
      "source": [
        "#5. Imporving the Model"
      ],
      "metadata": {
        "id": "40y6eaPwrrA4"
      }
    },
    {
      "cell_type": "code",
      "source": [
        "#Add the more layers so that model would have more chances to learn about the patterns in the data(From model perspective)\n",
        "# Add more hidden units so that we can move from 5 hidden units to 10 hidden units\n",
        "#Fir for longer: for example use epochs:1000 so it has longer data\n",
        "# changing the activation function\n",
        "#Change the learning rate\n",
        "#Change the loss function\n",
        "\n",
        "#These options are all from a models perspective because they deal directly with the model\n",
        "#if this options are all values we(ML engineer or Data scientists) can change as they referred to \"hyperparameters\"\n",
        "# hyperparatmeters are which you can see from line1 to 7in this block\n",
        "\n",
        "#Let's try and improve our model by:\n",
        "#- Adding more hidden units: from 5 to-> 10\n",
        "#- Increase the number of layers: from 2 to> 3\n",
        "#- Increase the number of epochs:from 100 to> 1000"
      ],
      "metadata": {
        "id": "BdU2Ozjbr2oP"
      },
      "execution_count": null,
      "outputs": []
    },
    {
      "cell_type": "code",
      "source": [
        "class CircleModelV1(nn.Module):\n",
        "  def __init__(self):\n",
        "    super().__init__()\n",
        "    self.layer_1 = nn.Linear(in_features=2, out_features=10) #We have mention 2 in_features as our X_train has two output features\n",
        "    self.layer_2 = nn.Linear(in_features=10, out_features=10)\n",
        "    self.layer_3 = nn.Linear(in_features=10, out_features=1) #out_feautures is 1 as y_train is one number\n",
        "\n",
        "  def forward(self, x):\n",
        "    # z = self.layer_1(x)\n",
        "    # z = self.layer_2(z)\n",
        "    # z = self.layer_3(z)\n",
        "    return self.layer_3(self.layer_2(self.layer_1(x)))# this way of writing operations leverages speed ups where possible behind the scenes\n",
        "\n",
        "model_1 = CircleModelV1().to(device)\n",
        "model_1\n",
        "\n",
        "\n"
      ],
      "metadata": {
        "colab": {
          "base_uri": "https://localhost:8080/"
        },
        "id": "EqSKAiTqsHz3",
        "outputId": "bf44a842-50de-4d10-e3f1-c24b2f154c5f"
      },
      "execution_count": 45,
      "outputs": [
        {
          "output_type": "execute_result",
          "data": {
            "text/plain": [
              "CircleModelV1(\n",
              "  (layer_1): Linear(in_features=2, out_features=10, bias=True)\n",
              "  (layer_2): Linear(in_features=10, out_features=10, bias=True)\n",
              "  (layer_3): Linear(in_features=10, out_features=1, bias=True)\n",
              ")"
            ]
          },
          "metadata": {},
          "execution_count": 45
        }
      ]
    },
    {
      "cell_type": "code",
      "source": [
        "#Create a loss functions\n",
        "loss_fn = nn.BCEWithLogitsLoss()\n",
        "\n",
        "#Create an Optimizer\n",
        "optimizer = torch.optim.SGD(params = model_1.parameters(),\n",
        "                            lr=0.1)\n",
        "\n",
        "#Write a training and evaluation loop for model_1\n",
        "torch.manual_seed(42)\n",
        "torch.cuda.manual_seed(42)\n",
        "\n",
        "epochs = 1000\n",
        "\n",
        "#put data on the target device\n",
        "X_train, y_train = X_train.to(device), y_train.to(device)\n",
        "X_test, y_test = X_test.to(device), y_test.to(device)"
      ],
      "metadata": {
        "id": "BFGE90CUrybE"
      },
      "execution_count": null,
      "outputs": []
    }
  ]
}