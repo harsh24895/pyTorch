{
  "nbformat": 4,
  "nbformat_minor": 0,
  "metadata": {
    "colab": {
      "provenance": [],
      "gpuType": "T4",
      "authorship_tag": "ABX9TyNyD+Y4uQNsqWIo6qQiWHSe",
      "include_colab_link": true
    },
    "kernelspec": {
      "name": "python3",
      "display_name": "Python 3"
    },
    "language_info": {
      "name": "python"
    },
    "accelerator": "GPU"
  },
  "cells": [
    {
      "cell_type": "markdown",
      "metadata": {
        "id": "view-in-github",
        "colab_type": "text"
      },
      "source": [
        "<a href=\"https://colab.research.google.com/github/harsh24895/pyTorch/blob/main/FundamentalOfTensor.ipynb\" target=\"_parent\"><img src=\"https://colab.research.google.com/assets/colab-badge.svg\" alt=\"Open In Colab\"/></a>"
      ]
    },
    {
      "cell_type": "code",
      "execution_count": null,
      "metadata": {
        "colab": {
          "base_uri": "https://localhost:8080/"
        },
        "id": "5H9Qd1CbPmKW",
        "outputId": "87b67c60-fa77-4aff-d445-fcf78730446c"
      },
      "outputs": [
        {
          "output_type": "stream",
          "name": "stdout",
          "text": [
            "ejes\n"
          ]
        }
      ],
      "source": [
        "print(\"ejes\")\n",
        "\n"
      ]
    },
    {
      "cell_type": "code",
      "source": [
        "!nvidia-smi\n"
      ],
      "metadata": {
        "colab": {
          "base_uri": "https://localhost:8080/"
        },
        "id": "tMIldw1sQpcC",
        "outputId": "26bd10d4-b687-48dc-8f72-3981e852e9b0"
      },
      "execution_count": null,
      "outputs": [
        {
          "output_type": "stream",
          "name": "stdout",
          "text": [
            "/bin/bash: line 1: nvidia-smi: command not found\n"
          ]
        }
      ]
    },
    {
      "cell_type": "markdown",
      "source": [
        "#introduction to tensors\n",
        "Creating Tensor"
      ],
      "metadata": {
        "id": "3Sxo96xa34Qj"
      }
    },
    {
      "cell_type": "code",
      "source": [
        "import torch\n",
        "import pandas as pd\n",
        "import numpy as py\n",
        "import matplotlib.pyplot as plt\n",
        "\n",
        "\n",
        "\n",
        "print(torch.__version__)\n",
        "\n",
        "#Scalar\n",
        "scalar = torch.tensor(7)\n",
        "scalar"
      ],
      "metadata": {
        "colab": {
          "base_uri": "https://localhost:8080/"
        },
        "id": "2nnqb7BhZYNk",
        "outputId": "540d8101-4f1a-45a6-cf73-c1e4a639f7fc"
      },
      "execution_count": null,
      "outputs": [
        {
          "output_type": "stream",
          "name": "stdout",
          "text": [
            "2.3.1+cu121\n"
          ]
        },
        {
          "output_type": "execute_result",
          "data": {
            "text/plain": [
              "tensor(7)"
            ]
          },
          "metadata": {},
          "execution_count": 3
        }
      ]
    },
    {
      "cell_type": "markdown",
      "source": [
        "Pytorch tensors are created using torch.Tensor()"
      ],
      "metadata": {
        "id": "irpADIJQImGE"
      }
    },
    {
      "cell_type": "code",
      "source": [
        "import torch\n",
        "#Scalar\n",
        "scalar = torch.tensor(7);\n",
        "scalar"
      ],
      "metadata": {
        "colab": {
          "base_uri": "https://localhost:8080/"
        },
        "id": "aUuSD-KbIxan",
        "outputId": "acf15791-1665-4cc8-c91c-217b96c292dd"
      },
      "execution_count": null,
      "outputs": [
        {
          "output_type": "execute_result",
          "data": {
            "text/plain": [
              "tensor(7)"
            ]
          },
          "metadata": {},
          "execution_count": 4
        }
      ]
    },
    {
      "cell_type": "code",
      "source": [
        "scalar.ndim"
      ],
      "metadata": {
        "colab": {
          "base_uri": "https://localhost:8080/"
        },
        "id": "llVOliiaJfv4",
        "outputId": "928f9b36-d28c-422a-a6fe-83b5e9a9939d"
      },
      "execution_count": null,
      "outputs": [
        {
          "output_type": "execute_result",
          "data": {
            "text/plain": [
              "0"
            ]
          },
          "metadata": {},
          "execution_count": 5
        }
      ]
    },
    {
      "cell_type": "code",
      "source": [
        "#get the tensor as an int value\n",
        "scalar.item()"
      ],
      "metadata": {
        "colab": {
          "base_uri": "https://localhost:8080/"
        },
        "id": "qSgZT5KrKCP4",
        "outputId": "7406967c-2b97-4ae9-d66c-e37ae2131f6e"
      },
      "execution_count": null,
      "outputs": [
        {
          "output_type": "execute_result",
          "data": {
            "text/plain": [
              "7"
            ]
          },
          "metadata": {},
          "execution_count": 6
        }
      ]
    },
    {
      "cell_type": "code",
      "source": [
        "#vector\n",
        "import torch\n",
        "vector = torch.tensor([1, 1])\n",
        "vector"
      ],
      "metadata": {
        "colab": {
          "base_uri": "https://localhost:8080/"
        },
        "id": "oWInctW9KaK1",
        "outputId": "8db74b80-f0b5-4fd4-96bd-03bc0e46d671"
      },
      "execution_count": null,
      "outputs": [
        {
          "output_type": "execute_result",
          "data": {
            "text/plain": [
              "tensor([1, 1])"
            ]
          },
          "metadata": {},
          "execution_count": 7
        }
      ]
    },
    {
      "cell_type": "code",
      "source": [
        "#vector dimension\n",
        "vector.ndim"
      ],
      "metadata": {
        "colab": {
          "base_uri": "https://localhost:8080/"
        },
        "id": "gf3fvqSD4R9d",
        "outputId": "9a34a05f-10d3-44c8-b168-ce472548998c"
      },
      "execution_count": null,
      "outputs": [
        {
          "output_type": "execute_result",
          "data": {
            "text/plain": [
              "1"
            ]
          },
          "metadata": {},
          "execution_count": 8
        }
      ]
    },
    {
      "cell_type": "code",
      "source": [
        "#vector for shape\n",
        "vector.shape"
      ],
      "metadata": {
        "colab": {
          "base_uri": "https://localhost:8080/"
        },
        "id": "xYVGyijM6-L2",
        "outputId": "0a75f8bc-eac1-463b-9466-f35736ff3acd"
      },
      "execution_count": null,
      "outputs": [
        {
          "output_type": "execute_result",
          "data": {
            "text/plain": [
              "torch.Size([2])"
            ]
          },
          "metadata": {},
          "execution_count": 9
        }
      ]
    },
    {
      "cell_type": "code",
      "source": [
        "#MATRIX all the things are call with the torch.tensor even vector, scalar and Matrix\n",
        "\n",
        "MATRIX  = torch.tensor([[1,3],\n",
        "                        [9,4]])\n",
        "MATRIX"
      ],
      "metadata": {
        "colab": {
          "base_uri": "https://localhost:8080/"
        },
        "id": "dS-9Ty8F7ZvA",
        "outputId": "66faa686-b639-481d-db45-36521db6fd74"
      },
      "execution_count": null,
      "outputs": [
        {
          "output_type": "execute_result",
          "data": {
            "text/plain": [
              "tensor([[1, 3],\n",
              "        [9, 4]])"
            ]
          },
          "metadata": {},
          "execution_count": 10
        }
      ]
    },
    {
      "cell_type": "code",
      "source": [
        "#shape of matrix\n",
        "MATRIX.shape\n"
      ],
      "metadata": {
        "colab": {
          "base_uri": "https://localhost:8080/"
        },
        "id": "vjO5KlWX8LvW",
        "outputId": "c1b6beab-d230-4640-cdb1-5d8a9720f97c"
      },
      "execution_count": null,
      "outputs": [
        {
          "output_type": "execute_result",
          "data": {
            "text/plain": [
              "torch.Size([2, 2])"
            ]
          },
          "metadata": {},
          "execution_count": 11
        }
      ]
    },
    {
      "cell_type": "code",
      "source": [
        "#matrix dimension\n",
        "MATRIX.ndim"
      ],
      "metadata": {
        "colab": {
          "base_uri": "https://localhost:8080/"
        },
        "id": "2uxDqxSG9fDx",
        "outputId": "c9a156e0-59e9-4ab8-82fc-63eb0a89beb5"
      },
      "execution_count": null,
      "outputs": [
        {
          "output_type": "execute_result",
          "data": {
            "text/plain": [
              "2"
            ]
          },
          "metadata": {},
          "execution_count": 12
        }
      ]
    },
    {
      "cell_type": "code",
      "source": [
        "MATRIX[0]"
      ],
      "metadata": {
        "colab": {
          "base_uri": "https://localhost:8080/"
        },
        "id": "jhKT44e--DPQ",
        "outputId": "f30d18bb-7126-47fe-dedc-9eee2333f4e6"
      },
      "execution_count": null,
      "outputs": [
        {
          "output_type": "execute_result",
          "data": {
            "text/plain": [
              "tensor([1, 3])"
            ]
          },
          "metadata": {},
          "execution_count": 13
        }
      ]
    },
    {
      "cell_type": "code",
      "source": [
        "# TENSOR\n",
        "\n",
        "TENSOR = torch.tensor([[[1,2,3],[2,3,4],[3,4,5]]])\n",
        "TENSOR\n"
      ],
      "metadata": {
        "id": "9_Edc8_U-Lqg",
        "colab": {
          "base_uri": "https://localhost:8080/"
        },
        "outputId": "e714b4d6-2907-4397-a1ee-480ba4d53f06"
      },
      "execution_count": null,
      "outputs": [
        {
          "output_type": "execute_result",
          "data": {
            "text/plain": [
              "tensor([[[1, 2, 3],\n",
              "         [2, 3, 4],\n",
              "         [3, 4, 5]]])"
            ]
          },
          "metadata": {},
          "execution_count": 14
        }
      ]
    },
    {
      "cell_type": "code",
      "source": [
        "TENSOR.shape\n",
        "#here the 1 is from the whole index []\n",
        "# second 3 is from the three index\n",
        "#third 3 is from the 3 input in the index[]"
      ],
      "metadata": {
        "colab": {
          "base_uri": "https://localhost:8080/"
        },
        "id": "3P1n8pQE_wjW",
        "outputId": "27ad0f80-e552-4cf8-ff56-fc51a8847646"
      },
      "execution_count": null,
      "outputs": [
        {
          "output_type": "execute_result",
          "data": {
            "text/plain": [
              "torch.Size([1, 3, 3])"
            ]
          },
          "metadata": {},
          "execution_count": 15
        }
      ]
    },
    {
      "cell_type": "code",
      "source": [
        "TENSOR.ndim\n"
      ],
      "metadata": {
        "colab": {
          "base_uri": "https://localhost:8080/"
        },
        "id": "H05bLAUz_1D3",
        "outputId": "58475b3c-375a-4d5e-e37e-0c58d18f0f76"
      },
      "execution_count": null,
      "outputs": [
        {
          "output_type": "execute_result",
          "data": {
            "text/plain": [
              "3"
            ]
          },
          "metadata": {},
          "execution_count": 16
        }
      ]
    },
    {
      "cell_type": "code",
      "source": [
        "TENSOR = torch.tensor([[[[1,2,3],[2,3,4],[3,4,5]]]])\n",
        "TENSOR.shape"
      ],
      "metadata": {
        "colab": {
          "base_uri": "https://localhost:8080/"
        },
        "id": "QTPZrLeXBhya",
        "outputId": "02775ea5-0804-4181-b4ad-a840c3f59d06"
      },
      "execution_count": null,
      "outputs": [
        {
          "output_type": "execute_result",
          "data": {
            "text/plain": [
              "torch.Size([1, 1, 3, 3])"
            ]
          },
          "metadata": {},
          "execution_count": 17
        }
      ]
    },
    {
      "cell_type": "markdown",
      "source": [
        "#Random Tensors"
      ],
      "metadata": {
        "id": "yyD3DS9LCBqC"
      }
    },
    {
      "cell_type": "code",
      "source": [
        "#Create a random tensor of size (2,4)\n",
        "random_Tensor = torch.rand(2,4)\n",
        "random_Tensor"
      ],
      "metadata": {
        "id": "UDtx7ySGC5Gy",
        "colab": {
          "base_uri": "https://localhost:8080/"
        },
        "outputId": "22413d09-e18e-4443-ab56-dc65c97f20c1"
      },
      "execution_count": null,
      "outputs": [
        {
          "output_type": "execute_result",
          "data": {
            "text/plain": [
              "tensor([[0.6582, 0.8077, 0.0390, 0.0096],\n",
              "        [0.6103, 0.9099, 0.2739, 0.7631]])"
            ]
          },
          "metadata": {},
          "execution_count": 18
        }
      ]
    },
    {
      "cell_type": "code",
      "source": [
        "random_Tensor.ndim"
      ],
      "metadata": {
        "colab": {
          "base_uri": "https://localhost:8080/"
        },
        "id": "c68h9OVAENlv",
        "outputId": "cd525ecf-ee18-4bbe-bc64-d4ec2829e5f9"
      },
      "execution_count": null,
      "outputs": [
        {
          "output_type": "execute_result",
          "data": {
            "text/plain": [
              "2"
            ]
          },
          "metadata": {},
          "execution_count": 19
        }
      ]
    },
    {
      "cell_type": "code",
      "source": [
        "random_Tensor.shape"
      ],
      "metadata": {
        "colab": {
          "base_uri": "https://localhost:8080/"
        },
        "id": "djzGy4wBEKrh",
        "outputId": "0f0cc91d-97b0-4529-f451-1ee26ead23e5"
      },
      "execution_count": null,
      "outputs": [
        {
          "output_type": "execute_result",
          "data": {
            "text/plain": [
              "torch.Size([2, 4])"
            ]
          },
          "metadata": {},
          "execution_count": 20
        }
      ]
    },
    {
      "cell_type": "markdown",
      "source": [
        "Create a random tensor with similar shape to an image  tensor"
      ],
      "metadata": {
        "id": "l1V5vNWGE7oC"
      }
    },
    {
      "cell_type": "code",
      "source": [
        "random_image_size = torch.rand(size=(244,244,5)) #height, width, colour channels(R,G,B)\n",
        "#also colour channels will switch first or last in the index().\n",
        "\n",
        "\n",
        "random_image_size.shape , random_image_size.ndim"
      ],
      "metadata": {
        "id": "SpM6FhfyFIL7",
        "colab": {
          "base_uri": "https://localhost:8080/"
        },
        "outputId": "6b926bb5-710b-481b-be86-8a1ad2a41951"
      },
      "execution_count": null,
      "outputs": [
        {
          "output_type": "execute_result",
          "data": {
            "text/plain": [
              "(torch.Size([244, 244, 5]), 3)"
            ]
          },
          "metadata": {},
          "execution_count": 21
        }
      ]
    },
    {
      "cell_type": "markdown",
      "source": [
        "#Zero and ones"
      ],
      "metadata": {
        "id": "bmsWeKh_HnLm"
      }
    },
    {
      "cell_type": "code",
      "source": [
        "import torch\n",
        "#Create a tensor of all zeros\n",
        "zero = torch.zeros(size=(2,4))\n",
        "zero"
      ],
      "metadata": {
        "colab": {
          "base_uri": "https://localhost:8080/"
        },
        "id": "NjnRCfoJHsPL",
        "outputId": "928ae1ac-242d-404d-b708-9c0086bb3255"
      },
      "execution_count": null,
      "outputs": [
        {
          "output_type": "execute_result",
          "data": {
            "text/plain": [
              "tensor([[0., 0., 0., 0.],\n",
              "        [0., 0., 0., 0.]])"
            ]
          },
          "metadata": {},
          "execution_count": 22
        }
      ]
    },
    {
      "cell_type": "code",
      "source": [
        "# tensor of ones\n",
        "ones = torch.ones(size=(2,4))\n",
        "ones"
      ],
      "metadata": {
        "colab": {
          "base_uri": "https://localhost:8080/"
        },
        "id": "OH-xJx-2IaOI",
        "outputId": "ed74672e-b640-4a57-cbb8-cb886024ddf5"
      },
      "execution_count": null,
      "outputs": [
        {
          "output_type": "execute_result",
          "data": {
            "text/plain": [
              "tensor([[1., 1., 1., 1.],\n",
              "        [1., 1., 1., 1.]])"
            ]
          },
          "metadata": {},
          "execution_count": 23
        }
      ]
    },
    {
      "cell_type": "code",
      "source": [
        "ones.dtype # this the default data type"
      ],
      "metadata": {
        "colab": {
          "base_uri": "https://localhost:8080/"
        },
        "id": "ACeHKl6fKvaq",
        "outputId": "d33da90b-ac2c-4844-ddcb-20c80d34ce9b"
      },
      "execution_count": null,
      "outputs": [
        {
          "output_type": "execute_result",
          "data": {
            "text/plain": [
              "torch.float32"
            ]
          },
          "metadata": {},
          "execution_count": 24
        }
      ]
    },
    {
      "cell_type": "code",
      "source": [
        "zero.dtype #expizitlity define the dataType"
      ],
      "metadata": {
        "colab": {
          "base_uri": "https://localhost:8080/"
        },
        "id": "grsir-mbPebm",
        "outputId": "040699bf-e655-43e1-e3ad-db15b07ec615"
      },
      "execution_count": null,
      "outputs": [
        {
          "output_type": "execute_result",
          "data": {
            "text/plain": [
              "torch.float32"
            ]
          },
          "metadata": {},
          "execution_count": 25
        }
      ]
    },
    {
      "cell_type": "markdown",
      "source": [
        "#Creating a range of Tensors and Tensors-like"
      ],
      "metadata": {
        "id": "7PYURUhOPeLE"
      }
    },
    {
      "cell_type": "code",
      "source": [
        "import torch\n",
        "#use torch.range()\n",
        "tt = torch.arange(0,5) #use the arange() instead of range() as the range is been in consistant in the python\n",
        "tt"
      ],
      "metadata": {
        "colab": {
          "base_uri": "https://localhost:8080/"
        },
        "id": "c5c7JF6yJ7LO",
        "outputId": "cd462731-3fcd-4dde-b061-35c38f1b004b"
      },
      "execution_count": null,
      "outputs": [
        {
          "output_type": "execute_result",
          "data": {
            "text/plain": [
              "tensor([0, 1, 2, 3, 4])"
            ]
          },
          "metadata": {},
          "execution_count": 26
        }
      ]
    },
    {
      "cell_type": "code",
      "source": [
        "#Creating tensors zeros like\n",
        "tenZeros = torch.zeros_like(tt)\n",
        "tenZeros"
      ],
      "metadata": {
        "colab": {
          "base_uri": "https://localhost:8080/"
        },
        "id": "Z9wYDr_q7Hd0",
        "outputId": "e1cdf5d3-1e2f-413a-ccc4-781123f65ed5"
      },
      "execution_count": null,
      "outputs": [
        {
          "output_type": "execute_result",
          "data": {
            "text/plain": [
              "tensor([0, 0, 0, 0, 0])"
            ]
          },
          "metadata": {},
          "execution_count": 27
        }
      ]
    },
    {
      "cell_type": "markdown",
      "source": [
        "#TensoDataType\n",
        "\n",
        "Note: We gonna get more error in datatypes with pytorch and deep learning\n",
        "1. tensor not right datatype\n",
        "2. tensor not right shape\n",
        "3. tensor not right device"
      ],
      "metadata": {
        "id": "pPHJl3Df8QQ2"
      }
    },
    {
      "cell_type": "code",
      "source": [
        "#Float Datatype\n",
        "float_t = torch.tensor([5.0,6.0,8.0],\n",
        "                       dtype=None,# datatype that you can set in the tensor(ex: float32 or float16 or float64)\n",
        "                       device=None, #  the default CPU and we can change to GPU(cuda)\n",
        "                       requires_grad=False)# whether or not to track gradients with this tensors operations\n",
        "\n",
        "float_t\n"
      ],
      "metadata": {
        "colab": {
          "base_uri": "https://localhost:8080/"
        },
        "id": "Xkg4zSft9afI",
        "outputId": "90f470f8-c9d1-400d-f87c-21dc7b9162cc"
      },
      "execution_count": null,
      "outputs": [
        {
          "output_type": "execute_result",
          "data": {
            "text/plain": [
              "tensor([5., 6., 8.])"
            ]
          },
          "metadata": {},
          "execution_count": 28
        }
      ]
    },
    {
      "cell_type": "code",
      "source": [
        "float_t.dtype"
      ],
      "metadata": {
        "colab": {
          "base_uri": "https://localhost:8080/"
        },
        "id": "Qn1ekoud-HAJ",
        "outputId": "161c445f-d96b-4098-ffe3-2107569615e6"
      },
      "execution_count": null,
      "outputs": [
        {
          "output_type": "execute_result",
          "data": {
            "text/plain": [
              "torch.float32"
            ]
          },
          "metadata": {},
          "execution_count": 29
        }
      ]
    },
    {
      "cell_type": "code",
      "source": [
        "#Convert the datatype to float32 default to float 16\n",
        "float_16 = float_t.type(torch.float16)\n",
        "float_16"
      ],
      "metadata": {
        "colab": {
          "base_uri": "https://localhost:8080/"
        },
        "id": "ewkAbx0JA1Qo",
        "outputId": "6c705979-0347-449a-f732-5e07ae2724a9"
      },
      "execution_count": null,
      "outputs": [
        {
          "output_type": "execute_result",
          "data": {
            "text/plain": [
              "tensor([5., 6., 8.], dtype=torch.float16)"
            ]
          },
          "metadata": {},
          "execution_count": 30
        }
      ]
    },
    {
      "cell_type": "code",
      "source": [
        "#even we can multiply the tensor\n",
        "float_16*float_t"
      ],
      "metadata": {
        "colab": {
          "base_uri": "https://localhost:8080/"
        },
        "id": "-R0jy0YKA3UJ",
        "outputId": "08349ce2-8543-4279-9147-6fd02387fbd3"
      },
      "execution_count": null,
      "outputs": [
        {
          "output_type": "execute_result",
          "data": {
            "text/plain": [
              "tensor([25., 36., 64.])"
            ]
          },
          "metadata": {},
          "execution_count": 31
        }
      ]
    },
    {
      "cell_type": "code",
      "source": [
        "#int32 to float multiply\n",
        "int_32_tensor = torch.tensor([6,9,8], dtype=torch.int32)\n",
        "int_32_tensor"
      ],
      "metadata": {
        "colab": {
          "base_uri": "https://localhost:8080/"
        },
        "id": "8Qs77LuCG8tE",
        "outputId": "2d91609f-8efd-4555-9223-d1f69124cfd4"
      },
      "execution_count": null,
      "outputs": [
        {
          "output_type": "execute_result",
          "data": {
            "text/plain": [
              "tensor([6, 9, 8], dtype=torch.int32)"
            ]
          },
          "metadata": {},
          "execution_count": 32
        }
      ]
    },
    {
      "cell_type": "code",
      "source": [
        "int_32_tensor*float_16"
      ],
      "metadata": {
        "colab": {
          "base_uri": "https://localhost:8080/"
        },
        "id": "d2IxsSMJHWar",
        "outputId": "33fb4a3a-cd79-40c6-d3e4-7a30d59bd5ee"
      },
      "execution_count": null,
      "outputs": [
        {
          "output_type": "execute_result",
          "data": {
            "text/plain": [
              "tensor([30., 54., 64.], dtype=torch.float16)"
            ]
          },
          "metadata": {},
          "execution_count": 33
        }
      ]
    },
    {
      "cell_type": "markdown",
      "source": [
        "#Getting information from the tensor\n",
        "1.tensor not right datatype #to get the tensor information use tensor.dtype\n",
        "2.tensor not right shape #to get the tensor information use tensor.shape\n",
        "3.tensor not right device #to get the tensor information use tensor.device"
      ],
      "metadata": {
        "id": "ilCdMhQJKcng"
      }
    },
    {
      "cell_type": "code",
      "source": [
        "some = torch.rand(3,5)\n",
        "some"
      ],
      "metadata": {
        "colab": {
          "base_uri": "https://localhost:8080/"
        },
        "id": "FlJAhqlILNss",
        "outputId": "00656304-0796-4ee8-e573-f98ce4734da0"
      },
      "execution_count": null,
      "outputs": [
        {
          "output_type": "execute_result",
          "data": {
            "text/plain": [
              "tensor([[0.3140, 0.7058, 0.3973, 0.9919, 0.7966],\n",
              "        [0.3987, 0.2855, 0.3789, 0.3765, 0.9320],\n",
              "        [0.5554, 0.8759, 0.2949, 0.6332, 0.5490]])"
            ]
          },
          "metadata": {},
          "execution_count": 34
        }
      ]
    },
    {
      "cell_type": "code",
      "source": [
        "some.size(),  #this need to be in () if we need to call the size() menthod\n",
        "some.shape #this doesn't required the () as this has a attribute"
      ],
      "metadata": {
        "colab": {
          "base_uri": "https://localhost:8080/"
        },
        "id": "eaq2ZZhVMhCA",
        "outputId": "784e0b00-3de4-4725-bac0-937ecff41dc4"
      },
      "execution_count": null,
      "outputs": [
        {
          "output_type": "execute_result",
          "data": {
            "text/plain": [
              "torch.Size([3, 5])"
            ]
          },
          "metadata": {},
          "execution_count": 35
        }
      ]
    },
    {
      "cell_type": "code",
      "source": [
        "#find the details of some tensor\n",
        "print(some)\n",
        "print(f\"Datatype of tensor:{some.dtype}\")\n",
        "print(f\"Shape of the tensor:{some.shape}\")\n",
        "print(f\"Device od the tensor:{some.device}\")"
      ],
      "metadata": {
        "colab": {
          "base_uri": "https://localhost:8080/"
        },
        "id": "IqM9JCt7NUUf",
        "outputId": "29251d93-cce0-4ed3-ac71-7a69ab7defa0"
      },
      "execution_count": null,
      "outputs": [
        {
          "output_type": "stream",
          "name": "stdout",
          "text": [
            "tensor([[0.3140, 0.7058, 0.3973, 0.9919, 0.7966],\n",
            "        [0.3987, 0.2855, 0.3789, 0.3765, 0.9320],\n",
            "        [0.5554, 0.8759, 0.2949, 0.6332, 0.5490]])\n",
            "Datatype of tensor:torch.float32\n",
            "Shape of the tensor:torch.Size([3, 5])\n",
            "Device od the tensor:cpu\n"
          ]
        }
      ]
    },
    {
      "cell_type": "code",
      "source": [
        "#manipulating the tensors add, sub, multi, division\n",
        "import torch\n",
        "tensor = torch.tensor([4,5,6])\n",
        "tensor +5"
      ],
      "metadata": {
        "colab": {
          "base_uri": "https://localhost:8080/"
        },
        "id": "76SDppmcNyEp",
        "outputId": "c5566bc0-6686-4425-e1f3-5ad17c7f006c"
      },
      "execution_count": null,
      "outputs": [
        {
          "output_type": "execute_result",
          "data": {
            "text/plain": [
              "tensor([ 9, 10, 11])"
            ]
          },
          "metadata": {},
          "execution_count": 37
        }
      ]
    },
    {
      "cell_type": "code",
      "source": [
        "tensor -10"
      ],
      "metadata": {
        "colab": {
          "base_uri": "https://localhost:8080/"
        },
        "id": "9ON9u3g8RWE-",
        "outputId": "bfe0dc75-8138-454d-e1ba-39489b2be340"
      },
      "execution_count": null,
      "outputs": [
        {
          "output_type": "execute_result",
          "data": {
            "text/plain": [
              "tensor([-6, -5, -4])"
            ]
          },
          "metadata": {},
          "execution_count": 38
        }
      ]
    },
    {
      "cell_type": "code",
      "source": [
        "#Using the inbuilt function in the tensor\n",
        "\n",
        "torch.add(tensor,10)"
      ],
      "metadata": {
        "colab": {
          "base_uri": "https://localhost:8080/"
        },
        "id": "w59fS1cfRYzj",
        "outputId": "b5096769-3ce2-4445-de7c-c0719687320e"
      },
      "execution_count": null,
      "outputs": [
        {
          "output_type": "execute_result",
          "data": {
            "text/plain": [
              "tensor([14, 15, 16])"
            ]
          },
          "metadata": {},
          "execution_count": 39
        }
      ]
    },
    {
      "cell_type": "code",
      "source": [
        "#sub using inbuilt function\n",
        "torch.sub(tensor,5)"
      ],
      "metadata": {
        "colab": {
          "base_uri": "https://localhost:8080/"
        },
        "id": "SswtkLv5VUvy",
        "outputId": "ae6d2a37-e59d-4ea0-840f-3313a23ab247"
      },
      "execution_count": null,
      "outputs": [
        {
          "output_type": "execute_result",
          "data": {
            "text/plain": [
              "tensor([-1,  0,  1])"
            ]
          },
          "metadata": {},
          "execution_count": 40
        }
      ]
    },
    {
      "cell_type": "markdown",
      "source": [
        "#Matrix multiplication\n",
        "\n",
        "Note: we can use the @ or matmul for the multiplication\n",
        "\n",
        "#Make sure the two rules 1. inner dimmensions should match\n",
        "ex: 1. (4,2) @(4,2) this will throw the error as the inner dimension is not mathcing\n",
        "2. (4,2)@(2,4) this will work as their inner dimension matches\n",
        "3.(2,4)@(4,2)this will work too\n",
        "\n",
        "#2. the matrix has  the shape of outer dimension\n",
        "1.(2,3)@(3,2) it will work and shows (2,2)\n",
        "\n",
        "2.(4,5)@(5,4) - >(4,4)"
      ],
      "metadata": {
        "id": "Vm7F0s2pZdos"
      }
    },
    {
      "cell_type": "code",
      "source": [
        "#Element wise multiplication\n",
        "print(tensor, \"*\" ,tensor)\n",
        "print(f\"Equals:{tensor * tensor}\")"
      ],
      "metadata": {
        "colab": {
          "base_uri": "https://localhost:8080/"
        },
        "id": "-BlbV9rHZhSp",
        "outputId": "1e05f96f-1777-4484-a506-fd4952454a6b"
      },
      "execution_count": null,
      "outputs": [
        {
          "output_type": "stream",
          "name": "stdout",
          "text": [
            "tensor([4, 5, 6]) * tensor([4, 5, 6])\n",
            "Equals:tensor([16, 25, 36])\n"
          ]
        }
      ]
    },
    {
      "cell_type": "code",
      "source": [
        "#matix multiplication\n",
        "\n",
        "torch.matmul(tensor, tensor) #vector version instead of for loop"
      ],
      "metadata": {
        "colab": {
          "base_uri": "https://localhost:8080/"
        },
        "id": "_CWnkTVxauig",
        "outputId": "1dfcdc03-05e5-4f91-8337-fac69eb363c3"
      },
      "execution_count": null,
      "outputs": [
        {
          "output_type": "execute_result",
          "data": {
            "text/plain": [
              "tensor(77)"
            ]
          },
          "metadata": {},
          "execution_count": 42
        }
      ]
    },
    {
      "cell_type": "code",
      "source": [
        "#how it works with multiplication\n",
        "4*4+5*5+6*6\n"
      ],
      "metadata": {
        "colab": {
          "base_uri": "https://localhost:8080/"
        },
        "id": "5PBwQJjObaOC",
        "outputId": "95b44e17-9ddc-4d7e-cab7-702b3aae1f8f"
      },
      "execution_count": null,
      "outputs": [
        {
          "output_type": "execute_result",
          "data": {
            "text/plain": [
              "77"
            ]
          },
          "metadata": {},
          "execution_count": 43
        }
      ]
    },
    {
      "cell_type": "code",
      "source": [
        "%%time\n",
        "value = 0\n",
        "for i in range(len(tensor)):\n",
        "  value += tensor[i]*tensor[i]\n",
        "print(value)\n",
        "\n"
      ],
      "metadata": {
        "id": "dle2ZciIbosL",
        "colab": {
          "base_uri": "https://localhost:8080/"
        },
        "outputId": "a7f56909-8d9e-4d97-f27b-4cf1ee68156d"
      },
      "execution_count": null,
      "outputs": [
        {
          "output_type": "stream",
          "name": "stdout",
          "text": [
            "tensor(77)\n",
            "CPU times: user 1.7 ms, sys: 1 ms, total: 2.7 ms\n",
            "Wall time: 20.7 ms\n"
          ]
        }
      ]
    },
    {
      "cell_type": "code",
      "source": [
        "#another way to multipy the tensor\n",
        "tensor @ tensor\n"
      ],
      "metadata": {
        "id": "tXC7rkseWrzN",
        "colab": {
          "base_uri": "https://localhost:8080/"
        },
        "outputId": "59970740-30cc-44ca-bf5a-2b7ef8e16dcb"
      },
      "execution_count": null,
      "outputs": [
        {
          "output_type": "execute_result",
          "data": {
            "text/plain": [
              "tensor(77)"
            ]
          },
          "metadata": {},
          "execution_count": 45
        }
      ]
    },
    {
      "cell_type": "code",
      "source": [
        "#shapes of matrix multiplication\n",
        "\n",
        "tensor1 = torch.tensor([[2,5],\n",
        "                       [3,6],\n",
        "                       [5,4]])\n",
        "\n",
        "tensor2 = torch.tensor([[5,4],\n",
        "                       [7,2],\n",
        "                       [8,9]])\n",
        "\n",
        "torch.mm(tensor1,tensor2)#.mm stands for matmul mm is a short form of matmul\n",
        "\n"
      ],
      "metadata": {
        "id": "DP0tQjQKXMaU",
        "colab": {
          "base_uri": "https://localhost:8080/",
          "height": 193
        },
        "outputId": "fc470193-c6c2-4cda-a792-198872893d4e"
      },
      "execution_count": null,
      "outputs": [
        {
          "output_type": "error",
          "ename": "RuntimeError",
          "evalue": "mat1 and mat2 shapes cannot be multiplied (3x2 and 3x2)",
          "traceback": [
            "\u001b[0;31m---------------------------------------------------------------------------\u001b[0m",
            "\u001b[0;31mRuntimeError\u001b[0m                              Traceback (most recent call last)",
            "\u001b[0;32m<ipython-input-47-d6d5c0d73274>\u001b[0m in \u001b[0;36m<cell line: 11>\u001b[0;34m()\u001b[0m\n\u001b[1;32m      9\u001b[0m                        [8,9]])\n\u001b[1;32m     10\u001b[0m \u001b[0;34m\u001b[0m\u001b[0m\n\u001b[0;32m---> 11\u001b[0;31m \u001b[0mtorch\u001b[0m\u001b[0;34m.\u001b[0m\u001b[0mmm\u001b[0m\u001b[0;34m(\u001b[0m\u001b[0mtensor1\u001b[0m\u001b[0;34m,\u001b[0m\u001b[0mtensor2\u001b[0m\u001b[0;34m)\u001b[0m\u001b[0;31m#.mm stands for matmul mm is a short form of matmul\u001b[0m\u001b[0;34m\u001b[0m\u001b[0;34m\u001b[0m\u001b[0m\n\u001b[0m\u001b[1;32m     12\u001b[0m \u001b[0;34m\u001b[0m\u001b[0m\n",
            "\u001b[0;31mRuntimeError\u001b[0m: mat1 and mat2 shapes cannot be multiplied (3x2 and 3x2)"
          ]
        }
      ]
    },
    {
      "cell_type": "markdown",
      "source": [
        "# to fix the tensor we will use transpose using the T.\n"
      ],
      "metadata": {
        "id": "vTgRzBmThkWG"
      }
    },
    {
      "cell_type": "code",
      "source": [
        "tensor2.shape"
      ],
      "metadata": {
        "id": "ng2oG9w3j39u",
        "colab": {
          "base_uri": "https://localhost:8080/"
        },
        "outputId": "05abb0a7-df2b-4791-f3eb-a083d5a1708d"
      },
      "execution_count": null,
      "outputs": [
        {
          "output_type": "execute_result",
          "data": {
            "text/plain": [
              "torch.Size([3, 2])"
            ]
          },
          "metadata": {},
          "execution_count": 48
        }
      ]
    },
    {
      "cell_type": "code",
      "source": [
        "#here is the ex using the T\n",
        "tensor2.T, tensor2.T.shape"
      ],
      "metadata": {
        "id": "QdzGc-_jjjA4",
        "colab": {
          "base_uri": "https://localhost:8080/"
        },
        "outputId": "7ed989ce-7865-4e8d-e4ad-4dd61247e822"
      },
      "execution_count": null,
      "outputs": [
        {
          "output_type": "execute_result",
          "data": {
            "text/plain": [
              "(tensor([[5, 7, 8],\n",
              "         [4, 2, 9]]),\n",
              " torch.Size([2, 3]))"
            ]
          },
          "metadata": {},
          "execution_count": 49
        }
      ]
    },
    {
      "cell_type": "code",
      "source": [
        "# now using tensor2.T we will multipy the matrix\n",
        "# as we transform tensor2.T not the tensor1. This is eligible with the rule 1\n",
        "# rule 1 is inner dimension should match so for our examples\n",
        "# the tensor 1 has dimension of (3,2) and we transpose the tensor2 to (2,3) so this will work without any issue\n",
        "\n",
        "torch.mm(tensor1,tensor2.T)#.mm stands for matmul mm is a short form of matmul\n",
        "\n"
      ],
      "metadata": {
        "id": "i3KPn61ckdkn",
        "colab": {
          "base_uri": "https://localhost:8080/"
        },
        "outputId": "a7e078ef-dfdf-41a3-95ab-4fe6fcff3cb6"
      },
      "execution_count": null,
      "outputs": [
        {
          "output_type": "execute_result",
          "data": {
            "text/plain": [
              "tensor([[30, 24, 61],\n",
              "        [39, 33, 78],\n",
              "        [41, 43, 76]])"
            ]
          },
          "metadata": {},
          "execution_count": 50
        }
      ]
    },
    {
      "cell_type": "code",
      "source": [
        "# here we are doing the outer dimmension example\n",
        "# we will set the (4,3)matrix to match with rule 2\n",
        "tensor3 = torch.tensor([[5,6,5],\n",
        "                       [4,5,7],\n",
        "                       [0,0,8],\n",
        "                        [2,5,8]])\n",
        "tensor4 = torch.tensor([[3,6,2],\n",
        "                       [1,1,1],\n",
        "                       [3,8,4],\n",
        "                        [4,7,8]])"
      ],
      "metadata": {
        "id": "EEMP1vDNmsrI"
      },
      "execution_count": null,
      "outputs": []
    },
    {
      "cell_type": "code",
      "source": [
        "torch.mm(tensor3, tensor4)"
      ],
      "metadata": {
        "id": "8qkGzxSSnCD6",
        "colab": {
          "base_uri": "https://localhost:8080/",
          "height": 141
        },
        "outputId": "cd4bc47d-2796-40f2-e2b4-cff79cabd359"
      },
      "execution_count": null,
      "outputs": [
        {
          "output_type": "error",
          "ename": "RuntimeError",
          "evalue": "mat1 and mat2 shapes cannot be multiplied (4x3 and 4x3)",
          "traceback": [
            "\u001b[0;31m---------------------------------------------------------------------------\u001b[0m",
            "\u001b[0;31mRuntimeError\u001b[0m                              Traceback (most recent call last)",
            "\u001b[0;32m<ipython-input-53-6c37b38e43f5>\u001b[0m in \u001b[0;36m<cell line: 1>\u001b[0;34m()\u001b[0m\n\u001b[0;32m----> 1\u001b[0;31m \u001b[0mtorch\u001b[0m\u001b[0;34m.\u001b[0m\u001b[0mmm\u001b[0m\u001b[0;34m(\u001b[0m\u001b[0mtensor3\u001b[0m\u001b[0;34m,\u001b[0m \u001b[0mtensor4\u001b[0m\u001b[0;34m)\u001b[0m\u001b[0;34m\u001b[0m\u001b[0;34m\u001b[0m\u001b[0m\n\u001b[0m",
            "\u001b[0;31mRuntimeError\u001b[0m: mat1 and mat2 shapes cannot be multiplied (4x3 and 4x3)"
          ]
        }
      ]
    },
    {
      "cell_type": "code",
      "source": [
        "tensor3.T"
      ],
      "metadata": {
        "id": "NK9IDkR3n-92",
        "colab": {
          "base_uri": "https://localhost:8080/"
        },
        "outputId": "9970796b-ac32-4575-f63c-617f73b41d01"
      },
      "execution_count": null,
      "outputs": [
        {
          "output_type": "execute_result",
          "data": {
            "text/plain": [
              "tensor([[5, 4, 0, 2],\n",
              "        [6, 5, 0, 5],\n",
              "        [5, 7, 8, 8]])"
            ]
          },
          "metadata": {},
          "execution_count": 54
        }
      ]
    },
    {
      "cell_type": "code",
      "source": [
        "tensor3.T.shape"
      ],
      "metadata": {
        "id": "JavQQZ1MormM",
        "colab": {
          "base_uri": "https://localhost:8080/"
        },
        "outputId": "2fc046f2-83a6-479d-bccc-04ff443fc525"
      },
      "execution_count": null,
      "outputs": [
        {
          "output_type": "execute_result",
          "data": {
            "text/plain": [
              "torch.Size([3, 4])"
            ]
          },
          "metadata": {},
          "execution_count": 55
        }
      ]
    },
    {
      "cell_type": "code",
      "source": [
        "torch.mm(tensor3.T, tensor4)"
      ],
      "metadata": {
        "id": "b4uaBPr6ow0Z",
        "colab": {
          "base_uri": "https://localhost:8080/"
        },
        "outputId": "1e48bfd1-77ae-465b-8fdb-2c6ff45242e1"
      },
      "execution_count": null,
      "outputs": [
        {
          "output_type": "execute_result",
          "data": {
            "text/plain": [
              "tensor([[ 27,  48,  30],\n",
              "        [ 43,  76,  57],\n",
              "        [ 78, 157, 113]])"
            ]
          },
          "metadata": {},
          "execution_count": 56
        }
      ]
    },
    {
      "cell_type": "markdown",
      "source": [
        "#Finding the min,max,sum(tesnor aggregation)"
      ],
      "metadata": {
        "id": "cYY2sM6hqIId"
      }
    },
    {
      "cell_type": "code",
      "source": [
        "#Create a tensor\n",
        "a = torch.arange(1,50,10)\n",
        "a"
      ],
      "metadata": {
        "id": "h6tg6deeq3oY",
        "colab": {
          "base_uri": "https://localhost:8080/"
        },
        "outputId": "088d2d88-d1b6-4e0e-d850-1d047fa272b8"
      },
      "execution_count": null,
      "outputs": [
        {
          "output_type": "execute_result",
          "data": {
            "text/plain": [
              "tensor([ 1, 11, 21, 31, 41])"
            ]
          },
          "metadata": {},
          "execution_count": 57
        }
      ]
    },
    {
      "cell_type": "code",
      "source": [
        "torch.min(a), a.min()#another way to call"
      ],
      "metadata": {
        "id": "CTKD8Owqw9wi",
        "colab": {
          "base_uri": "https://localhost:8080/"
        },
        "outputId": "b77afef7-3d52-4ba7-b3a5-0f56a55b9b63"
      },
      "execution_count": null,
      "outputs": [
        {
          "output_type": "execute_result",
          "data": {
            "text/plain": [
              "(tensor(1), tensor(1))"
            ]
          },
          "metadata": {},
          "execution_count": 58
        }
      ]
    },
    {
      "cell_type": "code",
      "source": [
        "torch.max(a), a.max()"
      ],
      "metadata": {
        "id": "aAkkYN95xUft",
        "colab": {
          "base_uri": "https://localhost:8080/"
        },
        "outputId": "e20620f1-ba9d-4055-aa04-423ba1521f15"
      },
      "execution_count": null,
      "outputs": [
        {
          "output_type": "execute_result",
          "data": {
            "text/plain": [
              "(tensor(41), tensor(41))"
            ]
          },
          "metadata": {},
          "execution_count": 59
        }
      ]
    },
    {
      "cell_type": "code",
      "source": [
        "torch.mean(a)"
      ],
      "metadata": {
        "id": "QY7xJc-uxXHk",
        "colab": {
          "base_uri": "https://localhost:8080/",
          "height": 141
        },
        "outputId": "8bdb43db-9ea9-4cc1-e362-af444f1e4a97"
      },
      "execution_count": null,
      "outputs": [
        {
          "output_type": "error",
          "ename": "RuntimeError",
          "evalue": "mean(): could not infer output dtype. Input dtype must be either a floating point or complex dtype. Got: Long",
          "traceback": [
            "\u001b[0;31m---------------------------------------------------------------------------\u001b[0m",
            "\u001b[0;31mRuntimeError\u001b[0m                              Traceback (most recent call last)",
            "\u001b[0;32m<ipython-input-61-8ac49bb4b0bb>\u001b[0m in \u001b[0;36m<cell line: 1>\u001b[0;34m()\u001b[0m\n\u001b[0;32m----> 1\u001b[0;31m \u001b[0mtorch\u001b[0m\u001b[0;34m.\u001b[0m\u001b[0mmean\u001b[0m\u001b[0;34m(\u001b[0m\u001b[0ma\u001b[0m\u001b[0;34m)\u001b[0m\u001b[0;34m\u001b[0m\u001b[0;34m\u001b[0m\u001b[0m\n\u001b[0m",
            "\u001b[0;31mRuntimeError\u001b[0m: mean(): could not infer output dtype. Input dtype must be either a floating point or complex dtype. Got: Long"
          ]
        }
      ]
    },
    {
      "cell_type": "code",
      "source": [
        "#change the datatype as it throws error\n",
        "torch.mean(a.type(torch.float32))"
      ],
      "metadata": {
        "id": "AxjmJ_V-yAQO",
        "colab": {
          "base_uri": "https://localhost:8080/"
        },
        "outputId": "7e22192a-f69b-4f11-9c1e-cc83fd210d7a"
      },
      "execution_count": null,
      "outputs": [
        {
          "output_type": "execute_result",
          "data": {
            "text/plain": [
              "tensor(21.)"
            ]
          },
          "metadata": {},
          "execution_count": 62
        }
      ]
    },
    {
      "cell_type": "code",
      "source": [
        "#Find the sum\n",
        "torch.sum(a),a.sum()"
      ],
      "metadata": {
        "id": "ddWhVx9Wz_Qv",
        "colab": {
          "base_uri": "https://localhost:8080/"
        },
        "outputId": "8b3c6904-7d1a-43c7-94c2-aa2c7ac20370"
      },
      "execution_count": null,
      "outputs": [
        {
          "output_type": "execute_result",
          "data": {
            "text/plain": [
              "(tensor(105), tensor(105))"
            ]
          },
          "metadata": {},
          "execution_count": 63
        }
      ]
    },
    {
      "cell_type": "markdown",
      "source": [
        "#finding the positional of Min and Max"
      ],
      "metadata": {
        "id": "XFh01-qn0jAX"
      }
    },
    {
      "cell_type": "code",
      "source": [
        "a\n"
      ],
      "metadata": {
        "id": "Zxyvjtbo0qVf",
        "colab": {
          "base_uri": "https://localhost:8080/"
        },
        "outputId": "09e53c52-f275-460a-d9bf-10ddb44c7b67"
      },
      "execution_count": null,
      "outputs": [
        {
          "output_type": "execute_result",
          "data": {
            "text/plain": [
              "tensor([ 1, 11, 21, 31, 41])"
            ]
          },
          "metadata": {},
          "execution_count": 64
        }
      ]
    },
    {
      "cell_type": "code",
      "source": [
        "a.argmin()#here armin means argrument min value"
      ],
      "metadata": {
        "id": "f6qT2JuT00xn",
        "colab": {
          "base_uri": "https://localhost:8080/"
        },
        "outputId": "02a23b0f-43f7-49f6-c2cf-4d45a532176b"
      },
      "execution_count": null,
      "outputs": [
        {
          "output_type": "execute_result",
          "data": {
            "text/plain": [
              "tensor(0)"
            ]
          },
          "metadata": {},
          "execution_count": 65
        }
      ]
    },
    {
      "cell_type": "code",
      "source": [
        "a.argmax()"
      ],
      "metadata": {
        "id": "3EqW1YYF03nA",
        "colab": {
          "base_uri": "https://localhost:8080/"
        },
        "outputId": "01f77bac-f97c-428c-c804-1762f7954660"
      },
      "execution_count": null,
      "outputs": [
        {
          "output_type": "execute_result",
          "data": {
            "text/plain": [
              "tensor(4)"
            ]
          },
          "metadata": {},
          "execution_count": 66
        }
      ]
    },
    {
      "cell_type": "code",
      "source": [
        "a[0]"
      ],
      "metadata": {
        "id": "-5pUV_Y71Pl3",
        "colab": {
          "base_uri": "https://localhost:8080/"
        },
        "outputId": "02e4167c-fe44-43e3-bfef-9eeaa1e33540"
      },
      "execution_count": null,
      "outputs": [
        {
          "output_type": "execute_result",
          "data": {
            "text/plain": [
              "tensor(1)"
            ]
          },
          "metadata": {},
          "execution_count": 67
        }
      ]
    },
    {
      "cell_type": "markdown",
      "source": [
        "#Reshapping, stacking, squeezing and unsquezing tensors\n",
        "Reshaping - rehsapes the input to define shape\n",
        "\n",
        "staching - combine multiple tensors on tip each other(vstak) and (hstack) for side by side\n",
        "\n",
        "view- to view of an uninput tensorsof certain shape but to keep the same memory as original tensor\n",
        "\n",
        "squeeze: to remove the 1 dimensions from tensor\n",
        "unsqueeze: to add the 1 dimension in the tensor\n",
        "permute: return a view of the input with dimension permuted(swapped)in a certain way\n"
      ],
      "metadata": {
        "id": "mLUdudMv1bAF"
      }
    },
    {
      "cell_type": "code",
      "source": [
        "import torch\n",
        "b = torch.arange(1, 9)\n",
        "b, b.shape"
      ],
      "metadata": {
        "id": "DuLmKQMg2beZ",
        "colab": {
          "base_uri": "https://localhost:8080/"
        },
        "outputId": "7d1a840a-e03b-4eac-d9d2-3ae494a251d1"
      },
      "execution_count": null,
      "outputs": [
        {
          "output_type": "execute_result",
          "data": {
            "text/plain": [
              "(tensor([1, 2, 3, 4, 5, 6, 7, 8]), torch.Size([8]))"
            ]
          },
          "metadata": {},
          "execution_count": 68
        }
      ]
    },
    {
      "cell_type": "code",
      "source": [
        "# Reshapping\n",
        "\n",
        "b_resh = b.reshape(1,8) # this will add the tensor to inside the single dimension which is \"1\" and you will see [] inside it\n",
        "b_resh, b_resh.shape\n"
      ],
      "metadata": {
        "id": "QTTMNlt24l6e",
        "colab": {
          "base_uri": "https://localhost:8080/"
        },
        "outputId": "989f426b-8925-4fd7-f3dd-388f8b2baef4"
      },
      "execution_count": null,
      "outputs": [
        {
          "output_type": "execute_result",
          "data": {
            "text/plain": [
              "(tensor([[1, 2, 3, 4, 5, 6, 7, 8]]), torch.Size([1, 8]))"
            ]
          },
          "metadata": {},
          "execution_count": 69
        }
      ]
    },
    {
      "cell_type": "code",
      "source": [
        "# Reshapping\n",
        "\n",
        "b_resh = b.reshape(4,2) # this will add the tensor to inside the single dimension which is \"2\" and you will see [] inside it\n",
        "b_resh, b_resh.shape"
      ],
      "metadata": {
        "id": "lTHhxZS-7imO",
        "colab": {
          "base_uri": "https://localhost:8080/"
        },
        "outputId": "e37c857a-f6c3-4bcb-bb62-707d5a7a8999"
      },
      "execution_count": null,
      "outputs": [
        {
          "output_type": "execute_result",
          "data": {
            "text/plain": [
              "(tensor([[1, 2],\n",
              "         [3, 4],\n",
              "         [5, 6],\n",
              "         [7, 8]]),\n",
              " torch.Size([4, 2]))"
            ]
          },
          "metadata": {},
          "execution_count": 70
        }
      ]
    },
    {
      "cell_type": "code",
      "source": [
        "#change the view\n",
        "y = b.view(1,8) #here we are calling the b tensor which will share the original value with y\n",
        "y,\n"
      ],
      "metadata": {
        "id": "-KVjBDKh-TRQ",
        "colab": {
          "base_uri": "https://localhost:8080/"
        },
        "outputId": "3af871e9-4768-4eee-fa6f-efaeaf4a1cc9"
      },
      "execution_count": null,
      "outputs": [
        {
          "output_type": "execute_result",
          "data": {
            "text/plain": [
              "(tensor([[1, 2, 3, 4, 5, 6, 7, 8]]),)"
            ]
          },
          "metadata": {},
          "execution_count": 71
        }
      ]
    },
    {
      "cell_type": "code",
      "source": [
        "#changing the y will change the b vlaues in the tensor as it share the original values\n",
        "y[:,0]=8\n",
        "y, b"
      ],
      "metadata": {
        "id": "ZIh9Yg3bqYhN",
        "colab": {
          "base_uri": "https://localhost:8080/"
        },
        "outputId": "12dd46cf-1db5-44c2-c119-4fa1620eba1a"
      },
      "execution_count": null,
      "outputs": [
        {
          "output_type": "execute_result",
          "data": {
            "text/plain": [
              "(tensor([[8, 2, 3, 4, 5, 6, 7, 8]]), tensor([8, 2, 3, 4, 5, 6, 7, 8]))"
            ]
          },
          "metadata": {},
          "execution_count": 72
        }
      ]
    },
    {
      "cell_type": "code",
      "source": [
        "# Start stacking tensor on top of each other\n",
        "x_stack = torch.stack([y,y,y,y],dim=0) #try chaning the dimension to dim=0/dim=1\n",
        "x_stack"
      ],
      "metadata": {
        "id": "JE6Hgfda02SA",
        "colab": {
          "base_uri": "https://localhost:8080/"
        },
        "outputId": "aac10ff7-cdbe-4c3c-83f2-de7090edf496"
      },
      "execution_count": null,
      "outputs": [
        {
          "output_type": "execute_result",
          "data": {
            "text/plain": [
              "tensor([[[8, 2, 3, 4, 5, 6, 7, 8]],\n",
              "\n",
              "        [[8, 2, 3, 4, 5, 6, 7, 8]],\n",
              "\n",
              "        [[8, 2, 3, 4, 5, 6, 7, 8]],\n",
              "\n",
              "        [[8, 2, 3, 4, 5, 6, 7, 8]]])"
            ]
          },
          "metadata": {},
          "execution_count": 73
        }
      ]
    },
    {
      "cell_type": "code",
      "source": [
        "\n",
        "abc = torch.arange(1,12)\n",
        "abc"
      ],
      "metadata": {
        "id": "z2X7pmeZ2BRI",
        "colab": {
          "base_uri": "https://localhost:8080/"
        },
        "outputId": "85cb5519-d3b6-4463-9c95-e18d704d5c86"
      },
      "execution_count": null,
      "outputs": [
        {
          "output_type": "execute_result",
          "data": {
            "text/plain": [
              "tensor([ 1,  2,  3,  4,  5,  6,  7,  8,  9, 10, 11])"
            ]
          },
          "metadata": {},
          "execution_count": 74
        }
      ]
    },
    {
      "cell_type": "code",
      "source": [
        "abc.shape"
      ],
      "metadata": {
        "id": "GySUeSVs3o1u",
        "colab": {
          "base_uri": "https://localhost:8080/"
        },
        "outputId": "ba00555a-1358-48f7-923e-7fc4513c323d"
      },
      "execution_count": null,
      "outputs": [
        {
          "output_type": "execute_result",
          "data": {
            "text/plain": [
              "torch.Size([11])"
            ]
          },
          "metadata": {},
          "execution_count": 75
        }
      ]
    },
    {
      "cell_type": "code",
      "source": [
        "#torch reshape again\n",
        "ab = abc.reshape(1,11)\n",
        "ab, ab.shape"
      ],
      "metadata": {
        "id": "qP193c2J4stH",
        "colab": {
          "base_uri": "https://localhost:8080/"
        },
        "outputId": "fb33487d-2fca-435e-aded-4ee4b9fe746f"
      },
      "execution_count": null,
      "outputs": [
        {
          "output_type": "execute_result",
          "data": {
            "text/plain": [
              "(tensor([[ 1,  2,  3,  4,  5,  6,  7,  8,  9, 10, 11]]), torch.Size([1, 11]))"
            ]
          },
          "metadata": {},
          "execution_count": 76
        }
      ]
    },
    {
      "cell_type": "code",
      "source": [
        "#torch squeeze\n",
        "\n",
        "ab.squeeze() # this will squeeze and remove the one dimension"
      ],
      "metadata": {
        "id": "RrHsCqiG471N",
        "colab": {
          "base_uri": "https://localhost:8080/"
        },
        "outputId": "5686eb25-2994-4dfa-9709-2ffa8ebe4e74"
      },
      "execution_count": null,
      "outputs": [
        {
          "output_type": "execute_result",
          "data": {
            "text/plain": [
              "tensor([ 1,  2,  3,  4,  5,  6,  7,  8,  9, 10, 11])"
            ]
          },
          "metadata": {},
          "execution_count": 77
        }
      ]
    },
    {
      "cell_type": "code",
      "source": [
        "ab.squeeze().shape #here we can see the single dimesnion is removed"
      ],
      "metadata": {
        "id": "W7FGNTC9Qod-",
        "colab": {
          "base_uri": "https://localhost:8080/"
        },
        "outputId": "e763980d-608a-4552-950f-dd8f9baad60e"
      },
      "execution_count": null,
      "outputs": [
        {
          "output_type": "execute_result",
          "data": {
            "text/plain": [
              "torch.Size([11])"
            ]
          },
          "metadata": {},
          "execution_count": 78
        }
      ]
    },
    {
      "cell_type": "code",
      "source": [
        "# torch unsqueeze()- it will add the single dimension to the tensor\n",
        "print(f\"previous target:{ab}\")\n",
        "print(f\"previous shape:{ab.shape}\")\n",
        "\n",
        "\n",
        "#add an extra dimension with unsqueeze\n",
        "unsqueezed = ab.unsqueeze(dim=0)\n",
        "print(f\"new tensor:{unsqueezed}\")\n",
        "print(f\"new shape:{unsqueezed.shape}\")\n"
      ],
      "metadata": {
        "id": "VVqYPli0SOyB",
        "colab": {
          "base_uri": "https://localhost:8080/"
        },
        "outputId": "45db5546-40ae-4b12-f480-de5230bb1bc1"
      },
      "execution_count": null,
      "outputs": [
        {
          "output_type": "stream",
          "name": "stdout",
          "text": [
            "previous target:tensor([[ 1,  2,  3,  4,  5,  6,  7,  8,  9, 10, 11]])\n",
            "previous shape:torch.Size([1, 11])\n",
            "new tensor:tensor([[[ 1,  2,  3,  4,  5,  6,  7,  8,  9, 10, 11]]])\n",
            "new shape:torch.Size([1, 1, 11])\n"
          ]
        }
      ]
    },
    {
      "cell_type": "code",
      "source": [
        "#torch.permute - rearranges the dimension of a traget tensor\n",
        "x_original = torch.rand(size=(245,245,3))#[height,width, color channels]\n",
        "x_original\n",
        "\n",
        " #permute the original tensor to rearrange the axis (or dim)\n",
        "x_permuted = x_original.permute(2,0,1) #this will shift the axis 2->1, 0->1, 1->2\n",
        "\n",
        "print(f\"previous shape:{x_original.shape}\")\n",
        "print(f\"New shape:{x_permuted.shape}\")"
      ],
      "metadata": {
        "id": "kVWxWtXGXySP",
        "colab": {
          "base_uri": "https://localhost:8080/"
        },
        "outputId": "a7e42a99-8aa9-4872-da72-c1439e3d184d"
      },
      "execution_count": null,
      "outputs": [
        {
          "output_type": "stream",
          "name": "stdout",
          "text": [
            "previous shape:torch.Size([245, 245, 3])\n",
            "New shape:torch.Size([3, 245, 245])\n"
          ]
        }
      ]
    },
    {
      "cell_type": "code",
      "source": [
        "x_original[0,0,:] #this will print the original values from 0,0 that what explains to me"
      ],
      "metadata": {
        "id": "TXZLCinjlQxV",
        "colab": {
          "base_uri": "https://localhost:8080/"
        },
        "outputId": "05dda678-c931-4973-dc3d-55f3b5c81143"
      },
      "execution_count": null,
      "outputs": [
        {
          "output_type": "execute_result",
          "data": {
            "text/plain": [
              "tensor([0.9982, 0.3522, 0.1763])"
            ]
          },
          "metadata": {},
          "execution_count": 81
        }
      ]
    },
    {
      "cell_type": "code",
      "source": [
        "x_original[1,0,0]= 1234 #here we are chaning the values inside the original value index and it will change for permuted value too\n",
        "x_original[1,0,0],x_permuted[1,0,0]"
      ],
      "metadata": {
        "id": "8pqFTJ2pqnai",
        "colab": {
          "base_uri": "https://localhost:8080/"
        },
        "outputId": "4e8cde6c-f272-4676-fd4a-27ca0d9a2542"
      },
      "execution_count": null,
      "outputs": [
        {
          "output_type": "execute_result",
          "data": {
            "text/plain": [
              "(tensor(1234.), tensor(0.3522))"
            ]
          },
          "metadata": {},
          "execution_count": 82
        }
      ]
    },
    {
      "cell_type": "markdown",
      "source": [
        "#Indexing(selecting data from the tensors)\n",
        "Indexing with Pytorch is similar to indexing with Numpy\n"
      ],
      "metadata": {
        "id": "acPsvFoys-rs"
      }
    },
    {
      "cell_type": "code",
      "source": [
        "# create a tensor\n",
        "import torch\n",
        "x = torch.arange(1,17).reshape(1,4,4)#for reshape it looks like 1*4*4=16 and for arage it will 1 to 8 values\n",
        "x, x.shape"
      ],
      "metadata": {
        "id": "XeoQW_kZtTko",
        "colab": {
          "base_uri": "https://localhost:8080/"
        },
        "outputId": "dfca1591-86dd-4ef9-fa90-9348caf607e4"
      },
      "execution_count": null,
      "outputs": [
        {
          "output_type": "execute_result",
          "data": {
            "text/plain": [
              "(tensor([[[ 1,  2,  3,  4],\n",
              "          [ 5,  6,  7,  8],\n",
              "          [ 9, 10, 11, 12],\n",
              "          [13, 14, 15, 16]]]),\n",
              " torch.Size([1, 4, 4]))"
            ]
          },
          "metadata": {},
          "execution_count": 83
        }
      ]
    },
    {
      "cell_type": "code",
      "source": [
        "#let the index on new tensor\n",
        "x[0]"
      ],
      "metadata": {
        "colab": {
          "base_uri": "https://localhost:8080/"
        },
        "id": "FiN64FPEzUQX",
        "outputId": "d9db3a2f-c857-4eca-82a2-ca954420f76f"
      },
      "execution_count": null,
      "outputs": [
        {
          "output_type": "execute_result",
          "data": {
            "text/plain": [
              "tensor([[ 1,  2,  3,  4],\n",
              "        [ 5,  6,  7,  8],\n",
              "        [ 9, 10, 11, 12],\n",
              "        [13, 14, 15, 16]])"
            ]
          },
          "metadata": {},
          "execution_count": 84
        }
      ]
    },
    {
      "cell_type": "code",
      "source": [
        "# now will index on middle bracket\n",
        "x[0][0]"
      ],
      "metadata": {
        "colab": {
          "base_uri": "https://localhost:8080/"
        },
        "id": "3ZxzTctxzd-G",
        "outputId": "096fa553-ff2d-4c92-fd67-7ffa9f000ed1"
      },
      "execution_count": null,
      "outputs": [
        {
          "output_type": "execute_result",
          "data": {
            "text/plain": [
              "tensor([1, 2, 3, 4])"
            ]
          },
          "metadata": {},
          "execution_count": 85
        }
      ]
    },
    {
      "cell_type": "code",
      "source": [
        "# let's index with last bracket which is last dimension\n",
        "\n",
        "x[0][3]"
      ],
      "metadata": {
        "colab": {
          "base_uri": "https://localhost:8080/"
        },
        "id": "M5GoVjHL1r5_",
        "outputId": "9320f287-bd7c-4f13-f9cc-dc1cba06458e"
      },
      "execution_count": null,
      "outputs": [
        {
          "output_type": "execute_result",
          "data": {
            "text/plain": [
              "tensor([13, 14, 15, 16])"
            ]
          },
          "metadata": {},
          "execution_count": 86
        }
      ]
    },
    {
      "cell_type": "code",
      "source": [
        "# let's index with first dimenion\n",
        "\n",
        "x[0][0][0]"
      ],
      "metadata": {
        "colab": {
          "base_uri": "https://localhost:8080/"
        },
        "id": "AQhAxuDT257F",
        "outputId": "e4c67f1c-8b5c-40fb-f767-d3be30da8032"
      },
      "execution_count": null,
      "outputs": [
        {
          "output_type": "execute_result",
          "data": {
            "text/plain": [
              "tensor(1)"
            ]
          },
          "metadata": {},
          "execution_count": 87
        }
      ]
    },
    {
      "cell_type": "code",
      "source": [
        "# you can also use\":\" to select all the target dimension\n",
        "x[:,0]"
      ],
      "metadata": {
        "colab": {
          "base_uri": "https://localhost:8080/"
        },
        "id": "BnAiXAgM3lXr",
        "outputId": "6592d852-f9aa-4377-d41d-364cb4edd3a5"
      },
      "execution_count": null,
      "outputs": [
        {
          "output_type": "execute_result",
          "data": {
            "text/plain": [
              "tensor([[1, 2, 3, 4]])"
            ]
          },
          "metadata": {},
          "execution_count": 88
        }
      ]
    },
    {
      "cell_type": "code",
      "source": [
        "#get all the values of 0th and 1st dimenstion but only index 1 of 2nd dimension\n",
        "x[:,:,2]"
      ],
      "metadata": {
        "colab": {
          "base_uri": "https://localhost:8080/"
        },
        "id": "I0rJ3nyw4n7B",
        "outputId": "235b6eb6-7c7e-478f-9930-ce80201484a1"
      },
      "execution_count": null,
      "outputs": [
        {
          "output_type": "execute_result",
          "data": {
            "text/plain": [
              "tensor([[ 3,  7, 11, 15]])"
            ]
          },
          "metadata": {},
          "execution_count": 89
        }
      ]
    },
    {
      "cell_type": "code",
      "source": [
        "#get all values of the 0 dimension means whole tensor but only the 1 index which is\"[]\" valu itself  of 1st and 2nd Dimension\n",
        "x[:,1,1]"
      ],
      "metadata": {
        "colab": {
          "base_uri": "https://localhost:8080/"
        },
        "id": "PTMW601t5RVP",
        "outputId": "7ae4b176-824b-4f61-d953-f2890ccb3e14"
      },
      "execution_count": null,
      "outputs": [
        {
          "output_type": "execute_result",
          "data": {
            "text/plain": [
              "tensor([6])"
            ]
          },
          "metadata": {},
          "execution_count": 90
        }
      ]
    },
    {
      "cell_type": "code",
      "source": [
        "x[0,0,:]"
      ],
      "metadata": {
        "colab": {
          "base_uri": "https://localhost:8080/"
        },
        "id": "VS9Z7eAc6Bl1",
        "outputId": "17053448-d075-4622-d04b-1237aaf1c1e4"
      },
      "execution_count": null,
      "outputs": [
        {
          "output_type": "execute_result",
          "data": {
            "text/plain": [
              "tensor([1, 2, 3, 4])"
            ]
          },
          "metadata": {},
          "execution_count": 91
        }
      ]
    },
    {
      "cell_type": "code",
      "source": [
        "#practic\n",
        "x[:,3,3]"
      ],
      "metadata": {
        "colab": {
          "base_uri": "https://localhost:8080/"
        },
        "id": "Y4sYkLwL6nee",
        "outputId": "bad3bcc8-c692-4405-ae07-1d483214025c"
      },
      "execution_count": null,
      "outputs": [
        {
          "output_type": "execute_result",
          "data": {
            "text/plain": [
              "tensor([16])"
            ]
          },
          "metadata": {},
          "execution_count": 92
        }
      ]
    },
    {
      "cell_type": "code",
      "source": [
        "x[0,2,:] # this will print whole line"
      ],
      "metadata": {
        "colab": {
          "base_uri": "https://localhost:8080/"
        },
        "id": "9WXOqO-U7Jsl",
        "outputId": "989a904a-9ef9-4841-a6b9-9c17191fc795"
      },
      "execution_count": null,
      "outputs": [
        {
          "output_type": "execute_result",
          "data": {
            "text/plain": [
              "tensor([ 9, 10, 11, 12])"
            ]
          },
          "metadata": {},
          "execution_count": 93
        }
      ]
    },
    {
      "cell_type": "markdown",
      "source": [
        "#Pytorch tensors and Numpy\n",
        "\n",
        "\n",
        "- Data in NumPy, want in Pytorch tensor -> torch.from_numpy(ndarray)\n",
        "- PyTorch tensor-> NumPy-> torch.Tensor.numpy()"
      ],
      "metadata": {
        "id": "YsFDFRSzOUWX"
      }
    },
    {
      "cell_type": "code",
      "source": [
        "#Numpy array to tensor\n",
        "import torch\n",
        "import numpy as np\n",
        "\n",
        "array  = np.arange(1.0,9.0) #this is numpy\n",
        "tensorr = torch.from_numpy(array) #WARNING:this is Tensor for torch and also Pytorch is uses the default data type from NumPy method you will see example below\n",
        "array, tensorr\n"
      ],
      "metadata": {
        "id": "NAgKenZ5G4Mw",
        "colab": {
          "base_uri": "https://localhost:8080/"
        },
        "outputId": "bee15ccb-54ea-43e5-dd12-6a78a72e88b0"
      },
      "execution_count": null,
      "outputs": [
        {
          "output_type": "execute_result",
          "data": {
            "text/plain": [
              "(array([1., 2., 3., 4., 5., 6., 7., 8.]),\n",
              " tensor([1., 2., 3., 4., 5., 6., 7., 8.], dtype=torch.float64))"
            ]
          },
          "metadata": {},
          "execution_count": 94
        }
      ]
    },
    {
      "cell_type": "code",
      "source": [
        "array.dtype #see in there the dataType is float64"
      ],
      "metadata": {
        "colab": {
          "base_uri": "https://localhost:8080/"
        },
        "id": "Beckxpr-RurE",
        "outputId": "712ee4d9-7b97-4a01-80b5-ce381495575b"
      },
      "execution_count": null,
      "outputs": [
        {
          "output_type": "execute_result",
          "data": {
            "text/plain": [
              "dtype('float64')"
            ]
          },
          "metadata": {},
          "execution_count": 95
        }
      ]
    },
    {
      "cell_type": "code",
      "source": [
        "torch.arange(1.0,8.0).dtype # in there the default is float32"
      ],
      "metadata": {
        "colab": {
          "base_uri": "https://localhost:8080/"
        },
        "id": "7OzJVJJ-SL5M",
        "outputId": "91e50d65-5aed-414e-e00a-6d571c011b0a"
      },
      "execution_count": null,
      "outputs": [
        {
          "output_type": "execute_result",
          "data": {
            "text/plain": [
              "torch.float32"
            ]
          },
          "metadata": {},
          "execution_count": 96
        }
      ]
    },
    {
      "cell_type": "code",
      "source": [
        "#change the value of array, for numPy\n",
        "array = array + 1\n",
        "array, tensorr # and this will not change the vlaue of tensor"
      ],
      "metadata": {
        "colab": {
          "base_uri": "https://localhost:8080/"
        },
        "id": "sKh75gydSpHJ",
        "outputId": "eb9947bc-1814-4b5d-d39c-ce88aca12e9a"
      },
      "execution_count": null,
      "outputs": [
        {
          "output_type": "execute_result",
          "data": {
            "text/plain": [
              "(array([2., 3., 4., 5., 6., 7., 8., 9.]),\n",
              " tensor([1., 2., 3., 4., 5., 6., 7., 8.], dtype=torch.float64))"
            ]
          },
          "metadata": {},
          "execution_count": 97
        }
      ]
    },
    {
      "cell_type": "code",
      "source": [
        "#Tensor to NumPy array\n",
        "\n",
        "tensor = torch.zeros(7)\n",
        "numpy_tensor = tensor.numpy()\n",
        "tensor, numpy_tensor #this will set the default dataType tensor to Numpy"
      ],
      "metadata": {
        "colab": {
          "base_uri": "https://localhost:8080/"
        },
        "id": "oMogIUyTTv9g",
        "outputId": "d8c0c4a6-d704-4eda-88dc-c7e6e29b04ec"
      },
      "execution_count": null,
      "outputs": [
        {
          "output_type": "execute_result",
          "data": {
            "text/plain": [
              "(tensor([0., 0., 0., 0., 0., 0., 0.]),\n",
              " array([0., 0., 0., 0., 0., 0., 0.], dtype=float32))"
            ]
          },
          "metadata": {},
          "execution_count": 98
        }
      ]
    },
    {
      "cell_type": "code",
      "source": [
        "#change the value of tensor\n",
        "\n",
        "tensor  = tensor+1 # this will add 1 to the tensor\n",
        "tensor, numpy_tensor # and for numpy it will not add and stays default and they don't share memory"
      ],
      "metadata": {
        "colab": {
          "base_uri": "https://localhost:8080/"
        },
        "id": "b3kYst6XV4fC",
        "outputId": "3e84a6c5-54a1-4473-d899-766a91c02a9d"
      },
      "execution_count": null,
      "outputs": [
        {
          "output_type": "execute_result",
          "data": {
            "text/plain": [
              "(tensor([1., 1., 1., 1., 1., 1., 1.]),\n",
              " array([0., 0., 0., 0., 0., 0., 0.], dtype=float32))"
            ]
          },
          "metadata": {},
          "execution_count": 99
        }
      ]
    },
    {
      "cell_type": "code",
      "source": [
        "#Reproducibility(Take random out of random)\n",
        "\n",
        "torch.rand(4,4)"
      ],
      "metadata": {
        "colab": {
          "base_uri": "https://localhost:8080/"
        },
        "id": "Owost_V8cMG9",
        "outputId": "d98dfe17-7b7c-476f-eab6-edb135796b56"
      },
      "execution_count": null,
      "outputs": [
        {
          "output_type": "execute_result",
          "data": {
            "text/plain": [
              "tensor([[0.8451, 0.2789, 0.9128, 0.8407],\n",
              "        [0.2987, 0.6086, 0.6186, 0.0270],\n",
              "        [0.7477, 0.5992, 0.9014, 0.9072],\n",
              "        [0.3032, 0.6945, 0.7378, 0.8197]])"
            ]
          },
          "metadata": {},
          "execution_count": 100
        }
      ]
    },
    {
      "cell_type": "code",
      "source": [
        "import torch\n",
        "#create two random tensors\n",
        "random_A =torch.rand(3,4)\n",
        "random_B =torch.rand(3,4)\n",
        "print(random_A)\n",
        "print(random_B)"
      ],
      "metadata": {
        "id": "7DOKbnVFgR_O",
        "colab": {
          "base_uri": "https://localhost:8080/"
        },
        "outputId": "dd754609-3b31-4b91-afbe-e8e8f35d3fa7"
      },
      "execution_count": null,
      "outputs": [
        {
          "output_type": "stream",
          "name": "stdout",
          "text": [
            "tensor([[0.3721, 0.5095, 0.3054, 0.9242],\n",
            "        [0.0402, 0.5463, 0.8601, 0.7073],\n",
            "        [0.7152, 0.7176, 0.4592, 0.0208]])\n",
            "tensor([[0.4388, 0.5160, 0.4914, 0.2481],\n",
            "        [0.4253, 0.9480, 0.5293, 0.1087],\n",
            "        [0.1701, 0.5207, 0.2554, 0.1961]])\n"
          ]
        }
      ]
    },
    {
      "cell_type": "code",
      "source": [],
      "metadata": {
        "id": "7bdqMBrnVeUX"
      },
      "execution_count": null,
      "outputs": []
    },
    {
      "cell_type": "code",
      "source": [
        "#comparing too tensor\n",
        "random_A == random_B"
      ],
      "metadata": {
        "colab": {
          "base_uri": "https://localhost:8080/"
        },
        "id": "_0KAcPugS5Oi",
        "outputId": "e8e0745d-d446-4f7f-c794-ffaf74c5ba2b"
      },
      "execution_count": null,
      "outputs": [
        {
          "output_type": "execute_result",
          "data": {
            "text/plain": [
              "tensor([[False, False, False, False],\n",
              "        [False, False, False, False],\n",
              "        [False, False, False, False]])"
            ]
          },
          "metadata": {},
          "execution_count": 3
        }
      ]
    },
    {
      "cell_type": "code",
      "source": [
        "#here we can set to tensor output would be same if we set the values indiviually\n",
        "# also read reporducibility document in the pytorch\n",
        "import torch\n",
        "\n",
        "tes = 15\n",
        "torch.manual_seed(tes)\n",
        "\n",
        "random_c = torch.rand(3,4)\n",
        "torch.manual_seed(tes) #this should always after the torch.rand\n",
        "random_d = torch.rand(3,4)\n",
        "torch.manual_seed(tes) #this should always after the torch.rand\n",
        "\n",
        "print(random_c)\n",
        "print(random_d)"
      ],
      "metadata": {
        "colab": {
          "base_uri": "https://localhost:8080/"
        },
        "id": "xd6niyWqUvyl",
        "outputId": "7d20c3f7-f88c-4f75-dc4c-3734c9b19ecb"
      },
      "execution_count": null,
      "outputs": [
        {
          "output_type": "stream",
          "name": "stdout",
          "text": [
            "tensor([[0.2973, 0.2766, 0.7974, 0.3869],\n",
            "        [0.9170, 0.4125, 0.5538, 0.5646],\n",
            "        [0.5026, 0.2206, 0.6801, 0.3880]])\n",
            "tensor([[0.2973, 0.2766, 0.7974, 0.3869],\n",
            "        [0.9170, 0.4125, 0.5538, 0.5646],\n",
            "        [0.5026, 0.2206, 0.6801, 0.3880]])\n"
          ]
        }
      ]
    },
    {
      "cell_type": "markdown",
      "source": [
        "#Tensor and Pytorch objects on the GPU\n",
        "#types of GPU and work flow\n",
        "1.Google colab\n",
        "2. USe own gpu - Timdettmers search on and the info for 2024 deep learning GPU\n",
        "3. could computing - GCp, AWS, Azure"
      ],
      "metadata": {
        "id": "jHPMmY9jZ2A_"
      }
    },
    {
      "cell_type": "code",
      "source": [
        "!nvidia-smi"
      ],
      "metadata": {
        "colab": {
          "base_uri": "https://localhost:8080/"
        },
        "id": "Lh6TgUQQuo0Z",
        "outputId": "5f5b816d-21ed-4dbc-9c3e-8b86b0b8d1ac"
      },
      "execution_count": null,
      "outputs": [
        {
          "output_type": "stream",
          "name": "stdout",
          "text": [
            "Sat Jul 27 20:03:10 2024       \n",
            "+---------------------------------------------------------------------------------------+\n",
            "| NVIDIA-SMI 535.104.05             Driver Version: 535.104.05   CUDA Version: 12.2     |\n",
            "|-----------------------------------------+----------------------+----------------------+\n",
            "| GPU  Name                 Persistence-M | Bus-Id        Disp.A | Volatile Uncorr. ECC |\n",
            "| Fan  Temp   Perf          Pwr:Usage/Cap |         Memory-Usage | GPU-Util  Compute M. |\n",
            "|                                         |                      |               MIG M. |\n",
            "|=========================================+======================+======================|\n",
            "|   0  Tesla T4                       Off | 00000000:00:04.0 Off |                    0 |\n",
            "| N/A   49C    P8               9W /  70W |      0MiB / 15360MiB |      0%      Default |\n",
            "|                                         |                      |                  N/A |\n",
            "+-----------------------------------------+----------------------+----------------------+\n",
            "                                                                                         \n",
            "+---------------------------------------------------------------------------------------+\n",
            "| Processes:                                                                            |\n",
            "|  GPU   GI   CI        PID   Type   Process name                            GPU Memory |\n",
            "|        ID   ID                                                             Usage      |\n",
            "|=======================================================================================|\n",
            "|  No running processes found                                                           |\n",
            "+---------------------------------------------------------------------------------------+\n"
          ]
        }
      ]
    },
    {
      "cell_type": "code",
      "source": [
        "#check for GPU access in Pytorch\n",
        "import torch\n",
        "torch.cuda.is_available()"
      ],
      "metadata": {
        "colab": {
          "base_uri": "https://localhost:8080/"
        },
        "id": "R1junJj1zCOC",
        "outputId": "f0888615-7421-4894-f8ad-ad3759fe5ab1"
      },
      "execution_count": null,
      "outputs": [
        {
          "output_type": "execute_result",
          "data": {
            "text/plain": [
              "True"
            ]
          },
          "metadata": {},
          "execution_count": 3
        }
      ]
    },
    {
      "cell_type": "code",
      "source": [
        "#Setup device agnostic code\n",
        "device = \"cuda\" if torch.cuda.is_available() else \"cpu\"\n",
        "device"
      ],
      "metadata": {
        "colab": {
          "base_uri": "https://localhost:8080/",
          "height": 36
        },
        "id": "WybljwIxzgGh",
        "outputId": "8953f83a-8647-4b01-b698-5b8508bc4e5c"
      },
      "execution_count": null,
      "outputs": [
        {
          "output_type": "execute_result",
          "data": {
            "text/plain": [
              "'cuda'"
            ],
            "application/vnd.google.colaboratory.intrinsic+json": {
              "type": "string"
            }
          },
          "metadata": {},
          "execution_count": 4
        }
      ]
    },
    {
      "cell_type": "code",
      "source": [
        "#count number of devices\n",
        "torch.cuda.device_count()"
      ],
      "metadata": {
        "colab": {
          "base_uri": "https://localhost:8080/"
        },
        "id": "zN9PIA-X1L4N",
        "outputId": "4b1f7af4-1ec4-4708-aa4e-c1f3fed08ad3"
      },
      "execution_count": null,
      "outputs": [
        {
          "output_type": "execute_result",
          "data": {
            "text/plain": [
              "1"
            ]
          },
          "metadata": {},
          "execution_count": 5
        }
      ]
    },
    {
      "cell_type": "code",
      "source": [
        "#putting tensors(models) on the gpu\n",
        "tensor = torch.tensor([1,2,3])\n",
        "print(tensor, tensor.device)"
      ],
      "metadata": {
        "colab": {
          "base_uri": "https://localhost:8080/"
        },
        "id": "jMUlMXfo1Uvw",
        "outputId": "0c3cbfab-1ba6-4f3c-d228-b24e12f887e4"
      },
      "execution_count": null,
      "outputs": [
        {
          "output_type": "stream",
          "name": "stdout",
          "text": [
            "tensor([1, 2, 3]) cpu\n"
          ]
        }
      ]
    },
    {
      "cell_type": "code",
      "source": [
        "#move tensor to GPU\n",
        "tensor_gpu = tensor.to(device)\n",
        "tensor_gpu"
      ],
      "metadata": {
        "colab": {
          "base_uri": "https://localhost:8080/"
        },
        "id": "nX-c0A843s9f",
        "outputId": "7fe02f52-c186-42bf-e60e-e6bb7c1814c0"
      },
      "execution_count": null,
      "outputs": [
        {
          "output_type": "execute_result",
          "data": {
            "text/plain": [
              "tensor([1, 2, 3], device='cuda:0')"
            ]
          },
          "metadata": {},
          "execution_count": 7
        }
      ]
    },
    {
      "cell_type": "code",
      "source": [
        "#IF tensor is on GPU, can't transform it to NumPy\n",
        "#moving tensor back to CPU\n",
        "tensor_gpu.numpy(0)"
      ],
      "metadata": {
        "colab": {
          "base_uri": "https://localhost:8080/",
          "height": 176
        },
        "id": "j-TWZM0N4bxZ",
        "outputId": "32609c9d-b65e-4aea-82a8-d855b16b4200"
      },
      "execution_count": null,
      "outputs": [
        {
          "output_type": "error",
          "ename": "TypeError",
          "evalue": "can't convert cuda:0 device type tensor to numpy. Use Tensor.cpu() to copy the tensor to host memory first.",
          "traceback": [
            "\u001b[0;31m---------------------------------------------------------------------------\u001b[0m",
            "\u001b[0;31mTypeError\u001b[0m                                 Traceback (most recent call last)",
            "\u001b[0;32m<ipython-input-9-4c3dd9c17faf>\u001b[0m in \u001b[0;36m<cell line: 3>\u001b[0;34m()\u001b[0m\n\u001b[1;32m      1\u001b[0m \u001b[0;31m#IF tensor is on GPU, can't transform it to NumPy\u001b[0m\u001b[0;34m\u001b[0m\u001b[0;34m\u001b[0m\u001b[0m\n\u001b[1;32m      2\u001b[0m \u001b[0;31m#moving tensor back to CPU\u001b[0m\u001b[0;34m\u001b[0m\u001b[0;34m\u001b[0m\u001b[0m\n\u001b[0;32m----> 3\u001b[0;31m \u001b[0mtensor_gpu\u001b[0m\u001b[0;34m.\u001b[0m\u001b[0mnumpy\u001b[0m\u001b[0;34m(\u001b[0m\u001b[0;34m)\u001b[0m\u001b[0;34m\u001b[0m\u001b[0;34m\u001b[0m\u001b[0m\n\u001b[0m",
            "\u001b[0;31mTypeError\u001b[0m: can't convert cuda:0 device type tensor to numpy. Use Tensor.cpu() to copy the tensor to host memory first."
          ]
        }
      ]
    },
    {
      "cell_type": "code",
      "source": [
        "#fix the issue GPU tensor with numPy issue, we can first set the CPU\n",
        "tensorBack_cpu = tensor_gpu.cpu().numpy()\n",
        "tensorBack_cpu"
      ],
      "metadata": {
        "colab": {
          "base_uri": "https://localhost:8080/"
        },
        "id": "mgGCRilw7wPG",
        "outputId": "4b62bb4d-67d9-4492-c2cc-95c30647f1d5"
      },
      "execution_count": null,
      "outputs": [
        {
          "output_type": "execute_result",
          "data": {
            "text/plain": [
              "array([1, 2, 3])"
            ]
          },
          "metadata": {},
          "execution_count": 11
        }
      ]
    }
  ]
}