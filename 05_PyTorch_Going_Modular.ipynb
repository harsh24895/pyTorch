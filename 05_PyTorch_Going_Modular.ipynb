{
  "nbformat": 4,
  "nbformat_minor": 0,
  "metadata": {
    "colab": {
      "provenance": [],
      "authorship_tag": "ABX9TyNOT4fsuksgYNAKFj/GHSQk"
    },
    "kernelspec": {
      "name": "python3",
      "display_name": "Python 3"
    },
    "language_info": {
      "name": "python"
    }
  },
  "cells": [
    {
      "cell_type": "markdown",
      "source": [
        "What is going modular?\n",
        "\n",
        "Going modular involves turning notebook code (from a Jupyter Notebook or Google Colab notebook) into a series of different Python scripts that offer similar functionality.\n",
        "\n",
        "For example, we could turn our notebook code from a series of cells into the following Python files:\n",
        "\n",
        "data_setup.py - a file to prepare and download data if needed.\n",
        "engine.py - a file containing various training functions.\n",
        "model_builder.py or model.py - a file to create a PyTorch model.\n",
        "train.py - a file to leverage all other files and train a target PyTorch model.\n",
        "utils.py - a file dedicated to helpful utility functions.\n"
      ],
      "metadata": {
        "id": "KsVcSCzmxTLj"
      }
    }
  ]
}